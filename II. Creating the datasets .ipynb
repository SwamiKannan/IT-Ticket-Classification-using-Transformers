{
 "cells": [
  {
   "cell_type": "code",
   "execution_count": 2,
   "id": "7c33a39c",
   "metadata": {},
   "outputs": [],
   "source": [
    "import pandas as pd\n",
    "import numpy as np\n",
    "import torch\n",
    "import os"
   ]
  },
  {
   "cell_type": "code",
   "execution_count": 40,
   "id": "11fd2d9d",
   "metadata": {},
   "outputs": [],
   "source": [
    "from sklearn.model_selection import train_test_split"
   ]
  },
  {
   "cell_type": "code",
   "execution_count": 3,
   "id": "3ff8623a",
   "metadata": {},
   "outputs": [],
   "source": [
    "data='DATA'\n",
    "raw_data_folder='RAW_DATA'\n",
    "processed_data_folder='PROCESSED_DATA'"
   ]
  },
  {
   "cell_type": "code",
   "execution_count": 4,
   "id": "0399786f",
   "metadata": {},
   "outputs": [],
   "source": [
    "if data not in os.listdir(os.getcwd()):\n",
    "    os.makedirs(os.path.join(data))\n",
    "DATA_PATH=os.path.join(data)\n",
    "if raw_data_folder not in os.listdir(os.path.join(DATA_PATH)):\n",
    "    os.makedirs(os.path.join(DATA_PATH,raw_data_folder))\n",
    "RAW_DATA_PATH=os.path.join(DATA_PATH,raw_data_folder)\n",
    "if processed_data_folder not in os.listdir(os.path.join(DATA_PATH)):\n",
    "    os.makedirs(os.path.join(DATA_PATH,processed_data_folder))\n",
    "PROCESSED_DATA_PATH=os.path.join(DATA_PATH,processed_data_folder)"
   ]
  },
  {
   "cell_type": "code",
   "execution_count": 5,
   "id": "98810f57",
   "metadata": {},
   "outputs": [],
   "source": [
    "df=pd.read_csv(os.path.join(RAW_DATA_PATH,'Input Data Translated.csv'), encoding = 'latin-1')"
   ]
  },
  {
   "cell_type": "code",
   "execution_count": 6,
   "id": "cc4ea3e4",
   "metadata": {},
   "outputs": [],
   "source": [
    "data='DATA'\n",
    "raw_data_folder='RAW_DATA'\n",
    "processed_data_folder='PROCESSED_DATA'\n",
    "\n",
    "if data not in os.listdir(os.getcwd()):\n",
    "    os.makedirs(os.path.join(data))\n",
    "DATA_PATH=os.path.join(data)\n",
    "if raw_data_folder not in os.listdir(os.path.join(DATA_PATH)):\n",
    "    os.makedirs(os.path.join(DATA_PATH,raw_data_folder))\n",
    "RAW_DATA_PATH=os.path.join(DATA_PATH,raw_data_folder)\n",
    "if processed_data_folder not in os.listdir(os.path.join(DATA_PATH)):\n",
    "    os.makedirs(os.path.join(DATA_PATH,processed_data_folder))\n",
    "PROCESSED_DATA_PATH=os.path.join(DATA_PATH,processed_data_folder)"
   ]
  },
  {
   "cell_type": "code",
   "execution_count": 7,
   "id": "f36a37ab",
   "metadata": {},
   "outputs": [],
   "source": [
    "df=pd.read_csv(os.path.join(RAW_DATA_PATH,'Input data split.csv'), encoding = 'latin-1')"
   ]
  },
  {
   "cell_type": "code",
   "execution_count": 8,
   "id": "2e5bba9d",
   "metadata": {},
   "outputs": [
    {
     "data": {
      "text/html": [
       "<div>\n",
       "<style scoped>\n",
       "    .dataframe tbody tr th:only-of-type {\n",
       "        vertical-align: middle;\n",
       "    }\n",
       "\n",
       "    .dataframe tbody tr th {\n",
       "        vertical-align: top;\n",
       "    }\n",
       "\n",
       "    .dataframe thead th {\n",
       "        text-align: right;\n",
       "    }\n",
       "</style>\n",
       "<table border=\"1\" class=\"dataframe\">\n",
       "  <thead>\n",
       "    <tr style=\"text-align: right;\">\n",
       "      <th></th>\n",
       "      <th>Unnamed: 0</th>\n",
       "      <th>Short description</th>\n",
       "      <th>Description</th>\n",
       "      <th>Caller</th>\n",
       "      <th>Assignment group</th>\n",
       "      <th>Lang_Short_Description</th>\n",
       "      <th>Lang_Description</th>\n",
       "      <th>Final_description</th>\n",
       "      <th>Grp_change_1</th>\n",
       "    </tr>\n",
       "  </thead>\n",
       "  <tbody>\n",
       "    <tr>\n",
       "      <th>0</th>\n",
       "      <td>0</td>\n",
       "      <td>login issue</td>\n",
       "      <td>-verified user details.(employee# &amp; manager na...</td>\n",
       "      <td>spxjnwir pjlcoqds</td>\n",
       "      <td>GRP_0</td>\n",
       "      <td>en</td>\n",
       "      <td>en</td>\n",
       "      <td>login issue -verified user details.(employee# ...</td>\n",
       "      <td>7</td>\n",
       "    </tr>\n",
       "    <tr>\n",
       "      <th>1</th>\n",
       "      <td>1</td>\n",
       "      <td>outlook</td>\n",
       "      <td>\\n\\nreceived from: hmjdrvpb.komuaywn@gmail.com...</td>\n",
       "      <td>hmjdrvpb komuaywn</td>\n",
       "      <td>GRP_0</td>\n",
       "      <td>en</td>\n",
       "      <td>en</td>\n",
       "      <td>outlook   received from: hmjdrvpb.komuaywn@gma...</td>\n",
       "      <td>7</td>\n",
       "    </tr>\n",
       "    <tr>\n",
       "      <th>2</th>\n",
       "      <td>2</td>\n",
       "      <td>cant log in to vpn</td>\n",
       "      <td>\\n\\nreceived from: eylqgodm.ybqkwiam@gmail.com...</td>\n",
       "      <td>eylqgodm ybqkwiam</td>\n",
       "      <td>GRP_0</td>\n",
       "      <td>en</td>\n",
       "      <td>en</td>\n",
       "      <td>cant log in to vpn   received from: eylqgodm.y...</td>\n",
       "      <td>6</td>\n",
       "    </tr>\n",
       "    <tr>\n",
       "      <th>3</th>\n",
       "      <td>3</td>\n",
       "      <td>unable to access hr_tool page</td>\n",
       "      <td>unable to access hr_tool page</td>\n",
       "      <td>xbkucsvz gcpydteq</td>\n",
       "      <td>GRP_0</td>\n",
       "      <td>en</td>\n",
       "      <td>en</td>\n",
       "      <td>unable to access hr_tool page xbkucsvz gcpydteq</td>\n",
       "      <td>6</td>\n",
       "    </tr>\n",
       "    <tr>\n",
       "      <th>4</th>\n",
       "      <td>4</td>\n",
       "      <td>skype error</td>\n",
       "      <td>skype error</td>\n",
       "      <td>owlgqjme qhcozdfx</td>\n",
       "      <td>GRP_0</td>\n",
       "      <td>en</td>\n",
       "      <td>en</td>\n",
       "      <td>skype error owlgqjme qhcozdfx</td>\n",
       "      <td>6</td>\n",
       "    </tr>\n",
       "  </tbody>\n",
       "</table>\n",
       "</div>"
      ],
      "text/plain": [
       "   Unnamed: 0              Short description  \\\n",
       "0           0                    login issue   \n",
       "1           1                        outlook   \n",
       "2           2             cant log in to vpn   \n",
       "3           3  unable to access hr_tool page   \n",
       "4           4                    skype error   \n",
       "\n",
       "                                         Description             Caller  \\\n",
       "0  -verified user details.(employee# & manager na...  spxjnwir pjlcoqds   \n",
       "1  \\n\\nreceived from: hmjdrvpb.komuaywn@gmail.com...  hmjdrvpb komuaywn   \n",
       "2  \\n\\nreceived from: eylqgodm.ybqkwiam@gmail.com...  eylqgodm ybqkwiam   \n",
       "3                      unable to access hr_tool page  xbkucsvz gcpydteq   \n",
       "4                                        skype error  owlgqjme qhcozdfx   \n",
       "\n",
       "  Assignment group Lang_Short_Description Lang_Description  \\\n",
       "0            GRP_0                     en               en   \n",
       "1            GRP_0                     en               en   \n",
       "2            GRP_0                     en               en   \n",
       "3            GRP_0                     en               en   \n",
       "4            GRP_0                     en               en   \n",
       "\n",
       "                                   Final_description Grp_change_1  \n",
       "0  login issue -verified user details.(employee# ...            7  \n",
       "1  outlook   received from: hmjdrvpb.komuaywn@gma...            7  \n",
       "2  cant log in to vpn   received from: eylqgodm.y...            6  \n",
       "3    unable to access hr_tool page xbkucsvz gcpydteq            6  \n",
       "4                      skype error owlgqjme qhcozdfx            6  "
      ]
     },
     "execution_count": 8,
     "metadata": {},
     "output_type": "execute_result"
    }
   ],
   "source": [
    "df.head()"
   ]
  },
  {
   "cell_type": "code",
   "execution_count": 9,
   "id": "368e87b7",
   "metadata": {},
   "outputs": [],
   "source": [
    "df['group']=df['Grp_change_1'].copy()\n",
    "val = df['group'].value_counts()\n",
    "y = val[val < 30].index\n",
    "df['group'] = df['group'].replace({x:'other' for x in y})"
   ]
  },
  {
   "cell_type": "code",
   "execution_count": 10,
   "id": "a2b050d2",
   "metadata": {},
   "outputs": [
    {
     "data": {
      "text/plain": [
       "44"
      ]
     },
     "execution_count": 10,
     "metadata": {},
     "output_type": "execute_result"
    }
   ],
   "source": [
    "len(np.unique(df['group']))"
   ]
  },
  {
   "cell_type": "code",
   "execution_count": 11,
   "id": "ab775645",
   "metadata": {},
   "outputs": [
    {
     "name": "stdout",
     "output_type": "stream",
     "text": [
      "Finally, there are 44 labels for classification\n"
     ]
    }
   ],
   "source": [
    "print(f\"Finally, there are {len(np.unique(df['group']))} labels for classification\")"
   ]
  },
  {
   "cell_type": "code",
   "execution_count": 12,
   "id": "4fea0b49",
   "metadata": {},
   "outputs": [],
   "source": [
    "text=df['Final_description'].values\n",
    "labels=df['group'].values\n",
    "unique_labels=np.unique(labels)"
   ]
  },
  {
   "cell_type": "code",
   "execution_count": 13,
   "id": "d236ebfd",
   "metadata": {},
   "outputs": [
    {
     "data": {
      "text/plain": [
       "{'0': 0,\n",
       " '1': 1,\n",
       " '2': 2,\n",
       " '3': 3,\n",
       " '4': 4,\n",
       " '5': 5,\n",
       " '6': 6,\n",
       " '7': 7,\n",
       " '8': 8,\n",
       " 'GRP_1': 9,\n",
       " 'GRP_10': 10,\n",
       " 'GRP_11': 11,\n",
       " 'GRP_12': 12,\n",
       " 'GRP_13': 13,\n",
       " 'GRP_14': 14,\n",
       " 'GRP_15': 15,\n",
       " 'GRP_16': 16,\n",
       " 'GRP_17': 17,\n",
       " 'GRP_18': 18,\n",
       " 'GRP_19': 19,\n",
       " 'GRP_2': 20,\n",
       " 'GRP_20': 21,\n",
       " 'GRP_22': 22,\n",
       " 'GRP_24': 23,\n",
       " 'GRP_25': 24,\n",
       " 'GRP_26': 25,\n",
       " 'GRP_28': 26,\n",
       " 'GRP_29': 27,\n",
       " 'GRP_3': 28,\n",
       " 'GRP_30': 29,\n",
       " 'GRP_31': 30,\n",
       " 'GRP_33': 31,\n",
       " 'GRP_34': 32,\n",
       " 'GRP_4': 33,\n",
       " 'GRP_40': 34,\n",
       " 'GRP_41': 35,\n",
       " 'GRP_42': 36,\n",
       " 'GRP_45': 37,\n",
       " 'GRP_5': 38,\n",
       " 'GRP_6': 39,\n",
       " 'GRP_7': 40,\n",
       " 'GRP_8': 41,\n",
       " 'GRP_9': 42,\n",
       " 'other': 43}"
      ]
     },
     "execution_count": 13,
     "metadata": {},
     "output_type": "execute_result"
    }
   ],
   "source": [
    "dict_index={} # {label: index}\n",
    "dict_reverse_index={} #{index: label}\n",
    "for index,value in enumerate(unique_labels):\n",
    "    dict_index[value]=index\n",
    "for k,v in dict_index.items():\n",
    "    dict_reverse_index[v]=k\n",
    "dict_index"
   ]
  },
  {
   "cell_type": "code",
   "execution_count": 14,
   "id": "c93e681f",
   "metadata": {},
   "outputs": [
    {
     "data": {
      "text/plain": [
       "8500"
      ]
     },
     "execution_count": 14,
     "metadata": {},
     "output_type": "execute_result"
    }
   ],
   "source": [
    "labels_indexed=np.array([dict_index[k] for k in labels])\n",
    "len(labels_indexed)"
   ]
  },
  {
   "cell_type": "code",
   "execution_count": 15,
   "id": "7e42ff1c",
   "metadata": {},
   "outputs": [],
   "source": [
    "from sklearn.utils.class_weight import compute_class_weight\n",
    "balance=compute_class_weight(class_weight='balanced', classes=np.unique(labels_indexed), y=labels_indexed)"
   ]
  },
  {
   "cell_type": "code",
   "execution_count": 16,
   "id": "e53c5ec7",
   "metadata": {},
   "outputs": [],
   "source": [
    "np.save(os.path.join(PROCESSED_DATA_PATH,'balanced_weights.npy'),balance)"
   ]
  },
  {
   "cell_type": "markdown",
   "id": "ec4a2451",
   "metadata": {},
   "source": [
    "### Tokenize features and OHK labels"
   ]
  },
  {
   "cell_type": "markdown",
   "id": "c77fff1e",
   "metadata": {},
   "source": [
    "#### 1. Tokenize features"
   ]
  },
  {
   "cell_type": "code",
   "execution_count": 17,
   "id": "67063146",
   "metadata": {},
   "outputs": [],
   "source": [
    "from transformers import BertTokenizer\n",
    "tokenizer=BertTokenizer.from_pretrained('bert-base-uncased')"
   ]
  },
  {
   "cell_type": "code",
   "execution_count": 18,
   "id": "9213c145",
   "metadata": {},
   "outputs": [
    {
     "data": {
      "text/plain": [
       "array(['login issue -verified user details.(employee# & manager name) -checked the user name in ad and reset the password. -advised the user to login and check. -caller confirmed that he was able to login. -issue resolved. spxjnwir pjlcoqds',\n",
       "       'outlook   received from: hmjdrvpb.komuaywn@gmail.com  hello team,  my meetings/skype meetings etc are not appearing in my outlook calendar, can somebody please advise how to correct this?  kind  hmjdrvpb komuaywn',\n",
       "       'cant log in to vpn   received from: eylqgodm.ybqkwiam@gmail.com  hi  i cannot log on to vpn  best  eylqgodm ybqkwiam',\n",
       "       'unable to access hr_tool page xbkucsvz gcpydteq',\n",
       "       'skype error owlgqjme qhcozdfx'], dtype=object)"
      ]
     },
     "execution_count": 18,
     "metadata": {},
     "output_type": "execute_result"
    }
   ],
   "source": [
    "text[:5]"
   ]
  },
  {
   "cell_type": "code",
   "execution_count": 36,
   "id": "d431f2e0",
   "metadata": {},
   "outputs": [],
   "source": [
    "tokens=tokenizer(text.tolist(),max_length=512,truncation=True,padding='max_length',add_special_tokens=True,return_tensors='pt')"
   ]
  },
  {
   "cell_type": "code",
   "execution_count": 20,
   "id": "cdd54eb7",
   "metadata": {},
   "outputs": [
    {
     "data": {
      "text/plain": [
       "dict_keys(['input_ids', 'token_type_ids', 'attention_mask'])"
      ]
     },
     "execution_count": 20,
     "metadata": {},
     "output_type": "execute_result"
    }
   ],
   "source": [
    "tokens.keys()"
   ]
  },
  {
   "cell_type": "code",
   "execution_count": 21,
   "id": "c64f15fc",
   "metadata": {},
   "outputs": [],
   "source": [
    "torch.save(tokens['input_ids'],os.path.join(PROCESSED_DATA_PATH,'input.pt'))\n",
    "torch.save(tokens['attention_mask'],os.path.join(PROCESSED_DATA_PATH,'mask.pt'))"
   ]
  },
  {
   "cell_type": "code",
   "execution_count": 52,
   "id": "bfce88cd",
   "metadata": {},
   "outputs": [
    {
     "data": {
      "text/plain": [
       "30522"
      ]
     },
     "execution_count": 52,
     "metadata": {},
     "output_type": "execute_result"
    }
   ],
   "source": [
    "tokenizer.vocab_size"
   ]
  },
  {
   "cell_type": "code",
   "execution_count": 22,
   "id": "7cbcd086",
   "metadata": {},
   "outputs": [
    {
     "data": {
      "text/plain": [
       "tensor(29664)"
      ]
     },
     "execution_count": 22,
     "metadata": {},
     "output_type": "execute_result"
    }
   ],
   "source": [
    "torch.max(tokens['input_ids'])"
   ]
  },
  {
   "cell_type": "code",
   "execution_count": 22,
   "id": "089cd2cc",
   "metadata": {},
   "outputs": [],
   "source": [
    "final_labels=torch.tensor(labels_indexed,dtype=torch.int32)"
   ]
  },
  {
   "cell_type": "code",
   "execution_count": 23,
   "id": "b2bcea55",
   "metadata": {},
   "outputs": [],
   "source": [
    "torch.save(final_labels,os.path.join(PROCESSED_DATA_PATH,'labels.pt'))"
   ]
  },
  {
   "cell_type": "markdown",
   "id": "96bdc92d",
   "metadata": {},
   "source": [
    "### Train test split"
   ]
  },
  {
   "cell_type": "code",
   "execution_count": 43,
   "id": "a2b47333",
   "metadata": {},
   "outputs": [],
   "source": [
    "TRAIN_PATH=os.path.join(PROCESSED_DATA_PATH,'TRAIN')\n",
    "TEST_PATH=os.path.join(PROCESSED_DATA_PATH,'TEST')\n",
    "if not os.path.exists(TRAIN_PATH):\n",
    "    os.makedirs(TRAIN_PATH)\n",
    "if not os.path.exists(TEST_PATH):\n",
    "    os.makedirs(TEST_PATH)"
   ]
  },
  {
   "cell_type": "code",
   "execution_count": 44,
   "id": "94646255",
   "metadata": {},
   "outputs": [],
   "source": [
    "X_train, X_test, y_train, y_test=train_test_split(text,labels_indexed,test_size=0.05,shuffle=True)"
   ]
  },
  {
   "cell_type": "code",
   "execution_count": 45,
   "id": "319d6baa",
   "metadata": {},
   "outputs": [
    {
     "data": {
      "text/plain": [
       "(8075,)"
      ]
     },
     "execution_count": 45,
     "metadata": {},
     "output_type": "execute_result"
    }
   ],
   "source": [
    "y_train.shape"
   ]
  },
  {
   "cell_type": "code",
   "execution_count": 46,
   "id": "a49216ac",
   "metadata": {},
   "outputs": [],
   "source": [
    "X_train_tokens=tokenizer(X_train.tolist(),max_length=512,truncation=True,padding='max_length',add_special_tokens=True,return_tensors='pt')\n",
    "#X_test_tokens=tokenizer(X_test.tolist(),max_length=512,truncation=True,padding='max_length',add_special_tokens=True,return_tensors='pt')"
   ]
  },
  {
   "cell_type": "code",
   "execution_count": 51,
   "id": "ef9506c3",
   "metadata": {},
   "outputs": [
    {
     "data": {
      "text/plain": [
       "tensor(29664)"
      ]
     },
     "execution_count": 51,
     "metadata": {},
     "output_type": "execute_result"
    }
   ],
   "source": [
    "torch.max(X_train_tokens['input_ids'])"
   ]
  },
  {
   "cell_type": "code",
   "execution_count": 28,
   "id": "d3cb3e21",
   "metadata": {},
   "outputs": [],
   "source": [
    "torch.save(X_train_tokens, os.path.join(TRAIN_PATH,'X_train_tokens.pt'))\n",
    "torch.save(X_test_tokens, os.path.join(TEST_PATH,'X_test_tokens.pt'))"
   ]
  },
  {
   "cell_type": "code",
   "execution_count": 29,
   "id": "d7871256",
   "metadata": {},
   "outputs": [
    {
     "data": {
      "text/plain": [
       "44"
      ]
     },
     "execution_count": 29,
     "metadata": {},
     "output_type": "execute_result"
    }
   ],
   "source": [
    "len(np.unique(y_train))"
   ]
  },
  {
   "cell_type": "code",
   "execution_count": 30,
   "id": "6ce06644",
   "metadata": {},
   "outputs": [],
   "source": [
    "torch.save(torch.tensor(y_train,dtype=torch.int64), os.path.join(TRAIN_PATH,'y_train_tokens.pt'))\n",
    "torch.save(torch.tensor(y_test,dtype=torch.int64), os.path.join(TEST_PATH,'y_test_tokens.pt'))"
   ]
  },
  {
   "cell_type": "code",
   "execution_count": null,
   "id": "fbf91302",
   "metadata": {},
   "outputs": [],
   "source": []
  }
 ],
 "metadata": {
  "kernelspec": {
   "display_name": "Python 3 (ipykernel)",
   "language": "python",
   "name": "python3"
  },
  "language_info": {
   "codemirror_mode": {
    "name": "ipython",
    "version": 3
   },
   "file_extension": ".py",
   "mimetype": "text/x-python",
   "name": "python",
   "nbconvert_exporter": "python",
   "pygments_lexer": "ipython3",
   "version": "3.9.12"
  }
 },
 "nbformat": 4,
 "nbformat_minor": 5
}
