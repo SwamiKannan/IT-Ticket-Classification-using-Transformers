{
 "cells": [
  {
   "cell_type": "markdown",
   "metadata": {},
   "source": [
    "# AUTOMATIC TICKET ASSIGNMENT"
   ]
  },
  {
   "cell_type": "markdown",
   "metadata": {},
   "source": [
    "### Milestone 1 : Data pre-processing and EDA"
   ]
  },
  {
   "cell_type": "code",
   "execution_count": null,
   "metadata": {},
   "outputs": [],
   "source": []
  },
  {
   "cell_type": "markdown",
   "metadata": {},
   "source": [
    "Importing Libraries"
   ]
  },
  {
   "cell_type": "code",
   "execution_count": 1,
   "metadata": {},
   "outputs": [],
   "source": [
    "import numpy as np\n",
    "import pandas as pd\n",
    "import matplotlib.pyplot as plt\n",
    "from sklearn.preprocessing import LabelEncoder,scale"
   ]
  },
  {
   "cell_type": "code",
   "execution_count": 2,
   "metadata": {},
   "outputs": [],
   "source": [
    "import os"
   ]
  },
  {
   "cell_type": "code",
   "execution_count": 4,
   "metadata": {},
   "outputs": [],
   "source": [
    "data='DATA'\n",
    "raw_data_folder='RAW_DATA'\n",
    "processed_data_folder='PROCESSED_DATA'"
   ]
  },
  {
   "cell_type": "code",
   "execution_count": 5,
   "metadata": {},
   "outputs": [],
   "source": [
    "if data not in os.listdir(os.getcwd()):\n",
    "    os.makedirs(os.path.join(data))\n",
    "DATA_PATH=os.path.join(data)\n",
    "if raw_data_folder not in os.listdir(os.path.join(DATA_PATH)):\n",
    "    os.makedirs(os.path.join(DATA_PATH,raw_data_folder))\n",
    "RAW_DATA_PATH=os.path.join(DATA_PATH,raw_data_folder)\n",
    "if processed_data_folder not in os.listdir(os.path.join(DATA_PATH)):\n",
    "    os.makedirs(os.path.join(DATA_PATH,processed_data_folder))\n",
    "PROCESSED_DATA_PATH=os.path.join(DATA_PATH,processed_data_folder)"
   ]
  },
  {
   "cell_type": "markdown",
   "metadata": {},
   "source": [
    "Read the csv file and see some records"
   ]
  },
  {
   "cell_type": "code",
   "execution_count": 6,
   "metadata": {},
   "outputs": [
    {
     "data": {
      "text/html": [
       "<div>\n",
       "<style scoped>\n",
       "    .dataframe tbody tr th:only-of-type {\n",
       "        vertical-align: middle;\n",
       "    }\n",
       "\n",
       "    .dataframe tbody tr th {\n",
       "        vertical-align: top;\n",
       "    }\n",
       "\n",
       "    .dataframe thead th {\n",
       "        text-align: right;\n",
       "    }\n",
       "</style>\n",
       "<table border=\"1\" class=\"dataframe\">\n",
       "  <thead>\n",
       "    <tr style=\"text-align: right;\">\n",
       "      <th></th>\n",
       "      <th>Short description</th>\n",
       "      <th>Description</th>\n",
       "      <th>Caller</th>\n",
       "      <th>Assignment group</th>\n",
       "      <th>Lang_Short_Description</th>\n",
       "      <th>Lang_Description</th>\n",
       "    </tr>\n",
       "  </thead>\n",
       "  <tbody>\n",
       "    <tr>\n",
       "      <th>0</th>\n",
       "      <td>login issue</td>\n",
       "      <td>-verified user details.(employee# &amp; manager na...</td>\n",
       "      <td>spxjnwir pjlcoqds</td>\n",
       "      <td>GRP_0</td>\n",
       "      <td>en</td>\n",
       "      <td>en</td>\n",
       "    </tr>\n",
       "    <tr>\n",
       "      <th>1</th>\n",
       "      <td>outlook</td>\n",
       "      <td>\\n\\nreceived from: hmjdrvpb.komuaywn@gmail.com...</td>\n",
       "      <td>hmjdrvpb komuaywn</td>\n",
       "      <td>GRP_0</td>\n",
       "      <td>en</td>\n",
       "      <td>en</td>\n",
       "    </tr>\n",
       "    <tr>\n",
       "      <th>2</th>\n",
       "      <td>cant log in to vpn</td>\n",
       "      <td>\\n\\nreceived from: eylqgodm.ybqkwiam@gmail.com...</td>\n",
       "      <td>eylqgodm ybqkwiam</td>\n",
       "      <td>GRP_0</td>\n",
       "      <td>en</td>\n",
       "      <td>en</td>\n",
       "    </tr>\n",
       "    <tr>\n",
       "      <th>3</th>\n",
       "      <td>unable to access hr_tool page</td>\n",
       "      <td>unable to access hr_tool page</td>\n",
       "      <td>xbkucsvz gcpydteq</td>\n",
       "      <td>GRP_0</td>\n",
       "      <td>en</td>\n",
       "      <td>en</td>\n",
       "    </tr>\n",
       "    <tr>\n",
       "      <th>4</th>\n",
       "      <td>skype error</td>\n",
       "      <td>skype error</td>\n",
       "      <td>owlgqjme qhcozdfx</td>\n",
       "      <td>GRP_0</td>\n",
       "      <td>en</td>\n",
       "      <td>en</td>\n",
       "    </tr>\n",
       "  </tbody>\n",
       "</table>\n",
       "</div>"
      ],
      "text/plain": [
       "               Short description  \\\n",
       "0                    login issue   \n",
       "1                        outlook   \n",
       "2             cant log in to vpn   \n",
       "3  unable to access hr_tool page   \n",
       "4                    skype error   \n",
       "\n",
       "                                         Description             Caller  \\\n",
       "0  -verified user details.(employee# & manager na...  spxjnwir pjlcoqds   \n",
       "1  \\n\\nreceived from: hmjdrvpb.komuaywn@gmail.com...  hmjdrvpb komuaywn   \n",
       "2  \\n\\nreceived from: eylqgodm.ybqkwiam@gmail.com...  eylqgodm ybqkwiam   \n",
       "3                      unable to access hr_tool page  xbkucsvz gcpydteq   \n",
       "4                                        skype error  owlgqjme qhcozdfx   \n",
       "\n",
       "  Assignment group Lang_Short_Description Lang_Description  \n",
       "0            GRP_0                     en               en  \n",
       "1            GRP_0                     en               en  \n",
       "2            GRP_0                     en               en  \n",
       "3            GRP_0                     en               en  \n",
       "4            GRP_0                     en               en  "
      ]
     },
     "execution_count": 6,
     "metadata": {},
     "output_type": "execute_result"
    }
   ],
   "source": [
    "df=pd.read_csv(os.path.join(RAW_DATA_PATH,'Input Data Translated.csv'), encoding = 'latin-1')\n",
    "df.head()"
   ]
  },
  {
   "cell_type": "code",
   "execution_count": 7,
   "metadata": {},
   "outputs": [
    {
     "data": {
      "text/plain": [
       "(8500, 6)"
      ]
     },
     "execution_count": 7,
     "metadata": {},
     "output_type": "execute_result"
    }
   ],
   "source": [
    "df.shape"
   ]
  },
  {
   "cell_type": "markdown",
   "metadata": {},
   "source": [
    "There are 8500 rows and 4 columns"
   ]
  },
  {
   "cell_type": "markdown",
   "metadata": {},
   "source": [
    "## EDA\n",
    "\n",
    "Understanding of the columns is important in order to understand whether to retain/ drop some of them."
   ]
  },
  {
   "cell_type": "markdown",
   "metadata": {},
   "source": [
    "# Caller Column\n",
    "\n",
    "This perhaps indicates the person who filed the ticket; it would be useful to understand the number of such callers (If there are many unique callers with low sample bases, then it might not make sense to include this column"
   ]
  },
  {
   "cell_type": "code",
   "execution_count": 104,
   "metadata": {},
   "outputs": [
    {
     "data": {
      "text/plain": [
       "2950"
      ]
     },
     "execution_count": 104,
     "metadata": {},
     "output_type": "execute_result"
    }
   ],
   "source": [
    "new_df.Caller.nunique() # Understanding the unique no. of callers"
   ]
  },
  {
   "cell_type": "markdown",
   "metadata": {},
   "source": [
    "Thus across 8500 Rows, there are 2950 unique callers and hence each caller is unlikely to have a sufficient base for analysis. However would be interesting to check the counts of at least the callers who put in tickets more frequently"
   ]
  },
  {
   "cell_type": "code",
   "execution_count": 105,
   "metadata": {},
   "outputs": [
    {
     "data": {
      "text/plain": [
       "bpctwhsn kzqsbmtp    810\n",
       "ZkBogxib QsEJzdZO    151\n",
       "fumkcsji sarmtlhy    134\n",
       "rbozivdq gmlhrtvp     87\n",
       "rkupnshb gsmzfojw     71\n",
       "jloygrwh acvztedi     64\n",
       "spxqmiry zpwgoqju     63\n",
       "oldrctiu bxurpsyi     57\n",
       "olckhmvx pcqobjnd     54\n",
       "dkmcfreg anwmfvlg     51\n",
       "jyoqwxhz clhxsoqy     51\n",
       "efbwiadp dicafxhv     45\n",
       "afkstcev utbnkyop     32\n",
       "gzhapcld fdigznbk     30\n",
       "mnlazfsr mtqrkhnx     28\n",
       "uvrbhlnt bjrmalzi     27\n",
       "entuakhp xrnhtdmk     25\n",
       "jionmpsf wnkpzcmv     24\n",
       "vzqomdgt jwoqbuml     24\n",
       "bozdftwx smylqejw     23\n",
       "rxoynvgi ntgdsehl     21\n",
       "qasdhyzm yuglsrwx     21\n",
       "utyeofsk rdyzpwhi     21\n",
       "vbwszcqn nlbqsuyv     19\n",
       "ugyothfz ugrmkdhx     17\n",
       "hbmwlprq ilfvyodx     17\n",
       "vfrdxtqw jfbmsenz     16\n",
       "niptbwdq csenjruz     16\n",
       "pfzxecbo ptygkvzl     16\n",
       "ughzilfm cfibdamq     16\n",
       "                    ... \n",
       "zkhmvnib sugzyvhp      1\n",
       "xaykwtrf amlswjfr      1\n",
       "atdclmyi wqxzaysu      1\n",
       "szcbhvwe edpouqjl      1\n",
       "sagfvdeb kfqtvgxl      1\n",
       "puxyqwjn zgmnsvjx      1\n",
       "cwryvksu cedsairg      1\n",
       "cvnzhbfa qcvzyrgo      1\n",
       "suyighpt wifujdvq      1\n",
       "trxsychl xamcuong      1\n",
       "recjqtbg xcyuetmj      1\n",
       "zikuvsat spxycizr      1\n",
       "wetajgsq ezmcqkbp      1\n",
       "qdztknml hpcxnyrq      1\n",
       "rvsbtxue cdrwsymj      1\n",
       "jsmhzqpo bpexofya      1\n",
       "ibcsejvn denhyvmr      1\n",
       "anzdtxso trisfkwe      1\n",
       "vwhkldyp efblthqc      1\n",
       "rcmziuob xhblozqe      1\n",
       "bsxvtpke vbfcashd      1\n",
       "tzbqlfao dhlbputy      1\n",
       "nozahtbr ubznqpsy      1\n",
       "pstlrmvf jokbeqnp      1\n",
       "dbroehva dgcyvxhw      1\n",
       "vbihmtzo mphkitvr      1\n",
       "xjeblpst dohnewjg      1\n",
       "melhduty gqchtedl      1\n",
       "nmtekfrz tjxzeuqm      1\n",
       "abyfsqod baezguci      1\n",
       "Name: Caller, Length: 2950, dtype: int64"
      ]
     },
     "execution_count": 105,
     "metadata": {},
     "output_type": "execute_result"
    }
   ],
   "source": [
    "new_df.Caller.value_counts()"
   ]
  },
  {
   "cell_type": "markdown",
   "metadata": {},
   "source": [
    "There are only 11 callers who have a sample base > 50; While the top caller has 810 records, the sample per caller diminishes rapidly; thus there does not seem to be any value in retaining this column and it will be dropped "
   ]
  },
  {
   "cell_type": "markdown",
   "metadata": {},
   "source": [
    "Let's see the description"
   ]
  },
  {
   "cell_type": "code",
   "execution_count": 107,
   "metadata": {},
   "outputs": [
    {
     "data": {
      "text/html": [
       "<div>\n",
       "<style scoped>\n",
       "    .dataframe tbody tr th:only-of-type {\n",
       "        vertical-align: middle;\n",
       "    }\n",
       "\n",
       "    .dataframe tbody tr th {\n",
       "        vertical-align: top;\n",
       "    }\n",
       "\n",
       "    .dataframe thead th {\n",
       "        text-align: right;\n",
       "    }\n",
       "</style>\n",
       "<table border=\"1\" class=\"dataframe\">\n",
       "  <thead>\n",
       "    <tr style=\"text-align: right;\">\n",
       "      <th></th>\n",
       "      <th>count</th>\n",
       "      <th>unique</th>\n",
       "      <th>top</th>\n",
       "      <th>freq</th>\n",
       "    </tr>\n",
       "  </thead>\n",
       "  <tbody>\n",
       "    <tr>\n",
       "      <th>Short description</th>\n",
       "      <td>8498</td>\n",
       "      <td>7386</td>\n",
       "      <td>password reset</td>\n",
       "      <td>48</td>\n",
       "    </tr>\n",
       "    <tr>\n",
       "      <th>Description</th>\n",
       "      <td>8497</td>\n",
       "      <td>7751</td>\n",
       "      <td>the</td>\n",
       "      <td>56</td>\n",
       "    </tr>\n",
       "    <tr>\n",
       "      <th>Caller</th>\n",
       "      <td>8500</td>\n",
       "      <td>2950</td>\n",
       "      <td>bpctwhsn kzqsbmtp</td>\n",
       "      <td>810</td>\n",
       "    </tr>\n",
       "    <tr>\n",
       "      <th>Assignment group</th>\n",
       "      <td>8500</td>\n",
       "      <td>74</td>\n",
       "      <td>GRP_0</td>\n",
       "      <td>3976</td>\n",
       "    </tr>\n",
       "    <tr>\n",
       "      <th>Language</th>\n",
       "      <td>8497</td>\n",
       "      <td>27</td>\n",
       "      <td>en</td>\n",
       "      <td>7733</td>\n",
       "    </tr>\n",
       "  </tbody>\n",
       "</table>\n",
       "</div>"
      ],
      "text/plain": [
       "                  count unique                top  freq\n",
       "Short description  8498   7386     password reset    48\n",
       "Description        8497   7751                the    56\n",
       "Caller             8500   2950  bpctwhsn kzqsbmtp   810\n",
       "Assignment group   8500     74              GRP_0  3976\n",
       "Language           8497     27                 en  7733"
      ]
     },
     "execution_count": 107,
     "metadata": {},
     "output_type": "execute_result"
    }
   ],
   "source": [
    "new_df.describe().transpose()"
   ]
  },
  {
   "cell_type": "markdown",
   "metadata": {},
   "source": [
    "Above description says below observations:\n",
    "1. 'Short description' column has 2 blank values and 'Desciption' column has 3 blank values\n",
    "2. Out of 8498 there are 7386 unique values in 'Short description' column, out of 8497 there are 7751 unique values in 'Description' column and out of 8500 there are 74 unique values in 'Assignment group' column which is target column. Also there are 27 unique languages in the database\n",
    "3. \"Password reset\" is the top frequent value with 48 occurrences in 'Short description' column, \"the\" is the top frequent value with 56 occurrences in 'Description' column and \"GRP_0\" is the group which has maximum assignment of tickets i.e 3976. English is the most common language with 7733 records"
   ]
  },
  {
   "cell_type": "markdown",
   "metadata": {},
   "source": [
    "Comments: In the Description Column 'the' by itself does not add any value since it would get removed as a stop word; hence useful to see what is Short Description that is in the rows with \"the\" in the Description Column"
   ]
  },
  {
   "cell_type": "code",
   "execution_count": 108,
   "metadata": {},
   "outputs": [
    {
     "data": {
      "text/html": [
       "<div>\n",
       "<style scoped>\n",
       "    .dataframe tbody tr th:only-of-type {\n",
       "        vertical-align: middle;\n",
       "    }\n",
       "\n",
       "    .dataframe tbody tr th {\n",
       "        vertical-align: top;\n",
       "    }\n",
       "\n",
       "    .dataframe thead th {\n",
       "        text-align: right;\n",
       "    }\n",
       "</style>\n",
       "<table border=\"1\" class=\"dataframe\">\n",
       "  <thead>\n",
       "    <tr style=\"text-align: right;\">\n",
       "      <th></th>\n",
       "      <th>Short description</th>\n",
       "      <th>Description</th>\n",
       "      <th>Caller</th>\n",
       "      <th>Assignment group</th>\n",
       "      <th>Language</th>\n",
       "    </tr>\n",
       "  </thead>\n",
       "  <tbody>\n",
       "    <tr>\n",
       "      <th>1049</th>\n",
       "      <td>reset passwords for soldfnbq uhnbsvqd using pa...</td>\n",
       "      <td>the</td>\n",
       "      <td>soldfnbq uhnbsvqd</td>\n",
       "      <td>GRP_17</td>\n",
       "      <td>en</td>\n",
       "    </tr>\n",
       "    <tr>\n",
       "      <th>1054</th>\n",
       "      <td>reset passwords for fygrwuna gomcekzi using pa...</td>\n",
       "      <td>the</td>\n",
       "      <td>fygrwuna gomcekzi</td>\n",
       "      <td>GRP_17</td>\n",
       "      <td>en</td>\n",
       "    </tr>\n",
       "    <tr>\n",
       "      <th>1144</th>\n",
       "      <td>reset passwords for wvdxnkhf jirecvta using pa...</td>\n",
       "      <td>the</td>\n",
       "      <td>wvdxnkhf jirecvta</td>\n",
       "      <td>GRP_17</td>\n",
       "      <td>en</td>\n",
       "    </tr>\n",
       "    <tr>\n",
       "      <th>1184</th>\n",
       "      <td>reset passwords for pxvjczdt kizsjfpq using pa...</td>\n",
       "      <td>the</td>\n",
       "      <td>pxvjczdt kizsjfpq</td>\n",
       "      <td>GRP_17</td>\n",
       "      <td>en</td>\n",
       "    </tr>\n",
       "    <tr>\n",
       "      <th>1292</th>\n",
       "      <td>reset passwords for cubdsrml znewqgop using pa...</td>\n",
       "      <td>the</td>\n",
       "      <td>cubdsrml znewqgop</td>\n",
       "      <td>GRP_17</td>\n",
       "      <td>en</td>\n",
       "    </tr>\n",
       "    <tr>\n",
       "      <th>1476</th>\n",
       "      <td>reset passwords for bnoupaki cpeioxdz using pa...</td>\n",
       "      <td>the</td>\n",
       "      <td>bnoupaki cpeioxdz</td>\n",
       "      <td>GRP_17</td>\n",
       "      <td>en</td>\n",
       "    </tr>\n",
       "    <tr>\n",
       "      <th>1558</th>\n",
       "      <td>reset passwords for usa feathers using passwor...</td>\n",
       "      <td>the</td>\n",
       "      <td>lmqysdec ljvbnpqw</td>\n",
       "      <td>GRP_17</td>\n",
       "      <td>en</td>\n",
       "    </tr>\n",
       "    <tr>\n",
       "      <th>1693</th>\n",
       "      <td>reset passwords for eglavnhx uprodleq using pa...</td>\n",
       "      <td>the</td>\n",
       "      <td>eglavnhx uprodleq</td>\n",
       "      <td>GRP_17</td>\n",
       "      <td>en</td>\n",
       "    </tr>\n",
       "    <tr>\n",
       "      <th>1834</th>\n",
       "      <td>reset passwords for hybiaxlk lawptzir using pa...</td>\n",
       "      <td>the</td>\n",
       "      <td>hybiaxlk lawptzir</td>\n",
       "      <td>GRP_17</td>\n",
       "      <td>en</td>\n",
       "    </tr>\n",
       "    <tr>\n",
       "      <th>1850</th>\n",
       "      <td>reset passwords for fylrosuk kedgmiul using pa...</td>\n",
       "      <td>the</td>\n",
       "      <td>fylrosuk kedgmiul</td>\n",
       "      <td>GRP_17</td>\n",
       "      <td>en</td>\n",
       "    </tr>\n",
       "  </tbody>\n",
       "</table>\n",
       "</div>"
      ],
      "text/plain": [
       "                                      Short description Description  \\\n",
       "1049  reset passwords for soldfnbq uhnbsvqd using pa...         the   \n",
       "1054  reset passwords for fygrwuna gomcekzi using pa...         the   \n",
       "1144  reset passwords for wvdxnkhf jirecvta using pa...         the   \n",
       "1184  reset passwords for pxvjczdt kizsjfpq using pa...         the   \n",
       "1292  reset passwords for cubdsrml znewqgop using pa...         the   \n",
       "1476  reset passwords for bnoupaki cpeioxdz using pa...         the   \n",
       "1558  reset passwords for usa feathers using passwor...         the   \n",
       "1693  reset passwords for eglavnhx uprodleq using pa...         the   \n",
       "1834  reset passwords for hybiaxlk lawptzir using pa...         the   \n",
       "1850  reset passwords for fylrosuk kedgmiul using pa...         the   \n",
       "\n",
       "                 Caller Assignment group Language  \n",
       "1049  soldfnbq uhnbsvqd           GRP_17       en  \n",
       "1054  fygrwuna gomcekzi           GRP_17       en  \n",
       "1144  wvdxnkhf jirecvta           GRP_17       en  \n",
       "1184  pxvjczdt kizsjfpq           GRP_17       en  \n",
       "1292  cubdsrml znewqgop           GRP_17       en  \n",
       "1476  bnoupaki cpeioxdz           GRP_17       en  \n",
       "1558  lmqysdec ljvbnpqw           GRP_17       en  \n",
       "1693  eglavnhx uprodleq           GRP_17       en  \n",
       "1834  hybiaxlk lawptzir           GRP_17       en  \n",
       "1850  fylrosuk kedgmiul           GRP_17       en  "
      ]
     },
     "execution_count": 108,
     "metadata": {},
     "output_type": "execute_result"
    }
   ],
   "source": [
    "new_df[new_df.Description == 'the'].head(10)"
   ]
  },
  {
   "cell_type": "markdown",
   "metadata": {},
   "source": [
    "Most of the \"the\" in Description seem to be associated with \"reset passwords\" in the Short Description Column; thus in order to develop a reasonable model it points to the fact that it would be good to concatenate both these columns"
   ]
  },
  {
   "cell_type": "markdown",
   "metadata": {},
   "source": [
    "Checking for the Data Types"
   ]
  },
  {
   "cell_type": "code",
   "execution_count": 109,
   "metadata": {},
   "outputs": [
    {
     "data": {
      "text/plain": [
       "Short description    object\n",
       "Description          object\n",
       "Caller               object\n",
       "Assignment group     object\n",
       "Language             object\n",
       "dtype: object"
      ]
     },
     "execution_count": 109,
     "metadata": {},
     "output_type": "execute_result"
    }
   ],
   "source": [
    "new_df.dtypes"
   ]
  },
  {
   "cell_type": "markdown",
   "metadata": {},
   "source": [
    "Let's see number of tickets assigned to each group"
   ]
  },
  {
   "cell_type": "code",
   "execution_count": 112,
   "metadata": {},
   "outputs": [
    {
     "name": "stdout",
     "output_type": "stream",
     "text": [
      "GRP_0     3976\n",
      "GRP_8      661\n",
      "GRP_24     289\n",
      "GRP_12     257\n",
      "GRP_9      252\n",
      "GRP_2      241\n",
      "GRP_19     215\n",
      "GRP_3      200\n",
      "GRP_6      184\n",
      "GRP_13     145\n",
      "GRP_10     140\n",
      "GRP_5      129\n",
      "GRP_14     118\n",
      "GRP_25     116\n",
      "GRP_33     107\n",
      "GRP_4      100\n",
      "GRP_29      97\n",
      "GRP_18      88\n",
      "GRP_16      85\n",
      "GRP_17      81\n",
      "GRP_31      69\n",
      "GRP_7       68\n",
      "GRP_34      62\n",
      "GRP_26      56\n",
      "GRP_40      45\n",
      "GRP_28      44\n",
      "GRP_41      40\n",
      "GRP_15      39\n",
      "GRP_30      39\n",
      "GRP_42      37\n",
      "          ... \n",
      "GRP_44      15\n",
      "GRP_36      15\n",
      "GRP_50      14\n",
      "GRP_53      11\n",
      "GRP_65      11\n",
      "GRP_52       9\n",
      "GRP_55       8\n",
      "GRP_51       8\n",
      "GRP_59       6\n",
      "GRP_49       6\n",
      "GRP_46       6\n",
      "GRP_43       5\n",
      "GRP_32       4\n",
      "GRP_66       4\n",
      "GRP_38       3\n",
      "GRP_56       3\n",
      "GRP_58       3\n",
      "GRP_68       3\n",
      "GRP_63       3\n",
      "GRP_54       2\n",
      "GRP_72       2\n",
      "GRP_71       2\n",
      "GRP_57       2\n",
      "GRP_69       2\n",
      "GRP_73       1\n",
      "GRP_61       1\n",
      "GRP_67       1\n",
      "GRP_64       1\n",
      "GRP_70       1\n",
      "GRP_35       1\n",
      "Name: Assignment group, Length: 74, dtype: int64\n"
     ]
    }
   ],
   "source": [
    "print(new_df['Assignment group'].value_counts())"
   ]
  },
  {
   "cell_type": "markdown",
   "metadata": {},
   "source": [
    "The Group variable has a very long tail and it might not be beneficial to keep the ones that have a low record base; One could potentially club the groups with low record base into 1 group called as \"Others\". Classic statistics state that beyond a sample of 30, distributions tend to be normal and thus this value could be set as a cut-off for a group to be included and all groups with a base of <30 can be combined into \"Others\""
   ]
  },
  {
   "cell_type": "markdown",
   "metadata": {},
   "source": [
    "Let's check for null values"
   ]
  },
  {
   "cell_type": "code",
   "execution_count": 113,
   "metadata": {},
   "outputs": [
    {
     "data": {
      "text/html": [
       "<div>\n",
       "<style scoped>\n",
       "    .dataframe tbody tr th:only-of-type {\n",
       "        vertical-align: middle;\n",
       "    }\n",
       "\n",
       "    .dataframe tbody tr th {\n",
       "        vertical-align: top;\n",
       "    }\n",
       "\n",
       "    .dataframe thead th {\n",
       "        text-align: right;\n",
       "    }\n",
       "</style>\n",
       "<table border=\"1\" class=\"dataframe\">\n",
       "  <thead>\n",
       "    <tr style=\"text-align: right;\">\n",
       "      <th></th>\n",
       "      <th>Short description</th>\n",
       "      <th>Description</th>\n",
       "      <th>Caller</th>\n",
       "      <th>Assignment group</th>\n",
       "      <th>Language</th>\n",
       "    </tr>\n",
       "  </thead>\n",
       "  <tbody>\n",
       "    <tr>\n",
       "      <th>False</th>\n",
       "      <td>8498</td>\n",
       "      <td>8497</td>\n",
       "      <td>8500.0</td>\n",
       "      <td>8500.0</td>\n",
       "      <td>8497</td>\n",
       "    </tr>\n",
       "    <tr>\n",
       "      <th>True</th>\n",
       "      <td>2</td>\n",
       "      <td>3</td>\n",
       "      <td>NaN</td>\n",
       "      <td>NaN</td>\n",
       "      <td>3</td>\n",
       "    </tr>\n",
       "  </tbody>\n",
       "</table>\n",
       "</div>"
      ],
      "text/plain": [
       "       Short description  Description  Caller  Assignment group  Language\n",
       "False               8498         8497  8500.0            8500.0      8497\n",
       "True                   2            3     NaN               NaN         3"
      ]
     },
     "execution_count": 113,
     "metadata": {},
     "output_type": "execute_result"
    }
   ],
   "source": [
    "new_df.isnull().apply(pd.value_counts)  "
   ]
  },
  {
   "cell_type": "markdown",
   "metadata": {},
   "source": [
    "There are 2 null values in 'Short description' column and 3 in 'Description' column.There is no null value in target column."
   ]
  },
  {
   "cell_type": "markdown",
   "metadata": {},
   "source": [
    "If there are rows, with Null values for both, then we would need to remove them; however we need to check for the same"
   ]
  },
  {
   "cell_type": "code",
   "execution_count": 114,
   "metadata": {},
   "outputs": [
    {
     "data": {
      "text/html": [
       "<div>\n",
       "<style scoped>\n",
       "    .dataframe tbody tr th:only-of-type {\n",
       "        vertical-align: middle;\n",
       "    }\n",
       "\n",
       "    .dataframe tbody tr th {\n",
       "        vertical-align: top;\n",
       "    }\n",
       "\n",
       "    .dataframe thead th {\n",
       "        text-align: right;\n",
       "    }\n",
       "</style>\n",
       "<table border=\"1\" class=\"dataframe\">\n",
       "  <thead>\n",
       "    <tr style=\"text-align: right;\">\n",
       "      <th></th>\n",
       "      <th>Short description</th>\n",
       "      <th>Description</th>\n",
       "      <th>Caller</th>\n",
       "      <th>Assignment group</th>\n",
       "      <th>Language</th>\n",
       "    </tr>\n",
       "  </thead>\n",
       "  <tbody>\n",
       "    <tr>\n",
       "      <th>2604</th>\n",
       "      <td>NaN</td>\n",
       "      <td>\\n\\nreceived from: ohdrnswl.rezuibdt@gmail.com...</td>\n",
       "      <td>ohdrnswl rezuibdt</td>\n",
       "      <td>GRP_34</td>\n",
       "      <td>en</td>\n",
       "    </tr>\n",
       "    <tr>\n",
       "      <th>3383</th>\n",
       "      <td>NaN</td>\n",
       "      <td>\\n-connected to the user system using teamview...</td>\n",
       "      <td>qftpazns fxpnytmk</td>\n",
       "      <td>GRP_0</td>\n",
       "      <td>en</td>\n",
       "    </tr>\n",
       "    <tr>\n",
       "      <th>4395</th>\n",
       "      <td>i am locked out of skype</td>\n",
       "      <td>NaN</td>\n",
       "      <td>viyglzfo ajtfzpkb</td>\n",
       "      <td>GRP_0</td>\n",
       "      <td>NaN</td>\n",
       "    </tr>\n",
       "    <tr>\n",
       "      <th>6371</th>\n",
       "      <td>authorization add/delete members</td>\n",
       "      <td>NaN</td>\n",
       "      <td>hpmwliog kqtnfvrl</td>\n",
       "      <td>GRP_0</td>\n",
       "      <td>NaN</td>\n",
       "    </tr>\n",
       "    <tr>\n",
       "      <th>7397</th>\n",
       "      <td>browser issue :</td>\n",
       "      <td>NaN</td>\n",
       "      <td>fgejnhux fnkymoht</td>\n",
       "      <td>GRP_0</td>\n",
       "      <td>NaN</td>\n",
       "    </tr>\n",
       "  </tbody>\n",
       "</table>\n",
       "</div>"
      ],
      "text/plain": [
       "                     Short description  \\\n",
       "2604                               NaN   \n",
       "3383                               NaN   \n",
       "4395          i am locked out of skype   \n",
       "6371  authorization add/delete members   \n",
       "7397                   browser issue :   \n",
       "\n",
       "                                            Description             Caller  \\\n",
       "2604  \\n\\nreceived from: ohdrnswl.rezuibdt@gmail.com...  ohdrnswl rezuibdt   \n",
       "3383  \\n-connected to the user system using teamview...  qftpazns fxpnytmk   \n",
       "4395                                                NaN  viyglzfo ajtfzpkb   \n",
       "6371                                                NaN  hpmwliog kqtnfvrl   \n",
       "7397                                                NaN  fgejnhux fnkymoht   \n",
       "\n",
       "     Assignment group Language  \n",
       "2604           GRP_34       en  \n",
       "3383            GRP_0       en  \n",
       "4395            GRP_0      NaN  \n",
       "6371            GRP_0      NaN  \n",
       "7397            GRP_0      NaN  "
      ]
     },
     "execution_count": 114,
     "metadata": {},
     "output_type": "execute_result"
    }
   ],
   "source": [
    "# Let's look at the rows with null values\n",
    "new_df[pd.isnull(new_df).any(axis=1)]"
   ]
  },
  {
   "cell_type": "markdown",
   "metadata": {},
   "source": [
    "There are no records which have Null values for both Short Description and Description; Given that for prediction it is likely that both Columns would be used, replacement of Null values can be done with a blank string (as it is likely that both Short Description and Description would be concatenated while building the model)"
   ]
  },
  {
   "cell_type": "code",
   "execution_count": 115,
   "metadata": {},
   "outputs": [
    {
     "data": {
      "text/html": [
       "<div>\n",
       "<style scoped>\n",
       "    .dataframe tbody tr th:only-of-type {\n",
       "        vertical-align: middle;\n",
       "    }\n",
       "\n",
       "    .dataframe tbody tr th {\n",
       "        vertical-align: top;\n",
       "    }\n",
       "\n",
       "    .dataframe thead th {\n",
       "        text-align: right;\n",
       "    }\n",
       "</style>\n",
       "<table border=\"1\" class=\"dataframe\">\n",
       "  <thead>\n",
       "    <tr style=\"text-align: right;\">\n",
       "      <th></th>\n",
       "      <th>Short description</th>\n",
       "      <th>Description</th>\n",
       "      <th>Caller</th>\n",
       "      <th>Assignment group</th>\n",
       "      <th>Language</th>\n",
       "    </tr>\n",
       "  </thead>\n",
       "  <tbody>\n",
       "  </tbody>\n",
       "</table>\n",
       "</div>"
      ],
      "text/plain": [
       "Empty DataFrame\n",
       "Columns: [Short description, Description, Caller, Assignment group, Language]\n",
       "Index: []"
      ]
     },
     "execution_count": 115,
     "metadata": {},
     "output_type": "execute_result"
    }
   ],
   "source": [
    "# NULL replacement\n",
    "new_df.fillna(str(), inplace=True)\n",
    "new_df[pd.isnull(new_df).any(axis=1)]"
   ]
  },
  {
   "cell_type": "markdown",
   "metadata": {},
   "source": [
    "Now there is no null value in any column"
   ]
  },
  {
   "cell_type": "markdown",
   "metadata": {},
   "source": [
    "Checking for Duplicates across Short Description and Description"
   ]
  },
  {
   "cell_type": "code",
   "execution_count": 116,
   "metadata": {},
   "outputs": [],
   "source": [
    "df_common=new_df[new_df[[\"Short description\",\"Description\"]].apply(lambda x : x[0]==x[1],axis=1)].reset_index(drop=True).copy()"
   ]
  },
  {
   "cell_type": "code",
   "execution_count": 117,
   "metadata": {},
   "outputs": [
    {
     "data": {
      "text/html": [
       "<div>\n",
       "<style scoped>\n",
       "    .dataframe tbody tr th:only-of-type {\n",
       "        vertical-align: middle;\n",
       "    }\n",
       "\n",
       "    .dataframe tbody tr th {\n",
       "        vertical-align: top;\n",
       "    }\n",
       "\n",
       "    .dataframe thead th {\n",
       "        text-align: right;\n",
       "    }\n",
       "</style>\n",
       "<table border=\"1\" class=\"dataframe\">\n",
       "  <thead>\n",
       "    <tr style=\"text-align: right;\">\n",
       "      <th></th>\n",
       "      <th>Short description</th>\n",
       "      <th>Description</th>\n",
       "      <th>Caller</th>\n",
       "      <th>Assignment group</th>\n",
       "      <th>Language</th>\n",
       "    </tr>\n",
       "  </thead>\n",
       "  <tbody>\n",
       "    <tr>\n",
       "      <th>0</th>\n",
       "      <td>unable to access hr_tool page</td>\n",
       "      <td>unable to access hr_tool page</td>\n",
       "      <td>xbkucsvz gcpydteq</td>\n",
       "      <td>GRP_0</td>\n",
       "      <td>en</td>\n",
       "    </tr>\n",
       "    <tr>\n",
       "      <th>1</th>\n",
       "      <td>skype error</td>\n",
       "      <td>skype error</td>\n",
       "      <td>owlgqjme qhcozdfx</td>\n",
       "      <td>GRP_0</td>\n",
       "      <td>en</td>\n",
       "    </tr>\n",
       "    <tr>\n",
       "      <th>2</th>\n",
       "      <td>unable to log in to engineering tool and skype</td>\n",
       "      <td>unable to log in to engineering tool and skype</td>\n",
       "      <td>eflahbxn ltdgrvkz</td>\n",
       "      <td>GRP_0</td>\n",
       "      <td>en</td>\n",
       "    </tr>\n",
       "    <tr>\n",
       "      <th>3</th>\n",
       "      <td>ticket_no1550391- employment status - new non-...</td>\n",
       "      <td>ticket_no1550391- employment status - new non-...</td>\n",
       "      <td>eqzibjhw ymebpoih</td>\n",
       "      <td>GRP_0</td>\n",
       "      <td>en</td>\n",
       "    </tr>\n",
       "    <tr>\n",
       "      <th>4</th>\n",
       "      <td>unable to disable add ins on outlook</td>\n",
       "      <td>unable to disable add ins on outlook</td>\n",
       "      <td>mdbegvct dbvichlg</td>\n",
       "      <td>GRP_0</td>\n",
       "      <td>en</td>\n",
       "    </tr>\n",
       "  </tbody>\n",
       "</table>\n",
       "</div>"
      ],
      "text/plain": [
       "                                   Short description  \\\n",
       "0                      unable to access hr_tool page   \n",
       "1                                        skype error   \n",
       "2     unable to log in to engineering tool and skype   \n",
       "3  ticket_no1550391- employment status - new non-...   \n",
       "4               unable to disable add ins on outlook   \n",
       "\n",
       "                                         Description             Caller  \\\n",
       "0                      unable to access hr_tool page  xbkucsvz gcpydteq   \n",
       "1                                        skype error  owlgqjme qhcozdfx   \n",
       "2     unable to log in to engineering tool and skype  eflahbxn ltdgrvkz   \n",
       "3  ticket_no1550391- employment status - new non-...  eqzibjhw ymebpoih   \n",
       "4               unable to disable add ins on outlook  mdbegvct dbvichlg   \n",
       "\n",
       "  Assignment group Language  \n",
       "0            GRP_0       en  \n",
       "1            GRP_0       en  \n",
       "2            GRP_0       en  \n",
       "3            GRP_0       en  \n",
       "4            GRP_0       en  "
      ]
     },
     "execution_count": 117,
     "metadata": {},
     "output_type": "execute_result"
    }
   ],
   "source": [
    "df_common.head()"
   ]
  },
  {
   "cell_type": "code",
   "execution_count": 118,
   "metadata": {},
   "outputs": [
    {
     "name": "stdout",
     "output_type": "stream",
     "text": [
      "<class 'pandas.core.frame.DataFrame'>\n",
      "RangeIndex: 2889 entries, 0 to 2888\n",
      "Data columns (total 5 columns):\n",
      "Short description    2889 non-null object\n",
      "Description          2889 non-null object\n",
      "Caller               2889 non-null object\n",
      "Assignment group     2889 non-null object\n",
      "Language             2889 non-null object\n",
      "dtypes: object(5)\n",
      "memory usage: 112.9+ KB\n"
     ]
    }
   ],
   "source": [
    "df_common.info()"
   ]
  },
  {
   "cell_type": "markdown",
   "metadata": {},
   "source": [
    "Comments: this shows that out of the 8500 records, 2889 have the same information in both Short description and Description - This would point out that it is better to concatenate the two columns for the modeling stage"
   ]
  },
  {
   "cell_type": "markdown",
   "metadata": {},
   "source": [
    "Language as a column is not required for the modeling but was just for understanding; dropping the Language Column"
   ]
  },
  {
   "cell_type": "code",
   "execution_count": 119,
   "metadata": {},
   "outputs": [
    {
     "data": {
      "text/html": [
       "<div>\n",
       "<style scoped>\n",
       "    .dataframe tbody tr th:only-of-type {\n",
       "        vertical-align: middle;\n",
       "    }\n",
       "\n",
       "    .dataframe tbody tr th {\n",
       "        vertical-align: top;\n",
       "    }\n",
       "\n",
       "    .dataframe thead th {\n",
       "        text-align: right;\n",
       "    }\n",
       "</style>\n",
       "<table border=\"1\" class=\"dataframe\">\n",
       "  <thead>\n",
       "    <tr style=\"text-align: right;\">\n",
       "      <th></th>\n",
       "      <th>Short description</th>\n",
       "      <th>Description</th>\n",
       "      <th>Caller</th>\n",
       "      <th>Assignment group</th>\n",
       "    </tr>\n",
       "  </thead>\n",
       "  <tbody>\n",
       "    <tr>\n",
       "      <th>0</th>\n",
       "      <td>login issue</td>\n",
       "      <td>-verified user details.(employee# &amp; manager na...</td>\n",
       "      <td>spxjnwir pjlcoqds</td>\n",
       "      <td>GRP_0</td>\n",
       "    </tr>\n",
       "    <tr>\n",
       "      <th>1</th>\n",
       "      <td>outlook</td>\n",
       "      <td>\\n\\nreceived from: hmjdrvpb.komuaywn@gmail.com...</td>\n",
       "      <td>hmjdrvpb komuaywn</td>\n",
       "      <td>GRP_0</td>\n",
       "    </tr>\n",
       "    <tr>\n",
       "      <th>2</th>\n",
       "      <td>cant log in to vpn</td>\n",
       "      <td>\\n\\nreceived from: eylqgodm.ybqkwiam@gmail.com...</td>\n",
       "      <td>eylqgodm ybqkwiam</td>\n",
       "      <td>GRP_0</td>\n",
       "    </tr>\n",
       "    <tr>\n",
       "      <th>3</th>\n",
       "      <td>unable to access hr_tool page</td>\n",
       "      <td>unable to access hr_tool page</td>\n",
       "      <td>xbkucsvz gcpydteq</td>\n",
       "      <td>GRP_0</td>\n",
       "    </tr>\n",
       "    <tr>\n",
       "      <th>4</th>\n",
       "      <td>skype error</td>\n",
       "      <td>skype error</td>\n",
       "      <td>owlgqjme qhcozdfx</td>\n",
       "      <td>GRP_0</td>\n",
       "    </tr>\n",
       "  </tbody>\n",
       "</table>\n",
       "</div>"
      ],
      "text/plain": [
       "               Short description  \\\n",
       "0                    login issue   \n",
       "1                        outlook   \n",
       "2             cant log in to vpn   \n",
       "3  unable to access hr_tool page   \n",
       "4                    skype error   \n",
       "\n",
       "                                         Description             Caller  \\\n",
       "0  -verified user details.(employee# & manager na...  spxjnwir pjlcoqds   \n",
       "1  \\n\\nreceived from: hmjdrvpb.komuaywn@gmail.com...  hmjdrvpb komuaywn   \n",
       "2  \\n\\nreceived from: eylqgodm.ybqkwiam@gmail.com...  eylqgodm ybqkwiam   \n",
       "3                      unable to access hr_tool page  xbkucsvz gcpydteq   \n",
       "4                                        skype error  owlgqjme qhcozdfx   \n",
       "\n",
       "  Assignment group  \n",
       "0            GRP_0  \n",
       "1            GRP_0  \n",
       "2            GRP_0  \n",
       "3            GRP_0  \n",
       "4            GRP_0  "
      ]
     },
     "execution_count": 119,
     "metadata": {},
     "output_type": "execute_result"
    }
   ],
   "source": [
    "new_df=new_df.drop('Language',axis=1)\n",
    "new_df.shape\n",
    "new_df.head()"
   ]
  },
  {
   "cell_type": "markdown",
   "metadata": {},
   "source": [
    "# Data Understanding thus far\n",
    "\n",
    "1. All text has been converted into English\n",
    "2. Need to concatenate both the short Description and Description Columns\n",
    "3. Long tails in \"Assignment group\" column need to be taken care of\n",
    "4. Null values solved for by replacing with blank string\n",
    "5. Need to remove email id's from text"
   ]
  },
  {
   "cell_type": "markdown",
   "metadata": {},
   "source": [
    "# Next Steps\n",
    "\n",
    "# Data Cleaning \n",
    "\n",
    "In this step there is a need to \n",
    "1. Convert all text to lower case\n",
    "2. Remove numbers\n",
    "3. Remove puntuations\n",
    "4. Remove blank spaces\n",
    "5. Remove stop words (along with other words identified earlier that would not contribute)\n",
    "6. Remove email id's"
   ]
  },
  {
   "cell_type": "code",
   "execution_count": 120,
   "metadata": {},
   "outputs": [],
   "source": [
    "import re # for applying Regex pattern to subject strings"
   ]
  },
  {
   "cell_type": "code",
   "execution_count": 121,
   "metadata": {},
   "outputs": [],
   "source": [
    "# Fixing the different patterns\n",
    "email_pat = r\"([\\w.+-]+@[a-z\\d-]+\\.[a-z\\d.-]+)\"\n",
    "punct_pat = r\"[,|.|_|@|\\|?|\\\\|$&*|%|\\r|\\n|.:|\\s+|/|//|\\\\|/|\\||-|<|>|;|(|)|=|+|#|-|\\\"|[-\\]]|{|}]\"\n",
    "num_pat = r\"(?<!)(\\d+(?:\\.\\d+)?)\"\n",
    "\n",
    "# Define a function to treat the texts\n",
    "def preText(text):\n",
    "    # Make the text unicase (lower) \n",
    "    text = str(text).lower()\n",
    "    # Remove email adresses\n",
    "    text = re.sub(email_pat, ' ', text, flags=re.IGNORECASE)\n",
    "    # Remove all numbers\n",
    "    text = re.sub(r'\\d+',' ',text)# remove numbers\n",
    "    text = re.sub(num_pat, ' ', text)\n",
    "    # Replace all punctuations with blank space\n",
    "    text = re.sub(r'[^\\w\\s]', ' ', text)\n",
    "    text = re.sub(punct_pat, \" \", text, flags=re.MULTILINE)\n",
    "    text = re.sub(r'\\s+', ' ', text)\n",
    "    # remove HTML tags\n",
    "    text = re.sub('<.*?>', '', text)   \n",
    "    # Replace multiple spaces from prev step to single\n",
    "    text = re.sub(r' {2,}', \" \", text, flags=re.MULTILINE)\n",
    "    text = text.replace('`',\"'\")\n",
    "    return text.strip()"
   ]
  },
  {
   "cell_type": "code",
   "execution_count": 122,
   "metadata": {},
   "outputs": [
    {
     "name": "stdout",
     "output_type": "stream",
     "text": [
      "\u001b[1mOriginal text:\u001b[0m\n",
      "-verified user details.(employee# & manager name)\n",
      "-checked the user name in ad and reset the password.\n",
      "-advised the user to login and check.\n",
      "-caller confirmed that he was able to login.\n",
      "-issue resolved.\n",
      "____________________________________________________________________________________________________\n",
      "\u001b[1mCleaned text:\u001b[0m\n",
      "verified user details employee manager name checked the user name in ad and reset the password advised the user to login and check caller confirmed that he was able to login issue resolved\n"
     ]
    }
   ],
   "source": [
    "# Checking to see how the cleaning function has worked for a record\n",
    "print('\\033[1mOriginal text:\\033[0m')\n",
    "print(new_df['Description'][0])\n",
    "print('_'*100)\n",
    "print('\\033[1mCleaned text:\\033[0m')\n",
    "print(preText(new_df['Description'][0]))"
   ]
  },
  {
   "cell_type": "markdown",
   "metadata": {},
   "source": [
    "Now given that The text seems to have been pre-processed correctly, applying it on the total database"
   ]
  },
  {
   "cell_type": "code",
   "execution_count": 123,
   "metadata": {},
   "outputs": [
    {
     "data": {
      "text/html": [
       "<div>\n",
       "<style scoped>\n",
       "    .dataframe tbody tr th:only-of-type {\n",
       "        vertical-align: middle;\n",
       "    }\n",
       "\n",
       "    .dataframe tbody tr th {\n",
       "        vertical-align: top;\n",
       "    }\n",
       "\n",
       "    .dataframe thead th {\n",
       "        text-align: right;\n",
       "    }\n",
       "</style>\n",
       "<table border=\"1\" class=\"dataframe\">\n",
       "  <thead>\n",
       "    <tr style=\"text-align: right;\">\n",
       "      <th></th>\n",
       "      <th>Short description</th>\n",
       "      <th>Description</th>\n",
       "      <th>Caller</th>\n",
       "      <th>Assignment group</th>\n",
       "    </tr>\n",
       "  </thead>\n",
       "  <tbody>\n",
       "    <tr>\n",
       "      <th>0</th>\n",
       "      <td>login issue</td>\n",
       "      <td>verified user details employee manager name ch...</td>\n",
       "      <td>spxjnwir pjlcoqds</td>\n",
       "      <td>GRP_0</td>\n",
       "    </tr>\n",
       "    <tr>\n",
       "      <th>1</th>\n",
       "      <td>outlook</td>\n",
       "      <td>received from hello team my meetings skype mee...</td>\n",
       "      <td>hmjdrvpb komuaywn</td>\n",
       "      <td>GRP_0</td>\n",
       "    </tr>\n",
       "    <tr>\n",
       "      <th>2</th>\n",
       "      <td>cant log in to vpn</td>\n",
       "      <td>received from hi i cannot log on to vpn best</td>\n",
       "      <td>eylqgodm ybqkwiam</td>\n",
       "      <td>GRP_0</td>\n",
       "    </tr>\n",
       "    <tr>\n",
       "      <th>3</th>\n",
       "      <td>unable to access hr tool page</td>\n",
       "      <td>unable to access hr tool page</td>\n",
       "      <td>xbkucsvz gcpydteq</td>\n",
       "      <td>GRP_0</td>\n",
       "    </tr>\n",
       "    <tr>\n",
       "      <th>4</th>\n",
       "      <td>skype error</td>\n",
       "      <td>skype error</td>\n",
       "      <td>owlgqjme qhcozdfx</td>\n",
       "      <td>GRP_0</td>\n",
       "    </tr>\n",
       "  </tbody>\n",
       "</table>\n",
       "</div>"
      ],
      "text/plain": [
       "               Short description  \\\n",
       "0                    login issue   \n",
       "1                        outlook   \n",
       "2             cant log in to vpn   \n",
       "3  unable to access hr tool page   \n",
       "4                    skype error   \n",
       "\n",
       "                                         Description             Caller  \\\n",
       "0  verified user details employee manager name ch...  spxjnwir pjlcoqds   \n",
       "1  received from hello team my meetings skype mee...  hmjdrvpb komuaywn   \n",
       "2       received from hi i cannot log on to vpn best  eylqgodm ybqkwiam   \n",
       "3                      unable to access hr tool page  xbkucsvz gcpydteq   \n",
       "4                                        skype error  owlgqjme qhcozdfx   \n",
       "\n",
       "  Assignment group  \n",
       "0            GRP_0  \n",
       "1            GRP_0  \n",
       "2            GRP_0  \n",
       "3            GRP_0  \n",
       "4            GRP_0  "
      ]
     },
     "execution_count": 123,
     "metadata": {},
     "output_type": "execute_result"
    }
   ],
   "source": [
    "new_df['Description'] = new_df['Description'].apply(preText)\n",
    "new_df['Short description'] = new_df['Short description'].apply(preText)\n",
    "\n",
    "# Verify the data\n",
    "new_df.head()"
   ]
  },
  {
   "cell_type": "markdown",
   "metadata": {},
   "source": [
    "# Text Pre Processing\n",
    "\n",
    "As first steps, we would be concatenating Short Description and Description columns (given that more than a fourth of records have exactly the same data in both of them)"
   ]
  },
  {
   "cell_type": "code",
   "execution_count": 124,
   "metadata": {},
   "outputs": [],
   "source": [
    "new_df.insert(loc=4, \n",
    "              column='Total', \n",
    "              allow_duplicates=True, \n",
    "              value=list(new_df['Short description'].str.strip() + ' ' + new_df['Description'].str.strip()))"
   ]
  },
  {
   "cell_type": "code",
   "execution_count": 125,
   "metadata": {},
   "outputs": [
    {
     "data": {
      "text/html": [
       "<div>\n",
       "<style scoped>\n",
       "    .dataframe tbody tr th:only-of-type {\n",
       "        vertical-align: middle;\n",
       "    }\n",
       "\n",
       "    .dataframe tbody tr th {\n",
       "        vertical-align: top;\n",
       "    }\n",
       "\n",
       "    .dataframe thead th {\n",
       "        text-align: right;\n",
       "    }\n",
       "</style>\n",
       "<table border=\"1\" class=\"dataframe\">\n",
       "  <thead>\n",
       "    <tr style=\"text-align: right;\">\n",
       "      <th></th>\n",
       "      <th>Short description</th>\n",
       "      <th>Description</th>\n",
       "      <th>Caller</th>\n",
       "      <th>Assignment group</th>\n",
       "      <th>Total</th>\n",
       "    </tr>\n",
       "  </thead>\n",
       "  <tbody>\n",
       "    <tr>\n",
       "      <th>0</th>\n",
       "      <td>login issue</td>\n",
       "      <td>verified user details employee manager name ch...</td>\n",
       "      <td>spxjnwir pjlcoqds</td>\n",
       "      <td>GRP_0</td>\n",
       "      <td>login issue verified user details employee man...</td>\n",
       "    </tr>\n",
       "    <tr>\n",
       "      <th>1</th>\n",
       "      <td>outlook</td>\n",
       "      <td>received from hello team my meetings skype mee...</td>\n",
       "      <td>hmjdrvpb komuaywn</td>\n",
       "      <td>GRP_0</td>\n",
       "      <td>outlook received from hello team my meetings s...</td>\n",
       "    </tr>\n",
       "    <tr>\n",
       "      <th>2</th>\n",
       "      <td>cant log in to vpn</td>\n",
       "      <td>received from hi i cannot log on to vpn best</td>\n",
       "      <td>eylqgodm ybqkwiam</td>\n",
       "      <td>GRP_0</td>\n",
       "      <td>cant log in to vpn received from hi i cannot l...</td>\n",
       "    </tr>\n",
       "    <tr>\n",
       "      <th>3</th>\n",
       "      <td>unable to access hr tool page</td>\n",
       "      <td>unable to access hr tool page</td>\n",
       "      <td>xbkucsvz gcpydteq</td>\n",
       "      <td>GRP_0</td>\n",
       "      <td>unable to access hr tool page unable to access...</td>\n",
       "    </tr>\n",
       "    <tr>\n",
       "      <th>4</th>\n",
       "      <td>skype error</td>\n",
       "      <td>skype error</td>\n",
       "      <td>owlgqjme qhcozdfx</td>\n",
       "      <td>GRP_0</td>\n",
       "      <td>skype error skype error</td>\n",
       "    </tr>\n",
       "  </tbody>\n",
       "</table>\n",
       "</div>"
      ],
      "text/plain": [
       "               Short description  \\\n",
       "0                    login issue   \n",
       "1                        outlook   \n",
       "2             cant log in to vpn   \n",
       "3  unable to access hr tool page   \n",
       "4                    skype error   \n",
       "\n",
       "                                         Description             Caller  \\\n",
       "0  verified user details employee manager name ch...  spxjnwir pjlcoqds   \n",
       "1  received from hello team my meetings skype mee...  hmjdrvpb komuaywn   \n",
       "2       received from hi i cannot log on to vpn best  eylqgodm ybqkwiam   \n",
       "3                      unable to access hr tool page  xbkucsvz gcpydteq   \n",
       "4                                        skype error  owlgqjme qhcozdfx   \n",
       "\n",
       "  Assignment group                                              Total  \n",
       "0            GRP_0  login issue verified user details employee man...  \n",
       "1            GRP_0  outlook received from hello team my meetings s...  \n",
       "2            GRP_0  cant log in to vpn received from hi i cannot l...  \n",
       "3            GRP_0  unable to access hr tool page unable to access...  \n",
       "4            GRP_0                            skype error skype error  "
      ]
     },
     "execution_count": 125,
     "metadata": {},
     "output_type": "execute_result"
    }
   ],
   "source": [
    "new_df.head()"
   ]
  },
  {
   "cell_type": "markdown",
   "metadata": {},
   "source": [
    "Comments: As seen in case 4, there is duplication and this needs to be removed"
   ]
  },
  {
   "cell_type": "code",
   "execution_count": 126,
   "metadata": {},
   "outputs": [],
   "source": [
    "new_df[\"Total\"] = new_df[\"Total\"].apply(lambda x: ' '.join(pd.unique(x.split()))) # removing duplicates"
   ]
  },
  {
   "cell_type": "code",
   "execution_count": 127,
   "metadata": {},
   "outputs": [
    {
     "data": {
      "text/html": [
       "<div>\n",
       "<style scoped>\n",
       "    .dataframe tbody tr th:only-of-type {\n",
       "        vertical-align: middle;\n",
       "    }\n",
       "\n",
       "    .dataframe tbody tr th {\n",
       "        vertical-align: top;\n",
       "    }\n",
       "\n",
       "    .dataframe thead th {\n",
       "        text-align: right;\n",
       "    }\n",
       "</style>\n",
       "<table border=\"1\" class=\"dataframe\">\n",
       "  <thead>\n",
       "    <tr style=\"text-align: right;\">\n",
       "      <th></th>\n",
       "      <th>Short description</th>\n",
       "      <th>Description</th>\n",
       "      <th>Caller</th>\n",
       "      <th>Assignment group</th>\n",
       "      <th>Total</th>\n",
       "    </tr>\n",
       "  </thead>\n",
       "  <tbody>\n",
       "    <tr>\n",
       "      <th>0</th>\n",
       "      <td>login issue</td>\n",
       "      <td>verified user details employee manager name ch...</td>\n",
       "      <td>spxjnwir pjlcoqds</td>\n",
       "      <td>GRP_0</td>\n",
       "      <td>login issue verified user details employee man...</td>\n",
       "    </tr>\n",
       "    <tr>\n",
       "      <th>1</th>\n",
       "      <td>outlook</td>\n",
       "      <td>received from hello team my meetings skype mee...</td>\n",
       "      <td>hmjdrvpb komuaywn</td>\n",
       "      <td>GRP_0</td>\n",
       "      <td>outlook received from hello team my meetings s...</td>\n",
       "    </tr>\n",
       "    <tr>\n",
       "      <th>2</th>\n",
       "      <td>cant log in to vpn</td>\n",
       "      <td>received from hi i cannot log on to vpn best</td>\n",
       "      <td>eylqgodm ybqkwiam</td>\n",
       "      <td>GRP_0</td>\n",
       "      <td>cant log in to vpn received from hi i cannot o...</td>\n",
       "    </tr>\n",
       "    <tr>\n",
       "      <th>3</th>\n",
       "      <td>unable to access hr tool page</td>\n",
       "      <td>unable to access hr tool page</td>\n",
       "      <td>xbkucsvz gcpydteq</td>\n",
       "      <td>GRP_0</td>\n",
       "      <td>unable to access hr tool page</td>\n",
       "    </tr>\n",
       "    <tr>\n",
       "      <th>4</th>\n",
       "      <td>skype error</td>\n",
       "      <td>skype error</td>\n",
       "      <td>owlgqjme qhcozdfx</td>\n",
       "      <td>GRP_0</td>\n",
       "      <td>skype error</td>\n",
       "    </tr>\n",
       "  </tbody>\n",
       "</table>\n",
       "</div>"
      ],
      "text/plain": [
       "               Short description  \\\n",
       "0                    login issue   \n",
       "1                        outlook   \n",
       "2             cant log in to vpn   \n",
       "3  unable to access hr tool page   \n",
       "4                    skype error   \n",
       "\n",
       "                                         Description             Caller  \\\n",
       "0  verified user details employee manager name ch...  spxjnwir pjlcoqds   \n",
       "1  received from hello team my meetings skype mee...  hmjdrvpb komuaywn   \n",
       "2       received from hi i cannot log on to vpn best  eylqgodm ybqkwiam   \n",
       "3                      unable to access hr tool page  xbkucsvz gcpydteq   \n",
       "4                                        skype error  owlgqjme qhcozdfx   \n",
       "\n",
       "  Assignment group                                              Total  \n",
       "0            GRP_0  login issue verified user details employee man...  \n",
       "1            GRP_0  outlook received from hello team my meetings s...  \n",
       "2            GRP_0  cant log in to vpn received from hi i cannot o...  \n",
       "3            GRP_0                      unable to access hr tool page  \n",
       "4            GRP_0                                        skype error  "
      ]
     },
     "execution_count": 127,
     "metadata": {},
     "output_type": "execute_result"
    }
   ],
   "source": [
    "new_df.head()"
   ]
  },
  {
   "cell_type": "markdown",
   "metadata": {},
   "source": [
    "# Lemmatization\n",
    "\n",
    "We are using spaCY for this given that it also takes of POS and works well on cleaned data"
   ]
  },
  {
   "cell_type": "code",
   "execution_count": 128,
   "metadata": {},
   "outputs": [
    {
     "name": "stdout",
     "output_type": "stream",
     "text": [
      "Requirement already satisfied: spacy in c:\\programdata\\anaconda3\\lib\\site-packages (2.2.4)\n",
      "Requirement already satisfied: cymem<2.1.0,>=2.0.2 in c:\\programdata\\anaconda3\\lib\\site-packages (from spacy) (2.0.3)\n",
      "Requirement already satisfied: catalogue<1.1.0,>=0.0.7 in c:\\programdata\\anaconda3\\lib\\site-packages (from spacy) (1.0.0)\n",
      "Requirement already satisfied: thinc==7.4.0 in c:\\programdata\\anaconda3\\lib\\site-packages (from spacy) (7.4.0)\n",
      "Requirement already satisfied: blis<0.5.0,>=0.4.0 in c:\\programdata\\anaconda3\\lib\\site-packages (from spacy) (0.4.1)\n",
      "Requirement already satisfied: preshed<3.1.0,>=3.0.2 in c:\\programdata\\anaconda3\\lib\\site-packages (from spacy) (3.0.2)\n",
      "Requirement already satisfied: murmurhash<1.1.0,>=0.28.0 in c:\\programdata\\anaconda3\\lib\\site-packages (from spacy) (1.0.2)\n",
      "Requirement already satisfied: wasabi<1.1.0,>=0.4.0 in c:\\programdata\\anaconda3\\lib\\site-packages (from spacy) (0.6.0)\n",
      "Requirement already satisfied: plac<1.2.0,>=0.9.6 in c:\\programdata\\anaconda3\\lib\\site-packages (from spacy) (1.1.3)\n",
      "Requirement already satisfied: setuptools in c:\\programdata\\anaconda3\\lib\\site-packages (from spacy) (40.8.0)\n",
      "Requirement already satisfied: srsly<1.1.0,>=1.0.2 in c:\\programdata\\anaconda3\\lib\\site-packages (from spacy) (1.0.2)\n",
      "Requirement already satisfied: numpy>=1.15.0 in c:\\programdata\\anaconda3\\lib\\site-packages (from spacy) (1.16.2)\n",
      "Requirement already satisfied: tqdm<5.0.0,>=4.38.0 in c:\\programdata\\anaconda3\\lib\\site-packages (from spacy) (4.46.0)\n",
      "Requirement already satisfied: requests<3.0.0,>=2.13.0 in c:\\programdata\\anaconda3\\lib\\site-packages (from spacy) (2.21.0)\n",
      "Requirement already satisfied: importlib-metadata>=0.20; python_version < \"3.8\" in c:\\programdata\\anaconda3\\lib\\site-packages (from catalogue<1.1.0,>=0.0.7->spacy) (1.6.0)\n",
      "Requirement already satisfied: idna<2.9,>=2.5 in c:\\programdata\\anaconda3\\lib\\site-packages (from requests<3.0.0,>=2.13.0->spacy) (2.8)\n",
      "Requirement already satisfied: urllib3<1.25,>=1.21.1 in c:\\programdata\\anaconda3\\lib\\site-packages (from requests<3.0.0,>=2.13.0->spacy) (1.24.1)\n",
      "Requirement already satisfied: chardet<3.1.0,>=3.0.2 in c:\\programdata\\anaconda3\\lib\\site-packages (from requests<3.0.0,>=2.13.0->spacy) (3.0.4)\n",
      "Requirement already satisfied: certifi>=2017.4.17 in c:\\programdata\\anaconda3\\lib\\site-packages (from requests<3.0.0,>=2.13.0->spacy) (2019.11.28)\n",
      "Requirement already satisfied: zipp>=0.5 in c:\\programdata\\anaconda3\\lib\\site-packages (from importlib-metadata>=0.20; python_version < \"3.8\"->catalogue<1.1.0,>=0.0.7->spacy) (3.1.0)\n"
     ]
    }
   ],
   "source": [
    "!pip install spacy"
   ]
  },
  {
   "cell_type": "code",
   "execution_count": 129,
   "metadata": {},
   "outputs": [],
   "source": [
    "import spacy"
   ]
  },
  {
   "cell_type": "code",
   "execution_count": 130,
   "metadata": {},
   "outputs": [
    {
     "name": "stdout",
     "output_type": "stream",
     "text": [
      "Requirement already satisfied: en_core_web_sm==2.2.5 from https://github.com/explosion/spacy-models/releases/download/en_core_web_sm-2.2.5/en_core_web_sm-2.2.5.tar.gz#egg=en_core_web_sm==2.2.5 in c:\\programdata\\anaconda3\\lib\\site-packages (2.2.5)\n",
      "Requirement already satisfied: spacy>=2.2.2 in c:\\programdata\\anaconda3\\lib\\site-packages (from en_core_web_sm==2.2.5) (2.2.4)\n",
      "Requirement already satisfied: wasabi<1.1.0,>=0.4.0 in c:\\programdata\\anaconda3\\lib\\site-packages (from spacy>=2.2.2->en_core_web_sm==2.2.5) (0.6.0)\n",
      "Requirement already satisfied: preshed<3.1.0,>=3.0.2 in c:\\programdata\\anaconda3\\lib\\site-packages (from spacy>=2.2.2->en_core_web_sm==2.2.5) (3.0.2)\n",
      "Requirement already satisfied: cymem<2.1.0,>=2.0.2 in c:\\programdata\\anaconda3\\lib\\site-packages (from spacy>=2.2.2->en_core_web_sm==2.2.5) (2.0.3)\n",
      "Requirement already satisfied: setuptools in c:\\programdata\\anaconda3\\lib\\site-packages (from spacy>=2.2.2->en_core_web_sm==2.2.5) (40.8.0)\n",
      "Requirement already satisfied: blis<0.5.0,>=0.4.0 in c:\\programdata\\anaconda3\\lib\\site-packages (from spacy>=2.2.2->en_core_web_sm==2.2.5) (0.4.1)\n",
      "Requirement already satisfied: catalogue<1.1.0,>=0.0.7 in c:\\programdata\\anaconda3\\lib\\site-packages (from spacy>=2.2.2->en_core_web_sm==2.2.5) (1.0.0)\n",
      "Requirement already satisfied: murmurhash<1.1.0,>=0.28.0 in c:\\programdata\\anaconda3\\lib\\site-packages (from spacy>=2.2.2->en_core_web_sm==2.2.5) (1.0.2)\n",
      "Requirement already satisfied: tqdm<5.0.0,>=4.38.0 in c:\\programdata\\anaconda3\\lib\\site-packages (from spacy>=2.2.2->en_core_web_sm==2.2.5) (4.46.0)\n",
      "Requirement already satisfied: plac<1.2.0,>=0.9.6 in c:\\programdata\\anaconda3\\lib\\site-packages (from spacy>=2.2.2->en_core_web_sm==2.2.5) (1.1.3)\n",
      "Requirement already satisfied: numpy>=1.15.0 in c:\\programdata\\anaconda3\\lib\\site-packages (from spacy>=2.2.2->en_core_web_sm==2.2.5) (1.16.2)\n",
      "Requirement already satisfied: requests<3.0.0,>=2.13.0 in c:\\programdata\\anaconda3\\lib\\site-packages (from spacy>=2.2.2->en_core_web_sm==2.2.5) (2.21.0)\n",
      "Requirement already satisfied: thinc==7.4.0 in c:\\programdata\\anaconda3\\lib\\site-packages (from spacy>=2.2.2->en_core_web_sm==2.2.5) (7.4.0)\n",
      "Requirement already satisfied: srsly<1.1.0,>=1.0.2 in c:\\programdata\\anaconda3\\lib\\site-packages (from spacy>=2.2.2->en_core_web_sm==2.2.5) (1.0.2)\n",
      "Requirement already satisfied: importlib-metadata>=0.20; python_version < \"3.8\" in c:\\programdata\\anaconda3\\lib\\site-packages (from catalogue<1.1.0,>=0.0.7->spacy>=2.2.2->en_core_web_sm==2.2.5) (1.6.0)\n",
      "Requirement already satisfied: certifi>=2017.4.17 in c:\\programdata\\anaconda3\\lib\\site-packages (from requests<3.0.0,>=2.13.0->spacy>=2.2.2->en_core_web_sm==2.2.5) (2019.11.28)\n",
      "Requirement already satisfied: urllib3<1.25,>=1.21.1 in c:\\programdata\\anaconda3\\lib\\site-packages (from requests<3.0.0,>=2.13.0->spacy>=2.2.2->en_core_web_sm==2.2.5) (1.24.1)\n",
      "Requirement already satisfied: chardet<3.1.0,>=3.0.2 in c:\\programdata\\anaconda3\\lib\\site-packages (from requests<3.0.0,>=2.13.0->spacy>=2.2.2->en_core_web_sm==2.2.5) (3.0.4)\n",
      "Requirement already satisfied: idna<2.9,>=2.5 in c:\\programdata\\anaconda3\\lib\\site-packages (from requests<3.0.0,>=2.13.0->spacy>=2.2.2->en_core_web_sm==2.2.5) (2.8)\n",
      "Requirement already satisfied: zipp>=0.5 in c:\\programdata\\anaconda3\\lib\\site-packages (from importlib-metadata>=0.20; python_version < \"3.8\"->catalogue<1.1.0,>=0.0.7->spacy>=2.2.2->en_core_web_sm==2.2.5) (3.1.0)\n",
      "[+] Download and installation successful\n",
      "You can now load the model via spacy.load('en_core_web_sm')\n",
      "[x] Couldn't link model to 'en'\n",
      "Creating a symlink in spacy/data failed. Make sure you have the required\n",
      "permissions and try re-running the command as admin, or use a virtualenv. You\n",
      "can still import the model as a module and call its load() method, or create the\n",
      "symlink manually.\n",
      "C:\\ProgramData\\Anaconda3\\lib\\site-packages\\en_core_web_sm -->\n",
      "C:\\ProgramData\\Anaconda3\\lib\\site-packages\\spacy\\data\\en\n",
      "[!] Download successful but linking failed\n",
      "Creating a shortcut link for 'en' didn't work (maybe you don't have admin\n",
      "permissions?), but you can still load the model via its full package name: nlp =\n",
      "spacy.load('en_core_web_sm')\n"
     ]
    },
    {
     "name": "stderr",
     "output_type": "stream",
     "text": [
      "You do not have sufficient privilege to perform this operation.\n"
     ]
    }
   ],
   "source": [
    "import sys\n",
    "!{sys.executable} -m spacy download en"
   ]
  },
  {
   "cell_type": "code",
   "execution_count": 131,
   "metadata": {},
   "outputs": [],
   "source": [
    "# Initialize spacy 'en' medium model, keeping only tagger component needed for lemmatization\n",
    "nlp = spacy.load('en_core_web_sm', disable=['parser', 'ner'])\n",
    "\n",
    "# Define a function to lemmatize the descriptions\n",
    "def lemmatizer(sentence):\n",
    "    # Parse the sentence using the loaded 'en' model object `nlp`\n",
    "    doc = nlp(sentence)\n",
    "    return \" \".join([token.lemma_ for token in doc if token.lemma_ !='-PRON-'])"
   ]
  },
  {
   "cell_type": "code",
   "execution_count": 132,
   "metadata": {},
   "outputs": [
    {
     "name": "stdout",
     "output_type": "stream",
     "text": [
      "\u001b[1mOriginal text:\u001b[0m\n",
      "login issue verified user details employee manager name checked the in ad and reset password advised to check caller confirmed that he was able resolved\n",
      "____________________________________________________________________________________________________\n",
      "\u001b[1mLemmatized text:\u001b[0m\n",
      "login issue verify user detail employee manager name check the in ad and reset password advise to check caller confirm that be able resolve\n"
     ]
    }
   ],
   "source": [
    "# Checking to see how the lemmatizer function has worked for a record\n",
    "print('\\033[1mOriginal text:\\033[0m')\n",
    "print(new_df['Total'][0])\n",
    "print('_'*100)\n",
    "print('\\033[1mLemmatized text:\\033[0m')\n",
    "print(lemmatizer(new_df['Total'][0]))"
   ]
  },
  {
   "cell_type": "code",
   "execution_count": 133,
   "metadata": {},
   "outputs": [
    {
     "data": {
      "text/html": [
       "<div>\n",
       "<style scoped>\n",
       "    .dataframe tbody tr th:only-of-type {\n",
       "        vertical-align: middle;\n",
       "    }\n",
       "\n",
       "    .dataframe tbody tr th {\n",
       "        vertical-align: top;\n",
       "    }\n",
       "\n",
       "    .dataframe thead th {\n",
       "        text-align: right;\n",
       "    }\n",
       "</style>\n",
       "<table border=\"1\" class=\"dataframe\">\n",
       "  <thead>\n",
       "    <tr style=\"text-align: right;\">\n",
       "      <th></th>\n",
       "      <th>Short description</th>\n",
       "      <th>Description</th>\n",
       "      <th>Caller</th>\n",
       "      <th>Assignment group</th>\n",
       "      <th>Total</th>\n",
       "    </tr>\n",
       "  </thead>\n",
       "  <tbody>\n",
       "    <tr>\n",
       "      <th>0</th>\n",
       "      <td>login issue</td>\n",
       "      <td>verified user details employee manager name ch...</td>\n",
       "      <td>spxjnwir pjlcoqds</td>\n",
       "      <td>GRP_0</td>\n",
       "      <td>login issue verify user detail employee manage...</td>\n",
       "    </tr>\n",
       "    <tr>\n",
       "      <th>1</th>\n",
       "      <td>outlook</td>\n",
       "      <td>received from hello team my meetings skype mee...</td>\n",
       "      <td>hmjdrvpb komuaywn</td>\n",
       "      <td>GRP_0</td>\n",
       "      <td>outlook receive from hello team meeting skype ...</td>\n",
       "    </tr>\n",
       "    <tr>\n",
       "      <th>2</th>\n",
       "      <td>cant log in to vpn</td>\n",
       "      <td>received from hi i cannot log on to vpn best</td>\n",
       "      <td>eylqgodm ybqkwiam</td>\n",
       "      <td>GRP_0</td>\n",
       "      <td>can not log in to vpn receive from hi i can no...</td>\n",
       "    </tr>\n",
       "    <tr>\n",
       "      <th>3</th>\n",
       "      <td>unable to access hr tool page</td>\n",
       "      <td>unable to access hr tool page</td>\n",
       "      <td>xbkucsvz gcpydteq</td>\n",
       "      <td>GRP_0</td>\n",
       "      <td>unable to access hr tool page</td>\n",
       "    </tr>\n",
       "    <tr>\n",
       "      <th>4</th>\n",
       "      <td>skype error</td>\n",
       "      <td>skype error</td>\n",
       "      <td>owlgqjme qhcozdfx</td>\n",
       "      <td>GRP_0</td>\n",
       "      <td>skype error</td>\n",
       "    </tr>\n",
       "  </tbody>\n",
       "</table>\n",
       "</div>"
      ],
      "text/plain": [
       "               Short description  \\\n",
       "0                    login issue   \n",
       "1                        outlook   \n",
       "2             cant log in to vpn   \n",
       "3  unable to access hr tool page   \n",
       "4                    skype error   \n",
       "\n",
       "                                         Description             Caller  \\\n",
       "0  verified user details employee manager name ch...  spxjnwir pjlcoqds   \n",
       "1  received from hello team my meetings skype mee...  hmjdrvpb komuaywn   \n",
       "2       received from hi i cannot log on to vpn best  eylqgodm ybqkwiam   \n",
       "3                      unable to access hr tool page  xbkucsvz gcpydteq   \n",
       "4                                        skype error  owlgqjme qhcozdfx   \n",
       "\n",
       "  Assignment group                                              Total  \n",
       "0            GRP_0  login issue verify user detail employee manage...  \n",
       "1            GRP_0  outlook receive from hello team meeting skype ...  \n",
       "2            GRP_0  can not log in to vpn receive from hi i can no...  \n",
       "3            GRP_0                      unable to access hr tool page  \n",
       "4            GRP_0                                        skype error  "
      ]
     },
     "execution_count": 133,
     "metadata": {},
     "output_type": "execute_result"
    }
   ],
   "source": [
    "# Applying on the database\n",
    "new_df['Total'] = new_df['Total'].apply(lemmatizer)\n",
    "\n",
    "# Verify the data\n",
    "new_df.head()"
   ]
  },
  {
   "cell_type": "markdown",
   "metadata": {},
   "source": [
    "# Preparing list of Stop words"
   ]
  },
  {
   "cell_type": "code",
   "execution_count": 134,
   "metadata": {},
   "outputs": [
    {
     "name": "stdout",
     "output_type": "stream",
     "text": [
      "Requirement already satisfied: nltk in c:\\programdata\\anaconda3\\lib\\site-packages (3.4)\n",
      "Requirement already satisfied: six in c:\\programdata\\anaconda3\\lib\\site-packages (from nltk) (1.12.0)\n",
      "Requirement already satisfied: singledispatch in c:\\programdata\\anaconda3\\lib\\site-packages (from nltk) (3.4.0.3)\n"
     ]
    },
    {
     "name": "stderr",
     "output_type": "stream",
     "text": [
      "[nltk_data] Downloading package stopwords to\n",
      "[nltk_data]     C:\\Users\\shiv\\AppData\\Roaming\\nltk_data...\n",
      "[nltk_data]   Package stopwords is already up-to-date!\n"
     ]
    }
   ],
   "source": [
    "!pip install nltk\n",
    "import nltk as nltk\n",
    "from nltk.corpus import stopwords\n",
    "nltk.download('stopwords')\n",
    "from nltk.tokenize import word_tokenize"
   ]
  },
  {
   "cell_type": "code",
   "execution_count": 135,
   "metadata": {},
   "outputs": [
    {
     "data": {
      "text/plain": [
       "179"
      ]
     },
     "execution_count": 135,
     "metadata": {},
     "output_type": "execute_result"
    }
   ],
   "source": [
    "allstp=np.array(stopwords.words('english'))\n",
    "allstp.size"
   ]
  },
  {
   "cell_type": "code",
   "execution_count": 136,
   "metadata": {},
   "outputs": [
    {
     "data": {
      "text/plain": [
       "20"
      ]
     },
     "execution_count": 136,
     "metadata": {},
     "output_type": "execute_result"
    }
   ],
   "source": [
    "#Creating an additional of stopwords that  we see as irrelevant to the modelling inputs\n",
    "new_words=np.array(['yes','hi', 'receive','hello','sir','madam', 'best','morning','evening','afternoon' 'regards','thanks','from','greeting', 'forward','reply','will','please','see','help','able'])\n",
    "new_words.size"
   ]
  },
  {
   "cell_type": "code",
   "execution_count": 137,
   "metadata": {},
   "outputs": [
    {
     "data": {
      "text/plain": [
       "199"
      ]
     },
     "execution_count": 137,
     "metadata": {},
     "output_type": "execute_result"
    }
   ],
   "source": [
    "stopwords=np.concatenate([allstp,new_words]) #Concatenating nltk list and our list of stopwords\n",
    "stopwords.size"
   ]
  },
  {
   "cell_type": "code",
   "execution_count": 153,
   "metadata": {},
   "outputs": [
    {
     "data": {
      "text/plain": [
       "(array([118], dtype=int64),)"
      ]
     },
     "execution_count": 153,
     "metadata": {},
     "output_type": "execute_result"
    }
   ],
   "source": [
    "index_not = np.where(stopwords == 'not') # find index of 'not' in the stopwords\n",
    "index_not"
   ]
  },
  {
   "cell_type": "code",
   "execution_count": 154,
   "metadata": {},
   "outputs": [
    {
     "data": {
      "text/plain": [
       "198"
      ]
     },
     "execution_count": 154,
     "metadata": {},
     "output_type": "execute_result"
    }
   ],
   "source": [
    "final_list=np.delete(stopwords, index_not)\n",
    "final_list.size"
   ]
  },
  {
   "cell_type": "code",
   "execution_count": 155,
   "metadata": {},
   "outputs": [],
   "source": [
    "#the cleaning process below removes the stopwords defined above as a string irrespective of whether it is part of another word. Example: it will remove \"i\" in input as \"i\" is a stopword. Hence, to prevent the same, we will append a space before and after every term to defined as a word\n",
    "final_list1=[]\n",
    "for i in final_list:\n",
    "#     print(\"initial\")\n",
    "#     print(i)\n",
    "    txt=i\n",
    "    txt=\" \"+txt+\" \"\n",
    "    i=txt\n",
    "    final_list1.append(i)\n",
    "#     print(\"final:\")\n",
    "#     print(i)\n",
    "# final_list1"
   ]
  },
  {
   "cell_type": "markdown",
   "metadata": {},
   "source": [
    "## Cleaning usernames and stop words from the descriptions"
   ]
  },
  {
   "cell_type": "code",
   "execution_count": 156,
   "metadata": {},
   "outputs": [
    {
     "name": "stdout",
     "output_type": "stream",
     "text": [
      "['spxjnwir pjlcoqds' 'hmjdrvpb komuaywn' 'eylqgodm ybqkwiam' ...\n",
      " 'bjitvswa yrmugfnq' 'oybwdsgx oxyhwrfz' 'kqvbrspl jyzoklfx']\n"
     ]
    },
    {
     "data": {
      "text/plain": [
       "2950"
      ]
     },
     "execution_count": 156,
     "metadata": {},
     "output_type": "execute_result"
    }
   ],
   "source": [
    "uniq=new_df['Caller'].unique()\n",
    "print(uniq)\n",
    "uniq.size"
   ]
  },
  {
   "cell_type": "code",
   "execution_count": null,
   "metadata": {},
   "outputs": [],
   "source": [
    "## We can use the same command for removing whatever stop words we want. Will append those terms to the uniq array using:\n",
    "## np.append(uniq,stopword)"
   ]
  },
  {
   "cell_type": "code",
   "execution_count": 157,
   "metadata": {},
   "outputs": [
    {
     "data": {
      "text/plain": [
       "3148"
      ]
     },
     "execution_count": 157,
     "metadata": {},
     "output_type": "execute_result"
    }
   ],
   "source": [
    "uniq1=np.concatenate([uniq,final_list1]) #preparing final list of terms that need to be deleted. This includes usernames and stopwords\n",
    "uniq1.size"
   ]
  },
  {
   "cell_type": "code",
   "execution_count": 158,
   "metadata": {},
   "outputs": [],
   "source": [
    "new_df['Clean Description']=new_df['Total'].copy()"
   ]
  },
  {
   "cell_type": "code",
   "execution_count": 159,
   "metadata": {},
   "outputs": [],
   "source": [
    "# print commands have been commented out due to issues in the IOrate. You can uncomment out the same in case you need the reference\n",
    "s=\" \"\n",
    "for key, value in new_df['Total'].iteritems():\n",
    "    r=value\n",
    "    \n",
    "    if(pd.isnull(value)):\n",
    "        s=''\n",
    "    else:\n",
    "#         print(key)\n",
    "        for u in range(uniq1.size):\n",
    "            if(r.find(uniq1[u])!=-1):\n",
    "            \n",
    "        #print(uniq[u])\n",
    "#                 print('un found: ',uniq1[u])\n",
    "                s = r.replace(uniq1[u],' ')\n",
    "                r=s\n",
    "#                 print('Key: ',key)\n",
    "#                 print('Original string: ',r)\n",
    "#                 print('Revised string: ',s)\n",
    "            else:\n",
    "                s=r\n",
    "#     print(key)\n",
    "#     print(r)\n",
    "#     print(s)\n",
    "    new_df.at[key,'Clean Description']= s\n",
    "#     print(key)"
   ]
  },
  {
   "cell_type": "code",
   "execution_count": 160,
   "metadata": {},
   "outputs": [
    {
     "data": {
      "text/html": [
       "<div>\n",
       "<style scoped>\n",
       "    .dataframe tbody tr th:only-of-type {\n",
       "        vertical-align: middle;\n",
       "    }\n",
       "\n",
       "    .dataframe tbody tr th {\n",
       "        vertical-align: top;\n",
       "    }\n",
       "\n",
       "    .dataframe thead th {\n",
       "        text-align: right;\n",
       "    }\n",
       "</style>\n",
       "<table border=\"1\" class=\"dataframe\">\n",
       "  <thead>\n",
       "    <tr style=\"text-align: right;\">\n",
       "      <th></th>\n",
       "      <th>Short description</th>\n",
       "      <th>Description</th>\n",
       "      <th>Caller</th>\n",
       "      <th>Assignment group</th>\n",
       "      <th>Total</th>\n",
       "      <th>Clean Description</th>\n",
       "      <th>Column B</th>\n",
       "      <th>Column C</th>\n",
       "    </tr>\n",
       "  </thead>\n",
       "  <tbody>\n",
       "    <tr>\n",
       "      <th>0</th>\n",
       "      <td>login issue</td>\n",
       "      <td>verified user details employee manager name ch...</td>\n",
       "      <td>spxjnwir pjlcoqds</td>\n",
       "      <td>GRP_0</td>\n",
       "      <td>login issue verify user detail employee manage...</td>\n",
       "      <td>login issue verify user detail employee manage...</td>\n",
       "      <td>(user, check, reset, caller, confirm, login, v...</td>\n",
       "      <td>10327</td>\n",
       "    </tr>\n",
       "    <tr>\n",
       "      <th>1</th>\n",
       "      <td>outlook</td>\n",
       "      <td>received from hello team my meetings skype mee...</td>\n",
       "      <td>hmjdrvpb komuaywn</td>\n",
       "      <td>GRP_0</td>\n",
       "      <td>outlook receive from hello team meeting skype ...</td>\n",
       "      <td>outlook team meeting skype etc not appear cale...</td>\n",
       "      <td>(user, check, reset, caller, confirm, login, v...</td>\n",
       "      <td>10327</td>\n",
       "    </tr>\n",
       "    <tr>\n",
       "      <th>2</th>\n",
       "      <td>cant log in to vpn</td>\n",
       "      <td>received from hi i cannot log on to vpn best</td>\n",
       "      <td>eylqgodm ybqkwiam</td>\n",
       "      <td>GRP_0</td>\n",
       "      <td>can not log in to vpn receive from hi i can no...</td>\n",
       "      <td>can not log vpn not best</td>\n",
       "      <td>(user, check, reset, caller, confirm, login, v...</td>\n",
       "      <td>10327</td>\n",
       "    </tr>\n",
       "    <tr>\n",
       "      <th>3</th>\n",
       "      <td>unable to access hr tool page</td>\n",
       "      <td>unable to access hr tool page</td>\n",
       "      <td>xbkucsvz gcpydteq</td>\n",
       "      <td>GRP_0</td>\n",
       "      <td>unable to access hr tool page</td>\n",
       "      <td>unable access hr tool page</td>\n",
       "      <td>(user, check, reset, caller, confirm, login, v...</td>\n",
       "      <td>10327</td>\n",
       "    </tr>\n",
       "    <tr>\n",
       "      <th>4</th>\n",
       "      <td>skype error</td>\n",
       "      <td>skype error</td>\n",
       "      <td>owlgqjme qhcozdfx</td>\n",
       "      <td>GRP_0</td>\n",
       "      <td>skype error</td>\n",
       "      <td>skype error</td>\n",
       "      <td>(user, check, reset, caller, confirm, login, v...</td>\n",
       "      <td>10327</td>\n",
       "    </tr>\n",
       "  </tbody>\n",
       "</table>\n",
       "</div>"
      ],
      "text/plain": [
       "               Short description  \\\n",
       "0                    login issue   \n",
       "1                        outlook   \n",
       "2             cant log in to vpn   \n",
       "3  unable to access hr tool page   \n",
       "4                    skype error   \n",
       "\n",
       "                                         Description             Caller  \\\n",
       "0  verified user details employee manager name ch...  spxjnwir pjlcoqds   \n",
       "1  received from hello team my meetings skype mee...  hmjdrvpb komuaywn   \n",
       "2       received from hi i cannot log on to vpn best  eylqgodm ybqkwiam   \n",
       "3                      unable to access hr tool page  xbkucsvz gcpydteq   \n",
       "4                                        skype error  owlgqjme qhcozdfx   \n",
       "\n",
       "  Assignment group                                              Total  \\\n",
       "0            GRP_0  login issue verify user detail employee manage...   \n",
       "1            GRP_0  outlook receive from hello team meeting skype ...   \n",
       "2            GRP_0  can not log in to vpn receive from hi i can no...   \n",
       "3            GRP_0                      unable to access hr tool page   \n",
       "4            GRP_0                                        skype error   \n",
       "\n",
       "                                   Clean Description  \\\n",
       "0  login issue verify user detail employee manage...   \n",
       "1  outlook team meeting skype etc not appear cale...   \n",
       "2                           can not log vpn not best   \n",
       "3                         unable access hr tool page   \n",
       "4                                        skype error   \n",
       "\n",
       "                                            Column B  Column C  \n",
       "0  (user, check, reset, caller, confirm, login, v...     10327  \n",
       "1  (user, check, reset, caller, confirm, login, v...     10327  \n",
       "2  (user, check, reset, caller, confirm, login, v...     10327  \n",
       "3  (user, check, reset, caller, confirm, login, v...     10327  \n",
       "4  (user, check, reset, caller, confirm, login, v...     10327  "
      ]
     },
     "execution_count": 160,
     "metadata": {},
     "output_type": "execute_result"
    }
   ],
   "source": [
    "new_df.head()"
   ]
  },
  {
   "cell_type": "markdown",
   "metadata": {},
   "source": [
    "Comments: Now the Column \"Clean Description\" has completely clean data where all the stop words, names of people removed and we can explore this data"
   ]
  },
  {
   "cell_type": "markdown",
   "metadata": {},
   "source": [
    "# EDA on Description"
   ]
  },
  {
   "cell_type": "markdown",
   "metadata": {},
   "source": [
    "Lets understand the total number of words in the corpus"
   ]
  },
  {
   "cell_type": "code",
   "execution_count": 161,
   "metadata": {},
   "outputs": [],
   "source": [
    "cumulative_words = {}\n",
    "cumulative_column = []\n",
    "\n",
    "for x in new_df[\"Clean Description\"].values:\n",
    "    cumulative_words.update(dict.fromkeys(set(x.lower().split())))\n",
    "    cumulative_column.append(cumulative_words.keys())"
   ]
  },
  {
   "cell_type": "code",
   "execution_count": 162,
   "metadata": {},
   "outputs": [],
   "source": [
    "new_df[\"Column B\"] = cumulative_column\n",
    "new_df[\"Column C\"] = new_df[\"Column B\"].apply(len)"
   ]
  },
  {
   "cell_type": "code",
   "execution_count": 163,
   "metadata": {},
   "outputs": [
    {
     "data": {
      "text/html": [
       "<div>\n",
       "<style scoped>\n",
       "    .dataframe tbody tr th:only-of-type {\n",
       "        vertical-align: middle;\n",
       "    }\n",
       "\n",
       "    .dataframe tbody tr th {\n",
       "        vertical-align: top;\n",
       "    }\n",
       "\n",
       "    .dataframe thead th {\n",
       "        text-align: right;\n",
       "    }\n",
       "</style>\n",
       "<table border=\"1\" class=\"dataframe\">\n",
       "  <thead>\n",
       "    <tr style=\"text-align: right;\">\n",
       "      <th></th>\n",
       "      <th>Short description</th>\n",
       "      <th>Description</th>\n",
       "      <th>Caller</th>\n",
       "      <th>Assignment group</th>\n",
       "      <th>Total</th>\n",
       "      <th>Clean Description</th>\n",
       "      <th>Column B</th>\n",
       "      <th>Column C</th>\n",
       "    </tr>\n",
       "  </thead>\n",
       "  <tbody>\n",
       "    <tr>\n",
       "      <th>0</th>\n",
       "      <td>login issue</td>\n",
       "      <td>verified user details employee manager name ch...</td>\n",
       "      <td>spxjnwir pjlcoqds</td>\n",
       "      <td>GRP_0</td>\n",
       "      <td>login issue verify user detail employee manage...</td>\n",
       "      <td>login issue verify user detail employee manage...</td>\n",
       "      <td>(user, check, reset, caller, confirm, login, v...</td>\n",
       "      <td>10327</td>\n",
       "    </tr>\n",
       "    <tr>\n",
       "      <th>1</th>\n",
       "      <td>outlook</td>\n",
       "      <td>received from hello team my meetings skype mee...</td>\n",
       "      <td>hmjdrvpb komuaywn</td>\n",
       "      <td>GRP_0</td>\n",
       "      <td>outlook receive from hello team meeting skype ...</td>\n",
       "      <td>outlook team meeting skype etc not appear cale...</td>\n",
       "      <td>(user, check, reset, caller, confirm, login, v...</td>\n",
       "      <td>10327</td>\n",
       "    </tr>\n",
       "    <tr>\n",
       "      <th>2</th>\n",
       "      <td>cant log in to vpn</td>\n",
       "      <td>received from hi i cannot log on to vpn best</td>\n",
       "      <td>eylqgodm ybqkwiam</td>\n",
       "      <td>GRP_0</td>\n",
       "      <td>can not log in to vpn receive from hi i can no...</td>\n",
       "      <td>can not log vpn not best</td>\n",
       "      <td>(user, check, reset, caller, confirm, login, v...</td>\n",
       "      <td>10327</td>\n",
       "    </tr>\n",
       "    <tr>\n",
       "      <th>3</th>\n",
       "      <td>unable to access hr tool page</td>\n",
       "      <td>unable to access hr tool page</td>\n",
       "      <td>xbkucsvz gcpydteq</td>\n",
       "      <td>GRP_0</td>\n",
       "      <td>unable to access hr tool page</td>\n",
       "      <td>unable access hr tool page</td>\n",
       "      <td>(user, check, reset, caller, confirm, login, v...</td>\n",
       "      <td>10327</td>\n",
       "    </tr>\n",
       "    <tr>\n",
       "      <th>4</th>\n",
       "      <td>skype error</td>\n",
       "      <td>skype error</td>\n",
       "      <td>owlgqjme qhcozdfx</td>\n",
       "      <td>GRP_0</td>\n",
       "      <td>skype error</td>\n",
       "      <td>skype error</td>\n",
       "      <td>(user, check, reset, caller, confirm, login, v...</td>\n",
       "      <td>10327</td>\n",
       "    </tr>\n",
       "  </tbody>\n",
       "</table>\n",
       "</div>"
      ],
      "text/plain": [
       "               Short description  \\\n",
       "0                    login issue   \n",
       "1                        outlook   \n",
       "2             cant log in to vpn   \n",
       "3  unable to access hr tool page   \n",
       "4                    skype error   \n",
       "\n",
       "                                         Description             Caller  \\\n",
       "0  verified user details employee manager name ch...  spxjnwir pjlcoqds   \n",
       "1  received from hello team my meetings skype mee...  hmjdrvpb komuaywn   \n",
       "2       received from hi i cannot log on to vpn best  eylqgodm ybqkwiam   \n",
       "3                      unable to access hr tool page  xbkucsvz gcpydteq   \n",
       "4                                        skype error  owlgqjme qhcozdfx   \n",
       "\n",
       "  Assignment group                                              Total  \\\n",
       "0            GRP_0  login issue verify user detail employee manage...   \n",
       "1            GRP_0  outlook receive from hello team meeting skype ...   \n",
       "2            GRP_0  can not log in to vpn receive from hi i can no...   \n",
       "3            GRP_0                      unable to access hr tool page   \n",
       "4            GRP_0                                        skype error   \n",
       "\n",
       "                                   Clean Description  \\\n",
       "0  login issue verify user detail employee manage...   \n",
       "1  outlook team meeting skype etc not appear cale...   \n",
       "2                           can not log vpn not best   \n",
       "3                         unable access hr tool page   \n",
       "4                                        skype error   \n",
       "\n",
       "                                            Column B  Column C  \n",
       "0  (user, check, reset, caller, confirm, login, v...     10327  \n",
       "1  (user, check, reset, caller, confirm, login, v...     10327  \n",
       "2  (user, check, reset, caller, confirm, login, v...     10327  \n",
       "3  (user, check, reset, caller, confirm, login, v...     10327  \n",
       "4  (user, check, reset, caller, confirm, login, v...     10327  "
      ]
     },
     "execution_count": 163,
     "metadata": {},
     "output_type": "execute_result"
    }
   ],
   "source": [
    "new_df.head()"
   ]
  },
  {
   "cell_type": "markdown",
   "metadata": {},
   "source": [
    "Comments: We have a total of 10327 unique words in our corpus"
   ]
  },
  {
   "cell_type": "code",
   "execution_count": 175,
   "metadata": {},
   "outputs": [
    {
     "data": {
      "text/html": [
       "<div>\n",
       "<style scoped>\n",
       "    .dataframe tbody tr th:only-of-type {\n",
       "        vertical-align: middle;\n",
       "    }\n",
       "\n",
       "    .dataframe tbody tr th {\n",
       "        vertical-align: top;\n",
       "    }\n",
       "\n",
       "    .dataframe thead th {\n",
       "        text-align: right;\n",
       "    }\n",
       "</style>\n",
       "<table border=\"1\" class=\"dataframe\">\n",
       "  <thead>\n",
       "    <tr style=\"text-align: right;\">\n",
       "      <th></th>\n",
       "      <th>Short description</th>\n",
       "      <th>Description</th>\n",
       "      <th>Caller</th>\n",
       "      <th>Assignment group</th>\n",
       "      <th>Total</th>\n",
       "      <th>Clean Description</th>\n",
       "      <th>New grouping</th>\n",
       "    </tr>\n",
       "  </thead>\n",
       "  <tbody>\n",
       "    <tr>\n",
       "      <th>0</th>\n",
       "      <td>login issue</td>\n",
       "      <td>verified user details employee manager name ch...</td>\n",
       "      <td>spxjnwir pjlcoqds</td>\n",
       "      <td>GRP_0</td>\n",
       "      <td>login issue verify user detail employee manage...</td>\n",
       "      <td>login issue verify user detail employee manage...</td>\n",
       "      <td>GRP_0</td>\n",
       "    </tr>\n",
       "    <tr>\n",
       "      <th>1</th>\n",
       "      <td>outlook</td>\n",
       "      <td>received from hello team my meetings skype mee...</td>\n",
       "      <td>hmjdrvpb komuaywn</td>\n",
       "      <td>GRP_0</td>\n",
       "      <td>outlook receive from hello team meeting skype ...</td>\n",
       "      <td>outlook team meeting skype etc not appear cale...</td>\n",
       "      <td>GRP_0</td>\n",
       "    </tr>\n",
       "    <tr>\n",
       "      <th>2</th>\n",
       "      <td>cant log in to vpn</td>\n",
       "      <td>received from hi i cannot log on to vpn best</td>\n",
       "      <td>eylqgodm ybqkwiam</td>\n",
       "      <td>GRP_0</td>\n",
       "      <td>can not log in to vpn receive from hi i can no...</td>\n",
       "      <td>can not log vpn not best</td>\n",
       "      <td>GRP_0</td>\n",
       "    </tr>\n",
       "    <tr>\n",
       "      <th>3</th>\n",
       "      <td>unable to access hr tool page</td>\n",
       "      <td>unable to access hr tool page</td>\n",
       "      <td>xbkucsvz gcpydteq</td>\n",
       "      <td>GRP_0</td>\n",
       "      <td>unable to access hr tool page</td>\n",
       "      <td>unable access hr tool page</td>\n",
       "      <td>GRP_0</td>\n",
       "    </tr>\n",
       "    <tr>\n",
       "      <th>4</th>\n",
       "      <td>skype error</td>\n",
       "      <td>skype error</td>\n",
       "      <td>owlgqjme qhcozdfx</td>\n",
       "      <td>GRP_0</td>\n",
       "      <td>skype error</td>\n",
       "      <td>skype error</td>\n",
       "      <td>GRP_0</td>\n",
       "    </tr>\n",
       "  </tbody>\n",
       "</table>\n",
       "</div>"
      ],
      "text/plain": [
       "               Short description  \\\n",
       "0                    login issue   \n",
       "1                        outlook   \n",
       "2             cant log in to vpn   \n",
       "3  unable to access hr tool page   \n",
       "4                    skype error   \n",
       "\n",
       "                                         Description             Caller  \\\n",
       "0  verified user details employee manager name ch...  spxjnwir pjlcoqds   \n",
       "1  received from hello team my meetings skype mee...  hmjdrvpb komuaywn   \n",
       "2       received from hi i cannot log on to vpn best  eylqgodm ybqkwiam   \n",
       "3                      unable to access hr tool page  xbkucsvz gcpydteq   \n",
       "4                                        skype error  owlgqjme qhcozdfx   \n",
       "\n",
       "  Assignment group                                              Total  \\\n",
       "0            GRP_0  login issue verify user detail employee manage...   \n",
       "1            GRP_0  outlook receive from hello team meeting skype ...   \n",
       "2            GRP_0  can not log in to vpn receive from hi i can no...   \n",
       "3            GRP_0                      unable to access hr tool page   \n",
       "4            GRP_0                                        skype error   \n",
       "\n",
       "                                   Clean Description New grouping  \n",
       "0  login issue verify user detail employee manage...        GRP_0  \n",
       "1  outlook team meeting skype etc not appear cale...        GRP_0  \n",
       "2                           can not log vpn not best        GRP_0  \n",
       "3                         unable access hr tool page        GRP_0  \n",
       "4                                        skype error        GRP_0  "
      ]
     },
     "execution_count": 175,
     "metadata": {},
     "output_type": "execute_result"
    }
   ],
   "source": [
    "# Dropping the Column B & C\n",
    "new_df=new_df.drop({'Column B','Column C'}, axis=1)\n",
    "new_df.head()\n",
    "\n",
    "#new_df=new_df.drop('Caller',axis=1)\n",
    "#new_df.shape"
   ]
  },
  {
   "cell_type": "markdown",
   "metadata": {},
   "source": [
    "# Understanding n-grams"
   ]
  },
  {
   "cell_type": "code",
   "execution_count": 149,
   "metadata": {},
   "outputs": [
    {
     "name": "stdout",
     "output_type": "stream",
     "text": [
      "Requirement already satisfied: plotly==4.7.1 in c:\\programdata\\anaconda3\\lib\\site-packages (4.7.1)\n",
      "Requirement already satisfied: retrying>=1.3.3 in c:\\programdata\\anaconda3\\lib\\site-packages (from plotly==4.7.1) (1.3.3)\n",
      "Requirement already satisfied: six in c:\\programdata\\anaconda3\\lib\\site-packages (from plotly==4.7.1) (1.12.0)\n",
      "Note: you may need to restart the kernel to use updated packages.\n"
     ]
    }
   ],
   "source": [
    "pip install plotly==4.7.1"
   ]
  },
  {
   "cell_type": "code",
   "execution_count": 150,
   "metadata": {},
   "outputs": [
    {
     "name": "stdout",
     "output_type": "stream",
     "text": [
      "Requirement already satisfied: cufflinks in c:\\programdata\\anaconda3\\lib\\site-packages (0.17.3)\n",
      "Requirement already satisfied: numpy>=1.9.2 in c:\\programdata\\anaconda3\\lib\\site-packages (from cufflinks) (1.16.2)\n",
      "Requirement already satisfied: setuptools>=34.4.1 in c:\\programdata\\anaconda3\\lib\\site-packages (from cufflinks) (40.8.0)\n",
      "Requirement already satisfied: ipython>=5.3.0 in c:\\programdata\\anaconda3\\lib\\site-packages (from cufflinks) (7.4.0)\n",
      "Requirement already satisfied: plotly>=4.1.1 in c:\\programdata\\anaconda3\\lib\\site-packages (from cufflinks) (4.7.1)\n",
      "Requirement already satisfied: ipywidgets>=7.0.0 in c:\\programdata\\anaconda3\\lib\\site-packages (from cufflinks) (7.4.2)\n",
      "Requirement already satisfied: pandas>=0.19.2 in c:\\programdata\\anaconda3\\lib\\site-packages (from cufflinks) (0.24.2)\n",
      "Requirement already satisfied: six>=1.9.0 in c:\\programdata\\anaconda3\\lib\\site-packages (from cufflinks) (1.12.0)\n",
      "Requirement already satisfied: colorlover>=0.2.1 in c:\\programdata\\anaconda3\\lib\\site-packages (from cufflinks) (0.3.0)\n",
      "Requirement already satisfied: backcall in c:\\programdata\\anaconda3\\lib\\site-packages (from ipython>=5.3.0->cufflinks) (0.1.0)\n",
      "Requirement already satisfied: colorama; sys_platform == \"win32\" in c:\\programdata\\anaconda3\\lib\\site-packages (from ipython>=5.3.0->cufflinks) (0.4.1)\n",
      "Requirement already satisfied: pickleshare in c:\\programdata\\anaconda3\\lib\\site-packages (from ipython>=5.3.0->cufflinks) (0.7.5)\n",
      "Requirement already satisfied: traitlets>=4.2 in c:\\programdata\\anaconda3\\lib\\site-packages (from ipython>=5.3.0->cufflinks) (4.3.2)\n",
      "Requirement already satisfied: jedi>=0.10 in c:\\programdata\\anaconda3\\lib\\site-packages (from ipython>=5.3.0->cufflinks) (0.13.3)\n",
      "Requirement already satisfied: pygments in c:\\programdata\\anaconda3\\lib\\site-packages (from ipython>=5.3.0->cufflinks) (2.3.1)\n",
      "Requirement already satisfied: decorator in c:\\programdata\\anaconda3\\lib\\site-packages (from ipython>=5.3.0->cufflinks) (4.4.0)\n",
      "Requirement already satisfied: prompt-toolkit<2.1.0,>=2.0.0 in c:\\programdata\\anaconda3\\lib\\site-packages (from ipython>=5.3.0->cufflinks) (2.0.9)\n",
      "Requirement already satisfied: retrying>=1.3.3 in c:\\programdata\\anaconda3\\lib\\site-packages (from plotly>=4.1.1->cufflinks) (1.3.3)\n",
      "Requirement already satisfied: nbformat>=4.2.0 in c:\\programdata\\anaconda3\\lib\\site-packages (from ipywidgets>=7.0.0->cufflinks) (4.4.0)\n",
      "Requirement already satisfied: ipykernel>=4.5.1 in c:\\programdata\\anaconda3\\lib\\site-packages (from ipywidgets>=7.0.0->cufflinks) (5.1.0)\n",
      "Requirement already satisfied: widgetsnbextension~=3.4.0 in c:\\programdata\\anaconda3\\lib\\site-packages (from ipywidgets>=7.0.0->cufflinks) (3.4.2)\n",
      "Requirement already satisfied: python-dateutil>=2.5.0 in c:\\programdata\\anaconda3\\lib\\site-packages (from pandas>=0.19.2->cufflinks) (2.8.0)\n",
      "Requirement already satisfied: pytz>=2011k in c:\\programdata\\anaconda3\\lib\\site-packages (from pandas>=0.19.2->cufflinks) (2018.9)\n",
      "Requirement already satisfied: ipython-genutils in c:\\programdata\\anaconda3\\lib\\site-packages (from traitlets>=4.2->ipython>=5.3.0->cufflinks) (0.2.0)\n",
      "Requirement already satisfied: parso>=0.3.0 in c:\\programdata\\anaconda3\\lib\\site-packages (from jedi>=0.10->ipython>=5.3.0->cufflinks) (0.3.4)\n",
      "Requirement already satisfied: wcwidth in c:\\programdata\\anaconda3\\lib\\site-packages (from prompt-toolkit<2.1.0,>=2.0.0->ipython>=5.3.0->cufflinks) (0.1.7)\n",
      "Requirement already satisfied: jupyter-core in c:\\programdata\\anaconda3\\lib\\site-packages (from nbformat>=4.2.0->ipywidgets>=7.0.0->cufflinks) (4.4.0)\n",
      "Requirement already satisfied: jsonschema!=2.5.0,>=2.4 in c:\\programdata\\anaconda3\\lib\\site-packages (from nbformat>=4.2.0->ipywidgets>=7.0.0->cufflinks) (3.0.1)\n",
      "Requirement already satisfied: jupyter-client in c:\\programdata\\anaconda3\\lib\\site-packages (from ipykernel>=4.5.1->ipywidgets>=7.0.0->cufflinks) (5.2.4)\n",
      "Requirement already satisfied: tornado>=4.2 in c:\\programdata\\anaconda3\\lib\\site-packages (from ipykernel>=4.5.1->ipywidgets>=7.0.0->cufflinks) (6.0.2)\n",
      "Requirement already satisfied: notebook>=4.4.1 in c:\\programdata\\anaconda3\\lib\\site-packages (from widgetsnbextension~=3.4.0->ipywidgets>=7.0.0->cufflinks) (5.7.8)\n",
      "Requirement already satisfied: attrs>=17.4.0 in c:\\programdata\\anaconda3\\lib\\site-packages (from jsonschema!=2.5.0,>=2.4->nbformat>=4.2.0->ipywidgets>=7.0.0->cufflinks) (19.1.0)\n",
      "Requirement already satisfied: pyrsistent>=0.14.0 in c:\\programdata\\anaconda3\\lib\\site-packages (from jsonschema!=2.5.0,>=2.4->nbformat>=4.2.0->ipywidgets>=7.0.0->cufflinks) (0.14.11)\n",
      "Requirement already satisfied: pyzmq>=13 in c:\\programdata\\anaconda3\\lib\\site-packages (from jupyter-client->ipykernel>=4.5.1->ipywidgets>=7.0.0->cufflinks) (18.0.0)\n",
      "Requirement already satisfied: prometheus-client in c:\\programdata\\anaconda3\\lib\\site-packages (from notebook>=4.4.1->widgetsnbextension~=3.4.0->ipywidgets>=7.0.0->cufflinks) (0.6.0)\n",
      "Requirement already satisfied: nbconvert in c:\\programdata\\anaconda3\\lib\\site-packages (from notebook>=4.4.1->widgetsnbextension~=3.4.0->ipywidgets>=7.0.0->cufflinks) (5.4.1)\n",
      "Requirement already satisfied: Send2Trash in c:\\programdata\\anaconda3\\lib\\site-packages (from notebook>=4.4.1->widgetsnbextension~=3.4.0->ipywidgets>=7.0.0->cufflinks) (1.5.0)\n",
      "Requirement already satisfied: jinja2 in c:\\programdata\\anaconda3\\lib\\site-packages (from notebook>=4.4.1->widgetsnbextension~=3.4.0->ipywidgets>=7.0.0->cufflinks) (2.10)\n",
      "Requirement already satisfied: terminado>=0.8.1 in c:\\programdata\\anaconda3\\lib\\site-packages (from notebook>=4.4.1->widgetsnbextension~=3.4.0->ipywidgets>=7.0.0->cufflinks) (0.8.1)\n",
      "Requirement already satisfied: mistune>=0.8.1 in c:\\programdata\\anaconda3\\lib\\site-packages (from nbconvert->notebook>=4.4.1->widgetsnbextension~=3.4.0->ipywidgets>=7.0.0->cufflinks) (0.8.4)\n",
      "Requirement already satisfied: entrypoints>=0.2.2 in c:\\programdata\\anaconda3\\lib\\site-packages (from nbconvert->notebook>=4.4.1->widgetsnbextension~=3.4.0->ipywidgets>=7.0.0->cufflinks) (0.3)\n",
      "Requirement already satisfied: bleach in c:\\programdata\\anaconda3\\lib\\site-packages (from nbconvert->notebook>=4.4.1->widgetsnbextension~=3.4.0->ipywidgets>=7.0.0->cufflinks) (3.1.0)\n",
      "Requirement already satisfied: pandocfilters>=1.4.1 in c:\\programdata\\anaconda3\\lib\\site-packages (from nbconvert->notebook>=4.4.1->widgetsnbextension~=3.4.0->ipywidgets>=7.0.0->cufflinks) (1.4.2)\n",
      "Requirement already satisfied: testpath in c:\\programdata\\anaconda3\\lib\\site-packages (from nbconvert->notebook>=4.4.1->widgetsnbextension~=3.4.0->ipywidgets>=7.0.0->cufflinks) (0.4.2)\n",
      "Requirement already satisfied: defusedxml in c:\\programdata\\anaconda3\\lib\\site-packages (from nbconvert->notebook>=4.4.1->widgetsnbextension~=3.4.0->ipywidgets>=7.0.0->cufflinks) (0.5.0)\n",
      "Requirement already satisfied: MarkupSafe>=0.23 in c:\\programdata\\anaconda3\\lib\\site-packages (from jinja2->notebook>=4.4.1->widgetsnbextension~=3.4.0->ipywidgets>=7.0.0->cufflinks) (1.1.1)\n",
      "Requirement already satisfied: webencodings in c:\\programdata\\anaconda3\\lib\\site-packages (from bleach->nbconvert->notebook>=4.4.1->widgetsnbextension~=3.4.0->ipywidgets>=7.0.0->cufflinks) (0.5.1)\n",
      "Note: you may need to restart the kernel to use updated packages.\n"
     ]
    }
   ],
   "source": [
    "pip install cufflinks"
   ]
  },
  {
   "cell_type": "code",
   "execution_count": 151,
   "metadata": {},
   "outputs": [
    {
     "data": {
      "text/html": [
       "        <script type=\"text/javascript\">\n",
       "        window.PlotlyConfig = {MathJaxConfig: 'local'};\n",
       "        if (window.MathJax) {MathJax.Hub.Config({SVG: {font: \"STIX-Web\"}});}\n",
       "        if (typeof require !== 'undefined') {\n",
       "        require.undef(\"plotly\");\n",
       "        requirejs.config({\n",
       "            paths: {\n",
       "                'plotly': ['https://cdn.plot.ly/plotly-latest.min']\n",
       "            }\n",
       "        });\n",
       "        require(['plotly'], function(Plotly) {\n",
       "            window._Plotly = Plotly;\n",
       "        });\n",
       "        }\n",
       "        </script>\n",
       "        "
      ]
     },
     "metadata": {},
     "output_type": "display_data"
    }
   ],
   "source": [
    "from sklearn.feature_extraction.text import CountVectorizer\n",
    "from sklearn.feature_extraction.text import TfidfVectorizer\n",
    "import matplotlib\n",
    "import matplotlib.pyplot as plt\n",
    "import seaborn as sns\n",
    "import cufflinks\n",
    "import plotly as py\n",
    "import plotly.graph_objs as go\n",
    "import plotly.figure_factory as ff\n",
    "from plotly.offline import download_plotlyjs, init_notebook_mode, plot, iplot\n",
    "cufflinks.go_offline()\n",
    "cufflinks.set_config_file(world_readable=True, theme='pearl')"
   ]
  },
  {
   "cell_type": "code",
   "execution_count": 166,
   "metadata": {},
   "outputs": [
    {
     "name": "stdout",
     "output_type": "stream",
     "text": [
      "not 2297\n",
      "password 1170\n",
      "erp 1082\n",
      "job 1035\n",
      "tool 1021\n",
      "issue 1015\n",
      "scheduler 969\n",
      "work 950\n",
      "fail 936\n",
      "reset 887\n",
      "user 880\n",
      "unable 880\n",
      "sid 857\n",
      "from 800\n",
      "company 796\n",
      "email 782\n",
      "access 762\n",
      "error 760\n",
      "need 757\n",
      "account 717\n",
      "ticket 666\n",
      "get 639\n",
      "system 591\n",
      "use 586\n",
      "name 525\n"
     ]
    },
    {
     "data": {
      "application/vnd.plotly.v1+json": {
       "config": {
        "linkText": "Export to plot.ly",
        "plotlyServerURL": "https://plot.ly",
        "showLink": true
       },
       "data": [
        {
         "marker": {
          "color": "rgba(255, 153, 51, 0.6)",
          "line": {
           "color": "rgba(255, 153, 51, 1.0)",
           "width": 1
          }
         },
         "name": "count",
         "orientation": "v",
         "text": "",
         "type": "bar",
         "x": [
          "not",
          "password",
          "erp",
          "job",
          "tool",
          "issue",
          "scheduler",
          "work",
          "fail",
          "reset",
          "unable",
          "user",
          "sid",
          "from",
          "company",
          "email",
          "access",
          "error",
          "need",
          "account",
          "ticket",
          "get",
          "system",
          "use",
          "name"
         ],
         "y": [
          2297,
          1170,
          1082,
          1035,
          1021,
          1015,
          969,
          950,
          936,
          887,
          880,
          880,
          857,
          800,
          796,
          782,
          762,
          760,
          757,
          717,
          666,
          639,
          591,
          586,
          525
         ]
        }
       ],
       "layout": {
        "legend": {
         "bgcolor": "#F5F6F9",
         "font": {
          "color": "#4D5663"
         }
        },
        "paper_bgcolor": "#F5F6F9",
        "plot_bgcolor": "#F5F6F9",
        "template": {
         "data": {
          "bar": [
           {
            "error_x": {
             "color": "#2a3f5f"
            },
            "error_y": {
             "color": "#2a3f5f"
            },
            "marker": {
             "line": {
              "color": "#E5ECF6",
              "width": 0.5
             }
            },
            "type": "bar"
           }
          ],
          "barpolar": [
           {
            "marker": {
             "line": {
              "color": "#E5ECF6",
              "width": 0.5
             }
            },
            "type": "barpolar"
           }
          ],
          "carpet": [
           {
            "aaxis": {
             "endlinecolor": "#2a3f5f",
             "gridcolor": "white",
             "linecolor": "white",
             "minorgridcolor": "white",
             "startlinecolor": "#2a3f5f"
            },
            "baxis": {
             "endlinecolor": "#2a3f5f",
             "gridcolor": "white",
             "linecolor": "white",
             "minorgridcolor": "white",
             "startlinecolor": "#2a3f5f"
            },
            "type": "carpet"
           }
          ],
          "choropleth": [
           {
            "colorbar": {
             "outlinewidth": 0,
             "ticks": ""
            },
            "type": "choropleth"
           }
          ],
          "contour": [
           {
            "colorbar": {
             "outlinewidth": 0,
             "ticks": ""
            },
            "colorscale": [
             [
              0,
              "#0d0887"
             ],
             [
              0.1111111111111111,
              "#46039f"
             ],
             [
              0.2222222222222222,
              "#7201a8"
             ],
             [
              0.3333333333333333,
              "#9c179e"
             ],
             [
              0.4444444444444444,
              "#bd3786"
             ],
             [
              0.5555555555555556,
              "#d8576b"
             ],
             [
              0.6666666666666666,
              "#ed7953"
             ],
             [
              0.7777777777777778,
              "#fb9f3a"
             ],
             [
              0.8888888888888888,
              "#fdca26"
             ],
             [
              1,
              "#f0f921"
             ]
            ],
            "type": "contour"
           }
          ],
          "contourcarpet": [
           {
            "colorbar": {
             "outlinewidth": 0,
             "ticks": ""
            },
            "type": "contourcarpet"
           }
          ],
          "heatmap": [
           {
            "colorbar": {
             "outlinewidth": 0,
             "ticks": ""
            },
            "colorscale": [
             [
              0,
              "#0d0887"
             ],
             [
              0.1111111111111111,
              "#46039f"
             ],
             [
              0.2222222222222222,
              "#7201a8"
             ],
             [
              0.3333333333333333,
              "#9c179e"
             ],
             [
              0.4444444444444444,
              "#bd3786"
             ],
             [
              0.5555555555555556,
              "#d8576b"
             ],
             [
              0.6666666666666666,
              "#ed7953"
             ],
             [
              0.7777777777777778,
              "#fb9f3a"
             ],
             [
              0.8888888888888888,
              "#fdca26"
             ],
             [
              1,
              "#f0f921"
             ]
            ],
            "type": "heatmap"
           }
          ],
          "heatmapgl": [
           {
            "colorbar": {
             "outlinewidth": 0,
             "ticks": ""
            },
            "colorscale": [
             [
              0,
              "#0d0887"
             ],
             [
              0.1111111111111111,
              "#46039f"
             ],
             [
              0.2222222222222222,
              "#7201a8"
             ],
             [
              0.3333333333333333,
              "#9c179e"
             ],
             [
              0.4444444444444444,
              "#bd3786"
             ],
             [
              0.5555555555555556,
              "#d8576b"
             ],
             [
              0.6666666666666666,
              "#ed7953"
             ],
             [
              0.7777777777777778,
              "#fb9f3a"
             ],
             [
              0.8888888888888888,
              "#fdca26"
             ],
             [
              1,
              "#f0f921"
             ]
            ],
            "type": "heatmapgl"
           }
          ],
          "histogram": [
           {
            "marker": {
             "colorbar": {
              "outlinewidth": 0,
              "ticks": ""
             }
            },
            "type": "histogram"
           }
          ],
          "histogram2d": [
           {
            "colorbar": {
             "outlinewidth": 0,
             "ticks": ""
            },
            "colorscale": [
             [
              0,
              "#0d0887"
             ],
             [
              0.1111111111111111,
              "#46039f"
             ],
             [
              0.2222222222222222,
              "#7201a8"
             ],
             [
              0.3333333333333333,
              "#9c179e"
             ],
             [
              0.4444444444444444,
              "#bd3786"
             ],
             [
              0.5555555555555556,
              "#d8576b"
             ],
             [
              0.6666666666666666,
              "#ed7953"
             ],
             [
              0.7777777777777778,
              "#fb9f3a"
             ],
             [
              0.8888888888888888,
              "#fdca26"
             ],
             [
              1,
              "#f0f921"
             ]
            ],
            "type": "histogram2d"
           }
          ],
          "histogram2dcontour": [
           {
            "colorbar": {
             "outlinewidth": 0,
             "ticks": ""
            },
            "colorscale": [
             [
              0,
              "#0d0887"
             ],
             [
              0.1111111111111111,
              "#46039f"
             ],
             [
              0.2222222222222222,
              "#7201a8"
             ],
             [
              0.3333333333333333,
              "#9c179e"
             ],
             [
              0.4444444444444444,
              "#bd3786"
             ],
             [
              0.5555555555555556,
              "#d8576b"
             ],
             [
              0.6666666666666666,
              "#ed7953"
             ],
             [
              0.7777777777777778,
              "#fb9f3a"
             ],
             [
              0.8888888888888888,
              "#fdca26"
             ],
             [
              1,
              "#f0f921"
             ]
            ],
            "type": "histogram2dcontour"
           }
          ],
          "mesh3d": [
           {
            "colorbar": {
             "outlinewidth": 0,
             "ticks": ""
            },
            "type": "mesh3d"
           }
          ],
          "parcoords": [
           {
            "line": {
             "colorbar": {
              "outlinewidth": 0,
              "ticks": ""
             }
            },
            "type": "parcoords"
           }
          ],
          "pie": [
           {
            "automargin": true,
            "type": "pie"
           }
          ],
          "scatter": [
           {
            "marker": {
             "colorbar": {
              "outlinewidth": 0,
              "ticks": ""
             }
            },
            "type": "scatter"
           }
          ],
          "scatter3d": [
           {
            "line": {
             "colorbar": {
              "outlinewidth": 0,
              "ticks": ""
             }
            },
            "marker": {
             "colorbar": {
              "outlinewidth": 0,
              "ticks": ""
             }
            },
            "type": "scatter3d"
           }
          ],
          "scattercarpet": [
           {
            "marker": {
             "colorbar": {
              "outlinewidth": 0,
              "ticks": ""
             }
            },
            "type": "scattercarpet"
           }
          ],
          "scattergeo": [
           {
            "marker": {
             "colorbar": {
              "outlinewidth": 0,
              "ticks": ""
             }
            },
            "type": "scattergeo"
           }
          ],
          "scattergl": [
           {
            "marker": {
             "colorbar": {
              "outlinewidth": 0,
              "ticks": ""
             }
            },
            "type": "scattergl"
           }
          ],
          "scattermapbox": [
           {
            "marker": {
             "colorbar": {
              "outlinewidth": 0,
              "ticks": ""
             }
            },
            "type": "scattermapbox"
           }
          ],
          "scatterpolar": [
           {
            "marker": {
             "colorbar": {
              "outlinewidth": 0,
              "ticks": ""
             }
            },
            "type": "scatterpolar"
           }
          ],
          "scatterpolargl": [
           {
            "marker": {
             "colorbar": {
              "outlinewidth": 0,
              "ticks": ""
             }
            },
            "type": "scatterpolargl"
           }
          ],
          "scatterternary": [
           {
            "marker": {
             "colorbar": {
              "outlinewidth": 0,
              "ticks": ""
             }
            },
            "type": "scatterternary"
           }
          ],
          "surface": [
           {
            "colorbar": {
             "outlinewidth": 0,
             "ticks": ""
            },
            "colorscale": [
             [
              0,
              "#0d0887"
             ],
             [
              0.1111111111111111,
              "#46039f"
             ],
             [
              0.2222222222222222,
              "#7201a8"
             ],
             [
              0.3333333333333333,
              "#9c179e"
             ],
             [
              0.4444444444444444,
              "#bd3786"
             ],
             [
              0.5555555555555556,
              "#d8576b"
             ],
             [
              0.6666666666666666,
              "#ed7953"
             ],
             [
              0.7777777777777778,
              "#fb9f3a"
             ],
             [
              0.8888888888888888,
              "#fdca26"
             ],
             [
              1,
              "#f0f921"
             ]
            ],
            "type": "surface"
           }
          ],
          "table": [
           {
            "cells": {
             "fill": {
              "color": "#EBF0F8"
             },
             "line": {
              "color": "white"
             }
            },
            "header": {
             "fill": {
              "color": "#C8D4E3"
             },
             "line": {
              "color": "white"
             }
            },
            "type": "table"
           }
          ]
         },
         "layout": {
          "annotationdefaults": {
           "arrowcolor": "#2a3f5f",
           "arrowhead": 0,
           "arrowwidth": 1
          },
          "coloraxis": {
           "colorbar": {
            "outlinewidth": 0,
            "ticks": ""
           }
          },
          "colorscale": {
           "diverging": [
            [
             0,
             "#8e0152"
            ],
            [
             0.1,
             "#c51b7d"
            ],
            [
             0.2,
             "#de77ae"
            ],
            [
             0.3,
             "#f1b6da"
            ],
            [
             0.4,
             "#fde0ef"
            ],
            [
             0.5,
             "#f7f7f7"
            ],
            [
             0.6,
             "#e6f5d0"
            ],
            [
             0.7,
             "#b8e186"
            ],
            [
             0.8,
             "#7fbc41"
            ],
            [
             0.9,
             "#4d9221"
            ],
            [
             1,
             "#276419"
            ]
           ],
           "sequential": [
            [
             0,
             "#0d0887"
            ],
            [
             0.1111111111111111,
             "#46039f"
            ],
            [
             0.2222222222222222,
             "#7201a8"
            ],
            [
             0.3333333333333333,
             "#9c179e"
            ],
            [
             0.4444444444444444,
             "#bd3786"
            ],
            [
             0.5555555555555556,
             "#d8576b"
            ],
            [
             0.6666666666666666,
             "#ed7953"
            ],
            [
             0.7777777777777778,
             "#fb9f3a"
            ],
            [
             0.8888888888888888,
             "#fdca26"
            ],
            [
             1,
             "#f0f921"
            ]
           ],
           "sequentialminus": [
            [
             0,
             "#0d0887"
            ],
            [
             0.1111111111111111,
             "#46039f"
            ],
            [
             0.2222222222222222,
             "#7201a8"
            ],
            [
             0.3333333333333333,
             "#9c179e"
            ],
            [
             0.4444444444444444,
             "#bd3786"
            ],
            [
             0.5555555555555556,
             "#d8576b"
            ],
            [
             0.6666666666666666,
             "#ed7953"
            ],
            [
             0.7777777777777778,
             "#fb9f3a"
            ],
            [
             0.8888888888888888,
             "#fdca26"
            ],
            [
             1,
             "#f0f921"
            ]
           ]
          },
          "colorway": [
           "#636efa",
           "#EF553B",
           "#00cc96",
           "#ab63fa",
           "#FFA15A",
           "#19d3f3",
           "#FF6692",
           "#B6E880",
           "#FF97FF",
           "#FECB52"
          ],
          "font": {
           "color": "#2a3f5f"
          },
          "geo": {
           "bgcolor": "white",
           "lakecolor": "white",
           "landcolor": "#E5ECF6",
           "showlakes": true,
           "showland": true,
           "subunitcolor": "white"
          },
          "hoverlabel": {
           "align": "left"
          },
          "hovermode": "closest",
          "mapbox": {
           "style": "light"
          },
          "paper_bgcolor": "white",
          "plot_bgcolor": "#E5ECF6",
          "polar": {
           "angularaxis": {
            "gridcolor": "white",
            "linecolor": "white",
            "ticks": ""
           },
           "bgcolor": "#E5ECF6",
           "radialaxis": {
            "gridcolor": "white",
            "linecolor": "white",
            "ticks": ""
           }
          },
          "scene": {
           "xaxis": {
            "backgroundcolor": "#E5ECF6",
            "gridcolor": "white",
            "gridwidth": 2,
            "linecolor": "white",
            "showbackground": true,
            "ticks": "",
            "zerolinecolor": "white"
           },
           "yaxis": {
            "backgroundcolor": "#E5ECF6",
            "gridcolor": "white",
            "gridwidth": 2,
            "linecolor": "white",
            "showbackground": true,
            "ticks": "",
            "zerolinecolor": "white"
           },
           "zaxis": {
            "backgroundcolor": "#E5ECF6",
            "gridcolor": "white",
            "gridwidth": 2,
            "linecolor": "white",
            "showbackground": true,
            "ticks": "",
            "zerolinecolor": "white"
           }
          },
          "shapedefaults": {
           "line": {
            "color": "#2a3f5f"
           }
          },
          "ternary": {
           "aaxis": {
            "gridcolor": "white",
            "linecolor": "white",
            "ticks": ""
           },
           "baxis": {
            "gridcolor": "white",
            "linecolor": "white",
            "ticks": ""
           },
           "bgcolor": "#E5ECF6",
           "caxis": {
            "gridcolor": "white",
            "linecolor": "white",
            "ticks": ""
           }
          },
          "title": {
           "x": 0.05
          },
          "xaxis": {
           "automargin": true,
           "gridcolor": "white",
           "linecolor": "white",
           "ticks": "",
           "title": {
            "standoff": 15
           },
           "zerolinecolor": "white",
           "zerolinewidth": 2
          },
          "yaxis": {
           "automargin": true,
           "gridcolor": "white",
           "linecolor": "white",
           "ticks": "",
           "title": {
            "standoff": 15
           },
           "zerolinecolor": "white",
           "zerolinewidth": 2
          }
         }
        },
        "title": {
         "font": {
          "color": "#4D5663"
         },
         "text": "Top 25 Unigrams"
        },
        "xaxis": {
         "gridcolor": "#E1E5ED",
         "linecolor": "black",
         "showgrid": true,
         "tickfont": {
          "color": "#4D5663"
         },
         "title": {
          "font": {
           "color": "#4D5663"
          },
          "text": ""
         },
         "zerolinecolor": "#E1E5ED"
        },
        "yaxis": {
         "gridcolor": "#E1E5ED",
         "linecolor": "black",
         "showgrid": true,
         "tickfont": {
          "color": "#4D5663"
         },
         "title": {
          "font": {
           "color": "#4D5663"
          },
          "text": "Count"
         },
         "zerolinecolor": "#E1E5ED"
        }
       }
      },
      "text/html": [
       "<div>\n",
       "        \n",
       "        \n",
       "            <div id=\"d4d97c08-1b83-4504-984c-2ed7a6d7e942\" class=\"plotly-graph-div\" style=\"height:525px; width:100%;\"></div>\n",
       "            <script type=\"text/javascript\">\n",
       "                require([\"plotly\"], function(Plotly) {\n",
       "                    window.PLOTLYENV=window.PLOTLYENV || {};\n",
       "                    window.PLOTLYENV.BASE_URL='https://plot.ly';\n",
       "                    \n",
       "                if (document.getElementById(\"d4d97c08-1b83-4504-984c-2ed7a6d7e942\")) {\n",
       "                    Plotly.newPlot(\n",
       "                        'd4d97c08-1b83-4504-984c-2ed7a6d7e942',\n",
       "                        [{\"marker\": {\"color\": \"rgba(255, 153, 51, 0.6)\", \"line\": {\"color\": \"rgba(255, 153, 51, 1.0)\", \"width\": 1}}, \"name\": \"count\", \"orientation\": \"v\", \"text\": \"\", \"type\": \"bar\", \"x\": [\"not\", \"password\", \"erp\", \"job\", \"tool\", \"issue\", \"scheduler\", \"work\", \"fail\", \"reset\", \"unable\", \"user\", \"sid\", \"from\", \"company\", \"email\", \"access\", \"error\", \"need\", \"account\", \"ticket\", \"get\", \"system\", \"use\", \"name\"], \"y\": [2297, 1170, 1082, 1035, 1021, 1015, 969, 950, 936, 887, 880, 880, 857, 800, 796, 782, 762, 760, 757, 717, 666, 639, 591, 586, 525]}],\n",
       "                        {\"legend\": {\"bgcolor\": \"#F5F6F9\", \"font\": {\"color\": \"#4D5663\"}}, \"paper_bgcolor\": \"#F5F6F9\", \"plot_bgcolor\": \"#F5F6F9\", \"template\": {\"data\": {\"bar\": [{\"error_x\": {\"color\": \"#2a3f5f\"}, \"error_y\": {\"color\": \"#2a3f5f\"}, \"marker\": {\"line\": {\"color\": \"#E5ECF6\", \"width\": 0.5}}, \"type\": \"bar\"}], \"barpolar\": [{\"marker\": {\"line\": {\"color\": \"#E5ECF6\", \"width\": 0.5}}, \"type\": \"barpolar\"}], \"carpet\": [{\"aaxis\": {\"endlinecolor\": \"#2a3f5f\", \"gridcolor\": \"white\", \"linecolor\": \"white\", \"minorgridcolor\": \"white\", \"startlinecolor\": \"#2a3f5f\"}, \"baxis\": {\"endlinecolor\": \"#2a3f5f\", \"gridcolor\": \"white\", \"linecolor\": \"white\", \"minorgridcolor\": \"white\", \"startlinecolor\": \"#2a3f5f\"}, \"type\": \"carpet\"}], \"choropleth\": [{\"colorbar\": {\"outlinewidth\": 0, \"ticks\": \"\"}, \"type\": \"choropleth\"}], \"contour\": [{\"colorbar\": {\"outlinewidth\": 0, \"ticks\": \"\"}, \"colorscale\": [[0.0, \"#0d0887\"], [0.1111111111111111, \"#46039f\"], [0.2222222222222222, \"#7201a8\"], [0.3333333333333333, \"#9c179e\"], [0.4444444444444444, \"#bd3786\"], [0.5555555555555556, \"#d8576b\"], [0.6666666666666666, \"#ed7953\"], [0.7777777777777778, \"#fb9f3a\"], [0.8888888888888888, \"#fdca26\"], [1.0, \"#f0f921\"]], \"type\": \"contour\"}], \"contourcarpet\": [{\"colorbar\": {\"outlinewidth\": 0, \"ticks\": \"\"}, \"type\": \"contourcarpet\"}], \"heatmap\": [{\"colorbar\": {\"outlinewidth\": 0, \"ticks\": \"\"}, \"colorscale\": [[0.0, \"#0d0887\"], [0.1111111111111111, \"#46039f\"], [0.2222222222222222, \"#7201a8\"], [0.3333333333333333, \"#9c179e\"], [0.4444444444444444, \"#bd3786\"], [0.5555555555555556, \"#d8576b\"], [0.6666666666666666, \"#ed7953\"], [0.7777777777777778, \"#fb9f3a\"], [0.8888888888888888, \"#fdca26\"], [1.0, \"#f0f921\"]], \"type\": \"heatmap\"}], \"heatmapgl\": [{\"colorbar\": {\"outlinewidth\": 0, \"ticks\": \"\"}, \"colorscale\": [[0.0, \"#0d0887\"], [0.1111111111111111, \"#46039f\"], [0.2222222222222222, \"#7201a8\"], [0.3333333333333333, \"#9c179e\"], [0.4444444444444444, \"#bd3786\"], [0.5555555555555556, \"#d8576b\"], [0.6666666666666666, \"#ed7953\"], [0.7777777777777778, \"#fb9f3a\"], [0.8888888888888888, \"#fdca26\"], [1.0, \"#f0f921\"]], \"type\": \"heatmapgl\"}], \"histogram\": [{\"marker\": {\"colorbar\": {\"outlinewidth\": 0, \"ticks\": \"\"}}, \"type\": \"histogram\"}], \"histogram2d\": [{\"colorbar\": {\"outlinewidth\": 0, \"ticks\": \"\"}, \"colorscale\": [[0.0, \"#0d0887\"], [0.1111111111111111, \"#46039f\"], [0.2222222222222222, \"#7201a8\"], [0.3333333333333333, \"#9c179e\"], [0.4444444444444444, \"#bd3786\"], [0.5555555555555556, \"#d8576b\"], [0.6666666666666666, \"#ed7953\"], [0.7777777777777778, \"#fb9f3a\"], [0.8888888888888888, \"#fdca26\"], [1.0, \"#f0f921\"]], \"type\": \"histogram2d\"}], \"histogram2dcontour\": [{\"colorbar\": {\"outlinewidth\": 0, \"ticks\": \"\"}, \"colorscale\": [[0.0, \"#0d0887\"], [0.1111111111111111, \"#46039f\"], [0.2222222222222222, \"#7201a8\"], [0.3333333333333333, \"#9c179e\"], [0.4444444444444444, \"#bd3786\"], [0.5555555555555556, \"#d8576b\"], [0.6666666666666666, \"#ed7953\"], [0.7777777777777778, \"#fb9f3a\"], [0.8888888888888888, \"#fdca26\"], [1.0, \"#f0f921\"]], \"type\": \"histogram2dcontour\"}], \"mesh3d\": [{\"colorbar\": {\"outlinewidth\": 0, \"ticks\": \"\"}, \"type\": \"mesh3d\"}], \"parcoords\": [{\"line\": {\"colorbar\": {\"outlinewidth\": 0, \"ticks\": \"\"}}, \"type\": \"parcoords\"}], \"pie\": [{\"automargin\": true, \"type\": \"pie\"}], \"scatter\": [{\"marker\": {\"colorbar\": {\"outlinewidth\": 0, \"ticks\": \"\"}}, \"type\": \"scatter\"}], \"scatter3d\": [{\"line\": {\"colorbar\": {\"outlinewidth\": 0, \"ticks\": \"\"}}, \"marker\": {\"colorbar\": {\"outlinewidth\": 0, \"ticks\": \"\"}}, \"type\": \"scatter3d\"}], \"scattercarpet\": [{\"marker\": {\"colorbar\": {\"outlinewidth\": 0, \"ticks\": \"\"}}, \"type\": \"scattercarpet\"}], \"scattergeo\": [{\"marker\": {\"colorbar\": {\"outlinewidth\": 0, \"ticks\": \"\"}}, \"type\": \"scattergeo\"}], \"scattergl\": [{\"marker\": {\"colorbar\": {\"outlinewidth\": 0, \"ticks\": \"\"}}, \"type\": \"scattergl\"}], \"scattermapbox\": [{\"marker\": {\"colorbar\": {\"outlinewidth\": 0, \"ticks\": \"\"}}, \"type\": \"scattermapbox\"}], \"scatterpolar\": [{\"marker\": {\"colorbar\": {\"outlinewidth\": 0, \"ticks\": \"\"}}, \"type\": \"scatterpolar\"}], \"scatterpolargl\": [{\"marker\": {\"colorbar\": {\"outlinewidth\": 0, \"ticks\": \"\"}}, \"type\": \"scatterpolargl\"}], \"scatterternary\": [{\"marker\": {\"colorbar\": {\"outlinewidth\": 0, \"ticks\": \"\"}}, \"type\": \"scatterternary\"}], \"surface\": [{\"colorbar\": {\"outlinewidth\": 0, \"ticks\": \"\"}, \"colorscale\": [[0.0, \"#0d0887\"], [0.1111111111111111, \"#46039f\"], [0.2222222222222222, \"#7201a8\"], [0.3333333333333333, \"#9c179e\"], [0.4444444444444444, \"#bd3786\"], [0.5555555555555556, \"#d8576b\"], [0.6666666666666666, \"#ed7953\"], [0.7777777777777778, \"#fb9f3a\"], [0.8888888888888888, \"#fdca26\"], [1.0, \"#f0f921\"]], \"type\": \"surface\"}], \"table\": [{\"cells\": {\"fill\": {\"color\": \"#EBF0F8\"}, \"line\": {\"color\": \"white\"}}, \"header\": {\"fill\": {\"color\": \"#C8D4E3\"}, \"line\": {\"color\": \"white\"}}, \"type\": \"table\"}]}, \"layout\": {\"annotationdefaults\": {\"arrowcolor\": \"#2a3f5f\", \"arrowhead\": 0, \"arrowwidth\": 1}, \"coloraxis\": {\"colorbar\": {\"outlinewidth\": 0, \"ticks\": \"\"}}, \"colorscale\": {\"diverging\": [[0, \"#8e0152\"], [0.1, \"#c51b7d\"], [0.2, \"#de77ae\"], [0.3, \"#f1b6da\"], [0.4, \"#fde0ef\"], [0.5, \"#f7f7f7\"], [0.6, \"#e6f5d0\"], [0.7, \"#b8e186\"], [0.8, \"#7fbc41\"], [0.9, \"#4d9221\"], [1, \"#276419\"]], \"sequential\": [[0.0, \"#0d0887\"], [0.1111111111111111, \"#46039f\"], [0.2222222222222222, \"#7201a8\"], [0.3333333333333333, \"#9c179e\"], [0.4444444444444444, \"#bd3786\"], [0.5555555555555556, \"#d8576b\"], [0.6666666666666666, \"#ed7953\"], [0.7777777777777778, \"#fb9f3a\"], [0.8888888888888888, \"#fdca26\"], [1.0, \"#f0f921\"]], \"sequentialminus\": [[0.0, \"#0d0887\"], [0.1111111111111111, \"#46039f\"], [0.2222222222222222, \"#7201a8\"], [0.3333333333333333, \"#9c179e\"], [0.4444444444444444, \"#bd3786\"], [0.5555555555555556, \"#d8576b\"], [0.6666666666666666, \"#ed7953\"], [0.7777777777777778, \"#fb9f3a\"], [0.8888888888888888, \"#fdca26\"], [1.0, \"#f0f921\"]]}, \"colorway\": [\"#636efa\", \"#EF553B\", \"#00cc96\", \"#ab63fa\", \"#FFA15A\", \"#19d3f3\", \"#FF6692\", \"#B6E880\", \"#FF97FF\", \"#FECB52\"], \"font\": {\"color\": \"#2a3f5f\"}, \"geo\": {\"bgcolor\": \"white\", \"lakecolor\": \"white\", \"landcolor\": \"#E5ECF6\", \"showlakes\": true, \"showland\": true, \"subunitcolor\": \"white\"}, \"hoverlabel\": {\"align\": \"left\"}, \"hovermode\": \"closest\", \"mapbox\": {\"style\": \"light\"}, \"paper_bgcolor\": \"white\", \"plot_bgcolor\": \"#E5ECF6\", \"polar\": {\"angularaxis\": {\"gridcolor\": \"white\", \"linecolor\": \"white\", \"ticks\": \"\"}, \"bgcolor\": \"#E5ECF6\", \"radialaxis\": {\"gridcolor\": \"white\", \"linecolor\": \"white\", \"ticks\": \"\"}}, \"scene\": {\"xaxis\": {\"backgroundcolor\": \"#E5ECF6\", \"gridcolor\": \"white\", \"gridwidth\": 2, \"linecolor\": \"white\", \"showbackground\": true, \"ticks\": \"\", \"zerolinecolor\": \"white\"}, \"yaxis\": {\"backgroundcolor\": \"#E5ECF6\", \"gridcolor\": \"white\", \"gridwidth\": 2, \"linecolor\": \"white\", \"showbackground\": true, \"ticks\": \"\", \"zerolinecolor\": \"white\"}, \"zaxis\": {\"backgroundcolor\": \"#E5ECF6\", \"gridcolor\": \"white\", \"gridwidth\": 2, \"linecolor\": \"white\", \"showbackground\": true, \"ticks\": \"\", \"zerolinecolor\": \"white\"}}, \"shapedefaults\": {\"line\": {\"color\": \"#2a3f5f\"}}, \"ternary\": {\"aaxis\": {\"gridcolor\": \"white\", \"linecolor\": \"white\", \"ticks\": \"\"}, \"baxis\": {\"gridcolor\": \"white\", \"linecolor\": \"white\", \"ticks\": \"\"}, \"bgcolor\": \"#E5ECF6\", \"caxis\": {\"gridcolor\": \"white\", \"linecolor\": \"white\", \"ticks\": \"\"}}, \"title\": {\"x\": 0.05}, \"xaxis\": {\"automargin\": true, \"gridcolor\": \"white\", \"linecolor\": \"white\", \"ticks\": \"\", \"title\": {\"standoff\": 15}, \"zerolinecolor\": \"white\", \"zerolinewidth\": 2}, \"yaxis\": {\"automargin\": true, \"gridcolor\": \"white\", \"linecolor\": \"white\", \"ticks\": \"\", \"title\": {\"standoff\": 15}, \"zerolinecolor\": \"white\", \"zerolinewidth\": 2}}}, \"title\": {\"font\": {\"color\": \"#4D5663\"}, \"text\": \"Top 25 Unigrams\"}, \"xaxis\": {\"gridcolor\": \"#E1E5ED\", \"linecolor\": \"black\", \"showgrid\": true, \"tickfont\": {\"color\": \"#4D5663\"}, \"title\": {\"font\": {\"color\": \"#4D5663\"}, \"text\": \"\"}, \"zerolinecolor\": \"#E1E5ED\"}, \"yaxis\": {\"gridcolor\": \"#E1E5ED\", \"linecolor\": \"black\", \"showgrid\": true, \"tickfont\": {\"color\": \"#4D5663\"}, \"title\": {\"font\": {\"color\": \"#4D5663\"}, \"text\": \"Count\"}, \"zerolinecolor\": \"#E1E5ED\"}},\n",
       "                        {\"showLink\": true, \"linkText\": \"Export to plot.ly\", \"plotlyServerURL\": \"https://plot.ly\", \"responsive\": true}\n",
       "                    ).then(function(){\n",
       "                            \n",
       "var gd = document.getElementById('d4d97c08-1b83-4504-984c-2ed7a6d7e942');\n",
       "var x = new MutationObserver(function (mutations, observer) {{\n",
       "        var display = window.getComputedStyle(gd).display;\n",
       "        if (!display || display === 'none') {{\n",
       "            console.log([gd, 'removed!']);\n",
       "            Plotly.purge(gd);\n",
       "            observer.disconnect();\n",
       "        }}\n",
       "}});\n",
       "\n",
       "// Listen for the removal of the full notebook cells\n",
       "var notebookContainer = gd.closest('#notebook-container');\n",
       "if (notebookContainer) {{\n",
       "    x.observe(notebookContainer, {childList: true});\n",
       "}}\n",
       "\n",
       "// Listen for the clearing of the current output cell\n",
       "var outputEl = gd.closest('.output');\n",
       "if (outputEl) {{\n",
       "    x.observe(outputEl, {childList: true});\n",
       "}}\n",
       "\n",
       "                        })\n",
       "                };\n",
       "                });\n",
       "            </script>\n",
       "        </div>"
      ]
     },
     "metadata": {},
     "output_type": "display_data"
    }
   ],
   "source": [
    "def get_top_n_words(corpus, n=None):\n",
    "    vec = CountVectorizer().fit(corpus)\n",
    "    bag_of_words = vec.transform(corpus)\n",
    "    sum_words = bag_of_words.sum(axis=0) \n",
    "    words_freq = [(word, sum_words[0, idx]) for word, idx in vec.vocabulary_.items()]\n",
    "    words_freq =sorted(words_freq, key = lambda x: x[1], reverse=True)\n",
    "    return words_freq[:n]\n",
    "common_words = get_top_n_words(new_df['Clean Description'], 25)\n",
    "for word, freq in common_words:\n",
    "    print(word, freq)\n",
    "df1 = pd.DataFrame(common_words, columns = ['Clean Description' , 'count'])\n",
    "df1.groupby('Clean Description').sum()['count'].sort_values(ascending=False).iplot(\n",
    "    kind='bar', yTitle='Count', linecolor='black',title='Top 25 Unigrams')"
   ]
  },
  {
   "cell_type": "code",
   "execution_count": 89,
   "metadata": {},
   "outputs": [
    {
     "name": "stdout",
     "output_type": "stream",
     "text": [
      "fail scheduler 809\n",
      "scheduler from 780\n",
      "job fail 477\n",
      "not work 414\n",
      "password reset 354\n",
      "erp sid 297\n",
      "account lock 231\n",
      "management tool 211\n",
      "engineering tool 204\n",
      "reset password 189\n",
      "collaboration platform 186\n",
      "internet explorer 184\n",
      "error message 184\n",
      "email customer 168\n",
      "language browser 167\n",
      "browser microsoft 167\n",
      "customer number 167\n",
      "telephone summary 167\n",
      "microsoft internet 166\n",
      "explorer email 166\n",
      "password management 164\n",
      "number telephone 158\n",
      "job scheduler 157\n",
      "ticket update 154\n",
      "phone email 148\n"
     ]
    },
    {
     "data": {
      "application/vnd.plotly.v1+json": {
       "config": {
        "linkText": "Export to plot.ly",
        "plotlyServerURL": "https://plot.ly",
        "showLink": true
       },
       "data": [
        {
         "marker": {
          "color": "rgba(255, 153, 51, 0.6)",
          "line": {
           "color": "rgba(255, 153, 51, 1.0)",
           "width": 1
          }
         },
         "name": "count",
         "orientation": "v",
         "text": "",
         "type": "bar",
         "x": [
          "fail scheduler",
          "scheduler from",
          "job fail",
          "not work",
          "password reset",
          "erp sid",
          "account lock",
          "management tool",
          "engineering tool",
          "reset password",
          "collaboration platform",
          "internet explorer",
          "error message",
          "email customer",
          "language browser",
          "telephone summary",
          "browser microsoft",
          "customer number",
          "explorer email",
          "microsoft internet",
          "password management",
          "number telephone",
          "job scheduler",
          "ticket update",
          "phone email"
         ],
         "y": [
          809,
          780,
          477,
          414,
          354,
          297,
          231,
          211,
          204,
          189,
          186,
          184,
          184,
          168,
          167,
          167,
          167,
          167,
          166,
          166,
          164,
          158,
          157,
          154,
          148
         ]
        }
       ],
       "layout": {
        "legend": {
         "bgcolor": "#F5F6F9",
         "font": {
          "color": "#4D5663"
         }
        },
        "paper_bgcolor": "#F5F6F9",
        "plot_bgcolor": "#F5F6F9",
        "template": {
         "data": {
          "bar": [
           {
            "error_x": {
             "color": "#2a3f5f"
            },
            "error_y": {
             "color": "#2a3f5f"
            },
            "marker": {
             "line": {
              "color": "#E5ECF6",
              "width": 0.5
             }
            },
            "type": "bar"
           }
          ],
          "barpolar": [
           {
            "marker": {
             "line": {
              "color": "#E5ECF6",
              "width": 0.5
             }
            },
            "type": "barpolar"
           }
          ],
          "carpet": [
           {
            "aaxis": {
             "endlinecolor": "#2a3f5f",
             "gridcolor": "white",
             "linecolor": "white",
             "minorgridcolor": "white",
             "startlinecolor": "#2a3f5f"
            },
            "baxis": {
             "endlinecolor": "#2a3f5f",
             "gridcolor": "white",
             "linecolor": "white",
             "minorgridcolor": "white",
             "startlinecolor": "#2a3f5f"
            },
            "type": "carpet"
           }
          ],
          "choropleth": [
           {
            "colorbar": {
             "outlinewidth": 0,
             "ticks": ""
            },
            "type": "choropleth"
           }
          ],
          "contour": [
           {
            "colorbar": {
             "outlinewidth": 0,
             "ticks": ""
            },
            "colorscale": [
             [
              0,
              "#0d0887"
             ],
             [
              0.1111111111111111,
              "#46039f"
             ],
             [
              0.2222222222222222,
              "#7201a8"
             ],
             [
              0.3333333333333333,
              "#9c179e"
             ],
             [
              0.4444444444444444,
              "#bd3786"
             ],
             [
              0.5555555555555556,
              "#d8576b"
             ],
             [
              0.6666666666666666,
              "#ed7953"
             ],
             [
              0.7777777777777778,
              "#fb9f3a"
             ],
             [
              0.8888888888888888,
              "#fdca26"
             ],
             [
              1,
              "#f0f921"
             ]
            ],
            "type": "contour"
           }
          ],
          "contourcarpet": [
           {
            "colorbar": {
             "outlinewidth": 0,
             "ticks": ""
            },
            "type": "contourcarpet"
           }
          ],
          "heatmap": [
           {
            "colorbar": {
             "outlinewidth": 0,
             "ticks": ""
            },
            "colorscale": [
             [
              0,
              "#0d0887"
             ],
             [
              0.1111111111111111,
              "#46039f"
             ],
             [
              0.2222222222222222,
              "#7201a8"
             ],
             [
              0.3333333333333333,
              "#9c179e"
             ],
             [
              0.4444444444444444,
              "#bd3786"
             ],
             [
              0.5555555555555556,
              "#d8576b"
             ],
             [
              0.6666666666666666,
              "#ed7953"
             ],
             [
              0.7777777777777778,
              "#fb9f3a"
             ],
             [
              0.8888888888888888,
              "#fdca26"
             ],
             [
              1,
              "#f0f921"
             ]
            ],
            "type": "heatmap"
           }
          ],
          "heatmapgl": [
           {
            "colorbar": {
             "outlinewidth": 0,
             "ticks": ""
            },
            "colorscale": [
             [
              0,
              "#0d0887"
             ],
             [
              0.1111111111111111,
              "#46039f"
             ],
             [
              0.2222222222222222,
              "#7201a8"
             ],
             [
              0.3333333333333333,
              "#9c179e"
             ],
             [
              0.4444444444444444,
              "#bd3786"
             ],
             [
              0.5555555555555556,
              "#d8576b"
             ],
             [
              0.6666666666666666,
              "#ed7953"
             ],
             [
              0.7777777777777778,
              "#fb9f3a"
             ],
             [
              0.8888888888888888,
              "#fdca26"
             ],
             [
              1,
              "#f0f921"
             ]
            ],
            "type": "heatmapgl"
           }
          ],
          "histogram": [
           {
            "marker": {
             "colorbar": {
              "outlinewidth": 0,
              "ticks": ""
             }
            },
            "type": "histogram"
           }
          ],
          "histogram2d": [
           {
            "colorbar": {
             "outlinewidth": 0,
             "ticks": ""
            },
            "colorscale": [
             [
              0,
              "#0d0887"
             ],
             [
              0.1111111111111111,
              "#46039f"
             ],
             [
              0.2222222222222222,
              "#7201a8"
             ],
             [
              0.3333333333333333,
              "#9c179e"
             ],
             [
              0.4444444444444444,
              "#bd3786"
             ],
             [
              0.5555555555555556,
              "#d8576b"
             ],
             [
              0.6666666666666666,
              "#ed7953"
             ],
             [
              0.7777777777777778,
              "#fb9f3a"
             ],
             [
              0.8888888888888888,
              "#fdca26"
             ],
             [
              1,
              "#f0f921"
             ]
            ],
            "type": "histogram2d"
           }
          ],
          "histogram2dcontour": [
           {
            "colorbar": {
             "outlinewidth": 0,
             "ticks": ""
            },
            "colorscale": [
             [
              0,
              "#0d0887"
             ],
             [
              0.1111111111111111,
              "#46039f"
             ],
             [
              0.2222222222222222,
              "#7201a8"
             ],
             [
              0.3333333333333333,
              "#9c179e"
             ],
             [
              0.4444444444444444,
              "#bd3786"
             ],
             [
              0.5555555555555556,
              "#d8576b"
             ],
             [
              0.6666666666666666,
              "#ed7953"
             ],
             [
              0.7777777777777778,
              "#fb9f3a"
             ],
             [
              0.8888888888888888,
              "#fdca26"
             ],
             [
              1,
              "#f0f921"
             ]
            ],
            "type": "histogram2dcontour"
           }
          ],
          "mesh3d": [
           {
            "colorbar": {
             "outlinewidth": 0,
             "ticks": ""
            },
            "type": "mesh3d"
           }
          ],
          "parcoords": [
           {
            "line": {
             "colorbar": {
              "outlinewidth": 0,
              "ticks": ""
             }
            },
            "type": "parcoords"
           }
          ],
          "pie": [
           {
            "automargin": true,
            "type": "pie"
           }
          ],
          "scatter": [
           {
            "marker": {
             "colorbar": {
              "outlinewidth": 0,
              "ticks": ""
             }
            },
            "type": "scatter"
           }
          ],
          "scatter3d": [
           {
            "line": {
             "colorbar": {
              "outlinewidth": 0,
              "ticks": ""
             }
            },
            "marker": {
             "colorbar": {
              "outlinewidth": 0,
              "ticks": ""
             }
            },
            "type": "scatter3d"
           }
          ],
          "scattercarpet": [
           {
            "marker": {
             "colorbar": {
              "outlinewidth": 0,
              "ticks": ""
             }
            },
            "type": "scattercarpet"
           }
          ],
          "scattergeo": [
           {
            "marker": {
             "colorbar": {
              "outlinewidth": 0,
              "ticks": ""
             }
            },
            "type": "scattergeo"
           }
          ],
          "scattergl": [
           {
            "marker": {
             "colorbar": {
              "outlinewidth": 0,
              "ticks": ""
             }
            },
            "type": "scattergl"
           }
          ],
          "scattermapbox": [
           {
            "marker": {
             "colorbar": {
              "outlinewidth": 0,
              "ticks": ""
             }
            },
            "type": "scattermapbox"
           }
          ],
          "scatterpolar": [
           {
            "marker": {
             "colorbar": {
              "outlinewidth": 0,
              "ticks": ""
             }
            },
            "type": "scatterpolar"
           }
          ],
          "scatterpolargl": [
           {
            "marker": {
             "colorbar": {
              "outlinewidth": 0,
              "ticks": ""
             }
            },
            "type": "scatterpolargl"
           }
          ],
          "scatterternary": [
           {
            "marker": {
             "colorbar": {
              "outlinewidth": 0,
              "ticks": ""
             }
            },
            "type": "scatterternary"
           }
          ],
          "surface": [
           {
            "colorbar": {
             "outlinewidth": 0,
             "ticks": ""
            },
            "colorscale": [
             [
              0,
              "#0d0887"
             ],
             [
              0.1111111111111111,
              "#46039f"
             ],
             [
              0.2222222222222222,
              "#7201a8"
             ],
             [
              0.3333333333333333,
              "#9c179e"
             ],
             [
              0.4444444444444444,
              "#bd3786"
             ],
             [
              0.5555555555555556,
              "#d8576b"
             ],
             [
              0.6666666666666666,
              "#ed7953"
             ],
             [
              0.7777777777777778,
              "#fb9f3a"
             ],
             [
              0.8888888888888888,
              "#fdca26"
             ],
             [
              1,
              "#f0f921"
             ]
            ],
            "type": "surface"
           }
          ],
          "table": [
           {
            "cells": {
             "fill": {
              "color": "#EBF0F8"
             },
             "line": {
              "color": "white"
             }
            },
            "header": {
             "fill": {
              "color": "#C8D4E3"
             },
             "line": {
              "color": "white"
             }
            },
            "type": "table"
           }
          ]
         },
         "layout": {
          "annotationdefaults": {
           "arrowcolor": "#2a3f5f",
           "arrowhead": 0,
           "arrowwidth": 1
          },
          "coloraxis": {
           "colorbar": {
            "outlinewidth": 0,
            "ticks": ""
           }
          },
          "colorscale": {
           "diverging": [
            [
             0,
             "#8e0152"
            ],
            [
             0.1,
             "#c51b7d"
            ],
            [
             0.2,
             "#de77ae"
            ],
            [
             0.3,
             "#f1b6da"
            ],
            [
             0.4,
             "#fde0ef"
            ],
            [
             0.5,
             "#f7f7f7"
            ],
            [
             0.6,
             "#e6f5d0"
            ],
            [
             0.7,
             "#b8e186"
            ],
            [
             0.8,
             "#7fbc41"
            ],
            [
             0.9,
             "#4d9221"
            ],
            [
             1,
             "#276419"
            ]
           ],
           "sequential": [
            [
             0,
             "#0d0887"
            ],
            [
             0.1111111111111111,
             "#46039f"
            ],
            [
             0.2222222222222222,
             "#7201a8"
            ],
            [
             0.3333333333333333,
             "#9c179e"
            ],
            [
             0.4444444444444444,
             "#bd3786"
            ],
            [
             0.5555555555555556,
             "#d8576b"
            ],
            [
             0.6666666666666666,
             "#ed7953"
            ],
            [
             0.7777777777777778,
             "#fb9f3a"
            ],
            [
             0.8888888888888888,
             "#fdca26"
            ],
            [
             1,
             "#f0f921"
            ]
           ],
           "sequentialminus": [
            [
             0,
             "#0d0887"
            ],
            [
             0.1111111111111111,
             "#46039f"
            ],
            [
             0.2222222222222222,
             "#7201a8"
            ],
            [
             0.3333333333333333,
             "#9c179e"
            ],
            [
             0.4444444444444444,
             "#bd3786"
            ],
            [
             0.5555555555555556,
             "#d8576b"
            ],
            [
             0.6666666666666666,
             "#ed7953"
            ],
            [
             0.7777777777777778,
             "#fb9f3a"
            ],
            [
             0.8888888888888888,
             "#fdca26"
            ],
            [
             1,
             "#f0f921"
            ]
           ]
          },
          "colorway": [
           "#636efa",
           "#EF553B",
           "#00cc96",
           "#ab63fa",
           "#FFA15A",
           "#19d3f3",
           "#FF6692",
           "#B6E880",
           "#FF97FF",
           "#FECB52"
          ],
          "font": {
           "color": "#2a3f5f"
          },
          "geo": {
           "bgcolor": "white",
           "lakecolor": "white",
           "landcolor": "#E5ECF6",
           "showlakes": true,
           "showland": true,
           "subunitcolor": "white"
          },
          "hoverlabel": {
           "align": "left"
          },
          "hovermode": "closest",
          "mapbox": {
           "style": "light"
          },
          "paper_bgcolor": "white",
          "plot_bgcolor": "#E5ECF6",
          "polar": {
           "angularaxis": {
            "gridcolor": "white",
            "linecolor": "white",
            "ticks": ""
           },
           "bgcolor": "#E5ECF6",
           "radialaxis": {
            "gridcolor": "white",
            "linecolor": "white",
            "ticks": ""
           }
          },
          "scene": {
           "xaxis": {
            "backgroundcolor": "#E5ECF6",
            "gridcolor": "white",
            "gridwidth": 2,
            "linecolor": "white",
            "showbackground": true,
            "ticks": "",
            "zerolinecolor": "white"
           },
           "yaxis": {
            "backgroundcolor": "#E5ECF6",
            "gridcolor": "white",
            "gridwidth": 2,
            "linecolor": "white",
            "showbackground": true,
            "ticks": "",
            "zerolinecolor": "white"
           },
           "zaxis": {
            "backgroundcolor": "#E5ECF6",
            "gridcolor": "white",
            "gridwidth": 2,
            "linecolor": "white",
            "showbackground": true,
            "ticks": "",
            "zerolinecolor": "white"
           }
          },
          "shapedefaults": {
           "line": {
            "color": "#2a3f5f"
           }
          },
          "ternary": {
           "aaxis": {
            "gridcolor": "white",
            "linecolor": "white",
            "ticks": ""
           },
           "baxis": {
            "gridcolor": "white",
            "linecolor": "white",
            "ticks": ""
           },
           "bgcolor": "#E5ECF6",
           "caxis": {
            "gridcolor": "white",
            "linecolor": "white",
            "ticks": ""
           }
          },
          "title": {
           "x": 0.05
          },
          "xaxis": {
           "automargin": true,
           "gridcolor": "white",
           "linecolor": "white",
           "ticks": "",
           "title": {
            "standoff": 15
           },
           "zerolinecolor": "white",
           "zerolinewidth": 2
          },
          "yaxis": {
           "automargin": true,
           "gridcolor": "white",
           "linecolor": "white",
           "ticks": "",
           "title": {
            "standoff": 15
           },
           "zerolinecolor": "white",
           "zerolinewidth": 2
          }
         }
        },
        "title": {
         "font": {
          "color": "#4D5663"
         },
         "text": "Top 25 bigrams"
        },
        "xaxis": {
         "gridcolor": "#E1E5ED",
         "linecolor": "black",
         "showgrid": true,
         "tickfont": {
          "color": "#4D5663"
         },
         "title": {
          "font": {
           "color": "#4D5663"
          },
          "text": ""
         },
         "zerolinecolor": "#E1E5ED"
        },
        "yaxis": {
         "gridcolor": "#E1E5ED",
         "linecolor": "black",
         "showgrid": true,
         "tickfont": {
          "color": "#4D5663"
         },
         "title": {
          "font": {
           "color": "#4D5663"
          },
          "text": "Count"
         },
         "zerolinecolor": "#E1E5ED"
        }
       }
      },
      "text/html": [
       "<div>\n",
       "        \n",
       "        \n",
       "            <div id=\"7af31b8d-830a-42a4-9b40-ac92e2776514\" class=\"plotly-graph-div\" style=\"height:525px; width:100%;\"></div>\n",
       "            <script type=\"text/javascript\">\n",
       "                require([\"plotly\"], function(Plotly) {\n",
       "                    window.PLOTLYENV=window.PLOTLYENV || {};\n",
       "                    window.PLOTLYENV.BASE_URL='https://plot.ly';\n",
       "                    \n",
       "                if (document.getElementById(\"7af31b8d-830a-42a4-9b40-ac92e2776514\")) {\n",
       "                    Plotly.newPlot(\n",
       "                        '7af31b8d-830a-42a4-9b40-ac92e2776514',\n",
       "                        [{\"marker\": {\"color\": \"rgba(255, 153, 51, 0.6)\", \"line\": {\"color\": \"rgba(255, 153, 51, 1.0)\", \"width\": 1}}, \"name\": \"count\", \"orientation\": \"v\", \"text\": \"\", \"type\": \"bar\", \"x\": [\"fail scheduler\", \"scheduler from\", \"job fail\", \"not work\", \"password reset\", \"erp sid\", \"account lock\", \"management tool\", \"engineering tool\", \"reset password\", \"collaboration platform\", \"internet explorer\", \"error message\", \"email customer\", \"language browser\", \"telephone summary\", \"browser microsoft\", \"customer number\", \"explorer email\", \"microsoft internet\", \"password management\", \"number telephone\", \"job scheduler\", \"ticket update\", \"phone email\"], \"y\": [809, 780, 477, 414, 354, 297, 231, 211, 204, 189, 186, 184, 184, 168, 167, 167, 167, 167, 166, 166, 164, 158, 157, 154, 148]}],\n",
       "                        {\"legend\": {\"bgcolor\": \"#F5F6F9\", \"font\": {\"color\": \"#4D5663\"}}, \"paper_bgcolor\": \"#F5F6F9\", \"plot_bgcolor\": \"#F5F6F9\", \"template\": {\"data\": {\"bar\": [{\"error_x\": {\"color\": \"#2a3f5f\"}, \"error_y\": {\"color\": \"#2a3f5f\"}, \"marker\": {\"line\": {\"color\": \"#E5ECF6\", \"width\": 0.5}}, \"type\": \"bar\"}], \"barpolar\": [{\"marker\": {\"line\": {\"color\": \"#E5ECF6\", \"width\": 0.5}}, \"type\": \"barpolar\"}], \"carpet\": [{\"aaxis\": {\"endlinecolor\": \"#2a3f5f\", \"gridcolor\": \"white\", \"linecolor\": \"white\", \"minorgridcolor\": \"white\", \"startlinecolor\": \"#2a3f5f\"}, \"baxis\": {\"endlinecolor\": \"#2a3f5f\", \"gridcolor\": \"white\", \"linecolor\": \"white\", \"minorgridcolor\": \"white\", \"startlinecolor\": \"#2a3f5f\"}, \"type\": \"carpet\"}], \"choropleth\": [{\"colorbar\": {\"outlinewidth\": 0, \"ticks\": \"\"}, \"type\": \"choropleth\"}], \"contour\": [{\"colorbar\": {\"outlinewidth\": 0, \"ticks\": \"\"}, \"colorscale\": [[0.0, \"#0d0887\"], [0.1111111111111111, \"#46039f\"], [0.2222222222222222, \"#7201a8\"], [0.3333333333333333, \"#9c179e\"], [0.4444444444444444, \"#bd3786\"], [0.5555555555555556, \"#d8576b\"], [0.6666666666666666, \"#ed7953\"], [0.7777777777777778, \"#fb9f3a\"], [0.8888888888888888, \"#fdca26\"], [1.0, \"#f0f921\"]], \"type\": \"contour\"}], \"contourcarpet\": [{\"colorbar\": {\"outlinewidth\": 0, \"ticks\": \"\"}, \"type\": \"contourcarpet\"}], \"heatmap\": [{\"colorbar\": {\"outlinewidth\": 0, \"ticks\": \"\"}, \"colorscale\": [[0.0, \"#0d0887\"], [0.1111111111111111, \"#46039f\"], [0.2222222222222222, \"#7201a8\"], [0.3333333333333333, \"#9c179e\"], [0.4444444444444444, \"#bd3786\"], [0.5555555555555556, \"#d8576b\"], [0.6666666666666666, \"#ed7953\"], [0.7777777777777778, \"#fb9f3a\"], [0.8888888888888888, \"#fdca26\"], [1.0, \"#f0f921\"]], \"type\": \"heatmap\"}], \"heatmapgl\": [{\"colorbar\": {\"outlinewidth\": 0, \"ticks\": \"\"}, \"colorscale\": [[0.0, \"#0d0887\"], [0.1111111111111111, \"#46039f\"], [0.2222222222222222, \"#7201a8\"], [0.3333333333333333, \"#9c179e\"], [0.4444444444444444, \"#bd3786\"], [0.5555555555555556, \"#d8576b\"], [0.6666666666666666, \"#ed7953\"], [0.7777777777777778, \"#fb9f3a\"], [0.8888888888888888, \"#fdca26\"], [1.0, \"#f0f921\"]], \"type\": \"heatmapgl\"}], \"histogram\": [{\"marker\": {\"colorbar\": {\"outlinewidth\": 0, \"ticks\": \"\"}}, \"type\": \"histogram\"}], \"histogram2d\": [{\"colorbar\": {\"outlinewidth\": 0, \"ticks\": \"\"}, \"colorscale\": [[0.0, \"#0d0887\"], [0.1111111111111111, \"#46039f\"], [0.2222222222222222, \"#7201a8\"], [0.3333333333333333, \"#9c179e\"], [0.4444444444444444, \"#bd3786\"], [0.5555555555555556, \"#d8576b\"], [0.6666666666666666, \"#ed7953\"], [0.7777777777777778, \"#fb9f3a\"], [0.8888888888888888, \"#fdca26\"], [1.0, \"#f0f921\"]], \"type\": \"histogram2d\"}], \"histogram2dcontour\": [{\"colorbar\": {\"outlinewidth\": 0, \"ticks\": \"\"}, \"colorscale\": [[0.0, \"#0d0887\"], [0.1111111111111111, \"#46039f\"], [0.2222222222222222, \"#7201a8\"], [0.3333333333333333, \"#9c179e\"], [0.4444444444444444, \"#bd3786\"], [0.5555555555555556, \"#d8576b\"], [0.6666666666666666, \"#ed7953\"], [0.7777777777777778, \"#fb9f3a\"], [0.8888888888888888, \"#fdca26\"], [1.0, \"#f0f921\"]], \"type\": \"histogram2dcontour\"}], \"mesh3d\": [{\"colorbar\": {\"outlinewidth\": 0, \"ticks\": \"\"}, \"type\": \"mesh3d\"}], \"parcoords\": [{\"line\": {\"colorbar\": {\"outlinewidth\": 0, \"ticks\": \"\"}}, \"type\": \"parcoords\"}], \"pie\": [{\"automargin\": true, \"type\": \"pie\"}], \"scatter\": [{\"marker\": {\"colorbar\": {\"outlinewidth\": 0, \"ticks\": \"\"}}, \"type\": \"scatter\"}], \"scatter3d\": [{\"line\": {\"colorbar\": {\"outlinewidth\": 0, \"ticks\": \"\"}}, \"marker\": {\"colorbar\": {\"outlinewidth\": 0, \"ticks\": \"\"}}, \"type\": \"scatter3d\"}], \"scattercarpet\": [{\"marker\": {\"colorbar\": {\"outlinewidth\": 0, \"ticks\": \"\"}}, \"type\": \"scattercarpet\"}], \"scattergeo\": [{\"marker\": {\"colorbar\": {\"outlinewidth\": 0, \"ticks\": \"\"}}, \"type\": \"scattergeo\"}], \"scattergl\": [{\"marker\": {\"colorbar\": {\"outlinewidth\": 0, \"ticks\": \"\"}}, \"type\": \"scattergl\"}], \"scattermapbox\": [{\"marker\": {\"colorbar\": {\"outlinewidth\": 0, \"ticks\": \"\"}}, \"type\": \"scattermapbox\"}], \"scatterpolar\": [{\"marker\": {\"colorbar\": {\"outlinewidth\": 0, \"ticks\": \"\"}}, \"type\": \"scatterpolar\"}], \"scatterpolargl\": [{\"marker\": {\"colorbar\": {\"outlinewidth\": 0, \"ticks\": \"\"}}, \"type\": \"scatterpolargl\"}], \"scatterternary\": [{\"marker\": {\"colorbar\": {\"outlinewidth\": 0, \"ticks\": \"\"}}, \"type\": \"scatterternary\"}], \"surface\": [{\"colorbar\": {\"outlinewidth\": 0, \"ticks\": \"\"}, \"colorscale\": [[0.0, \"#0d0887\"], [0.1111111111111111, \"#46039f\"], [0.2222222222222222, \"#7201a8\"], [0.3333333333333333, \"#9c179e\"], [0.4444444444444444, \"#bd3786\"], [0.5555555555555556, \"#d8576b\"], [0.6666666666666666, \"#ed7953\"], [0.7777777777777778, \"#fb9f3a\"], [0.8888888888888888, \"#fdca26\"], [1.0, \"#f0f921\"]], \"type\": \"surface\"}], \"table\": [{\"cells\": {\"fill\": {\"color\": \"#EBF0F8\"}, \"line\": {\"color\": \"white\"}}, \"header\": {\"fill\": {\"color\": \"#C8D4E3\"}, \"line\": {\"color\": \"white\"}}, \"type\": \"table\"}]}, \"layout\": {\"annotationdefaults\": {\"arrowcolor\": \"#2a3f5f\", \"arrowhead\": 0, \"arrowwidth\": 1}, \"coloraxis\": {\"colorbar\": {\"outlinewidth\": 0, \"ticks\": \"\"}}, \"colorscale\": {\"diverging\": [[0, \"#8e0152\"], [0.1, \"#c51b7d\"], [0.2, \"#de77ae\"], [0.3, \"#f1b6da\"], [0.4, \"#fde0ef\"], [0.5, \"#f7f7f7\"], [0.6, \"#e6f5d0\"], [0.7, \"#b8e186\"], [0.8, \"#7fbc41\"], [0.9, \"#4d9221\"], [1, \"#276419\"]], \"sequential\": [[0.0, \"#0d0887\"], [0.1111111111111111, \"#46039f\"], [0.2222222222222222, \"#7201a8\"], [0.3333333333333333, \"#9c179e\"], [0.4444444444444444, \"#bd3786\"], [0.5555555555555556, \"#d8576b\"], [0.6666666666666666, \"#ed7953\"], [0.7777777777777778, \"#fb9f3a\"], [0.8888888888888888, \"#fdca26\"], [1.0, \"#f0f921\"]], \"sequentialminus\": [[0.0, \"#0d0887\"], [0.1111111111111111, \"#46039f\"], [0.2222222222222222, \"#7201a8\"], [0.3333333333333333, \"#9c179e\"], [0.4444444444444444, \"#bd3786\"], [0.5555555555555556, \"#d8576b\"], [0.6666666666666666, \"#ed7953\"], [0.7777777777777778, \"#fb9f3a\"], [0.8888888888888888, \"#fdca26\"], [1.0, \"#f0f921\"]]}, \"colorway\": [\"#636efa\", \"#EF553B\", \"#00cc96\", \"#ab63fa\", \"#FFA15A\", \"#19d3f3\", \"#FF6692\", \"#B6E880\", \"#FF97FF\", \"#FECB52\"], \"font\": {\"color\": \"#2a3f5f\"}, \"geo\": {\"bgcolor\": \"white\", \"lakecolor\": \"white\", \"landcolor\": \"#E5ECF6\", \"showlakes\": true, \"showland\": true, \"subunitcolor\": \"white\"}, \"hoverlabel\": {\"align\": \"left\"}, \"hovermode\": \"closest\", \"mapbox\": {\"style\": \"light\"}, \"paper_bgcolor\": \"white\", \"plot_bgcolor\": \"#E5ECF6\", \"polar\": {\"angularaxis\": {\"gridcolor\": \"white\", \"linecolor\": \"white\", \"ticks\": \"\"}, \"bgcolor\": \"#E5ECF6\", \"radialaxis\": {\"gridcolor\": \"white\", \"linecolor\": \"white\", \"ticks\": \"\"}}, \"scene\": {\"xaxis\": {\"backgroundcolor\": \"#E5ECF6\", \"gridcolor\": \"white\", \"gridwidth\": 2, \"linecolor\": \"white\", \"showbackground\": true, \"ticks\": \"\", \"zerolinecolor\": \"white\"}, \"yaxis\": {\"backgroundcolor\": \"#E5ECF6\", \"gridcolor\": \"white\", \"gridwidth\": 2, \"linecolor\": \"white\", \"showbackground\": true, \"ticks\": \"\", \"zerolinecolor\": \"white\"}, \"zaxis\": {\"backgroundcolor\": \"#E5ECF6\", \"gridcolor\": \"white\", \"gridwidth\": 2, \"linecolor\": \"white\", \"showbackground\": true, \"ticks\": \"\", \"zerolinecolor\": \"white\"}}, \"shapedefaults\": {\"line\": {\"color\": \"#2a3f5f\"}}, \"ternary\": {\"aaxis\": {\"gridcolor\": \"white\", \"linecolor\": \"white\", \"ticks\": \"\"}, \"baxis\": {\"gridcolor\": \"white\", \"linecolor\": \"white\", \"ticks\": \"\"}, \"bgcolor\": \"#E5ECF6\", \"caxis\": {\"gridcolor\": \"white\", \"linecolor\": \"white\", \"ticks\": \"\"}}, \"title\": {\"x\": 0.05}, \"xaxis\": {\"automargin\": true, \"gridcolor\": \"white\", \"linecolor\": \"white\", \"ticks\": \"\", \"title\": {\"standoff\": 15}, \"zerolinecolor\": \"white\", \"zerolinewidth\": 2}, \"yaxis\": {\"automargin\": true, \"gridcolor\": \"white\", \"linecolor\": \"white\", \"ticks\": \"\", \"title\": {\"standoff\": 15}, \"zerolinecolor\": \"white\", \"zerolinewidth\": 2}}}, \"title\": {\"font\": {\"color\": \"#4D5663\"}, \"text\": \"Top 25 bigrams\"}, \"xaxis\": {\"gridcolor\": \"#E1E5ED\", \"linecolor\": \"black\", \"showgrid\": true, \"tickfont\": {\"color\": \"#4D5663\"}, \"title\": {\"font\": {\"color\": \"#4D5663\"}, \"text\": \"\"}, \"zerolinecolor\": \"#E1E5ED\"}, \"yaxis\": {\"gridcolor\": \"#E1E5ED\", \"linecolor\": \"black\", \"showgrid\": true, \"tickfont\": {\"color\": \"#4D5663\"}, \"title\": {\"font\": {\"color\": \"#4D5663\"}, \"text\": \"Count\"}, \"zerolinecolor\": \"#E1E5ED\"}},\n",
       "                        {\"showLink\": true, \"linkText\": \"Export to plot.ly\", \"plotlyServerURL\": \"https://plot.ly\", \"responsive\": true}\n",
       "                    ).then(function(){\n",
       "                            \n",
       "var gd = document.getElementById('7af31b8d-830a-42a4-9b40-ac92e2776514');\n",
       "var x = new MutationObserver(function (mutations, observer) {{\n",
       "        var display = window.getComputedStyle(gd).display;\n",
       "        if (!display || display === 'none') {{\n",
       "            console.log([gd, 'removed!']);\n",
       "            Plotly.purge(gd);\n",
       "            observer.disconnect();\n",
       "        }}\n",
       "}});\n",
       "\n",
       "// Listen for the removal of the full notebook cells\n",
       "var notebookContainer = gd.closest('#notebook-container');\n",
       "if (notebookContainer) {{\n",
       "    x.observe(notebookContainer, {childList: true});\n",
       "}}\n",
       "\n",
       "// Listen for the clearing of the current output cell\n",
       "var outputEl = gd.closest('.output');\n",
       "if (outputEl) {{\n",
       "    x.observe(outputEl, {childList: true});\n",
       "}}\n",
       "\n",
       "                        })\n",
       "                };\n",
       "                });\n",
       "            </script>\n",
       "        </div>"
      ]
     },
     "metadata": {},
     "output_type": "display_data"
    }
   ],
   "source": [
    "def get_top_n_bigram(corpus, n=None):\n",
    "    vec = CountVectorizer(ngram_range=(2, 2)).fit(corpus)\n",
    "    bag_of_words = vec.transform(corpus)\n",
    "    sum_words = bag_of_words.sum(axis=0) \n",
    "    words_freq = [(word, sum_words[0, idx]) for word, idx in vec.vocabulary_.items()]\n",
    "    words_freq =sorted(words_freq, key = lambda x: x[1], reverse=True)\n",
    "    return words_freq[:n]\n",
    "common_words = get_top_n_bigram(new_df['Clean Description'], 25)\n",
    "for word, freq in common_words:\n",
    "    print(word, freq)\n",
    "df2 = pd.DataFrame(common_words, columns = ['Clean Description' , 'count'])\n",
    "df2.groupby('Clean Description').sum()['count'].sort_values(ascending=False).iplot(\n",
    "    kind='bar', yTitle='Count', linecolor='black', title='Top 25 bigrams')\n"
   ]
  },
  {
   "cell_type": "code",
   "execution_count": 167,
   "metadata": {},
   "outputs": [
    {
     "name": "stdout",
     "output_type": "stream",
     "text": [
      "fail scheduler from 780\n",
      "job fail scheduler 471\n",
      "browser microsoft internet 166\n",
      "microsoft internet explorer 166\n",
      "internet explorer email 165\n",
      "language browser microsoft 164\n",
      "email customer number 163\n",
      "explorer email customer 162\n",
      "password management tool 158\n",
      "customer number telephone 157\n",
      "number telephone summary 154\n",
      "abended job scheduler 147\n",
      "specify top cert 143\n",
      "contact notify phone 143\n",
      "notify phone email 143\n",
      "remote dial equipment 143\n",
      "dial equipment reset 143\n",
      "equipment reset verify 143\n",
      "gsc start additional 142\n",
      "start additional diagnostic 142\n",
      "start schedule maintenance 141\n",
      "provider maint ticket 141\n",
      "phone email remote 141\n",
      "email remote dial 141\n",
      "reset verify work 141\n"
     ]
    },
    {
     "data": {
      "application/vnd.plotly.v1+json": {
       "config": {
        "linkText": "Export to plot.ly",
        "plotlyServerURL": "https://plot.ly",
        "showLink": true
       },
       "data": [
        {
         "marker": {
          "color": "rgba(255, 153, 51, 0.6)",
          "line": {
           "color": "rgba(255, 153, 51, 1.0)",
           "width": 1
          }
         },
         "name": "count",
         "orientation": "v",
         "text": "",
         "type": "bar",
         "x": [
          "fail scheduler from",
          "job fail scheduler",
          "browser microsoft internet",
          "microsoft internet explorer",
          "internet explorer email",
          "language browser microsoft",
          "email customer number",
          "explorer email customer",
          "password management tool",
          "customer number telephone",
          "number telephone summary",
          "abended job scheduler",
          "notify phone email",
          "equipment reset verify",
          "remote dial equipment",
          "dial equipment reset",
          "contact notify phone",
          "specify top cert",
          "start additional diagnostic",
          "gsc start additional",
          "phone email remote",
          "provider maint ticket",
          "email remote dial",
          "reset verify work",
          "start schedule maintenance"
         ],
         "y": [
          780,
          471,
          166,
          166,
          165,
          164,
          163,
          162,
          158,
          157,
          154,
          147,
          143,
          143,
          143,
          143,
          143,
          143,
          142,
          142,
          141,
          141,
          141,
          141,
          141
         ]
        }
       ],
       "layout": {
        "legend": {
         "bgcolor": "#F5F6F9",
         "font": {
          "color": "#4D5663"
         }
        },
        "paper_bgcolor": "#F5F6F9",
        "plot_bgcolor": "#F5F6F9",
        "template": {
         "data": {
          "bar": [
           {
            "error_x": {
             "color": "#2a3f5f"
            },
            "error_y": {
             "color": "#2a3f5f"
            },
            "marker": {
             "line": {
              "color": "#E5ECF6",
              "width": 0.5
             }
            },
            "type": "bar"
           }
          ],
          "barpolar": [
           {
            "marker": {
             "line": {
              "color": "#E5ECF6",
              "width": 0.5
             }
            },
            "type": "barpolar"
           }
          ],
          "carpet": [
           {
            "aaxis": {
             "endlinecolor": "#2a3f5f",
             "gridcolor": "white",
             "linecolor": "white",
             "minorgridcolor": "white",
             "startlinecolor": "#2a3f5f"
            },
            "baxis": {
             "endlinecolor": "#2a3f5f",
             "gridcolor": "white",
             "linecolor": "white",
             "minorgridcolor": "white",
             "startlinecolor": "#2a3f5f"
            },
            "type": "carpet"
           }
          ],
          "choropleth": [
           {
            "colorbar": {
             "outlinewidth": 0,
             "ticks": ""
            },
            "type": "choropleth"
           }
          ],
          "contour": [
           {
            "colorbar": {
             "outlinewidth": 0,
             "ticks": ""
            },
            "colorscale": [
             [
              0,
              "#0d0887"
             ],
             [
              0.1111111111111111,
              "#46039f"
             ],
             [
              0.2222222222222222,
              "#7201a8"
             ],
             [
              0.3333333333333333,
              "#9c179e"
             ],
             [
              0.4444444444444444,
              "#bd3786"
             ],
             [
              0.5555555555555556,
              "#d8576b"
             ],
             [
              0.6666666666666666,
              "#ed7953"
             ],
             [
              0.7777777777777778,
              "#fb9f3a"
             ],
             [
              0.8888888888888888,
              "#fdca26"
             ],
             [
              1,
              "#f0f921"
             ]
            ],
            "type": "contour"
           }
          ],
          "contourcarpet": [
           {
            "colorbar": {
             "outlinewidth": 0,
             "ticks": ""
            },
            "type": "contourcarpet"
           }
          ],
          "heatmap": [
           {
            "colorbar": {
             "outlinewidth": 0,
             "ticks": ""
            },
            "colorscale": [
             [
              0,
              "#0d0887"
             ],
             [
              0.1111111111111111,
              "#46039f"
             ],
             [
              0.2222222222222222,
              "#7201a8"
             ],
             [
              0.3333333333333333,
              "#9c179e"
             ],
             [
              0.4444444444444444,
              "#bd3786"
             ],
             [
              0.5555555555555556,
              "#d8576b"
             ],
             [
              0.6666666666666666,
              "#ed7953"
             ],
             [
              0.7777777777777778,
              "#fb9f3a"
             ],
             [
              0.8888888888888888,
              "#fdca26"
             ],
             [
              1,
              "#f0f921"
             ]
            ],
            "type": "heatmap"
           }
          ],
          "heatmapgl": [
           {
            "colorbar": {
             "outlinewidth": 0,
             "ticks": ""
            },
            "colorscale": [
             [
              0,
              "#0d0887"
             ],
             [
              0.1111111111111111,
              "#46039f"
             ],
             [
              0.2222222222222222,
              "#7201a8"
             ],
             [
              0.3333333333333333,
              "#9c179e"
             ],
             [
              0.4444444444444444,
              "#bd3786"
             ],
             [
              0.5555555555555556,
              "#d8576b"
             ],
             [
              0.6666666666666666,
              "#ed7953"
             ],
             [
              0.7777777777777778,
              "#fb9f3a"
             ],
             [
              0.8888888888888888,
              "#fdca26"
             ],
             [
              1,
              "#f0f921"
             ]
            ],
            "type": "heatmapgl"
           }
          ],
          "histogram": [
           {
            "marker": {
             "colorbar": {
              "outlinewidth": 0,
              "ticks": ""
             }
            },
            "type": "histogram"
           }
          ],
          "histogram2d": [
           {
            "colorbar": {
             "outlinewidth": 0,
             "ticks": ""
            },
            "colorscale": [
             [
              0,
              "#0d0887"
             ],
             [
              0.1111111111111111,
              "#46039f"
             ],
             [
              0.2222222222222222,
              "#7201a8"
             ],
             [
              0.3333333333333333,
              "#9c179e"
             ],
             [
              0.4444444444444444,
              "#bd3786"
             ],
             [
              0.5555555555555556,
              "#d8576b"
             ],
             [
              0.6666666666666666,
              "#ed7953"
             ],
             [
              0.7777777777777778,
              "#fb9f3a"
             ],
             [
              0.8888888888888888,
              "#fdca26"
             ],
             [
              1,
              "#f0f921"
             ]
            ],
            "type": "histogram2d"
           }
          ],
          "histogram2dcontour": [
           {
            "colorbar": {
             "outlinewidth": 0,
             "ticks": ""
            },
            "colorscale": [
             [
              0,
              "#0d0887"
             ],
             [
              0.1111111111111111,
              "#46039f"
             ],
             [
              0.2222222222222222,
              "#7201a8"
             ],
             [
              0.3333333333333333,
              "#9c179e"
             ],
             [
              0.4444444444444444,
              "#bd3786"
             ],
             [
              0.5555555555555556,
              "#d8576b"
             ],
             [
              0.6666666666666666,
              "#ed7953"
             ],
             [
              0.7777777777777778,
              "#fb9f3a"
             ],
             [
              0.8888888888888888,
              "#fdca26"
             ],
             [
              1,
              "#f0f921"
             ]
            ],
            "type": "histogram2dcontour"
           }
          ],
          "mesh3d": [
           {
            "colorbar": {
             "outlinewidth": 0,
             "ticks": ""
            },
            "type": "mesh3d"
           }
          ],
          "parcoords": [
           {
            "line": {
             "colorbar": {
              "outlinewidth": 0,
              "ticks": ""
             }
            },
            "type": "parcoords"
           }
          ],
          "pie": [
           {
            "automargin": true,
            "type": "pie"
           }
          ],
          "scatter": [
           {
            "marker": {
             "colorbar": {
              "outlinewidth": 0,
              "ticks": ""
             }
            },
            "type": "scatter"
           }
          ],
          "scatter3d": [
           {
            "line": {
             "colorbar": {
              "outlinewidth": 0,
              "ticks": ""
             }
            },
            "marker": {
             "colorbar": {
              "outlinewidth": 0,
              "ticks": ""
             }
            },
            "type": "scatter3d"
           }
          ],
          "scattercarpet": [
           {
            "marker": {
             "colorbar": {
              "outlinewidth": 0,
              "ticks": ""
             }
            },
            "type": "scattercarpet"
           }
          ],
          "scattergeo": [
           {
            "marker": {
             "colorbar": {
              "outlinewidth": 0,
              "ticks": ""
             }
            },
            "type": "scattergeo"
           }
          ],
          "scattergl": [
           {
            "marker": {
             "colorbar": {
              "outlinewidth": 0,
              "ticks": ""
             }
            },
            "type": "scattergl"
           }
          ],
          "scattermapbox": [
           {
            "marker": {
             "colorbar": {
              "outlinewidth": 0,
              "ticks": ""
             }
            },
            "type": "scattermapbox"
           }
          ],
          "scatterpolar": [
           {
            "marker": {
             "colorbar": {
              "outlinewidth": 0,
              "ticks": ""
             }
            },
            "type": "scatterpolar"
           }
          ],
          "scatterpolargl": [
           {
            "marker": {
             "colorbar": {
              "outlinewidth": 0,
              "ticks": ""
             }
            },
            "type": "scatterpolargl"
           }
          ],
          "scatterternary": [
           {
            "marker": {
             "colorbar": {
              "outlinewidth": 0,
              "ticks": ""
             }
            },
            "type": "scatterternary"
           }
          ],
          "surface": [
           {
            "colorbar": {
             "outlinewidth": 0,
             "ticks": ""
            },
            "colorscale": [
             [
              0,
              "#0d0887"
             ],
             [
              0.1111111111111111,
              "#46039f"
             ],
             [
              0.2222222222222222,
              "#7201a8"
             ],
             [
              0.3333333333333333,
              "#9c179e"
             ],
             [
              0.4444444444444444,
              "#bd3786"
             ],
             [
              0.5555555555555556,
              "#d8576b"
             ],
             [
              0.6666666666666666,
              "#ed7953"
             ],
             [
              0.7777777777777778,
              "#fb9f3a"
             ],
             [
              0.8888888888888888,
              "#fdca26"
             ],
             [
              1,
              "#f0f921"
             ]
            ],
            "type": "surface"
           }
          ],
          "table": [
           {
            "cells": {
             "fill": {
              "color": "#EBF0F8"
             },
             "line": {
              "color": "white"
             }
            },
            "header": {
             "fill": {
              "color": "#C8D4E3"
             },
             "line": {
              "color": "white"
             }
            },
            "type": "table"
           }
          ]
         },
         "layout": {
          "annotationdefaults": {
           "arrowcolor": "#2a3f5f",
           "arrowhead": 0,
           "arrowwidth": 1
          },
          "coloraxis": {
           "colorbar": {
            "outlinewidth": 0,
            "ticks": ""
           }
          },
          "colorscale": {
           "diverging": [
            [
             0,
             "#8e0152"
            ],
            [
             0.1,
             "#c51b7d"
            ],
            [
             0.2,
             "#de77ae"
            ],
            [
             0.3,
             "#f1b6da"
            ],
            [
             0.4,
             "#fde0ef"
            ],
            [
             0.5,
             "#f7f7f7"
            ],
            [
             0.6,
             "#e6f5d0"
            ],
            [
             0.7,
             "#b8e186"
            ],
            [
             0.8,
             "#7fbc41"
            ],
            [
             0.9,
             "#4d9221"
            ],
            [
             1,
             "#276419"
            ]
           ],
           "sequential": [
            [
             0,
             "#0d0887"
            ],
            [
             0.1111111111111111,
             "#46039f"
            ],
            [
             0.2222222222222222,
             "#7201a8"
            ],
            [
             0.3333333333333333,
             "#9c179e"
            ],
            [
             0.4444444444444444,
             "#bd3786"
            ],
            [
             0.5555555555555556,
             "#d8576b"
            ],
            [
             0.6666666666666666,
             "#ed7953"
            ],
            [
             0.7777777777777778,
             "#fb9f3a"
            ],
            [
             0.8888888888888888,
             "#fdca26"
            ],
            [
             1,
             "#f0f921"
            ]
           ],
           "sequentialminus": [
            [
             0,
             "#0d0887"
            ],
            [
             0.1111111111111111,
             "#46039f"
            ],
            [
             0.2222222222222222,
             "#7201a8"
            ],
            [
             0.3333333333333333,
             "#9c179e"
            ],
            [
             0.4444444444444444,
             "#bd3786"
            ],
            [
             0.5555555555555556,
             "#d8576b"
            ],
            [
             0.6666666666666666,
             "#ed7953"
            ],
            [
             0.7777777777777778,
             "#fb9f3a"
            ],
            [
             0.8888888888888888,
             "#fdca26"
            ],
            [
             1,
             "#f0f921"
            ]
           ]
          },
          "colorway": [
           "#636efa",
           "#EF553B",
           "#00cc96",
           "#ab63fa",
           "#FFA15A",
           "#19d3f3",
           "#FF6692",
           "#B6E880",
           "#FF97FF",
           "#FECB52"
          ],
          "font": {
           "color": "#2a3f5f"
          },
          "geo": {
           "bgcolor": "white",
           "lakecolor": "white",
           "landcolor": "#E5ECF6",
           "showlakes": true,
           "showland": true,
           "subunitcolor": "white"
          },
          "hoverlabel": {
           "align": "left"
          },
          "hovermode": "closest",
          "mapbox": {
           "style": "light"
          },
          "paper_bgcolor": "white",
          "plot_bgcolor": "#E5ECF6",
          "polar": {
           "angularaxis": {
            "gridcolor": "white",
            "linecolor": "white",
            "ticks": ""
           },
           "bgcolor": "#E5ECF6",
           "radialaxis": {
            "gridcolor": "white",
            "linecolor": "white",
            "ticks": ""
           }
          },
          "scene": {
           "xaxis": {
            "backgroundcolor": "#E5ECF6",
            "gridcolor": "white",
            "gridwidth": 2,
            "linecolor": "white",
            "showbackground": true,
            "ticks": "",
            "zerolinecolor": "white"
           },
           "yaxis": {
            "backgroundcolor": "#E5ECF6",
            "gridcolor": "white",
            "gridwidth": 2,
            "linecolor": "white",
            "showbackground": true,
            "ticks": "",
            "zerolinecolor": "white"
           },
           "zaxis": {
            "backgroundcolor": "#E5ECF6",
            "gridcolor": "white",
            "gridwidth": 2,
            "linecolor": "white",
            "showbackground": true,
            "ticks": "",
            "zerolinecolor": "white"
           }
          },
          "shapedefaults": {
           "line": {
            "color": "#2a3f5f"
           }
          },
          "ternary": {
           "aaxis": {
            "gridcolor": "white",
            "linecolor": "white",
            "ticks": ""
           },
           "baxis": {
            "gridcolor": "white",
            "linecolor": "white",
            "ticks": ""
           },
           "bgcolor": "#E5ECF6",
           "caxis": {
            "gridcolor": "white",
            "linecolor": "white",
            "ticks": ""
           }
          },
          "title": {
           "x": 0.05
          },
          "xaxis": {
           "automargin": true,
           "gridcolor": "white",
           "linecolor": "white",
           "ticks": "",
           "title": {
            "standoff": 15
           },
           "zerolinecolor": "white",
           "zerolinewidth": 2
          },
          "yaxis": {
           "automargin": true,
           "gridcolor": "white",
           "linecolor": "white",
           "ticks": "",
           "title": {
            "standoff": 15
           },
           "zerolinecolor": "white",
           "zerolinewidth": 2
          }
         }
        },
        "title": {
         "font": {
          "color": "#4D5663"
         },
         "text": "Top 25 trigrams"
        },
        "xaxis": {
         "gridcolor": "#E1E5ED",
         "linecolor": "black",
         "showgrid": true,
         "tickfont": {
          "color": "#4D5663"
         },
         "title": {
          "font": {
           "color": "#4D5663"
          },
          "text": ""
         },
         "zerolinecolor": "#E1E5ED"
        },
        "yaxis": {
         "gridcolor": "#E1E5ED",
         "linecolor": "black",
         "showgrid": true,
         "tickfont": {
          "color": "#4D5663"
         },
         "title": {
          "font": {
           "color": "#4D5663"
          },
          "text": "Count"
         },
         "zerolinecolor": "#E1E5ED"
        }
       }
      },
      "text/html": [
       "<div>\n",
       "        \n",
       "        \n",
       "            <div id=\"9d118194-0dda-4b51-9219-3cbe1f0d9d04\" class=\"plotly-graph-div\" style=\"height:525px; width:100%;\"></div>\n",
       "            <script type=\"text/javascript\">\n",
       "                require([\"plotly\"], function(Plotly) {\n",
       "                    window.PLOTLYENV=window.PLOTLYENV || {};\n",
       "                    window.PLOTLYENV.BASE_URL='https://plot.ly';\n",
       "                    \n",
       "                if (document.getElementById(\"9d118194-0dda-4b51-9219-3cbe1f0d9d04\")) {\n",
       "                    Plotly.newPlot(\n",
       "                        '9d118194-0dda-4b51-9219-3cbe1f0d9d04',\n",
       "                        [{\"marker\": {\"color\": \"rgba(255, 153, 51, 0.6)\", \"line\": {\"color\": \"rgba(255, 153, 51, 1.0)\", \"width\": 1}}, \"name\": \"count\", \"orientation\": \"v\", \"text\": \"\", \"type\": \"bar\", \"x\": [\"fail scheduler from\", \"job fail scheduler\", \"browser microsoft internet\", \"microsoft internet explorer\", \"internet explorer email\", \"language browser microsoft\", \"email customer number\", \"explorer email customer\", \"password management tool\", \"customer number telephone\", \"number telephone summary\", \"abended job scheduler\", \"notify phone email\", \"equipment reset verify\", \"remote dial equipment\", \"dial equipment reset\", \"contact notify phone\", \"specify top cert\", \"start additional diagnostic\", \"gsc start additional\", \"phone email remote\", \"provider maint ticket\", \"email remote dial\", \"reset verify work\", \"start schedule maintenance\"], \"y\": [780, 471, 166, 166, 165, 164, 163, 162, 158, 157, 154, 147, 143, 143, 143, 143, 143, 143, 142, 142, 141, 141, 141, 141, 141]}],\n",
       "                        {\"legend\": {\"bgcolor\": \"#F5F6F9\", \"font\": {\"color\": \"#4D5663\"}}, \"paper_bgcolor\": \"#F5F6F9\", \"plot_bgcolor\": \"#F5F6F9\", \"template\": {\"data\": {\"bar\": [{\"error_x\": {\"color\": \"#2a3f5f\"}, \"error_y\": {\"color\": \"#2a3f5f\"}, \"marker\": {\"line\": {\"color\": \"#E5ECF6\", \"width\": 0.5}}, \"type\": \"bar\"}], \"barpolar\": [{\"marker\": {\"line\": {\"color\": \"#E5ECF6\", \"width\": 0.5}}, \"type\": \"barpolar\"}], \"carpet\": [{\"aaxis\": {\"endlinecolor\": \"#2a3f5f\", \"gridcolor\": \"white\", \"linecolor\": \"white\", \"minorgridcolor\": \"white\", \"startlinecolor\": \"#2a3f5f\"}, \"baxis\": {\"endlinecolor\": \"#2a3f5f\", \"gridcolor\": \"white\", \"linecolor\": \"white\", \"minorgridcolor\": \"white\", \"startlinecolor\": \"#2a3f5f\"}, \"type\": \"carpet\"}], \"choropleth\": [{\"colorbar\": {\"outlinewidth\": 0, \"ticks\": \"\"}, \"type\": \"choropleth\"}], \"contour\": [{\"colorbar\": {\"outlinewidth\": 0, \"ticks\": \"\"}, \"colorscale\": [[0.0, \"#0d0887\"], [0.1111111111111111, \"#46039f\"], [0.2222222222222222, \"#7201a8\"], [0.3333333333333333, \"#9c179e\"], [0.4444444444444444, \"#bd3786\"], [0.5555555555555556, \"#d8576b\"], [0.6666666666666666, \"#ed7953\"], [0.7777777777777778, \"#fb9f3a\"], [0.8888888888888888, \"#fdca26\"], [1.0, \"#f0f921\"]], \"type\": \"contour\"}], \"contourcarpet\": [{\"colorbar\": {\"outlinewidth\": 0, \"ticks\": \"\"}, \"type\": \"contourcarpet\"}], \"heatmap\": [{\"colorbar\": {\"outlinewidth\": 0, \"ticks\": \"\"}, \"colorscale\": [[0.0, \"#0d0887\"], [0.1111111111111111, \"#46039f\"], [0.2222222222222222, \"#7201a8\"], [0.3333333333333333, \"#9c179e\"], [0.4444444444444444, \"#bd3786\"], [0.5555555555555556, \"#d8576b\"], [0.6666666666666666, \"#ed7953\"], [0.7777777777777778, \"#fb9f3a\"], [0.8888888888888888, \"#fdca26\"], [1.0, \"#f0f921\"]], \"type\": \"heatmap\"}], \"heatmapgl\": [{\"colorbar\": {\"outlinewidth\": 0, \"ticks\": \"\"}, \"colorscale\": [[0.0, \"#0d0887\"], [0.1111111111111111, \"#46039f\"], [0.2222222222222222, \"#7201a8\"], [0.3333333333333333, \"#9c179e\"], [0.4444444444444444, \"#bd3786\"], [0.5555555555555556, \"#d8576b\"], [0.6666666666666666, \"#ed7953\"], [0.7777777777777778, \"#fb9f3a\"], [0.8888888888888888, \"#fdca26\"], [1.0, \"#f0f921\"]], \"type\": \"heatmapgl\"}], \"histogram\": [{\"marker\": {\"colorbar\": {\"outlinewidth\": 0, \"ticks\": \"\"}}, \"type\": \"histogram\"}], \"histogram2d\": [{\"colorbar\": {\"outlinewidth\": 0, \"ticks\": \"\"}, \"colorscale\": [[0.0, \"#0d0887\"], [0.1111111111111111, \"#46039f\"], [0.2222222222222222, \"#7201a8\"], [0.3333333333333333, \"#9c179e\"], [0.4444444444444444, \"#bd3786\"], [0.5555555555555556, \"#d8576b\"], [0.6666666666666666, \"#ed7953\"], [0.7777777777777778, \"#fb9f3a\"], [0.8888888888888888, \"#fdca26\"], [1.0, \"#f0f921\"]], \"type\": \"histogram2d\"}], \"histogram2dcontour\": [{\"colorbar\": {\"outlinewidth\": 0, \"ticks\": \"\"}, \"colorscale\": [[0.0, \"#0d0887\"], [0.1111111111111111, \"#46039f\"], [0.2222222222222222, \"#7201a8\"], [0.3333333333333333, \"#9c179e\"], [0.4444444444444444, \"#bd3786\"], [0.5555555555555556, \"#d8576b\"], [0.6666666666666666, \"#ed7953\"], [0.7777777777777778, \"#fb9f3a\"], [0.8888888888888888, \"#fdca26\"], [1.0, \"#f0f921\"]], \"type\": \"histogram2dcontour\"}], \"mesh3d\": [{\"colorbar\": {\"outlinewidth\": 0, \"ticks\": \"\"}, \"type\": \"mesh3d\"}], \"parcoords\": [{\"line\": {\"colorbar\": {\"outlinewidth\": 0, \"ticks\": \"\"}}, \"type\": \"parcoords\"}], \"pie\": [{\"automargin\": true, \"type\": \"pie\"}], \"scatter\": [{\"marker\": {\"colorbar\": {\"outlinewidth\": 0, \"ticks\": \"\"}}, \"type\": \"scatter\"}], \"scatter3d\": [{\"line\": {\"colorbar\": {\"outlinewidth\": 0, \"ticks\": \"\"}}, \"marker\": {\"colorbar\": {\"outlinewidth\": 0, \"ticks\": \"\"}}, \"type\": \"scatter3d\"}], \"scattercarpet\": [{\"marker\": {\"colorbar\": {\"outlinewidth\": 0, \"ticks\": \"\"}}, \"type\": \"scattercarpet\"}], \"scattergeo\": [{\"marker\": {\"colorbar\": {\"outlinewidth\": 0, \"ticks\": \"\"}}, \"type\": \"scattergeo\"}], \"scattergl\": [{\"marker\": {\"colorbar\": {\"outlinewidth\": 0, \"ticks\": \"\"}}, \"type\": \"scattergl\"}], \"scattermapbox\": [{\"marker\": {\"colorbar\": {\"outlinewidth\": 0, \"ticks\": \"\"}}, \"type\": \"scattermapbox\"}], \"scatterpolar\": [{\"marker\": {\"colorbar\": {\"outlinewidth\": 0, \"ticks\": \"\"}}, \"type\": \"scatterpolar\"}], \"scatterpolargl\": [{\"marker\": {\"colorbar\": {\"outlinewidth\": 0, \"ticks\": \"\"}}, \"type\": \"scatterpolargl\"}], \"scatterternary\": [{\"marker\": {\"colorbar\": {\"outlinewidth\": 0, \"ticks\": \"\"}}, \"type\": \"scatterternary\"}], \"surface\": [{\"colorbar\": {\"outlinewidth\": 0, \"ticks\": \"\"}, \"colorscale\": [[0.0, \"#0d0887\"], [0.1111111111111111, \"#46039f\"], [0.2222222222222222, \"#7201a8\"], [0.3333333333333333, \"#9c179e\"], [0.4444444444444444, \"#bd3786\"], [0.5555555555555556, \"#d8576b\"], [0.6666666666666666, \"#ed7953\"], [0.7777777777777778, \"#fb9f3a\"], [0.8888888888888888, \"#fdca26\"], [1.0, \"#f0f921\"]], \"type\": \"surface\"}], \"table\": [{\"cells\": {\"fill\": {\"color\": \"#EBF0F8\"}, \"line\": {\"color\": \"white\"}}, \"header\": {\"fill\": {\"color\": \"#C8D4E3\"}, \"line\": {\"color\": \"white\"}}, \"type\": \"table\"}]}, \"layout\": {\"annotationdefaults\": {\"arrowcolor\": \"#2a3f5f\", \"arrowhead\": 0, \"arrowwidth\": 1}, \"coloraxis\": {\"colorbar\": {\"outlinewidth\": 0, \"ticks\": \"\"}}, \"colorscale\": {\"diverging\": [[0, \"#8e0152\"], [0.1, \"#c51b7d\"], [0.2, \"#de77ae\"], [0.3, \"#f1b6da\"], [0.4, \"#fde0ef\"], [0.5, \"#f7f7f7\"], [0.6, \"#e6f5d0\"], [0.7, \"#b8e186\"], [0.8, \"#7fbc41\"], [0.9, \"#4d9221\"], [1, \"#276419\"]], \"sequential\": [[0.0, \"#0d0887\"], [0.1111111111111111, \"#46039f\"], [0.2222222222222222, \"#7201a8\"], [0.3333333333333333, \"#9c179e\"], [0.4444444444444444, \"#bd3786\"], [0.5555555555555556, \"#d8576b\"], [0.6666666666666666, \"#ed7953\"], [0.7777777777777778, \"#fb9f3a\"], [0.8888888888888888, \"#fdca26\"], [1.0, \"#f0f921\"]], \"sequentialminus\": [[0.0, \"#0d0887\"], [0.1111111111111111, \"#46039f\"], [0.2222222222222222, \"#7201a8\"], [0.3333333333333333, \"#9c179e\"], [0.4444444444444444, \"#bd3786\"], [0.5555555555555556, \"#d8576b\"], [0.6666666666666666, \"#ed7953\"], [0.7777777777777778, \"#fb9f3a\"], [0.8888888888888888, \"#fdca26\"], [1.0, \"#f0f921\"]]}, \"colorway\": [\"#636efa\", \"#EF553B\", \"#00cc96\", \"#ab63fa\", \"#FFA15A\", \"#19d3f3\", \"#FF6692\", \"#B6E880\", \"#FF97FF\", \"#FECB52\"], \"font\": {\"color\": \"#2a3f5f\"}, \"geo\": {\"bgcolor\": \"white\", \"lakecolor\": \"white\", \"landcolor\": \"#E5ECF6\", \"showlakes\": true, \"showland\": true, \"subunitcolor\": \"white\"}, \"hoverlabel\": {\"align\": \"left\"}, \"hovermode\": \"closest\", \"mapbox\": {\"style\": \"light\"}, \"paper_bgcolor\": \"white\", \"plot_bgcolor\": \"#E5ECF6\", \"polar\": {\"angularaxis\": {\"gridcolor\": \"white\", \"linecolor\": \"white\", \"ticks\": \"\"}, \"bgcolor\": \"#E5ECF6\", \"radialaxis\": {\"gridcolor\": \"white\", \"linecolor\": \"white\", \"ticks\": \"\"}}, \"scene\": {\"xaxis\": {\"backgroundcolor\": \"#E5ECF6\", \"gridcolor\": \"white\", \"gridwidth\": 2, \"linecolor\": \"white\", \"showbackground\": true, \"ticks\": \"\", \"zerolinecolor\": \"white\"}, \"yaxis\": {\"backgroundcolor\": \"#E5ECF6\", \"gridcolor\": \"white\", \"gridwidth\": 2, \"linecolor\": \"white\", \"showbackground\": true, \"ticks\": \"\", \"zerolinecolor\": \"white\"}, \"zaxis\": {\"backgroundcolor\": \"#E5ECF6\", \"gridcolor\": \"white\", \"gridwidth\": 2, \"linecolor\": \"white\", \"showbackground\": true, \"ticks\": \"\", \"zerolinecolor\": \"white\"}}, \"shapedefaults\": {\"line\": {\"color\": \"#2a3f5f\"}}, \"ternary\": {\"aaxis\": {\"gridcolor\": \"white\", \"linecolor\": \"white\", \"ticks\": \"\"}, \"baxis\": {\"gridcolor\": \"white\", \"linecolor\": \"white\", \"ticks\": \"\"}, \"bgcolor\": \"#E5ECF6\", \"caxis\": {\"gridcolor\": \"white\", \"linecolor\": \"white\", \"ticks\": \"\"}}, \"title\": {\"x\": 0.05}, \"xaxis\": {\"automargin\": true, \"gridcolor\": \"white\", \"linecolor\": \"white\", \"ticks\": \"\", \"title\": {\"standoff\": 15}, \"zerolinecolor\": \"white\", \"zerolinewidth\": 2}, \"yaxis\": {\"automargin\": true, \"gridcolor\": \"white\", \"linecolor\": \"white\", \"ticks\": \"\", \"title\": {\"standoff\": 15}, \"zerolinecolor\": \"white\", \"zerolinewidth\": 2}}}, \"title\": {\"font\": {\"color\": \"#4D5663\"}, \"text\": \"Top 25 trigrams\"}, \"xaxis\": {\"gridcolor\": \"#E1E5ED\", \"linecolor\": \"black\", \"showgrid\": true, \"tickfont\": {\"color\": \"#4D5663\"}, \"title\": {\"font\": {\"color\": \"#4D5663\"}, \"text\": \"\"}, \"zerolinecolor\": \"#E1E5ED\"}, \"yaxis\": {\"gridcolor\": \"#E1E5ED\", \"linecolor\": \"black\", \"showgrid\": true, \"tickfont\": {\"color\": \"#4D5663\"}, \"title\": {\"font\": {\"color\": \"#4D5663\"}, \"text\": \"Count\"}, \"zerolinecolor\": \"#E1E5ED\"}},\n",
       "                        {\"showLink\": true, \"linkText\": \"Export to plot.ly\", \"plotlyServerURL\": \"https://plot.ly\", \"responsive\": true}\n",
       "                    ).then(function(){\n",
       "                            \n",
       "var gd = document.getElementById('9d118194-0dda-4b51-9219-3cbe1f0d9d04');\n",
       "var x = new MutationObserver(function (mutations, observer) {{\n",
       "        var display = window.getComputedStyle(gd).display;\n",
       "        if (!display || display === 'none') {{\n",
       "            console.log([gd, 'removed!']);\n",
       "            Plotly.purge(gd);\n",
       "            observer.disconnect();\n",
       "        }}\n",
       "}});\n",
       "\n",
       "// Listen for the removal of the full notebook cells\n",
       "var notebookContainer = gd.closest('#notebook-container');\n",
       "if (notebookContainer) {{\n",
       "    x.observe(notebookContainer, {childList: true});\n",
       "}}\n",
       "\n",
       "// Listen for the clearing of the current output cell\n",
       "var outputEl = gd.closest('.output');\n",
       "if (outputEl) {{\n",
       "    x.observe(outputEl, {childList: true});\n",
       "}}\n",
       "\n",
       "                        })\n",
       "                };\n",
       "                });\n",
       "            </script>\n",
       "        </div>"
      ]
     },
     "metadata": {},
     "output_type": "display_data"
    }
   ],
   "source": [
    "def get_top_n_trigram(corpus, n=None):\n",
    "    vec = CountVectorizer(ngram_range=(3, 3)).fit(corpus)\n",
    "    bag_of_words = vec.transform(corpus)\n",
    "    sum_words = bag_of_words.sum(axis=0) \n",
    "    words_freq = [(word, sum_words[0, idx]) for word, idx in vec.vocabulary_.items()]\n",
    "    words_freq =sorted(words_freq, key = lambda x: x[1], reverse=True)\n",
    "    return words_freq[:n]\n",
    "common_words = get_top_n_trigram(new_df['Clean Description'], 25)\n",
    "for word, freq in common_words:\n",
    "    print(word, freq)\n",
    "df3 = pd.DataFrame(common_words, columns = ['Clean Description' , 'count'])\n",
    "df3.groupby('Clean Description').sum()['count'].sort_values(ascending=False).iplot(\n",
    "    kind='bar', yTitle='Count', linecolor='black', title='Top 25 trigrams')\n"
   ]
  },
  {
   "cell_type": "markdown",
   "metadata": {},
   "source": [
    "Understanding whether the length of the ticket has an implication on the group it belongs to"
   ]
  },
  {
   "cell_type": "code",
   "execution_count": 179,
   "metadata": {},
   "outputs": [],
   "source": [
    "#creating a column for determining word count\n",
    "new_df['word_count'] = new_df['Clean Description'].str.split().map(len)"
   ]
  },
  {
   "cell_type": "code",
   "execution_count": 191,
   "metadata": {},
   "outputs": [
    {
     "data": {
      "image/png": "[encoded data removed]",
      "text/plain": [
       "<Figure size 1440x1440 with 1 Axes>"
      ]
     },
     "metadata": {
      "needs_background": "light"
     },
     "output_type": "display_data"
    }
   ],
   "source": [
    "fig_dims = (20, 20)\n",
    "fig, ax = plt.subplots(figsize=fig_dims)\n",
    "chart=sns.boxplot(x=\"Assignment group\", y=\"word_count\",ax=ax, data=new_df) \n",
    "chart.set_xticklabels(chart.get_xticklabels(), rotation=90, ha=\"right\")\n",
    "plt.tight_layout()\n",
    "plt.show()"
   ]
  },
  {
   "cell_type": "markdown",
   "metadata": {},
   "source": [
    "Excepting for some groups like group 56 & 70 that stand out in terms of the large no. of words used, difficult to see a pattern emerging across other groups"
   ]
  },
  {
   "cell_type": "markdown",
   "metadata": {},
   "source": [
    "# Combining Assignment Groups\n",
    "\n",
    "We had earlier mentioned that a lof assignment groups had very less records and thus we would need to combine all such groups into a \"Other\" Group."
   ]
  },
  {
   "cell_type": "code",
   "execution_count": 192,
   "metadata": {},
   "outputs": [],
   "source": [
    "new_df['New grouping']=new_df['Assignment group'].copy()"
   ]
  },
  {
   "cell_type": "code",
   "execution_count": 193,
   "metadata": {},
   "outputs": [],
   "source": [
    "cols = ['New grouping']\n",
    "for col in cols:\n",
    "    val = new_df[col].value_counts()\n",
    "    y = val[val < 30].index # all groups with less than 30 records will be combined into others\n",
    "    new_df[col] = new_df[col].replace({x:'other' for x in y})"
   ]
  },
  {
   "cell_type": "code",
   "execution_count": 201,
   "metadata": {},
   "outputs": [
    {
     "data": {
      "text/html": [
       "<div>\n",
       "<style scoped>\n",
       "    .dataframe tbody tr th:only-of-type {\n",
       "        vertical-align: middle;\n",
       "    }\n",
       "\n",
       "    .dataframe tbody tr th {\n",
       "        vertical-align: top;\n",
       "    }\n",
       "\n",
       "    .dataframe thead th {\n",
       "        text-align: right;\n",
       "    }\n",
       "</style>\n",
       "<table border=\"1\" class=\"dataframe\">\n",
       "  <thead>\n",
       "    <tr style=\"text-align: right;\">\n",
       "      <th></th>\n",
       "      <th>Short description</th>\n",
       "      <th>Description</th>\n",
       "      <th>Caller</th>\n",
       "      <th>Assignment group</th>\n",
       "      <th>Total</th>\n",
       "      <th>Clean Description</th>\n",
       "      <th>New grouping</th>\n",
       "      <th>word_count</th>\n",
       "    </tr>\n",
       "  </thead>\n",
       "  <tbody>\n",
       "    <tr>\n",
       "      <th>0</th>\n",
       "      <td>login issue</td>\n",
       "      <td>verified user details employee manager name ch...</td>\n",
       "      <td>spxjnwir pjlcoqds</td>\n",
       "      <td>GRP_0</td>\n",
       "      <td>login issue verify user detail employee manage...</td>\n",
       "      <td>login issue verify user detail employee manage...</td>\n",
       "      <td>GRP_0</td>\n",
       "      <td>17</td>\n",
       "    </tr>\n",
       "    <tr>\n",
       "      <th>1</th>\n",
       "      <td>outlook</td>\n",
       "      <td>received from hello team my meetings skype mee...</td>\n",
       "      <td>hmjdrvpb komuaywn</td>\n",
       "      <td>GRP_0</td>\n",
       "      <td>outlook receive from hello team meeting skype ...</td>\n",
       "      <td>outlook team meeting skype etc not appear cale...</td>\n",
       "      <td>GRP_0</td>\n",
       "      <td>12</td>\n",
       "    </tr>\n",
       "    <tr>\n",
       "      <th>2</th>\n",
       "      <td>cant log in to vpn</td>\n",
       "      <td>received from hi i cannot log on to vpn best</td>\n",
       "      <td>eylqgodm ybqkwiam</td>\n",
       "      <td>GRP_0</td>\n",
       "      <td>can not log in to vpn receive from hi i can no...</td>\n",
       "      <td>can not log vpn not best</td>\n",
       "      <td>GRP_0</td>\n",
       "      <td>6</td>\n",
       "    </tr>\n",
       "    <tr>\n",
       "      <th>3</th>\n",
       "      <td>unable to access hr tool page</td>\n",
       "      <td>unable to access hr tool page</td>\n",
       "      <td>xbkucsvz gcpydteq</td>\n",
       "      <td>GRP_0</td>\n",
       "      <td>unable to access hr tool page</td>\n",
       "      <td>unable access hr tool page</td>\n",
       "      <td>GRP_0</td>\n",
       "      <td>5</td>\n",
       "    </tr>\n",
       "    <tr>\n",
       "      <th>4</th>\n",
       "      <td>skype error</td>\n",
       "      <td>skype error</td>\n",
       "      <td>owlgqjme qhcozdfx</td>\n",
       "      <td>GRP_0</td>\n",
       "      <td>skype error</td>\n",
       "      <td>skype error</td>\n",
       "      <td>GRP_0</td>\n",
       "      <td>2</td>\n",
       "    </tr>\n",
       "  </tbody>\n",
       "</table>\n",
       "</div>"
      ],
      "text/plain": [
       "               Short description  \\\n",
       "0                    login issue   \n",
       "1                        outlook   \n",
       "2             cant log in to vpn   \n",
       "3  unable to access hr tool page   \n",
       "4                    skype error   \n",
       "\n",
       "                                         Description             Caller  \\\n",
       "0  verified user details employee manager name ch...  spxjnwir pjlcoqds   \n",
       "1  received from hello team my meetings skype mee...  hmjdrvpb komuaywn   \n",
       "2       received from hi i cannot log on to vpn best  eylqgodm ybqkwiam   \n",
       "3                      unable to access hr tool page  xbkucsvz gcpydteq   \n",
       "4                                        skype error  owlgqjme qhcozdfx   \n",
       "\n",
       "  Assignment group                                              Total  \\\n",
       "0            GRP_0  login issue verify user detail employee manage...   \n",
       "1            GRP_0  outlook receive from hello team meeting skype ...   \n",
       "2            GRP_0  can not log in to vpn receive from hi i can no...   \n",
       "3            GRP_0                      unable to access hr tool page   \n",
       "4            GRP_0                                        skype error   \n",
       "\n",
       "                                   Clean Description New grouping  word_count  \n",
       "0  login issue verify user detail employee manage...        GRP_0          17  \n",
       "1  outlook team meeting skype etc not appear cale...        GRP_0          12  \n",
       "2                           can not log vpn not best        GRP_0           6  \n",
       "3                         unable access hr tool page        GRP_0           5  \n",
       "4                                        skype error        GRP_0           2  "
      ]
     },
     "execution_count": 201,
     "metadata": {},
     "output_type": "execute_result"
    }
   ],
   "source": [
    "new_df.head()"
   ]
  },
  {
   "cell_type": "code",
   "execution_count": 202,
   "metadata": {},
   "outputs": [
    {
     "data": {
      "text/plain": [
       "GRP_0     3976\n",
       "GRP_8      661\n",
       "other      357\n",
       "GRP_24     289\n",
       "GRP_12     257\n",
       "GRP_9      252\n",
       "GRP_2      241\n",
       "GRP_19     215\n",
       "GRP_3      200\n",
       "GRP_6      184\n",
       "GRP_13     145\n",
       "GRP_10     140\n",
       "GRP_5      129\n",
       "GRP_14     118\n",
       "GRP_25     116\n",
       "GRP_33     107\n",
       "GRP_4      100\n",
       "GRP_29      97\n",
       "GRP_18      88\n",
       "GRP_16      85\n",
       "GRP_17      81\n",
       "GRP_31      69\n",
       "GRP_7       68\n",
       "GRP_34      62\n",
       "GRP_26      56\n",
       "GRP_40      45\n",
       "GRP_28      44\n",
       "GRP_41      40\n",
       "GRP_30      39\n",
       "GRP_15      39\n",
       "GRP_42      37\n",
       "GRP_20      36\n",
       "GRP_45      35\n",
       "GRP_22      31\n",
       "GRP_1       31\n",
       "GRP_11      30\n",
       "Name: New grouping, dtype: int64"
      ]
     },
     "execution_count": 202,
     "metadata": {},
     "output_type": "execute_result"
    }
   ],
   "source": [
    "new_df['New grouping'].value_counts()"
   ]
  },
  {
   "cell_type": "markdown",
   "metadata": {},
   "source": [
    "Thus Now from the earlier 74 groups, we now have only 36 groups - with a group called as \"others\". While the groups are quite unbalanced in terms of no. of records in each group, at this stage, we would not be undertaking any balancing exercise but check the accuracies of the models and of required at the next stage try and balance the groups."
   ]
  },
  {
   "cell_type": "markdown",
   "metadata": {},
   "source": [
    "# Initial Modeling\n",
    "\n",
    "This is meant to be a trial run of an initial model to understand likely accuracies. At this stage, we have two columns of interest, \"Clean Description\" and \"New grouping\". A new dataframe will be created using only these two columns and a trial model would be run"
   ]
  },
  {
   "cell_type": "code",
   "execution_count": 203,
   "metadata": {},
   "outputs": [],
   "source": [
    "model_df = new_df[{'Clean Description','New grouping'}]"
   ]
  },
  {
   "cell_type": "code",
   "execution_count": 204,
   "metadata": {},
   "outputs": [
    {
     "data": {
      "text/html": [
       "<div>\n",
       "<style scoped>\n",
       "    .dataframe tbody tr th:only-of-type {\n",
       "        vertical-align: middle;\n",
       "    }\n",
       "\n",
       "    .dataframe tbody tr th {\n",
       "        vertical-align: top;\n",
       "    }\n",
       "\n",
       "    .dataframe thead th {\n",
       "        text-align: right;\n",
       "    }\n",
       "</style>\n",
       "<table border=\"1\" class=\"dataframe\">\n",
       "  <thead>\n",
       "    <tr style=\"text-align: right;\">\n",
       "      <th></th>\n",
       "      <th>Clean Description</th>\n",
       "      <th>New grouping</th>\n",
       "    </tr>\n",
       "  </thead>\n",
       "  <tbody>\n",
       "    <tr>\n",
       "      <th>0</th>\n",
       "      <td>login issue verify user detail employee manage...</td>\n",
       "      <td>GRP_0</td>\n",
       "    </tr>\n",
       "    <tr>\n",
       "      <th>1</th>\n",
       "      <td>outlook team meeting skype etc not appear cale...</td>\n",
       "      <td>GRP_0</td>\n",
       "    </tr>\n",
       "    <tr>\n",
       "      <th>2</th>\n",
       "      <td>can not log vpn not best</td>\n",
       "      <td>GRP_0</td>\n",
       "    </tr>\n",
       "    <tr>\n",
       "      <th>3</th>\n",
       "      <td>unable access hr tool page</td>\n",
       "      <td>GRP_0</td>\n",
       "    </tr>\n",
       "    <tr>\n",
       "      <th>4</th>\n",
       "      <td>skype error</td>\n",
       "      <td>GRP_0</td>\n",
       "    </tr>\n",
       "  </tbody>\n",
       "</table>\n",
       "</div>"
      ],
      "text/plain": [
       "                                   Clean Description New grouping\n",
       "0  login issue verify user detail employee manage...        GRP_0\n",
       "1  outlook team meeting skype etc not appear cale...        GRP_0\n",
       "2                           can not log vpn not best        GRP_0\n",
       "3                         unable access hr tool page        GRP_0\n",
       "4                                        skype error        GRP_0"
      ]
     },
     "execution_count": 204,
     "metadata": {},
     "output_type": "execute_result"
    }
   ],
   "source": [
    "model_df.head()"
   ]
  },
  {
   "cell_type": "code",
   "execution_count": 205,
   "metadata": {},
   "outputs": [
    {
     "data": {
      "text/plain": [
       "(8500, 2)"
      ]
     },
     "execution_count": 205,
     "metadata": {},
     "output_type": "execute_result"
    }
   ],
   "source": [
    "model_df.shape"
   ]
  },
  {
   "cell_type": "code",
   "execution_count": 206,
   "metadata": {},
   "outputs": [
    {
     "data": {
      "text/html": [
       "<div>\n",
       "<style scoped>\n",
       "    .dataframe tbody tr th:only-of-type {\n",
       "        vertical-align: middle;\n",
       "    }\n",
       "\n",
       "    .dataframe tbody tr th {\n",
       "        vertical-align: top;\n",
       "    }\n",
       "\n",
       "    .dataframe thead th {\n",
       "        text-align: right;\n",
       "    }\n",
       "</style>\n",
       "<table border=\"1\" class=\"dataframe\">\n",
       "  <thead>\n",
       "    <tr style=\"text-align: right;\">\n",
       "      <th></th>\n",
       "      <th>count</th>\n",
       "      <th>unique</th>\n",
       "      <th>top</th>\n",
       "      <th>freq</th>\n",
       "    </tr>\n",
       "  </thead>\n",
       "  <tbody>\n",
       "    <tr>\n",
       "      <th>Clean Description</th>\n",
       "      <td>8500</td>\n",
       "      <td>6634</td>\n",
       "      <td>job fail scheduler from</td>\n",
       "      <td>445</td>\n",
       "    </tr>\n",
       "    <tr>\n",
       "      <th>New grouping</th>\n",
       "      <td>8500</td>\n",
       "      <td>36</td>\n",
       "      <td>GRP_0</td>\n",
       "      <td>3976</td>\n",
       "    </tr>\n",
       "  </tbody>\n",
       "</table>\n",
       "</div>"
      ],
      "text/plain": [
       "                  count unique                      top  freq\n",
       "Clean Description  8500   6634  job fail scheduler from   445\n",
       "New grouping       8500     36                    GRP_0  3976"
      ]
     },
     "execution_count": 206,
     "metadata": {},
     "output_type": "execute_result"
    }
   ],
   "source": [
    "model_df.describe().transpose()"
   ]
  },
  {
   "cell_type": "markdown",
   "metadata": {},
   "source": [
    "## Get the Length of each line and find the maximum length. ( 4 marks)\n",
    "As different lines are of different length. We need to pad the our sequences using the max length."
   ]
  },
  {
   "cell_type": "code",
   "execution_count": 207,
   "metadata": {},
   "outputs": [],
   "source": [
    "#creating a column for determining word count\n",
    "model_df['word_count'] = model_df['Clean Description'].str.split().map(len)"
   ]
  },
  {
   "cell_type": "code",
   "execution_count": 208,
   "metadata": {},
   "outputs": [
    {
     "data": {
      "text/html": [
       "<div>\n",
       "<style scoped>\n",
       "    .dataframe tbody tr th:only-of-type {\n",
       "        vertical-align: middle;\n",
       "    }\n",
       "\n",
       "    .dataframe tbody tr th {\n",
       "        vertical-align: top;\n",
       "    }\n",
       "\n",
       "    .dataframe thead th {\n",
       "        text-align: right;\n",
       "    }\n",
       "</style>\n",
       "<table border=\"1\" class=\"dataframe\">\n",
       "  <thead>\n",
       "    <tr style=\"text-align: right;\">\n",
       "      <th></th>\n",
       "      <th>Clean Description</th>\n",
       "      <th>New grouping</th>\n",
       "      <th>word_count</th>\n",
       "    </tr>\n",
       "  </thead>\n",
       "  <tbody>\n",
       "    <tr>\n",
       "      <th>0</th>\n",
       "      <td>login issue verify user detail employee manage...</td>\n",
       "      <td>GRP_0</td>\n",
       "      <td>17</td>\n",
       "    </tr>\n",
       "    <tr>\n",
       "      <th>1</th>\n",
       "      <td>outlook team meeting skype etc not appear cale...</td>\n",
       "      <td>GRP_0</td>\n",
       "      <td>12</td>\n",
       "    </tr>\n",
       "    <tr>\n",
       "      <th>2</th>\n",
       "      <td>can not log vpn not best</td>\n",
       "      <td>GRP_0</td>\n",
       "      <td>6</td>\n",
       "    </tr>\n",
       "    <tr>\n",
       "      <th>3</th>\n",
       "      <td>unable access hr tool page</td>\n",
       "      <td>GRP_0</td>\n",
       "      <td>5</td>\n",
       "    </tr>\n",
       "    <tr>\n",
       "      <th>4</th>\n",
       "      <td>skype error</td>\n",
       "      <td>GRP_0</td>\n",
       "      <td>2</td>\n",
       "    </tr>\n",
       "  </tbody>\n",
       "</table>\n",
       "</div>"
      ],
      "text/plain": [
       "                                   Clean Description New grouping  word_count\n",
       "0  login issue verify user detail employee manage...        GRP_0          17\n",
       "1  outlook team meeting skype etc not appear cale...        GRP_0          12\n",
       "2                           can not log vpn not best        GRP_0           6\n",
       "3                         unable access hr tool page        GRP_0           5\n",
       "4                                        skype error        GRP_0           2"
      ]
     },
     "execution_count": 208,
     "metadata": {},
     "output_type": "execute_result"
    }
   ],
   "source": [
    "model_df.head()"
   ]
  },
  {
   "cell_type": "code",
   "execution_count": 209,
   "metadata": {},
   "outputs": [
    {
     "data": {
      "text/plain": [
       "486"
      ]
     },
     "execution_count": 209,
     "metadata": {},
     "output_type": "execute_result"
    }
   ],
   "source": [
    "# understanding the max no. of words\n",
    "max (model_df['word_count'])"
   ]
  },
  {
   "cell_type": "markdown",
   "metadata": {},
   "source": [
    "Thus the maximum no. of words is 486"
   ]
  },
  {
   "cell_type": "code",
   "execution_count": 210,
   "metadata": {},
   "outputs": [
    {
     "data": {
      "text/plain": [
       "13.77070588235294"
      ]
     },
     "execution_count": 210,
     "metadata": {},
     "output_type": "execute_result"
    }
   ],
   "source": [
    "np.mean (model_df['word_count'])"
   ]
  },
  {
   "cell_type": "code",
   "execution_count": 211,
   "metadata": {},
   "outputs": [
    {
     "data": {
      "text/plain": [
       "20.593414440671673"
      ]
     },
     "execution_count": 211,
     "metadata": {},
     "output_type": "execute_result"
    }
   ],
   "source": [
    "np.std (model_df['word_count'])"
   ]
  },
  {
   "cell_type": "markdown",
   "metadata": {},
   "source": [
    "Given that the average no. of words is ~ 14 and standard deviation is ~21, we could safely fix the max number of words at 100 without too much loss in data"
   ]
  },
  {
   "cell_type": "markdown",
   "metadata": {},
   "source": [
    "## Import required modules required for modelling."
   ]
  },
  {
   "cell_type": "code",
   "execution_count": 212,
   "metadata": {},
   "outputs": [
    {
     "name": "stderr",
     "output_type": "stream",
     "text": [
      "C:\\ProgramData\\Anaconda3\\lib\\site-packages\\h5py\\__init__.py:72: UserWarning:\n",
      "\n",
      "h5py is running against HDF5 1.10.2 when it was built against 1.10.3, this may cause problems\n",
      "\n",
      "Using TensorFlow backend.\n"
     ]
    }
   ],
   "source": [
    "# Utilities\n",
    "\n",
    "import os, zipfile, sys, warnings\n",
    "from time import time\n",
    "import cv2\n",
    "import tensorflow as tf\n",
    "from tensorflow import keras\n",
    "\n",
    "# Numerical calculation\n",
    "import numpy as np\n",
    "\n",
    "# Data Handling\n",
    "import pandas as pd\n",
    "from sklearn.feature_extraction.text import CountVectorizer\n",
    "from sklearn.metrics import confusion_matrix, accuracy_score\n",
    "from sklearn.model_selection import train_test_split\n",
    "\n",
    "from keras.preprocessing.text import Tokenizer\n",
    "from keras.preprocessing.sequence import pad_sequences\n",
    "from keras.models import Sequential\n",
    "from keras.layers import *\n",
    "from keras.utils.np_utils import to_categorical\n",
    "from keras.initializers import Constant\n",
    "import re\n",
    "\n",
    "\n",
    "# Data Visualization\n",
    "import matplotlib.pyplot as plt\n",
    "%matplotlib inline\n",
    "\n",
    "import seaborn as sns\n",
    "\n",
    "# Sequential Modeling\n",
    "import keras.backend as K\n",
    "from keras import initializers\n",
    "from keras.engine.topology import Layer, InputSpec\n",
    "from keras.models import Model, Sequential\n",
    "from keras.layers import Dense, LSTM, TimeDistributed, Conv1D, MaxPooling1D\n",
    "from keras.layers import Embedding, Activation, Dropout, Flatten, Bidirectional\n",
    "from keras.layers import Permute, merge, Input, multiply, concatenate\n",
    "from keras.callbacks import Callback, ModelCheckpoint, EarlyStopping\n",
    "from keras.constraints import max_norm, unit_norm\n",
    "\n",
    "# Preprocessing and NLP library\n",
    "from keras.preprocessing.text import Tokenizer, text_to_word_sequence\n",
    "from keras.preprocessing.sequence import pad_sequences\n",
    "import nltk\n",
    "\n",
    "# Evaluation metrics\n",
    "from sklearn.metrics import confusion_matrix, classification_report, roc_curve, auc, accuracy_score, precision_recall_curve"
   ]
  },
  {
   "cell_type": "markdown",
   "metadata": {},
   "source": [
    "# Set Different Parameters for the model. "
   ]
  },
  {
   "cell_type": "code",
   "execution_count": 213,
   "metadata": {},
   "outputs": [],
   "source": [
    "max_features = 10000\n",
    "maxlen = 100\n",
    "embedding_size = 200"
   ]
  },
  {
   "cell_type": "markdown",
   "metadata": {},
   "source": [
    "## Apply Keras Tokenizer of headline column of your data. \n",
    "First creating a tokenizer instance using Tokenizer(num_words=max_features) \n",
    "And then fit this tokenizer instance on your data column model_df['Clean Description'] using .fit_on_texts()"
   ]
  },
  {
   "cell_type": "code",
   "execution_count": 214,
   "metadata": {},
   "outputs": [
    {
     "name": "stderr",
     "output_type": "stream",
     "text": [
      "[nltk_data] Downloading package punkt to\n",
      "[nltk_data]     C:\\Users\\shiv\\AppData\\Roaming\\nltk_data...\n",
      "[nltk_data]   Package punkt is already up-to-date!\n"
     ]
    },
    {
     "data": {
      "text/plain": [
       "True"
      ]
     },
     "execution_count": 214,
     "metadata": {},
     "output_type": "execute_result"
    }
   ],
   "source": [
    "import nltk\n",
    "nltk.download('punkt')"
   ]
  },
  {
   "cell_type": "code",
   "execution_count": 215,
   "metadata": {},
   "outputs": [],
   "source": [
    "tokenizer = Tokenizer(num_words=max_features,filters= '!\"#$%&()*+,-./:;<=>?@[\\]^_`{|}\\n“~”')"
   ]
  },
  {
   "cell_type": "code",
   "execution_count": 216,
   "metadata": {},
   "outputs": [],
   "source": [
    "tokenizer.fit_on_texts(model_df['Clean Description'])"
   ]
  },
  {
   "cell_type": "markdown",
   "metadata": {},
   "source": [
    "# Defining X and y for the model."
   ]
  },
  {
   "cell_type": "code",
   "execution_count": 217,
   "metadata": {},
   "outputs": [
    {
     "name": "stdout",
     "output_type": "stream",
     "text": [
      "<class 'pandas.core.frame.DataFrame'>\n",
      "RangeIndex: 8500 entries, 0 to 8499\n",
      "Data columns (total 3 columns):\n",
      "Clean Description    8500 non-null object\n",
      "New grouping         8500 non-null int8\n",
      "word_count           8500 non-null int64\n",
      "dtypes: int64(1), int8(1), object(1)\n",
      "memory usage: 141.2+ KB\n"
     ]
    }
   ],
   "source": [
    "# First to Create a target categorical column\n",
    "model_df['New grouping'] = model_df['New grouping'].astype('category').cat.codes\n",
    "model_df.info()"
   ]
  },
  {
   "cell_type": "code",
   "execution_count": 218,
   "metadata": {},
   "outputs": [
    {
     "data": {
      "text/html": [
       "<div>\n",
       "<style scoped>\n",
       "    .dataframe tbody tr th:only-of-type {\n",
       "        vertical-align: middle;\n",
       "    }\n",
       "\n",
       "    .dataframe tbody tr th {\n",
       "        vertical-align: top;\n",
       "    }\n",
       "\n",
       "    .dataframe thead th {\n",
       "        text-align: right;\n",
       "    }\n",
       "</style>\n",
       "<table border=\"1\" class=\"dataframe\">\n",
       "  <thead>\n",
       "    <tr style=\"text-align: right;\">\n",
       "      <th></th>\n",
       "      <th>Clean Description</th>\n",
       "      <th>New grouping</th>\n",
       "      <th>word_count</th>\n",
       "    </tr>\n",
       "  </thead>\n",
       "  <tbody>\n",
       "    <tr>\n",
       "      <th>0</th>\n",
       "      <td>login issue verify user detail employee manage...</td>\n",
       "      <td>0</td>\n",
       "      <td>17</td>\n",
       "    </tr>\n",
       "    <tr>\n",
       "      <th>1</th>\n",
       "      <td>outlook team meeting skype etc not appear cale...</td>\n",
       "      <td>0</td>\n",
       "      <td>12</td>\n",
       "    </tr>\n",
       "    <tr>\n",
       "      <th>2</th>\n",
       "      <td>can not log vpn not best</td>\n",
       "      <td>0</td>\n",
       "      <td>6</td>\n",
       "    </tr>\n",
       "    <tr>\n",
       "      <th>3</th>\n",
       "      <td>unable access hr tool page</td>\n",
       "      <td>0</td>\n",
       "      <td>5</td>\n",
       "    </tr>\n",
       "    <tr>\n",
       "      <th>4</th>\n",
       "      <td>skype error</td>\n",
       "      <td>0</td>\n",
       "      <td>2</td>\n",
       "    </tr>\n",
       "  </tbody>\n",
       "</table>\n",
       "</div>"
      ],
      "text/plain": [
       "                                   Clean Description  New grouping  word_count\n",
       "0  login issue verify user detail employee manage...             0          17\n",
       "1  outlook team meeting skype etc not appear cale...             0          12\n",
       "2                           can not log vpn not best             0           6\n",
       "3                         unable access hr tool page             0           5\n",
       "4                                        skype error             0           2"
      ]
     },
     "execution_count": 218,
     "metadata": {},
     "output_type": "execute_result"
    }
   ],
   "source": [
    "model_df.head()"
   ]
  },
  {
   "cell_type": "code",
   "execution_count": 219,
   "metadata": {},
   "outputs": [
    {
     "name": "stdout",
     "output_type": "stream",
     "text": [
      "Number of Samples: 8500\n",
      "[  0   0   0   0   0   0   0   0   0   0   0   0   0   0   0   0   0   0\n",
      "   0   0   0   0   0   0   0   0   0   0   0   0   0   0   0   0   0   0\n",
      "   0   0   0   0   0   0   0   0   0   0   0   0   0   0   0   0   0   0\n",
      "   0   0   0   0   0   0   0   0   0   0   0   0   0   0   0   0   0   0\n",
      "   0   0   0   0   0   0   0   0   0   0   0  30   6 102  11  89 129  59\n",
      "  25  32 207  10   2 161  32 257 142  78]\n",
      "Number of Labels:  8500\n",
      "0\n"
     ]
    }
   ],
   "source": [
    "X = tokenizer.texts_to_sequences(model_df['Clean Description'])\n",
    "X = pad_sequences(X, maxlen = maxlen)\n",
    "y = np.asarray(model_df['New grouping'])\n",
    "\n",
    "print(\"Number of Samples:\", len(X))\n",
    "print(X[0])\n",
    "print(\"Number of Labels: \", len(y))\n",
    "print(y[0])"
   ]
  },
  {
   "cell_type": "markdown",
   "metadata": {},
   "source": [
    "## Get the Vocabulary size \n",
    "Use tokenizer.word_index."
   ]
  },
  {
   "cell_type": "code",
   "execution_count": 220,
   "metadata": {},
   "outputs": [
    {
     "name": "stdout",
     "output_type": "stream",
     "text": [
      "Vocabulary size: 10328\n",
      "Documents count: 8500\n"
     ]
    }
   ],
   "source": [
    "vocab_size = len(tokenizer.word_index) + 1\n",
    "print('Vocabulary size: %d\\nDocuments count: %d' % (vocab_size, tokenizer.document_count))"
   ]
  },
  {
   "cell_type": "markdown",
   "metadata": {},
   "source": [
    "Note:\n",
    "\n",
    "That + 1 is because of reserving padding (i.e. index zero)."
   ]
  },
  {
   "cell_type": "markdown",
   "metadata": {},
   "source": [
    "## Get Glove Word Embeddings"
   ]
  },
  {
   "cell_type": "code",
   "execution_count": 221,
   "metadata": {},
   "outputs": [],
   "source": [
    "glove_file = \"glove.6B.zip\""
   ]
  },
  {
   "cell_type": "code",
   "execution_count": 222,
   "metadata": {},
   "outputs": [],
   "source": [
    "#Extract Glove embedding zip file\n",
    "from zipfile import ZipFile\n",
    "with ZipFile(glove_file, 'r') as z:\n",
    "  z.extractall()"
   ]
  },
  {
   "cell_type": "markdown",
   "metadata": {},
   "source": [
    "# Get the Word Embeddings using Embedding file and creating a weight matrix for words in training docs"
   ]
  },
  {
   "cell_type": "code",
   "execution_count": 223,
   "metadata": {},
   "outputs": [
    {
     "name": "stdout",
     "output_type": "stream",
     "text": [
      "Loaded 400000 word vectors.\n"
     ]
    }
   ],
   "source": [
    "# load the whole embedding into memory\n",
    "embeddings_index = dict()\n",
    "f = open('glove.6B.200d.txt', encoding=\"utf8\")\n",
    "for line in f:\n",
    "    values = line.split()\n",
    "    word = values[0]\n",
    "    coefs = np.asarray(values[1:], dtype='float32')\n",
    "    embeddings_index[word] = coefs\n",
    "f.close()\n",
    "print('Loaded %s word vectors.' % len(embeddings_index))\n",
    "\n",
    "# create a weight matrix for words in training docs\n",
    "embedding_matrix = np.zeros((vocab_size, 200))\n",
    "\n",
    "\n",
    "for word, i in tokenizer.word_index.items():\n",
    "    embedding_vector = embeddings_index.get(word)\n",
    "    if embedding_vector is not None:\n",
    "        embedding_matrix[i] = embedding_vector\n",
    "        "
   ]
  },
  {
   "cell_type": "markdown",
   "metadata": {},
   "source": [
    "# Splitting the data into training and validation samples"
   ]
  },
  {
   "cell_type": "code",
   "execution_count": 224,
   "metadata": {},
   "outputs": [],
   "source": [
    "from sklearn.model_selection import train_test_split\n",
    "\n",
    "X_train, X_test, y_train, y_test = train_test_split(X, y, test_size=0.20, random_state=1, stratify=y)"
   ]
  },
  {
   "cell_type": "markdown",
   "metadata": {},
   "source": [
    "## Create and Compile your Model\n",
    "Usinga  Sequential model instance and then add Embedding layer, Bidirectional(LSTM) layer, then dense and dropout layers as required. \n",
    "In the end add a final dense layer with sigmoid activation for binary classification.\n"
   ]
  },
  {
   "cell_type": "code",
   "execution_count": 228,
   "metadata": {},
   "outputs": [
    {
     "name": "stdout",
     "output_type": "stream",
     "text": [
      "Model: \"sequential_4\"\n",
      "_________________________________________________________________\n",
      "Layer (type)                 Output Shape              Param #   \n",
      "=================================================================\n",
      "embedding_4 (Embedding)      (None, 100, 200)          2065600   \n",
      "_________________________________________________________________\n",
      "spatial_dropout1d_4 (Spatial (None, 100, 200)          0         \n",
      "_________________________________________________________________\n",
      "bidirectional_8 (Bidirection (None, 100, 256)          337920    \n",
      "_________________________________________________________________\n",
      "bidirectional_9 (Bidirection (None, 100, 128)          164864    \n",
      "_________________________________________________________________\n",
      "bidirectional_10 (Bidirectio (None, 64)                41472     \n",
      "_________________________________________________________________\n",
      "dropout_3 (Dropout)          (None, 64)                0         \n",
      "_________________________________________________________________\n",
      "dense_3 (Dense)              (None, 36)                2340      \n",
      "=================================================================\n",
      "Total params: 2,612,196\n",
      "Trainable params: 2,612,196\n",
      "Non-trainable params: 0\n",
      "_________________________________________________________________\n",
      "None\n"
     ]
    }
   ],
   "source": [
    "# Build the model\n",
    "embedding_dim = 200\n",
    "\n",
    "model = Sequential()\n",
    "model.add(Embedding(vocab_size,\n",
    "                    embedding_dim,\n",
    "                    embeddings_initializer=Constant(embedding_matrix),\n",
    "                    input_length=maxlen,\n",
    "                    trainable=True))\n",
    "model.add(SpatialDropout1D(0.2))\n",
    "model.add(Bidirectional(CuDNNLSTM(128, return_sequences=True)))\n",
    "model.add(Bidirectional(CuDNNLSTM(64, return_sequences=True)))\n",
    "model.add(Bidirectional(CuDNNLSTM(32)))\n",
    "model.add(Dropout(0.25))\n",
    "model.add(Dense(units=36, activation='softmax'))\n",
    "model.compile(loss = 'categorical_crossentropy', optimizer='adam',metrics = ['accuracy'])\n",
    "print(model.summary())"
   ]
  },
  {
   "cell_type": "markdown",
   "metadata": {},
   "source": [
    "# Fitting the model with a batch size of 100 and validation_split = 0.2."
   ]
  },
  {
   "cell_type": "code",
   "execution_count": 229,
   "metadata": {},
   "outputs": [],
   "source": [
    "# Converting to categorical data\n",
    "y_train = to_categorical(y_train)\n",
    "y_test = to_categorical(y_test)"
   ]
  },
  {
   "cell_type": "code",
   "execution_count": 230,
   "metadata": {},
   "outputs": [
    {
     "name": "stdout",
     "output_type": "stream",
     "text": [
      "WARNING:tensorflow:From C:\\ProgramData\\Anaconda3\\lib\\site-packages\\keras\\backend\\tensorflow_backend.py:422: The name tf.global_variables is deprecated. Please use tf.compat.v1.global_variables instead.\n",
      "\n",
      "Train on 5440 samples, validate on 1360 samples\n",
      "Epoch 1/20\n",
      "5440/5440 [==============================] - 12s 2ms/step - loss: 2.5013 - accuracy: 0.4765 - val_loss: 2.1377 - val_accuracy: 0.5338\n",
      "Epoch 2/20\n",
      "5440/5440 [==============================] - 9s 2ms/step - loss: 2.0657 - accuracy: 0.5369 - val_loss: 1.9659 - val_accuracy: 0.5375\n",
      "Epoch 3/20\n",
      "5440/5440 [==============================] - 16s 3ms/step - loss: 1.8893 - accuracy: 0.5474 - val_loss: 1.8339 - val_accuracy: 0.5610\n",
      "Epoch 4/20\n",
      "5440/5440 [==============================] - 23s 4ms/step - loss: 1.7704 - accuracy: 0.5647 - val_loss: 1.7730 - val_accuracy: 0.5662\n",
      "Epoch 5/20\n",
      "5440/5440 [==============================] - 32s 6ms/step - loss: 1.6677 - accuracy: 0.5785 - val_loss: 1.7122 - val_accuracy: 0.5721\n",
      "Epoch 6/20\n",
      "5440/5440 [==============================] - 39s 7ms/step - loss: 1.5626 - accuracy: 0.5976 - val_loss: 1.6813 - val_accuracy: 0.5801\n",
      "Epoch 7/20\n",
      "5440/5440 [==============================] - 39s 7ms/step - loss: 1.4752 - accuracy: 0.6147 - val_loss: 1.6362 - val_accuracy: 0.5897\n",
      "Epoch 8/20\n",
      "5440/5440 [==============================] - 39s 7ms/step - loss: 1.3910 - accuracy: 0.6344 - val_loss: 1.6101 - val_accuracy: 0.5794\n",
      "Epoch 9/20\n",
      "5440/5440 [==============================] - 39s 7ms/step - loss: 1.3406 - accuracy: 0.6436 - val_loss: 1.5760 - val_accuracy: 0.5919\n",
      "Epoch 10/20\n",
      "5440/5440 [==============================] - 39s 7ms/step - loss: 1.2748 - accuracy: 0.6546 - val_loss: 1.5610 - val_accuracy: 0.5772\n",
      "Epoch 11/20\n",
      "5440/5440 [==============================] - 39s 7ms/step - loss: 1.2035 - accuracy: 0.6721 - val_loss: 1.5751 - val_accuracy: 0.5971\n",
      "Epoch 12/20\n",
      "5440/5440 [==============================] - 39s 7ms/step - loss: 1.1254 - accuracy: 0.6858 - val_loss: 1.6192 - val_accuracy: 0.5985\n",
      "Epoch 13/20\n",
      "5440/5440 [==============================] - 39s 7ms/step - loss: 1.0861 - accuracy: 0.7020 - val_loss: 1.5756 - val_accuracy: 0.6066\n",
      "Epoch 14/20\n",
      "5440/5440 [==============================] - 39s 7ms/step - loss: 1.0334 - accuracy: 0.7140 - val_loss: 1.5425 - val_accuracy: 0.6125\n",
      "Epoch 15/20\n",
      "5440/5440 [==============================] - 39s 7ms/step - loss: 0.9636 - accuracy: 0.7294 - val_loss: 1.5278 - val_accuracy: 0.6110\n",
      "Epoch 16/20\n",
      "5440/5440 [==============================] - 39s 7ms/step - loss: 0.9187 - accuracy: 0.7491 - val_loss: 1.5479 - val_accuracy: 0.6029\n",
      "Epoch 17/20\n",
      "5440/5440 [==============================] - 39s 7ms/step - loss: 0.8979 - accuracy: 0.7539 - val_loss: 1.5432 - val_accuracy: 0.6176\n",
      "Epoch 18/20\n",
      "5440/5440 [==============================] - 39s 7ms/step - loss: 0.8450 - accuracy: 0.7601 - val_loss: 1.5939 - val_accuracy: 0.6272\n",
      "Epoch 19/20\n",
      "5440/5440 [==============================] - 39s 7ms/step - loss: 0.7873 - accuracy: 0.7877 - val_loss: 1.5028 - val_accuracy: 0.6243\n",
      "Epoch 20/20\n",
      "5440/5440 [==============================] - 39s 7ms/step - loss: 0.7492 - accuracy: 0.7914 - val_loss: 1.5400 - val_accuracy: 0.6250\n"
     ]
    }
   ],
   "source": [
    "batch_size = 100\n",
    "epochs = 20\n",
    "history = model.fit(X_train, y_train, epochs=epochs, batch_size=batch_size, verbose=1, validation_split=0.2)"
   ]
  },
  {
   "cell_type": "code",
   "execution_count": 231,
   "metadata": {},
   "outputs": [
    {
     "data": {
      "image/png": "[encoded data removed]",
      "text/plain": [
       "<Figure size 432x288 with 1 Axes>"
      ]
     },
     "metadata": {
      "needs_background": "light"
     },
     "output_type": "display_data"
    },
    {
     "data": {
      "image/png": "[encoded data removed]",
      "text/plain": [
       "<Figure size 432x288 with 1 Axes>"
      ]
     },
     "metadata": {
      "needs_background": "light"
     },
     "output_type": "display_data"
    }
   ],
   "source": [
    "plt.plot(history.history['accuracy'])\n",
    "plt.plot(history.history['val_accuracy'])\n",
    "plt.title('model accuracy')\n",
    "plt.ylabel('accuracy')\n",
    "plt.xlabel('epoch')\n",
    "plt.legend(['train', 'validation'], loc='upper left')\n",
    "plt.show()\n",
    "\n",
    "plt.plot(history.history['loss'])\n",
    "plt.plot(history.history['val_loss'])\n",
    "plt.title('model loss')\n",
    "plt.ylabel('loss')\n",
    "plt.xlabel('epoch')\n",
    "plt.legend(['train', 'validation'], loc='upper left')\n",
    "plt.show()"
   ]
  },
  {
   "cell_type": "markdown",
   "metadata": {},
   "source": [
    "Model clearly overfits, on validation data it has an accuracy of only  ~ 63% whereas train accuracy is 75%"
   ]
  },
  {
   "cell_type": "markdown",
   "metadata": {},
   "source": [
    "## Prediction on Test Data"
   ]
  },
  {
   "cell_type": "code",
   "execution_count": 232,
   "metadata": {},
   "outputs": [],
   "source": [
    "# Generic method to print the classification report\n",
    "def classification_summary(y_test, y_pred, y_proba):\n",
    "    print('\\033[1mModel accuracy:\\033[0m %.2f%%' % (accuracy_score(y_test, y_pred) * 100))\n",
    "    print('_'*80)\n",
    "    print('\\033[1mConfusion matrix:\\033[0m\\n %s' % (confusion_matrix(y_test.argmax(axis=1), y_pred.argmax(axis=1))))\n",
    "    print('_'*80)\n",
    "    print('\\033[1mClassification report:\\033[0m\\n %s' % (classification_report(y_test, y_pred)))\n",
    "    print('_'*80)"
   ]
  },
  {
   "cell_type": "code",
   "execution_count": 233,
   "metadata": {},
   "outputs": [
    {
     "name": "stdout",
     "output_type": "stream",
     "text": [
      "\u001b[1mModel accuracy:\u001b[0m 53.59%\n",
      "________________________________________________________________________________\n",
      "\u001b[1mConfusion matrix:\u001b[0m\n",
      " [[766   0   1 ...   0   0   7]\n",
      " [  2   0   0 ...   0   0   0]\n",
      " [ 13   0  13 ...   0   0   1]\n",
      " ...\n",
      " [ 49   0   1 ...  70   0   0]\n",
      " [ 48   0   0 ...   0   0   2]\n",
      " [ 56   0   0 ...   3   0   7]]\n",
      "________________________________________________________________________________\n",
      "\u001b[1mClassification report:\u001b[0m\n",
      "               precision    recall  f1-score   support\n",
      "\n",
      "           0       0.83      0.84      0.83       795\n",
      "           1       0.00      0.00      0.00         6\n",
      "           2       0.57      0.46      0.51        28\n",
      "           3       0.00      0.00      0.00         6\n",
      "           4       0.65      0.51      0.57        51\n",
      "           5       0.52      0.38      0.44        29\n",
      "           6       0.69      0.38      0.49        24\n",
      "           7       0.00      0.00      0.00         8\n",
      "           8       0.00      0.00      0.00        17\n",
      "           9       1.00      0.81      0.90        16\n",
      "          10       0.00      0.00      0.00        18\n",
      "          11       0.56      0.12      0.19        43\n",
      "          12       0.70      0.29      0.41        48\n",
      "          13       0.00      0.00      0.00         7\n",
      "          14       0.00      0.00      0.00         6\n",
      "          15       0.89      0.72      0.80        58\n",
      "          16       0.77      0.43      0.56        23\n",
      "          17       0.00      0.00      0.00        11\n",
      "          18       0.00      0.00      0.00         9\n",
      "          19       0.60      0.15      0.24        20\n",
      "          20       0.31      0.10      0.15        40\n",
      "          21       0.00      0.00      0.00         8\n",
      "          22       0.00      0.00      0.00        14\n",
      "          23       1.00      0.14      0.25        21\n",
      "          24       0.00      0.00      0.00        12\n",
      "          25       0.38      0.30      0.33        20\n",
      "          26       0.00      0.00      0.00         9\n",
      "          27       0.00      0.00      0.00         8\n",
      "          28       0.00      0.00      0.00         7\n",
      "          29       0.00      0.00      0.00         7\n",
      "          30       0.59      0.38      0.47        26\n",
      "          31       0.00      0.00      0.00        37\n",
      "          32       0.00      0.00      0.00        14\n",
      "          33       0.84      0.53      0.65       132\n",
      "          34       0.00      0.00      0.00        51\n",
      "          35       0.26      0.10      0.14        71\n",
      "\n",
      "   micro avg       0.78      0.54      0.64      1700\n",
      "   macro avg       0.31      0.18      0.22      1700\n",
      "weighted avg       0.64      0.54      0.57      1700\n",
      " samples avg       0.54      0.54      0.54      1700\n",
      "\n",
      "________________________________________________________________________________\n"
     ]
    },
    {
     "name": "stderr",
     "output_type": "stream",
     "text": [
      "C:\\ProgramData\\Anaconda3\\lib\\site-packages\\sklearn\\metrics\\classification.py:1143: UndefinedMetricWarning:\n",
      "\n",
      "Precision and F-score are ill-defined and being set to 0.0 in labels with no predicted samples.\n",
      "\n",
      "C:\\ProgramData\\Anaconda3\\lib\\site-packages\\sklearn\\metrics\\classification.py:1143: UndefinedMetricWarning:\n",
      "\n",
      "Precision and F-score are ill-defined and being set to 0.0 in labels with no predicted samples.\n",
      "\n",
      "C:\\ProgramData\\Anaconda3\\lib\\site-packages\\sklearn\\metrics\\classification.py:1143: UndefinedMetricWarning:\n",
      "\n",
      "Precision and F-score are ill-defined and being set to 0.0 in labels with no predicted samples.\n",
      "\n",
      "C:\\ProgramData\\Anaconda3\\lib\\site-packages\\sklearn\\metrics\\classification.py:1143: UndefinedMetricWarning:\n",
      "\n",
      "Precision and F-score are ill-defined and being set to 0.0 in samples with no predicted labels.\n",
      "\n"
     ]
    }
   ],
   "source": [
    "# Analyze Classification Summary\n",
    "y_proba = model.predict([X_test])\n",
    "y_pred = (y_proba > 0.5).astype('int32')\n",
    "classification_summary(y_test, y_pred, y_proba)"
   ]
  },
  {
   "cell_type": "markdown",
   "metadata": {},
   "source": [
    "For the smaller groups, the accuracy is really low; we can potentially think of merging groups with a record base of less than 50 (instead of 30)"
   ]
  },
  {
   "cell_type": "markdown",
   "metadata": {},
   "source": [
    "# Instead of Glove using Word2Vec\n",
    "\n",
    "Perhaps more appropriate in this situation since quite a few of the words like http, vpn, etc might not be present in the Glove Vocabulary and thus creating a vocabulary for this specific study might be better"
   ]
  },
  {
   "cell_type": "code",
   "execution_count": 260,
   "metadata": {},
   "outputs": [
    {
     "name": "stdout",
     "output_type": "stream",
     "text": [
      "Collecting gensim\n",
      "  Downloading https://files.pythonhosted.org/packages/0b/66/04faeedb98bfa5f241d0399d0102456886179cabac0355475f23a2978847/gensim-3.8.3-cp37-cp37m-win_amd64.whl (24.2MB)\n",
      "Requirement already satisfied: scipy>=0.18.1 in c:\\programdata\\anaconda3\\lib\\site-packages (from gensim) (1.2.1)\n",
      "Requirement already satisfied: six>=1.5.0 in c:\\programdata\\anaconda3\\lib\\site-packages (from gensim) (1.12.0)\n",
      "Requirement already satisfied: numpy>=1.11.3 in c:\\programdata\\anaconda3\\lib\\site-packages (from gensim) (1.16.2)\n",
      "Collecting smart-open>=1.8.1 (from gensim)\n",
      "  Downloading https://files.pythonhosted.org/packages/74/77/744c79da6e66691e3500b6dffff29bdd787015eae817d594791edc7b719b/smart_open-2.0.0.tar.gz (103kB)\n",
      "Collecting Cython==0.29.14 (from gensim)\n",
      "  Downloading https://files.pythonhosted.org/packages/1f/be/b14be5c3ad1ff73096b518be1538282f053ec34faaca60a8753d975d7e93/Cython-0.29.14-cp37-cp37m-win_amd64.whl (1.7MB)\n",
      "Requirement already satisfied: requests in c:\\programdata\\anaconda3\\lib\\site-packages (from smart-open>=1.8.1->gensim) (2.21.0)\n",
      "Requirement already satisfied: boto in c:\\programdata\\anaconda3\\lib\\site-packages (from smart-open>=1.8.1->gensim) (2.49.0)\n",
      "Collecting boto3 (from smart-open>=1.8.1->gensim)\n",
      "  Downloading https://files.pythonhosted.org/packages/f3/8d/e5c437e546262712b843242e3dca7e1e0f30858fedf7494f422f7c9938ca/boto3-1.13.7-py2.py3-none-any.whl (128kB)\n",
      "Requirement already satisfied: certifi>=2017.4.17 in c:\\programdata\\anaconda3\\lib\\site-packages (from requests->smart-open>=1.8.1->gensim) (2019.11.28)\n",
      "Requirement already satisfied: idna<2.9,>=2.5 in c:\\programdata\\anaconda3\\lib\\site-packages (from requests->smart-open>=1.8.1->gensim) (2.8)\n",
      "Requirement already satisfied: chardet<3.1.0,>=3.0.2 in c:\\programdata\\anaconda3\\lib\\site-packages (from requests->smart-open>=1.8.1->gensim) (3.0.4)\n",
      "Requirement already satisfied: urllib3<1.25,>=1.21.1 in c:\\programdata\\anaconda3\\lib\\site-packages (from requests->smart-open>=1.8.1->gensim) (1.24.1)\n",
      "Collecting botocore<1.17.0,>=1.16.7 (from boto3->smart-open>=1.8.1->gensim)\n",
      "  Downloading https://files.pythonhosted.org/packages/15/6b/98606827e528ae166cccd28535ef465638fcf9626f527cca264b40b7eb16/botocore-1.16.7-py2.py3-none-any.whl (6.2MB)\n",
      "Collecting s3transfer<0.4.0,>=0.3.0 (from boto3->smart-open>=1.8.1->gensim)\n",
      "  Downloading https://files.pythonhosted.org/packages/69/79/e6afb3d8b0b4e96cefbdc690f741d7dd24547ff1f94240c997a26fa908d3/s3transfer-0.3.3-py2.py3-none-any.whl (69kB)\n",
      "Collecting jmespath<1.0.0,>=0.7.1 (from boto3->smart-open>=1.8.1->gensim)\n",
      "  Downloading https://files.pythonhosted.org/packages/a3/43/1e939e1fcd87b827fe192d0c9fc25b48c5b3368902bfb913de7754b0dc03/jmespath-0.9.5-py2.py3-none-any.whl\n",
      "Requirement already satisfied: python-dateutil<3.0.0,>=2.1 in c:\\programdata\\anaconda3\\lib\\site-packages (from botocore<1.17.0,>=1.16.7->boto3->smart-open>=1.8.1->gensim) (2.8.0)\n",
      "Requirement already satisfied: docutils<0.16,>=0.10 in c:\\programdata\\anaconda3\\lib\\site-packages (from botocore<1.17.0,>=1.16.7->boto3->smart-open>=1.8.1->gensim) (0.14)\n",
      "Building wheels for collected packages: smart-open\n",
      "  Building wheel for smart-open (setup.py): started\n",
      "  Building wheel for smart-open (setup.py): finished with status 'done'\n",
      "  Stored in directory: C:\\Users\\shiv\\AppData\\Local\\pip\\Cache\\wheels\\27\\65\\38\\8d7f5fe8d7afb4e4566587b2d1933cec185fba19257836c943\n",
      "Successfully built smart-open\n",
      "Installing collected packages: jmespath, botocore, s3transfer, boto3, smart-open, Cython, gensim\n",
      "  Found existing installation: Cython 0.29.6\n",
      "    Uninstalling Cython-0.29.6:\n",
      "      Successfully uninstalled Cython-0.29.6\n",
      "Successfully installed Cython-0.29.14 boto3-1.13.7 botocore-1.16.7 gensim-3.8.3 jmespath-0.9.5 s3transfer-0.3.3 smart-open-2.0.0\n"
     ]
    }
   ],
   "source": [
    "!pip install gensim"
   ]
  },
  {
   "cell_type": "code",
   "execution_count": 261,
   "metadata": {},
   "outputs": [],
   "source": [
    "import gensim\n",
    "import gensim.corpora as corpora\n",
    "from gensim.utils import simple_preprocess\n",
    "from gensim.parsing import preprocessing\n",
    "from gensim.test.utils import common_texts\n",
    "from gensim.models.doc2vec import Doc2Vec, TaggedDocument\n",
    "from gensim.models.phrases import Phraser\n",
    "from gensim.models import Phrases, CoherenceModel"
   ]
  },
  {
   "cell_type": "markdown",
   "metadata": {},
   "source": [
    "### Thematic analysis of data"
   ]
  },
  {
   "cell_type": "code",
   "execution_count": 263,
   "metadata": {},
   "outputs": [],
   "source": [
    "df_theme=new_df.copy()"
   ]
  },
  {
   "cell_type": "code",
   "execution_count": 264,
   "metadata": {},
   "outputs": [
    {
     "data": {
      "text/html": [
       "<div>\n",
       "<style scoped>\n",
       "    .dataframe tbody tr th:only-of-type {\n",
       "        vertical-align: middle;\n",
       "    }\n",
       "\n",
       "    .dataframe tbody tr th {\n",
       "        vertical-align: top;\n",
       "    }\n",
       "\n",
       "    .dataframe thead th {\n",
       "        text-align: right;\n",
       "    }\n",
       "</style>\n",
       "<table border=\"1\" class=\"dataframe\">\n",
       "  <thead>\n",
       "    <tr style=\"text-align: right;\">\n",
       "      <th></th>\n",
       "      <th>Short description</th>\n",
       "      <th>Description</th>\n",
       "      <th>Caller</th>\n",
       "      <th>Assignment group</th>\n",
       "      <th>Total</th>\n",
       "      <th>Clean Description</th>\n",
       "      <th>New grouping</th>\n",
       "    </tr>\n",
       "  </thead>\n",
       "  <tbody>\n",
       "    <tr>\n",
       "      <th>0</th>\n",
       "      <td>login issue</td>\n",
       "      <td>verified user details employee manager name ch...</td>\n",
       "      <td>spxjnwir pjlcoqds</td>\n",
       "      <td>GRP_0</td>\n",
       "      <td>login issue verify user detail employee manage...</td>\n",
       "      <td>login issue verify user detail employee manage...</td>\n",
       "      <td>GRP_0</td>\n",
       "    </tr>\n",
       "    <tr>\n",
       "      <th>1</th>\n",
       "      <td>outlook</td>\n",
       "      <td>received from hello team my meetings skype mee...</td>\n",
       "      <td>hmjdrvpb komuaywn</td>\n",
       "      <td>GRP_0</td>\n",
       "      <td>outlook receive from hello team meeting skype ...</td>\n",
       "      <td>outlook team meeting skype etc not appear cale...</td>\n",
       "      <td>GRP_0</td>\n",
       "    </tr>\n",
       "    <tr>\n",
       "      <th>2</th>\n",
       "      <td>cant log in to vpn</td>\n",
       "      <td>received from hi i cannot log on to vpn best</td>\n",
       "      <td>eylqgodm ybqkwiam</td>\n",
       "      <td>GRP_0</td>\n",
       "      <td>can not log in to vpn receive from hi i can no...</td>\n",
       "      <td>can not log vpn not best</td>\n",
       "      <td>GRP_0</td>\n",
       "    </tr>\n",
       "    <tr>\n",
       "      <th>3</th>\n",
       "      <td>unable to access hr tool page</td>\n",
       "      <td>unable to access hr tool page</td>\n",
       "      <td>xbkucsvz gcpydteq</td>\n",
       "      <td>GRP_0</td>\n",
       "      <td>unable to access hr tool page</td>\n",
       "      <td>unable access hr tool page</td>\n",
       "      <td>GRP_0</td>\n",
       "    </tr>\n",
       "    <tr>\n",
       "      <th>4</th>\n",
       "      <td>skype error</td>\n",
       "      <td>skype error</td>\n",
       "      <td>owlgqjme qhcozdfx</td>\n",
       "      <td>GRP_0</td>\n",
       "      <td>skype error</td>\n",
       "      <td>skype error</td>\n",
       "      <td>GRP_0</td>\n",
       "    </tr>\n",
       "  </tbody>\n",
       "</table>\n",
       "</div>"
      ],
      "text/plain": [
       "               Short description  \\\n",
       "0                    login issue   \n",
       "1                        outlook   \n",
       "2             cant log in to vpn   \n",
       "3  unable to access hr tool page   \n",
       "4                    skype error   \n",
       "\n",
       "                                         Description             Caller  \\\n",
       "0  verified user details employee manager name ch...  spxjnwir pjlcoqds   \n",
       "1  received from hello team my meetings skype mee...  hmjdrvpb komuaywn   \n",
       "2       received from hi i cannot log on to vpn best  eylqgodm ybqkwiam   \n",
       "3                      unable to access hr tool page  xbkucsvz gcpydteq   \n",
       "4                                        skype error  owlgqjme qhcozdfx   \n",
       "\n",
       "  Assignment group                                              Total  \\\n",
       "0            GRP_0  login issue verify user detail employee manage...   \n",
       "1            GRP_0  outlook receive from hello team meeting skype ...   \n",
       "2            GRP_0  can not log in to vpn receive from hi i can no...   \n",
       "3            GRP_0                      unable to access hr tool page   \n",
       "4            GRP_0                                        skype error   \n",
       "\n",
       "                                   Clean Description New grouping  \n",
       "0  login issue verify user detail employee manage...        GRP_0  \n",
       "1  outlook team meeting skype etc not appear cale...        GRP_0  \n",
       "2                           can not log vpn not best        GRP_0  \n",
       "3                         unable access hr tool page        GRP_0  \n",
       "4                                        skype error        GRP_0  "
      ]
     },
     "execution_count": 264,
     "metadata": {},
     "output_type": "execute_result"
    }
   ],
   "source": [
    "df_theme.head(5)"
   ]
  },
  {
   "cell_type": "code",
   "execution_count": 265,
   "metadata": {},
   "outputs": [],
   "source": [
    "corpus_text = '\\n'.join(df_theme[:]['Clean Description'])\n",
    "sentences = corpus_text.split('\\n')\n",
    "sentences = [line.lower().split(' ') for line in sentences]"
   ]
  },
  {
   "cell_type": "code",
   "execution_count": 266,
   "metadata": {},
   "outputs": [
    {
     "data": {
      "text/plain": [
       "['unable', 'log', 'engineering', 'tool', 'skype']"
      ]
     },
     "execution_count": 266,
     "metadata": {},
     "output_type": "execute_result"
    }
   ],
   "source": [
    "sentences[5]"
   ]
  },
  {
   "cell_type": "code",
   "execution_count": 267,
   "metadata": {},
   "outputs": [],
   "source": [
    "def clean(s): #removing additional punctuation\n",
    "    return [w.strip(',.\"!?:;()\\'') for w in s]\n",
    "sentences = [clean(s) for s in sentences if len(s) > 0]"
   ]
  },
  {
   "cell_type": "code",
   "execution_count": 281,
   "metadata": {},
   "outputs": [],
   "source": [
    "from gensim.models import Word2Vec\n",
    "\n",
    "model = Word2Vec(sentences, size=8000, window=3, min_count=3, workers=4) #Tried a size of 100, 1000 and 2000 but the similarity qualitatively did not seem all that good\n",
    "model.save(\"word2vec.mdl\")"
   ]
  },
  {
   "cell_type": "code",
   "execution_count": 269,
   "metadata": {},
   "outputs": [
    {
     "data": {
      "text/plain": [
       "3135"
      ]
     },
     "execution_count": 269,
     "metadata": {},
     "output_type": "execute_result"
    }
   ],
   "source": [
    "vectors = model.wv #keeping only the vector values\n",
    "len(model.wv.vocab)"
   ]
  },
  {
   "cell_type": "code",
   "execution_count": 270,
   "metadata": {},
   "outputs": [
    {
     "name": "stdout",
     "output_type": "stream",
     "text": [
      "0.91378766\n",
      "0.9864943\n"
     ]
    }
   ],
   "source": [
    "print(vectors.similarity('access', 'login')) #taking sample value and analysing the relationships\n",
    "print(vectors.similarity('access', 'skype'))"
   ]
  },
  {
   "cell_type": "code",
   "execution_count": 271,
   "metadata": {},
   "outputs": [
    {
     "data": {
      "text/plain": [
       "[('connect', 0.9780881404876709),\n",
       " ('collaboration', 0.9752592444419861),\n",
       " ('platform', 0.9695403575897217),\n",
       " ('tologin', 0.9675502777099609),\n",
       " ('khrtyujuine', 0.9626268744468689),\n",
       " ('can', 0.9617358446121216),\n",
       " ('sync', 0.9580341577529907),\n",
       " ('access', 0.9579378366470337),\n",
       " ('skype', 0.9573770761489868),\n",
       " ('engineering', 0.9566475749015808)]"
      ]
     },
     "execution_count": 271,
     "metadata": {},
     "output_type": "execute_result"
    }
   ],
   "source": [
    "vectors.most_similar('vpn')"
   ]
  },
  {
   "cell_type": "markdown",
   "metadata": {},
   "source": [
    "So we can see strong connects with <b>into</b>, <b>sign</b>, <b>access</b>,<b>log</b>  - words which are typically used for a connectivity session which is what a VPN is used for. This implies that our vectors seem to be defined well"
   ]
  },
  {
   "cell_type": "code",
   "execution_count": 272,
   "metadata": {},
   "outputs": [
    {
     "name": "stdout",
     "output_type": "stream",
     "text": [
      "\n",
      "\n",
      "For term: \u001b[1m reset \u001b[0m the most similar words are:\n",
      "password 0.9699\n",
      "user 0.9552\n",
      "login 0.9514\n",
      "passwords 0.948\n",
      "management 0.9443\n",
      "windows 0.943\n",
      "pwd 0.9323\n",
      "unlocked 0.9321\n",
      "use 0.9316\n",
      "manager 0.9308\n",
      "\n",
      "\n",
      "For term: \u001b[1m account \u001b[0m the most similar words are:\n",
      "unlock 0.9979\n",
      "lock 0.9954\n",
      "erp 0.9919\n",
      "ad 0.973\n",
      "unlocked 0.9721\n",
      "windows 0.9713\n",
      "system 0.9599\n",
      "haunm 0.9597\n",
      "pasword 0.9554\n",
      "pwd 0.9544\n"
     ]
    },
    {
     "name": "stderr",
     "output_type": "stream",
     "text": [
      "C:\\ProgramData\\Anaconda3\\lib\\site-packages\\ipykernel_launcher.py:5: DeprecationWarning: Call to deprecated `most_similar` (Method will be removed in 4.0.0, use self.wv.most_similar() instead).\n",
      "  \"\"\"\n"
     ]
    }
   ],
   "source": [
    "term = ['reset','account']\n",
    "for i in term:\n",
    "    print('\\n')\n",
    "    print('For term: \\033[1m',i,'\\033[0m the most similar words are:')\n",
    "    for word, similarity in model.most_similar(positive=i, topn=10): #Identifying similar words\n",
    "            print (word, round(similarity, 4))"
   ]
  },
  {
   "cell_type": "markdown",
   "metadata": {},
   "source": [
    "However as expected, <b>pwd</b>, <b>'password'</b>, <b>'passwords'</b>, <b>'verify'</b> in the top 10 words similar to <b>'reset'</b>.Ironically, <b>'manager'</b> is also part of the list. This can be explained by the fact, that of the 476 tickets that contain <b>'reset'</b>, 55 of them also have the word <b>'manager'</b>(11.5%). \n",
    "\n",
    "Similarly, for <b>account</b>, the highest ranking words are <b>unlock</b> and <b>lock</b> apart from <b>erp </b> and <b>windows</b> which are systems that are account-controlled"
   ]
  },
  {
   "cell_type": "code",
   "execution_count": 273,
   "metadata": {},
   "outputs": [
    {
     "name": "stderr",
     "output_type": "stream",
     "text": [
      "C:\\ProgramData\\Anaconda3\\lib\\site-packages\\ipykernel_launcher.py:7: DeprecationWarning: Call to deprecated `syn0norm` (Attribute will be removed in 4.0.0, use self.vectors_norm instead).\n",
      "  import sys\n"
     ]
    }
   ],
   "source": [
    "ordered_vocab = [(term, voc.index, voc.count) for term, voc in model.wv.vocab.items()]\n",
    "ordered_vocab = sorted(ordered_vocab, key=lambda k: -k[2])\n",
    "ordered_terms, term_indices, term_counts = zip(*ordered_vocab)\n",
    "# print(ordered_terms)\n",
    "# create a DataFrame with the vectors as data,\n",
    "# and the terms as row labels\n",
    "word_vectors = pd.DataFrame(model.wv.syn0norm[term_indices, :], index=ordered_terms)"
   ]
  },
  {
   "cell_type": "code",
   "execution_count": 274,
   "metadata": {},
   "outputs": [
    {
     "data": {
      "text/html": [
       "<div>\n",
       "<style scoped>\n",
       "    .dataframe tbody tr th:only-of-type {\n",
       "        vertical-align: middle;\n",
       "    }\n",
       "\n",
       "    .dataframe tbody tr th {\n",
       "        vertical-align: top;\n",
       "    }\n",
       "\n",
       "    .dataframe thead th {\n",
       "        text-align: right;\n",
       "    }\n",
       "</style>\n",
       "<table border=\"1\" class=\"dataframe\">\n",
       "  <thead>\n",
       "    <tr style=\"text-align: right;\">\n",
       "      <th></th>\n",
       "      <th>0</th>\n",
       "      <th>1</th>\n",
       "      <th>2</th>\n",
       "      <th>3</th>\n",
       "      <th>4</th>\n",
       "      <th>5</th>\n",
       "      <th>6</th>\n",
       "      <th>7</th>\n",
       "      <th>8</th>\n",
       "      <th>9</th>\n",
       "      <th>...</th>\n",
       "      <th>7990</th>\n",
       "      <th>7991</th>\n",
       "      <th>7992</th>\n",
       "      <th>7993</th>\n",
       "      <th>7994</th>\n",
       "      <th>7995</th>\n",
       "      <th>7996</th>\n",
       "      <th>7997</th>\n",
       "      <th>7998</th>\n",
       "      <th>7999</th>\n",
       "    </tr>\n",
       "  </thead>\n",
       "  <tbody>\n",
       "    <tr>\n",
       "      <th></th>\n",
       "      <td>0.010920</td>\n",
       "      <td>-0.015687</td>\n",
       "      <td>-0.001783</td>\n",
       "      <td>-0.000403</td>\n",
       "      <td>0.006413</td>\n",
       "      <td>-0.006828</td>\n",
       "      <td>-0.010189</td>\n",
       "      <td>0.023540</td>\n",
       "      <td>-0.005165</td>\n",
       "      <td>-0.015204</td>\n",
       "      <td>...</td>\n",
       "      <td>0.005670</td>\n",
       "      <td>0.011480</td>\n",
       "      <td>0.007583</td>\n",
       "      <td>-0.004013</td>\n",
       "      <td>-0.002705</td>\n",
       "      <td>-0.008234</td>\n",
       "      <td>0.002311</td>\n",
       "      <td>0.016836</td>\n",
       "      <td>0.009785</td>\n",
       "      <td>-0.005525</td>\n",
       "    </tr>\n",
       "    <tr>\n",
       "      <th>not</th>\n",
       "      <td>0.015736</td>\n",
       "      <td>-0.010790</td>\n",
       "      <td>0.000101</td>\n",
       "      <td>0.006203</td>\n",
       "      <td>-0.003666</td>\n",
       "      <td>-0.018243</td>\n",
       "      <td>-0.017409</td>\n",
       "      <td>0.028857</td>\n",
       "      <td>0.004644</td>\n",
       "      <td>-0.022141</td>\n",
       "      <td>...</td>\n",
       "      <td>0.003205</td>\n",
       "      <td>-0.006076</td>\n",
       "      <td>0.019945</td>\n",
       "      <td>-0.009934</td>\n",
       "      <td>0.000857</td>\n",
       "      <td>-0.004490</td>\n",
       "      <td>0.003324</td>\n",
       "      <td>0.010953</td>\n",
       "      <td>0.005870</td>\n",
       "      <td>-0.007720</td>\n",
       "    </tr>\n",
       "    <tr>\n",
       "      <th>password</th>\n",
       "      <td>0.013606</td>\n",
       "      <td>-0.009779</td>\n",
       "      <td>-0.006441</td>\n",
       "      <td>0.005316</td>\n",
       "      <td>-0.002068</td>\n",
       "      <td>-0.020070</td>\n",
       "      <td>-0.012629</td>\n",
       "      <td>0.023219</td>\n",
       "      <td>-0.003234</td>\n",
       "      <td>-0.020001</td>\n",
       "      <td>...</td>\n",
       "      <td>0.003830</td>\n",
       "      <td>0.003747</td>\n",
       "      <td>0.013527</td>\n",
       "      <td>-0.004264</td>\n",
       "      <td>0.000180</td>\n",
       "      <td>-0.006965</td>\n",
       "      <td>-0.002277</td>\n",
       "      <td>0.010089</td>\n",
       "      <td>0.008984</td>\n",
       "      <td>-0.005761</td>\n",
       "    </tr>\n",
       "    <tr>\n",
       "      <th>erp</th>\n",
       "      <td>0.015552</td>\n",
       "      <td>-0.007558</td>\n",
       "      <td>-0.003524</td>\n",
       "      <td>0.007158</td>\n",
       "      <td>-0.008652</td>\n",
       "      <td>-0.017091</td>\n",
       "      <td>-0.011709</td>\n",
       "      <td>0.025378</td>\n",
       "      <td>-0.001648</td>\n",
       "      <td>-0.015725</td>\n",
       "      <td>...</td>\n",
       "      <td>0.006512</td>\n",
       "      <td>-0.005691</td>\n",
       "      <td>0.020924</td>\n",
       "      <td>-0.010905</td>\n",
       "      <td>0.003903</td>\n",
       "      <td>-0.008280</td>\n",
       "      <td>-0.001999</td>\n",
       "      <td>0.010555</td>\n",
       "      <td>0.008237</td>\n",
       "      <td>-0.007769</td>\n",
       "    </tr>\n",
       "    <tr>\n",
       "      <th>job</th>\n",
       "      <td>0.019201</td>\n",
       "      <td>-0.003413</td>\n",
       "      <td>0.000356</td>\n",
       "      <td>0.009801</td>\n",
       "      <td>-0.010739</td>\n",
       "      <td>-0.001276</td>\n",
       "      <td>-0.007831</td>\n",
       "      <td>0.024045</td>\n",
       "      <td>0.006138</td>\n",
       "      <td>0.003692</td>\n",
       "      <td>...</td>\n",
       "      <td>0.007884</td>\n",
       "      <td>-0.020107</td>\n",
       "      <td>0.026945</td>\n",
       "      <td>-0.015442</td>\n",
       "      <td>0.012187</td>\n",
       "      <td>-0.004883</td>\n",
       "      <td>0.006984</td>\n",
       "      <td>0.008468</td>\n",
       "      <td>-0.004844</td>\n",
       "      <td>-0.004291</td>\n",
       "    </tr>\n",
       "    <tr>\n",
       "      <th>tool</th>\n",
       "      <td>0.019768</td>\n",
       "      <td>-0.011661</td>\n",
       "      <td>0.002929</td>\n",
       "      <td>0.009314</td>\n",
       "      <td>-0.007545</td>\n",
       "      <td>-0.015586</td>\n",
       "      <td>-0.012077</td>\n",
       "      <td>0.029238</td>\n",
       "      <td>0.002615</td>\n",
       "      <td>-0.017398</td>\n",
       "      <td>...</td>\n",
       "      <td>0.002454</td>\n",
       "      <td>-0.005662</td>\n",
       "      <td>0.016696</td>\n",
       "      <td>-0.015726</td>\n",
       "      <td>0.001742</td>\n",
       "      <td>-0.009760</td>\n",
       "      <td>-0.003365</td>\n",
       "      <td>0.009679</td>\n",
       "      <td>0.008053</td>\n",
       "      <td>-0.014800</td>\n",
       "    </tr>\n",
       "    <tr>\n",
       "      <th>issue</th>\n",
       "      <td>0.016079</td>\n",
       "      <td>-0.010681</td>\n",
       "      <td>0.000359</td>\n",
       "      <td>0.006820</td>\n",
       "      <td>-0.004187</td>\n",
       "      <td>-0.014994</td>\n",
       "      <td>-0.015921</td>\n",
       "      <td>0.028925</td>\n",
       "      <td>0.003370</td>\n",
       "      <td>-0.019710</td>\n",
       "      <td>...</td>\n",
       "      <td>0.002696</td>\n",
       "      <td>-0.007271</td>\n",
       "      <td>0.020767</td>\n",
       "      <td>-0.010270</td>\n",
       "      <td>0.002387</td>\n",
       "      <td>-0.004984</td>\n",
       "      <td>0.003727</td>\n",
       "      <td>0.012692</td>\n",
       "      <td>0.005989</td>\n",
       "      <td>-0.007672</td>\n",
       "    </tr>\n",
       "    <tr>\n",
       "      <th>scheduler</th>\n",
       "      <td>0.019583</td>\n",
       "      <td>-0.003784</td>\n",
       "      <td>0.000058</td>\n",
       "      <td>0.009761</td>\n",
       "      <td>-0.010587</td>\n",
       "      <td>-0.001732</td>\n",
       "      <td>-0.008273</td>\n",
       "      <td>0.024455</td>\n",
       "      <td>0.006284</td>\n",
       "      <td>0.003347</td>\n",
       "      <td>...</td>\n",
       "      <td>0.007967</td>\n",
       "      <td>-0.020158</td>\n",
       "      <td>0.027166</td>\n",
       "      <td>-0.015019</td>\n",
       "      <td>0.012451</td>\n",
       "      <td>-0.004567</td>\n",
       "      <td>0.007170</td>\n",
       "      <td>0.008625</td>\n",
       "      <td>-0.004975</td>\n",
       "      <td>-0.004171</td>\n",
       "    </tr>\n",
       "    <tr>\n",
       "      <th>work</th>\n",
       "      <td>0.016963</td>\n",
       "      <td>-0.007242</td>\n",
       "      <td>-0.015408</td>\n",
       "      <td>0.007706</td>\n",
       "      <td>0.000024</td>\n",
       "      <td>-0.025655</td>\n",
       "      <td>-0.020185</td>\n",
       "      <td>0.024464</td>\n",
       "      <td>0.002677</td>\n",
       "      <td>-0.015774</td>\n",
       "      <td>...</td>\n",
       "      <td>0.008121</td>\n",
       "      <td>-0.000335</td>\n",
       "      <td>0.021359</td>\n",
       "      <td>0.002803</td>\n",
       "      <td>0.006129</td>\n",
       "      <td>0.000255</td>\n",
       "      <td>0.006955</td>\n",
       "      <td>0.006020</td>\n",
       "      <td>-0.002470</td>\n",
       "      <td>0.003522</td>\n",
       "    </tr>\n",
       "    <tr>\n",
       "      <th>fail</th>\n",
       "      <td>0.019030</td>\n",
       "      <td>-0.003291</td>\n",
       "      <td>0.000140</td>\n",
       "      <td>0.009962</td>\n",
       "      <td>-0.010637</td>\n",
       "      <td>-0.001280</td>\n",
       "      <td>-0.007891</td>\n",
       "      <td>0.023955</td>\n",
       "      <td>0.006582</td>\n",
       "      <td>0.003911</td>\n",
       "      <td>...</td>\n",
       "      <td>0.007836</td>\n",
       "      <td>-0.020266</td>\n",
       "      <td>0.027090</td>\n",
       "      <td>-0.015094</td>\n",
       "      <td>0.012286</td>\n",
       "      <td>-0.004800</td>\n",
       "      <td>0.007392</td>\n",
       "      <td>0.008437</td>\n",
       "      <td>-0.005383</td>\n",
       "      <td>-0.003879</td>\n",
       "    </tr>\n",
       "    <tr>\n",
       "      <th>reset</th>\n",
       "      <td>0.012858</td>\n",
       "      <td>-0.005737</td>\n",
       "      <td>-0.013771</td>\n",
       "      <td>0.005416</td>\n",
       "      <td>-0.001640</td>\n",
       "      <td>-0.022467</td>\n",
       "      <td>-0.015790</td>\n",
       "      <td>0.020776</td>\n",
       "      <td>-0.005854</td>\n",
       "      <td>-0.016528</td>\n",
       "      <td>...</td>\n",
       "      <td>0.005776</td>\n",
       "      <td>0.003236</td>\n",
       "      <td>0.016491</td>\n",
       "      <td>0.002318</td>\n",
       "      <td>0.003050</td>\n",
       "      <td>-0.003590</td>\n",
       "      <td>0.001150</td>\n",
       "      <td>0.008118</td>\n",
       "      <td>0.003922</td>\n",
       "      <td>0.002060</td>\n",
       "    </tr>\n",
       "    <tr>\n",
       "      <th>user</th>\n",
       "      <td>0.014612</td>\n",
       "      <td>-0.009280</td>\n",
       "      <td>-0.003662</td>\n",
       "      <td>0.006151</td>\n",
       "      <td>-0.003871</td>\n",
       "      <td>-0.018539</td>\n",
       "      <td>-0.015259</td>\n",
       "      <td>0.025640</td>\n",
       "      <td>-0.001105</td>\n",
       "      <td>-0.020234</td>\n",
       "      <td>...</td>\n",
       "      <td>0.003050</td>\n",
       "      <td>-0.002157</td>\n",
       "      <td>0.017194</td>\n",
       "      <td>-0.006323</td>\n",
       "      <td>0.001338</td>\n",
       "      <td>-0.005441</td>\n",
       "      <td>0.000503</td>\n",
       "      <td>0.011018</td>\n",
       "      <td>0.007513</td>\n",
       "      <td>-0.005952</td>\n",
       "    </tr>\n",
       "    <tr>\n",
       "      <th>unable</th>\n",
       "      <td>0.017235</td>\n",
       "      <td>-0.012525</td>\n",
       "      <td>0.001253</td>\n",
       "      <td>0.007570</td>\n",
       "      <td>-0.004258</td>\n",
       "      <td>-0.017138</td>\n",
       "      <td>-0.014600</td>\n",
       "      <td>0.029913</td>\n",
       "      <td>0.004873</td>\n",
       "      <td>-0.020944</td>\n",
       "      <td>...</td>\n",
       "      <td>0.003098</td>\n",
       "      <td>-0.004363</td>\n",
       "      <td>0.018385</td>\n",
       "      <td>-0.011083</td>\n",
       "      <td>0.001357</td>\n",
       "      <td>-0.006558</td>\n",
       "      <td>0.001521</td>\n",
       "      <td>0.011271</td>\n",
       "      <td>0.007564</td>\n",
       "      <td>-0.009719</td>\n",
       "    </tr>\n",
       "    <tr>\n",
       "      <th>sid</th>\n",
       "      <td>0.016562</td>\n",
       "      <td>-0.003736</td>\n",
       "      <td>-0.000896</td>\n",
       "      <td>0.009214</td>\n",
       "      <td>-0.014835</td>\n",
       "      <td>-0.010360</td>\n",
       "      <td>-0.007375</td>\n",
       "      <td>0.022581</td>\n",
       "      <td>0.000307</td>\n",
       "      <td>-0.004615</td>\n",
       "      <td>...</td>\n",
       "      <td>0.008583</td>\n",
       "      <td>-0.014655</td>\n",
       "      <td>0.023549</td>\n",
       "      <td>-0.017295</td>\n",
       "      <td>0.007748</td>\n",
       "      <td>-0.009417</td>\n",
       "      <td>-0.002705</td>\n",
       "      <td>0.008120</td>\n",
       "      <td>0.004481</td>\n",
       "      <td>-0.008671</td>\n",
       "    </tr>\n",
       "    <tr>\n",
       "      <th>from</th>\n",
       "      <td>0.018936</td>\n",
       "      <td>-0.003140</td>\n",
       "      <td>-0.000025</td>\n",
       "      <td>0.009763</td>\n",
       "      <td>-0.010101</td>\n",
       "      <td>-0.000899</td>\n",
       "      <td>-0.007969</td>\n",
       "      <td>0.023694</td>\n",
       "      <td>0.006283</td>\n",
       "      <td>0.004200</td>\n",
       "      <td>...</td>\n",
       "      <td>0.007889</td>\n",
       "      <td>-0.020154</td>\n",
       "      <td>0.027152</td>\n",
       "      <td>-0.014737</td>\n",
       "      <td>0.012468</td>\n",
       "      <td>-0.004428</td>\n",
       "      <td>0.007782</td>\n",
       "      <td>0.008375</td>\n",
       "      <td>-0.005671</td>\n",
       "      <td>-0.003495</td>\n",
       "    </tr>\n",
       "    <tr>\n",
       "      <th>company</th>\n",
       "      <td>0.022053</td>\n",
       "      <td>-0.011421</td>\n",
       "      <td>-0.002956</td>\n",
       "      <td>0.013501</td>\n",
       "      <td>0.000838</td>\n",
       "      <td>-0.007968</td>\n",
       "      <td>-0.013027</td>\n",
       "      <td>0.027069</td>\n",
       "      <td>0.010982</td>\n",
       "      <td>-0.006813</td>\n",
       "      <td>...</td>\n",
       "      <td>0.003245</td>\n",
       "      <td>-0.008627</td>\n",
       "      <td>0.019587</td>\n",
       "      <td>-0.002805</td>\n",
       "      <td>0.013461</td>\n",
       "      <td>0.000495</td>\n",
       "      <td>0.009138</td>\n",
       "      <td>0.006778</td>\n",
       "      <td>-0.006149</td>\n",
       "      <td>-0.003729</td>\n",
       "    </tr>\n",
       "    <tr>\n",
       "      <th>email</th>\n",
       "      <td>0.005237</td>\n",
       "      <td>-0.003023</td>\n",
       "      <td>-0.003166</td>\n",
       "      <td>-0.002647</td>\n",
       "      <td>0.004500</td>\n",
       "      <td>-0.003666</td>\n",
       "      <td>-0.016385</td>\n",
       "      <td>0.018183</td>\n",
       "      <td>-0.006637</td>\n",
       "      <td>-0.015629</td>\n",
       "      <td>...</td>\n",
       "      <td>-0.003878</td>\n",
       "      <td>-0.006584</td>\n",
       "      <td>0.016246</td>\n",
       "      <td>0.004085</td>\n",
       "      <td>0.002378</td>\n",
       "      <td>0.002070</td>\n",
       "      <td>0.013192</td>\n",
       "      <td>0.015975</td>\n",
       "      <td>0.000158</td>\n",
       "      <td>0.006066</td>\n",
       "    </tr>\n",
       "    <tr>\n",
       "      <th>access</th>\n",
       "      <td>0.019391</td>\n",
       "      <td>-0.013044</td>\n",
       "      <td>0.000392</td>\n",
       "      <td>0.009094</td>\n",
       "      <td>-0.005007</td>\n",
       "      <td>-0.014588</td>\n",
       "      <td>-0.013866</td>\n",
       "      <td>0.031368</td>\n",
       "      <td>0.006523</td>\n",
       "      <td>-0.017030</td>\n",
       "      <td>...</td>\n",
       "      <td>0.003895</td>\n",
       "      <td>-0.006145</td>\n",
       "      <td>0.020746</td>\n",
       "      <td>-0.011324</td>\n",
       "      <td>0.003491</td>\n",
       "      <td>-0.006099</td>\n",
       "      <td>0.003640</td>\n",
       "      <td>0.012476</td>\n",
       "      <td>0.005468</td>\n",
       "      <td>-0.008578</td>\n",
       "    </tr>\n",
       "    <tr>\n",
       "      <th>error</th>\n",
       "      <td>0.018510</td>\n",
       "      <td>-0.011513</td>\n",
       "      <td>0.004841</td>\n",
       "      <td>0.008876</td>\n",
       "      <td>-0.008329</td>\n",
       "      <td>-0.014204</td>\n",
       "      <td>-0.014218</td>\n",
       "      <td>0.030546</td>\n",
       "      <td>0.006323</td>\n",
       "      <td>-0.018445</td>\n",
       "      <td>...</td>\n",
       "      <td>0.002901</td>\n",
       "      <td>-0.011517</td>\n",
       "      <td>0.020993</td>\n",
       "      <td>-0.015946</td>\n",
       "      <td>0.002325</td>\n",
       "      <td>-0.006493</td>\n",
       "      <td>0.001388</td>\n",
       "      <td>0.011786</td>\n",
       "      <td>0.006863</td>\n",
       "      <td>-0.011978</td>\n",
       "    </tr>\n",
       "    <tr>\n",
       "      <th>need</th>\n",
       "      <td>0.016512</td>\n",
       "      <td>-0.009785</td>\n",
       "      <td>-0.001570</td>\n",
       "      <td>0.006434</td>\n",
       "      <td>-0.003211</td>\n",
       "      <td>-0.014408</td>\n",
       "      <td>-0.016314</td>\n",
       "      <td>0.028688</td>\n",
       "      <td>0.001498</td>\n",
       "      <td>-0.018311</td>\n",
       "      <td>...</td>\n",
       "      <td>0.003376</td>\n",
       "      <td>-0.007511</td>\n",
       "      <td>0.021968</td>\n",
       "      <td>-0.008019</td>\n",
       "      <td>0.003829</td>\n",
       "      <td>-0.004530</td>\n",
       "      <td>0.004735</td>\n",
       "      <td>0.013188</td>\n",
       "      <td>0.004560</td>\n",
       "      <td>-0.006133</td>\n",
       "    </tr>\n",
       "    <tr>\n",
       "      <th>account</th>\n",
       "      <td>0.014168</td>\n",
       "      <td>-0.007710</td>\n",
       "      <td>-0.003182</td>\n",
       "      <td>0.006493</td>\n",
       "      <td>-0.007083</td>\n",
       "      <td>-0.016213</td>\n",
       "      <td>-0.011905</td>\n",
       "      <td>0.024839</td>\n",
       "      <td>-0.003174</td>\n",
       "      <td>-0.017793</td>\n",
       "      <td>...</td>\n",
       "      <td>0.005081</td>\n",
       "      <td>-0.005003</td>\n",
       "      <td>0.019249</td>\n",
       "      <td>-0.007510</td>\n",
       "      <td>0.004277</td>\n",
       "      <td>-0.006890</td>\n",
       "      <td>-0.001592</td>\n",
       "      <td>0.011719</td>\n",
       "      <td>0.009541</td>\n",
       "      <td>-0.007287</td>\n",
       "    </tr>\n",
       "    <tr>\n",
       "      <th>ticket</th>\n",
       "      <td>0.016374</td>\n",
       "      <td>-0.006368</td>\n",
       "      <td>0.000449</td>\n",
       "      <td>0.010897</td>\n",
       "      <td>0.003256</td>\n",
       "      <td>-0.006576</td>\n",
       "      <td>-0.015891</td>\n",
       "      <td>0.019055</td>\n",
       "      <td>0.003056</td>\n",
       "      <td>-0.011574</td>\n",
       "      <td>...</td>\n",
       "      <td>-0.007187</td>\n",
       "      <td>-0.009438</td>\n",
       "      <td>0.007470</td>\n",
       "      <td>0.005212</td>\n",
       "      <td>0.011398</td>\n",
       "      <td>0.005465</td>\n",
       "      <td>0.007411</td>\n",
       "      <td>0.004888</td>\n",
       "      <td>-0.004847</td>\n",
       "      <td>-0.004815</td>\n",
       "    </tr>\n",
       "    <tr>\n",
       "      <th>get</th>\n",
       "      <td>0.016471</td>\n",
       "      <td>-0.011259</td>\n",
       "      <td>0.003328</td>\n",
       "      <td>0.007147</td>\n",
       "      <td>-0.005593</td>\n",
       "      <td>-0.014830</td>\n",
       "      <td>-0.014845</td>\n",
       "      <td>0.029118</td>\n",
       "      <td>0.004967</td>\n",
       "      <td>-0.020500</td>\n",
       "      <td>...</td>\n",
       "      <td>0.002560</td>\n",
       "      <td>-0.008811</td>\n",
       "      <td>0.020733</td>\n",
       "      <td>-0.012591</td>\n",
       "      <td>0.002079</td>\n",
       "      <td>-0.005476</td>\n",
       "      <td>0.002474</td>\n",
       "      <td>0.012372</td>\n",
       "      <td>0.007192</td>\n",
       "      <td>-0.010358</td>\n",
       "    </tr>\n",
       "    <tr>\n",
       "      <th>system</th>\n",
       "      <td>0.017967</td>\n",
       "      <td>-0.010521</td>\n",
       "      <td>-0.002064</td>\n",
       "      <td>0.008649</td>\n",
       "      <td>-0.006243</td>\n",
       "      <td>-0.018104</td>\n",
       "      <td>-0.014375</td>\n",
       "      <td>0.028727</td>\n",
       "      <td>0.002116</td>\n",
       "      <td>-0.018497</td>\n",
       "      <td>...</td>\n",
       "      <td>0.004333</td>\n",
       "      <td>-0.005148</td>\n",
       "      <td>0.019843</td>\n",
       "      <td>-0.010452</td>\n",
       "      <td>0.002794</td>\n",
       "      <td>-0.006832</td>\n",
       "      <td>0.000242</td>\n",
       "      <td>0.010832</td>\n",
       "      <td>0.006915</td>\n",
       "      <td>-0.008272</td>\n",
       "    </tr>\n",
       "    <tr>\n",
       "      <th>use</th>\n",
       "      <td>0.017096</td>\n",
       "      <td>-0.012217</td>\n",
       "      <td>-0.002918</td>\n",
       "      <td>0.007756</td>\n",
       "      <td>-0.002645</td>\n",
       "      <td>-0.018726</td>\n",
       "      <td>-0.013626</td>\n",
       "      <td>0.027681</td>\n",
       "      <td>0.001213</td>\n",
       "      <td>-0.019966</td>\n",
       "      <td>...</td>\n",
       "      <td>0.003636</td>\n",
       "      <td>0.000324</td>\n",
       "      <td>0.016055</td>\n",
       "      <td>-0.007527</td>\n",
       "      <td>0.000989</td>\n",
       "      <td>-0.006981</td>\n",
       "      <td>-0.000416</td>\n",
       "      <td>0.010809</td>\n",
       "      <td>0.007778</td>\n",
       "      <td>-0.008226</td>\n",
       "    </tr>\n",
       "    <tr>\n",
       "      <th>name</th>\n",
       "      <td>0.009794</td>\n",
       "      <td>-0.009436</td>\n",
       "      <td>-0.000632</td>\n",
       "      <td>-0.000644</td>\n",
       "      <td>0.002067</td>\n",
       "      <td>-0.007936</td>\n",
       "      <td>-0.013731</td>\n",
       "      <td>0.024633</td>\n",
       "      <td>-0.005829</td>\n",
       "      <td>-0.018134</td>\n",
       "      <td>...</td>\n",
       "      <td>0.002287</td>\n",
       "      <td>0.001406</td>\n",
       "      <td>0.016684</td>\n",
       "      <td>-0.004450</td>\n",
       "      <td>0.000592</td>\n",
       "      <td>-0.006362</td>\n",
       "      <td>0.007605</td>\n",
       "      <td>0.016894</td>\n",
       "      <td>0.007439</td>\n",
       "      <td>-0.002436</td>\n",
       "    </tr>\n",
       "    <tr>\n",
       "      <th>would</th>\n",
       "      <td>0.013654</td>\n",
       "      <td>-0.009362</td>\n",
       "      <td>-0.000645</td>\n",
       "      <td>0.004864</td>\n",
       "      <td>-0.002934</td>\n",
       "      <td>-0.012784</td>\n",
       "      <td>-0.014868</td>\n",
       "      <td>0.026937</td>\n",
       "      <td>-0.000491</td>\n",
       "      <td>-0.019852</td>\n",
       "      <td>...</td>\n",
       "      <td>0.001730</td>\n",
       "      <td>-0.006198</td>\n",
       "      <td>0.020023</td>\n",
       "      <td>-0.007914</td>\n",
       "      <td>0.001526</td>\n",
       "      <td>-0.004704</td>\n",
       "      <td>0.003687</td>\n",
       "      <td>0.014712</td>\n",
       "      <td>0.007066</td>\n",
       "      <td>-0.006245</td>\n",
       "    </tr>\n",
       "    <tr>\n",
       "      <th>outlook</th>\n",
       "      <td>0.014417</td>\n",
       "      <td>-0.011012</td>\n",
       "      <td>-0.001266</td>\n",
       "      <td>0.004298</td>\n",
       "      <td>0.000126</td>\n",
       "      <td>-0.015036</td>\n",
       "      <td>-0.016774</td>\n",
       "      <td>0.027739</td>\n",
       "      <td>0.001835</td>\n",
       "      <td>-0.021031</td>\n",
       "      <td>...</td>\n",
       "      <td>0.002660</td>\n",
       "      <td>-0.002946</td>\n",
       "      <td>0.018957</td>\n",
       "      <td>-0.005500</td>\n",
       "      <td>0.001946</td>\n",
       "      <td>-0.003639</td>\n",
       "      <td>0.006164</td>\n",
       "      <td>0.012973</td>\n",
       "      <td>0.005116</td>\n",
       "      <td>-0.004655</td>\n",
       "    </tr>\n",
       "    <tr>\n",
       "      <th>update</th>\n",
       "      <td>0.016873</td>\n",
       "      <td>-0.007741</td>\n",
       "      <td>0.002856</td>\n",
       "      <td>0.008971</td>\n",
       "      <td>-0.000071</td>\n",
       "      <td>-0.009053</td>\n",
       "      <td>-0.017043</td>\n",
       "      <td>0.024261</td>\n",
       "      <td>0.001825</td>\n",
       "      <td>-0.016654</td>\n",
       "      <td>...</td>\n",
       "      <td>-0.005461</td>\n",
       "      <td>-0.009624</td>\n",
       "      <td>0.011958</td>\n",
       "      <td>-0.002135</td>\n",
       "      <td>0.007923</td>\n",
       "      <td>0.001032</td>\n",
       "      <td>0.005167</td>\n",
       "      <td>0.008856</td>\n",
       "      <td>0.001038</td>\n",
       "      <td>-0.009446</td>\n",
       "    </tr>\n",
       "    <tr>\n",
       "      <th>change</th>\n",
       "      <td>0.016422</td>\n",
       "      <td>-0.010971</td>\n",
       "      <td>-0.002540</td>\n",
       "      <td>0.007160</td>\n",
       "      <td>-0.003325</td>\n",
       "      <td>-0.017926</td>\n",
       "      <td>-0.014605</td>\n",
       "      <td>0.027898</td>\n",
       "      <td>0.000680</td>\n",
       "      <td>-0.020076</td>\n",
       "      <td>...</td>\n",
       "      <td>0.004101</td>\n",
       "      <td>-0.002243</td>\n",
       "      <td>0.018643</td>\n",
       "      <td>-0.007837</td>\n",
       "      <td>0.001971</td>\n",
       "      <td>-0.006320</td>\n",
       "      <td>0.000883</td>\n",
       "      <td>0.011510</td>\n",
       "      <td>0.007377</td>\n",
       "      <td>-0.007768</td>\n",
       "    </tr>\n",
       "    <tr>\n",
       "      <th>...</th>\n",
       "      <td>...</td>\n",
       "      <td>...</td>\n",
       "      <td>...</td>\n",
       "      <td>...</td>\n",
       "      <td>...</td>\n",
       "      <td>...</td>\n",
       "      <td>...</td>\n",
       "      <td>...</td>\n",
       "      <td>...</td>\n",
       "      <td>...</td>\n",
       "      <td>...</td>\n",
       "      <td>...</td>\n",
       "      <td>...</td>\n",
       "      <td>...</td>\n",
       "      <td>...</td>\n",
       "      <td>...</td>\n",
       "      <td>...</td>\n",
       "      <td>...</td>\n",
       "      <td>...</td>\n",
       "      <td>...</td>\n",
       "      <td>...</td>\n",
       "    </tr>\n",
       "    <tr>\n",
       "      <th>international</th>\n",
       "      <td>0.020550</td>\n",
       "      <td>-0.010389</td>\n",
       "      <td>-0.004007</td>\n",
       "      <td>0.009657</td>\n",
       "      <td>-0.003386</td>\n",
       "      <td>-0.012774</td>\n",
       "      <td>-0.015521</td>\n",
       "      <td>0.030152</td>\n",
       "      <td>0.005888</td>\n",
       "      <td>-0.012135</td>\n",
       "      <td>...</td>\n",
       "      <td>0.005556</td>\n",
       "      <td>-0.009532</td>\n",
       "      <td>0.024770</td>\n",
       "      <td>-0.007147</td>\n",
       "      <td>0.008179</td>\n",
       "      <td>-0.002966</td>\n",
       "      <td>0.007908</td>\n",
       "      <td>0.012201</td>\n",
       "      <td>-0.000568</td>\n",
       "      <td>-0.004039</td>\n",
       "    </tr>\n",
       "    <tr>\n",
       "      <th>affiliate</th>\n",
       "      <td>0.020029</td>\n",
       "      <td>-0.010073</td>\n",
       "      <td>-0.003021</td>\n",
       "      <td>0.009154</td>\n",
       "      <td>-0.003453</td>\n",
       "      <td>-0.011037</td>\n",
       "      <td>-0.015345</td>\n",
       "      <td>0.030287</td>\n",
       "      <td>0.005149</td>\n",
       "      <td>-0.011535</td>\n",
       "      <td>...</td>\n",
       "      <td>0.005509</td>\n",
       "      <td>-0.010297</td>\n",
       "      <td>0.025503</td>\n",
       "      <td>-0.008172</td>\n",
       "      <td>0.008462</td>\n",
       "      <td>-0.003326</td>\n",
       "      <td>0.008501</td>\n",
       "      <td>0.012572</td>\n",
       "      <td>-0.000693</td>\n",
       "      <td>-0.004168</td>\n",
       "    </tr>\n",
       "    <tr>\n",
       "      <th>definitely</th>\n",
       "      <td>0.020101</td>\n",
       "      <td>-0.010258</td>\n",
       "      <td>-0.003149</td>\n",
       "      <td>0.009458</td>\n",
       "      <td>-0.004166</td>\n",
       "      <td>-0.011871</td>\n",
       "      <td>-0.014775</td>\n",
       "      <td>0.030889</td>\n",
       "      <td>0.005561</td>\n",
       "      <td>-0.011984</td>\n",
       "      <td>...</td>\n",
       "      <td>0.005709</td>\n",
       "      <td>-0.010162</td>\n",
       "      <td>0.025197</td>\n",
       "      <td>-0.008705</td>\n",
       "      <td>0.008010</td>\n",
       "      <td>-0.003667</td>\n",
       "      <td>0.007871</td>\n",
       "      <td>0.012606</td>\n",
       "      <td>0.000192</td>\n",
       "      <td>-0.004944</td>\n",
       "    </tr>\n",
       "    <tr>\n",
       "      <th>sc</th>\n",
       "      <td>0.019689</td>\n",
       "      <td>-0.010814</td>\n",
       "      <td>-0.002477</td>\n",
       "      <td>0.008048</td>\n",
       "      <td>-0.003187</td>\n",
       "      <td>-0.011111</td>\n",
       "      <td>-0.015121</td>\n",
       "      <td>0.030625</td>\n",
       "      <td>0.003817</td>\n",
       "      <td>-0.012373</td>\n",
       "      <td>...</td>\n",
       "      <td>0.006439</td>\n",
       "      <td>-0.008605</td>\n",
       "      <td>0.024846</td>\n",
       "      <td>-0.008861</td>\n",
       "      <td>0.007646</td>\n",
       "      <td>-0.004658</td>\n",
       "      <td>0.007608</td>\n",
       "      <td>0.013744</td>\n",
       "      <td>0.001155</td>\n",
       "      <td>-0.004915</td>\n",
       "    </tr>\n",
       "    <tr>\n",
       "      <th>suhrhtyju</th>\n",
       "      <td>0.019397</td>\n",
       "      <td>-0.010367</td>\n",
       "      <td>-0.002861</td>\n",
       "      <td>0.008490</td>\n",
       "      <td>-0.002985</td>\n",
       "      <td>-0.010655</td>\n",
       "      <td>-0.015406</td>\n",
       "      <td>0.030094</td>\n",
       "      <td>0.005180</td>\n",
       "      <td>-0.011776</td>\n",
       "      <td>...</td>\n",
       "      <td>0.005315</td>\n",
       "      <td>-0.009948</td>\n",
       "      <td>0.024766</td>\n",
       "      <td>-0.007175</td>\n",
       "      <td>0.008194</td>\n",
       "      <td>-0.003360</td>\n",
       "      <td>0.008224</td>\n",
       "      <td>0.013361</td>\n",
       "      <td>0.000042</td>\n",
       "      <td>-0.004052</td>\n",
       "    </tr>\n",
       "    <tr>\n",
       "      <th>migration</th>\n",
       "      <td>0.019542</td>\n",
       "      <td>-0.010533</td>\n",
       "      <td>-0.001686</td>\n",
       "      <td>0.008633</td>\n",
       "      <td>-0.004270</td>\n",
       "      <td>-0.011441</td>\n",
       "      <td>-0.015148</td>\n",
       "      <td>0.030061</td>\n",
       "      <td>0.005163</td>\n",
       "      <td>-0.013623</td>\n",
       "      <td>...</td>\n",
       "      <td>0.004969</td>\n",
       "      <td>-0.010786</td>\n",
       "      <td>0.023702</td>\n",
       "      <td>-0.009168</td>\n",
       "      <td>0.007189</td>\n",
       "      <td>-0.003923</td>\n",
       "      <td>0.007978</td>\n",
       "      <td>0.012458</td>\n",
       "      <td>0.000463</td>\n",
       "      <td>-0.005319</td>\n",
       "    </tr>\n",
       "    <tr>\n",
       "      <th>disturb</th>\n",
       "      <td>0.020162</td>\n",
       "      <td>-0.010060</td>\n",
       "      <td>-0.003754</td>\n",
       "      <td>0.009236</td>\n",
       "      <td>-0.004218</td>\n",
       "      <td>-0.011802</td>\n",
       "      <td>-0.015036</td>\n",
       "      <td>0.030706</td>\n",
       "      <td>0.005219</td>\n",
       "      <td>-0.011449</td>\n",
       "      <td>...</td>\n",
       "      <td>0.005791</td>\n",
       "      <td>-0.010420</td>\n",
       "      <td>0.025500</td>\n",
       "      <td>-0.007693</td>\n",
       "      <td>0.008083</td>\n",
       "      <td>-0.003711</td>\n",
       "      <td>0.008149</td>\n",
       "      <td>0.012714</td>\n",
       "      <td>-0.000317</td>\n",
       "      <td>-0.003436</td>\n",
       "    </tr>\n",
       "    <tr>\n",
       "      <th>vmax</th>\n",
       "      <td>0.022275</td>\n",
       "      <td>-0.008996</td>\n",
       "      <td>-0.002589</td>\n",
       "      <td>0.012032</td>\n",
       "      <td>-0.006673</td>\n",
       "      <td>-0.006789</td>\n",
       "      <td>-0.010224</td>\n",
       "      <td>0.028994</td>\n",
       "      <td>0.009886</td>\n",
       "      <td>-0.001807</td>\n",
       "      <td>...</td>\n",
       "      <td>0.008306</td>\n",
       "      <td>-0.013923</td>\n",
       "      <td>0.026976</td>\n",
       "      <td>-0.012123</td>\n",
       "      <td>0.011975</td>\n",
       "      <td>-0.004329</td>\n",
       "      <td>0.008465</td>\n",
       "      <td>0.010030</td>\n",
       "      <td>-0.004562</td>\n",
       "      <td>-0.004084</td>\n",
       "    </tr>\n",
       "    <tr>\n",
       "      <th>filesystem</th>\n",
       "      <td>0.018958</td>\n",
       "      <td>-0.009380</td>\n",
       "      <td>-0.005136</td>\n",
       "      <td>0.008082</td>\n",
       "      <td>-0.002402</td>\n",
       "      <td>-0.012646</td>\n",
       "      <td>-0.016362</td>\n",
       "      <td>0.029550</td>\n",
       "      <td>0.004271</td>\n",
       "      <td>-0.012697</td>\n",
       "      <td>...</td>\n",
       "      <td>0.005356</td>\n",
       "      <td>-0.009440</td>\n",
       "      <td>0.025665</td>\n",
       "      <td>-0.005624</td>\n",
       "      <td>0.008111</td>\n",
       "      <td>-0.002507</td>\n",
       "      <td>0.009021</td>\n",
       "      <td>0.012847</td>\n",
       "      <td>-0.001125</td>\n",
       "      <td>-0.001862</td>\n",
       "    </tr>\n",
       "    <tr>\n",
       "      <th>mswineventlog</th>\n",
       "      <td>0.021245</td>\n",
       "      <td>-0.010740</td>\n",
       "      <td>-0.002460</td>\n",
       "      <td>0.010465</td>\n",
       "      <td>-0.004696</td>\n",
       "      <td>-0.011125</td>\n",
       "      <td>-0.014235</td>\n",
       "      <td>0.031067</td>\n",
       "      <td>0.006830</td>\n",
       "      <td>-0.010139</td>\n",
       "      <td>...</td>\n",
       "      <td>0.006252</td>\n",
       "      <td>-0.010958</td>\n",
       "      <td>0.025160</td>\n",
       "      <td>-0.009407</td>\n",
       "      <td>0.008585</td>\n",
       "      <td>-0.004182</td>\n",
       "      <td>0.007696</td>\n",
       "      <td>0.012213</td>\n",
       "      <td>-0.000538</td>\n",
       "      <td>-0.005312</td>\n",
       "    </tr>\n",
       "    <tr>\n",
       "      <th>mmaster</th>\n",
       "      <td>0.020338</td>\n",
       "      <td>-0.009282</td>\n",
       "      <td>-0.002820</td>\n",
       "      <td>0.009146</td>\n",
       "      <td>-0.003869</td>\n",
       "      <td>-0.009588</td>\n",
       "      <td>-0.015398</td>\n",
       "      <td>0.030068</td>\n",
       "      <td>0.005264</td>\n",
       "      <td>-0.010529</td>\n",
       "      <td>...</td>\n",
       "      <td>0.004462</td>\n",
       "      <td>-0.011527</td>\n",
       "      <td>0.024991</td>\n",
       "      <td>-0.007299</td>\n",
       "      <td>0.009184</td>\n",
       "      <td>-0.002943</td>\n",
       "      <td>0.009264</td>\n",
       "      <td>0.012664</td>\n",
       "      <td>-0.001594</td>\n",
       "      <td>-0.003426</td>\n",
       "    </tr>\n",
       "    <tr>\n",
       "      <th>infoblox</th>\n",
       "      <td>0.019539</td>\n",
       "      <td>-0.010586</td>\n",
       "      <td>-0.002551</td>\n",
       "      <td>0.008945</td>\n",
       "      <td>-0.004221</td>\n",
       "      <td>-0.011301</td>\n",
       "      <td>-0.014745</td>\n",
       "      <td>0.030733</td>\n",
       "      <td>0.005194</td>\n",
       "      <td>-0.012009</td>\n",
       "      <td>...</td>\n",
       "      <td>0.005474</td>\n",
       "      <td>-0.009837</td>\n",
       "      <td>0.024653</td>\n",
       "      <td>-0.008800</td>\n",
       "      <td>0.007571</td>\n",
       "      <td>-0.004206</td>\n",
       "      <td>0.007550</td>\n",
       "      <td>0.013553</td>\n",
       "      <td>0.000467</td>\n",
       "      <td>-0.004428</td>\n",
       "    </tr>\n",
       "    <tr>\n",
       "      <th>mss</th>\n",
       "      <td>0.020539</td>\n",
       "      <td>-0.011230</td>\n",
       "      <td>-0.001582</td>\n",
       "      <td>0.010166</td>\n",
       "      <td>-0.004308</td>\n",
       "      <td>-0.009890</td>\n",
       "      <td>-0.014068</td>\n",
       "      <td>0.030668</td>\n",
       "      <td>0.007798</td>\n",
       "      <td>-0.010521</td>\n",
       "      <td>...</td>\n",
       "      <td>0.004620</td>\n",
       "      <td>-0.011299</td>\n",
       "      <td>0.024376</td>\n",
       "      <td>-0.008653</td>\n",
       "      <td>0.007944</td>\n",
       "      <td>-0.003371</td>\n",
       "      <td>0.008792</td>\n",
       "      <td>0.012729</td>\n",
       "      <td>-0.000508</td>\n",
       "      <td>-0.004897</td>\n",
       "    </tr>\n",
       "    <tr>\n",
       "      <th>deposit</th>\n",
       "      <td>0.020128</td>\n",
       "      <td>-0.009147</td>\n",
       "      <td>-0.002902</td>\n",
       "      <td>0.009169</td>\n",
       "      <td>-0.003338</td>\n",
       "      <td>-0.009627</td>\n",
       "      <td>-0.015043</td>\n",
       "      <td>0.030055</td>\n",
       "      <td>0.005363</td>\n",
       "      <td>-0.010504</td>\n",
       "      <td>...</td>\n",
       "      <td>0.004770</td>\n",
       "      <td>-0.012278</td>\n",
       "      <td>0.025105</td>\n",
       "      <td>-0.007839</td>\n",
       "      <td>0.009068</td>\n",
       "      <td>-0.002604</td>\n",
       "      <td>0.009153</td>\n",
       "      <td>0.012720</td>\n",
       "      <td>-0.001280</td>\n",
       "      <td>-0.004074</td>\n",
       "    </tr>\n",
       "    <tr>\n",
       "      <th>andrdgrtew</th>\n",
       "      <td>0.020398</td>\n",
       "      <td>-0.010279</td>\n",
       "      <td>-0.003480</td>\n",
       "      <td>0.009562</td>\n",
       "      <td>-0.004348</td>\n",
       "      <td>-0.012639</td>\n",
       "      <td>-0.015071</td>\n",
       "      <td>0.030623</td>\n",
       "      <td>0.004599</td>\n",
       "      <td>-0.011776</td>\n",
       "      <td>...</td>\n",
       "      <td>0.006362</td>\n",
       "      <td>-0.009107</td>\n",
       "      <td>0.025105</td>\n",
       "      <td>-0.008838</td>\n",
       "      <td>0.008032</td>\n",
       "      <td>-0.004735</td>\n",
       "      <td>0.006758</td>\n",
       "      <td>0.012636</td>\n",
       "      <td>0.000659</td>\n",
       "      <td>-0.004895</td>\n",
       "    </tr>\n",
       "    <tr>\n",
       "      <th>typ</th>\n",
       "      <td>0.020230</td>\n",
       "      <td>-0.009895</td>\n",
       "      <td>-0.003438</td>\n",
       "      <td>0.009242</td>\n",
       "      <td>-0.004627</td>\n",
       "      <td>-0.011887</td>\n",
       "      <td>-0.015031</td>\n",
       "      <td>0.030516</td>\n",
       "      <td>0.005091</td>\n",
       "      <td>-0.011409</td>\n",
       "      <td>...</td>\n",
       "      <td>0.005920</td>\n",
       "      <td>-0.010705</td>\n",
       "      <td>0.025717</td>\n",
       "      <td>-0.008788</td>\n",
       "      <td>0.008360</td>\n",
       "      <td>-0.004053</td>\n",
       "      <td>0.007611</td>\n",
       "      <td>0.012743</td>\n",
       "      <td>-0.000160</td>\n",
       "      <td>-0.004345</td>\n",
       "    </tr>\n",
       "    <tr>\n",
       "      <th>daghyunny</th>\n",
       "      <td>0.019462</td>\n",
       "      <td>-0.010734</td>\n",
       "      <td>-0.002595</td>\n",
       "      <td>0.009250</td>\n",
       "      <td>-0.003120</td>\n",
       "      <td>-0.012674</td>\n",
       "      <td>-0.015353</td>\n",
       "      <td>0.030267</td>\n",
       "      <td>0.005741</td>\n",
       "      <td>-0.013590</td>\n",
       "      <td>...</td>\n",
       "      <td>0.004589</td>\n",
       "      <td>-0.009289</td>\n",
       "      <td>0.023568</td>\n",
       "      <td>-0.007914</td>\n",
       "      <td>0.007320</td>\n",
       "      <td>-0.003327</td>\n",
       "      <td>0.006976</td>\n",
       "      <td>0.012750</td>\n",
       "      <td>0.000944</td>\n",
       "      <td>-0.005529</td>\n",
       "    </tr>\n",
       "    <tr>\n",
       "      <th>kds</th>\n",
       "      <td>0.020936</td>\n",
       "      <td>-0.010585</td>\n",
       "      <td>-0.003428</td>\n",
       "      <td>0.009705</td>\n",
       "      <td>-0.003871</td>\n",
       "      <td>-0.010355</td>\n",
       "      <td>-0.014261</td>\n",
       "      <td>0.030628</td>\n",
       "      <td>0.006147</td>\n",
       "      <td>-0.009333</td>\n",
       "      <td>...</td>\n",
       "      <td>0.006535</td>\n",
       "      <td>-0.010299</td>\n",
       "      <td>0.024883</td>\n",
       "      <td>-0.008731</td>\n",
       "      <td>0.008529</td>\n",
       "      <td>-0.004007</td>\n",
       "      <td>0.007930</td>\n",
       "      <td>0.013047</td>\n",
       "      <td>-0.001023</td>\n",
       "      <td>-0.004470</td>\n",
       "    </tr>\n",
       "    <tr>\n",
       "      <th>santiago</th>\n",
       "      <td>0.019197</td>\n",
       "      <td>-0.011821</td>\n",
       "      <td>-0.003618</td>\n",
       "      <td>0.008542</td>\n",
       "      <td>-0.002831</td>\n",
       "      <td>-0.010334</td>\n",
       "      <td>-0.014560</td>\n",
       "      <td>0.030893</td>\n",
       "      <td>0.004142</td>\n",
       "      <td>-0.011938</td>\n",
       "      <td>...</td>\n",
       "      <td>0.006050</td>\n",
       "      <td>-0.006652</td>\n",
       "      <td>0.023301</td>\n",
       "      <td>-0.007166</td>\n",
       "      <td>0.006940</td>\n",
       "      <td>-0.004745</td>\n",
       "      <td>0.008506</td>\n",
       "      <td>0.014371</td>\n",
       "      <td>0.001321</td>\n",
       "      <td>-0.004217</td>\n",
       "    </tr>\n",
       "    <tr>\n",
       "      <th>zcnc</th>\n",
       "      <td>0.021315</td>\n",
       "      <td>-0.011212</td>\n",
       "      <td>-0.003729</td>\n",
       "      <td>0.011237</td>\n",
       "      <td>-0.003355</td>\n",
       "      <td>-0.011140</td>\n",
       "      <td>-0.013811</td>\n",
       "      <td>0.031100</td>\n",
       "      <td>0.008102</td>\n",
       "      <td>-0.010370</td>\n",
       "      <td>...</td>\n",
       "      <td>0.005451</td>\n",
       "      <td>-0.009367</td>\n",
       "      <td>0.024847</td>\n",
       "      <td>-0.007865</td>\n",
       "      <td>0.008373</td>\n",
       "      <td>-0.002931</td>\n",
       "      <td>0.008430</td>\n",
       "      <td>0.011958</td>\n",
       "      <td>-0.001213</td>\n",
       "      <td>-0.003874</td>\n",
       "    </tr>\n",
       "    <tr>\n",
       "      <th>olibercsu</th>\n",
       "      <td>0.020056</td>\n",
       "      <td>-0.010146</td>\n",
       "      <td>-0.003551</td>\n",
       "      <td>0.008861</td>\n",
       "      <td>-0.002740</td>\n",
       "      <td>-0.010911</td>\n",
       "      <td>-0.015338</td>\n",
       "      <td>0.030659</td>\n",
       "      <td>0.005239</td>\n",
       "      <td>-0.011762</td>\n",
       "      <td>...</td>\n",
       "      <td>0.005489</td>\n",
       "      <td>-0.009324</td>\n",
       "      <td>0.025048</td>\n",
       "      <td>-0.007350</td>\n",
       "      <td>0.007973</td>\n",
       "      <td>-0.003421</td>\n",
       "      <td>0.008842</td>\n",
       "      <td>0.013110</td>\n",
       "      <td>-0.000825</td>\n",
       "      <td>-0.003299</td>\n",
       "    </tr>\n",
       "    <tr>\n",
       "      <th>sbinuxja</th>\n",
       "      <td>0.018617</td>\n",
       "      <td>-0.010489</td>\n",
       "      <td>-0.003020</td>\n",
       "      <td>0.007504</td>\n",
       "      <td>-0.002865</td>\n",
       "      <td>-0.012097</td>\n",
       "      <td>-0.015324</td>\n",
       "      <td>0.030324</td>\n",
       "      <td>0.003189</td>\n",
       "      <td>-0.013925</td>\n",
       "      <td>...</td>\n",
       "      <td>0.004940</td>\n",
       "      <td>-0.007813</td>\n",
       "      <td>0.023630</td>\n",
       "      <td>-0.007933</td>\n",
       "      <td>0.006471</td>\n",
       "      <td>-0.004338</td>\n",
       "      <td>0.007450</td>\n",
       "      <td>0.013838</td>\n",
       "      <td>0.002105</td>\n",
       "      <td>-0.004529</td>\n",
       "    </tr>\n",
       "    <tr>\n",
       "      <th>vtbegcho</th>\n",
       "      <td>0.019356</td>\n",
       "      <td>-0.009696</td>\n",
       "      <td>-0.003856</td>\n",
       "      <td>0.008255</td>\n",
       "      <td>-0.002907</td>\n",
       "      <td>-0.011828</td>\n",
       "      <td>-0.015654</td>\n",
       "      <td>0.030054</td>\n",
       "      <td>0.003993</td>\n",
       "      <td>-0.012428</td>\n",
       "      <td>...</td>\n",
       "      <td>0.005498</td>\n",
       "      <td>-0.009275</td>\n",
       "      <td>0.025413</td>\n",
       "      <td>-0.006879</td>\n",
       "      <td>0.008227</td>\n",
       "      <td>-0.003618</td>\n",
       "      <td>0.008881</td>\n",
       "      <td>0.013025</td>\n",
       "      <td>-0.000141</td>\n",
       "      <td>-0.002860</td>\n",
       "    </tr>\n",
       "    <tr>\n",
       "      <th>nicolmghyu</th>\n",
       "      <td>0.020394</td>\n",
       "      <td>-0.009613</td>\n",
       "      <td>-0.003257</td>\n",
       "      <td>0.009643</td>\n",
       "      <td>-0.004586</td>\n",
       "      <td>-0.011011</td>\n",
       "      <td>-0.014837</td>\n",
       "      <td>0.030326</td>\n",
       "      <td>0.005613</td>\n",
       "      <td>-0.010562</td>\n",
       "      <td>...</td>\n",
       "      <td>0.005858</td>\n",
       "      <td>-0.011467</td>\n",
       "      <td>0.026262</td>\n",
       "      <td>-0.008869</td>\n",
       "      <td>0.008706</td>\n",
       "      <td>-0.003642</td>\n",
       "      <td>0.008110</td>\n",
       "      <td>0.012424</td>\n",
       "      <td>-0.000795</td>\n",
       "      <td>-0.004198</td>\n",
       "    </tr>\n",
       "    <tr>\n",
       "      <th>docx</th>\n",
       "      <td>0.020341</td>\n",
       "      <td>-0.010973</td>\n",
       "      <td>-0.003460</td>\n",
       "      <td>0.009793</td>\n",
       "      <td>-0.003680</td>\n",
       "      <td>-0.011399</td>\n",
       "      <td>-0.014287</td>\n",
       "      <td>0.030950</td>\n",
       "      <td>0.006024</td>\n",
       "      <td>-0.011491</td>\n",
       "      <td>...</td>\n",
       "      <td>0.006025</td>\n",
       "      <td>-0.008803</td>\n",
       "      <td>0.024683</td>\n",
       "      <td>-0.008282</td>\n",
       "      <td>0.008066</td>\n",
       "      <td>-0.003944</td>\n",
       "      <td>0.008033</td>\n",
       "      <td>0.012882</td>\n",
       "      <td>0.000263</td>\n",
       "      <td>-0.004353</td>\n",
       "    </tr>\n",
       "    <tr>\n",
       "      <th>division</th>\n",
       "      <td>0.018238</td>\n",
       "      <td>-0.009857</td>\n",
       "      <td>-0.003570</td>\n",
       "      <td>0.007439</td>\n",
       "      <td>-0.002073</td>\n",
       "      <td>-0.011107</td>\n",
       "      <td>-0.015777</td>\n",
       "      <td>0.029891</td>\n",
       "      <td>0.003776</td>\n",
       "      <td>-0.013287</td>\n",
       "      <td>...</td>\n",
       "      <td>0.004868</td>\n",
       "      <td>-0.008585</td>\n",
       "      <td>0.024396</td>\n",
       "      <td>-0.006548</td>\n",
       "      <td>0.007155</td>\n",
       "      <td>-0.003374</td>\n",
       "      <td>0.009211</td>\n",
       "      <td>0.013783</td>\n",
       "      <td>0.000388</td>\n",
       "      <td>-0.002873</td>\n",
       "    </tr>\n",
       "    <tr>\n",
       "      <th>rak</th>\n",
       "      <td>0.019813</td>\n",
       "      <td>-0.011919</td>\n",
       "      <td>-0.003733</td>\n",
       "      <td>0.008184</td>\n",
       "      <td>-0.002510</td>\n",
       "      <td>-0.011405</td>\n",
       "      <td>-0.014717</td>\n",
       "      <td>0.030768</td>\n",
       "      <td>0.005325</td>\n",
       "      <td>-0.011301</td>\n",
       "      <td>...</td>\n",
       "      <td>0.007197</td>\n",
       "      <td>-0.007533</td>\n",
       "      <td>0.023544</td>\n",
       "      <td>-0.007995</td>\n",
       "      <td>0.007633</td>\n",
       "      <td>-0.004045</td>\n",
       "      <td>0.007437</td>\n",
       "      <td>0.014107</td>\n",
       "      <td>0.000635</td>\n",
       "      <td>-0.005061</td>\n",
       "    </tr>\n",
       "    <tr>\n",
       "      <th>gncpezhx</th>\n",
       "      <td>0.018472</td>\n",
       "      <td>-0.009457</td>\n",
       "      <td>-0.002999</td>\n",
       "      <td>0.007840</td>\n",
       "      <td>-0.002352</td>\n",
       "      <td>-0.009661</td>\n",
       "      <td>-0.015836</td>\n",
       "      <td>0.029661</td>\n",
       "      <td>0.004024</td>\n",
       "      <td>-0.012543</td>\n",
       "      <td>...</td>\n",
       "      <td>0.004097</td>\n",
       "      <td>-0.009532</td>\n",
       "      <td>0.024174</td>\n",
       "      <td>-0.006341</td>\n",
       "      <td>0.007912</td>\n",
       "      <td>-0.003120</td>\n",
       "      <td>0.009717</td>\n",
       "      <td>0.013555</td>\n",
       "      <td>-0.000371</td>\n",
       "      <td>-0.003053</td>\n",
       "    </tr>\n",
       "    <tr>\n",
       "      <th>hopqcvza</th>\n",
       "      <td>0.018908</td>\n",
       "      <td>-0.009674</td>\n",
       "      <td>-0.002358</td>\n",
       "      <td>0.008209</td>\n",
       "      <td>-0.003101</td>\n",
       "      <td>-0.009782</td>\n",
       "      <td>-0.015146</td>\n",
       "      <td>0.029755</td>\n",
       "      <td>0.004839</td>\n",
       "      <td>-0.011519</td>\n",
       "      <td>...</td>\n",
       "      <td>0.004516</td>\n",
       "      <td>-0.010945</td>\n",
       "      <td>0.025148</td>\n",
       "      <td>-0.007487</td>\n",
       "      <td>0.008528</td>\n",
       "      <td>-0.002907</td>\n",
       "      <td>0.009464</td>\n",
       "      <td>0.013140</td>\n",
       "      <td>-0.000643</td>\n",
       "      <td>-0.003173</td>\n",
       "    </tr>\n",
       "    <tr>\n",
       "      <th>wilsfgtjl</th>\n",
       "      <td>0.019713</td>\n",
       "      <td>-0.011611</td>\n",
       "      <td>-0.002973</td>\n",
       "      <td>0.008286</td>\n",
       "      <td>-0.002339</td>\n",
       "      <td>-0.011975</td>\n",
       "      <td>-0.015134</td>\n",
       "      <td>0.031199</td>\n",
       "      <td>0.004395</td>\n",
       "      <td>-0.013583</td>\n",
       "      <td>...</td>\n",
       "      <td>0.005795</td>\n",
       "      <td>-0.006819</td>\n",
       "      <td>0.023270</td>\n",
       "      <td>-0.008254</td>\n",
       "      <td>0.006524</td>\n",
       "      <td>-0.004912</td>\n",
       "      <td>0.006871</td>\n",
       "      <td>0.013609</td>\n",
       "      <td>0.001866</td>\n",
       "      <td>-0.005197</td>\n",
       "    </tr>\n",
       "  </tbody>\n",
       "</table>\n",
       "<p>3135 rows × 8000 columns</p>\n",
       "</div>"
      ],
      "text/plain": [
       "                   0         1         2         3         4         5     \\\n",
       "               0.010920 -0.015687 -0.001783 -0.000403  0.006413 -0.006828   \n",
       "not            0.015736 -0.010790  0.000101  0.006203 -0.003666 -0.018243   \n",
       "password       0.013606 -0.009779 -0.006441  0.005316 -0.002068 -0.020070   \n",
       "erp            0.015552 -0.007558 -0.003524  0.007158 -0.008652 -0.017091   \n",
       "job            0.019201 -0.003413  0.000356  0.009801 -0.010739 -0.001276   \n",
       "tool           0.019768 -0.011661  0.002929  0.009314 -0.007545 -0.015586   \n",
       "issue          0.016079 -0.010681  0.000359  0.006820 -0.004187 -0.014994   \n",
       "scheduler      0.019583 -0.003784  0.000058  0.009761 -0.010587 -0.001732   \n",
       "work           0.016963 -0.007242 -0.015408  0.007706  0.000024 -0.025655   \n",
       "fail           0.019030 -0.003291  0.000140  0.009962 -0.010637 -0.001280   \n",
       "reset          0.012858 -0.005737 -0.013771  0.005416 -0.001640 -0.022467   \n",
       "user           0.014612 -0.009280 -0.003662  0.006151 -0.003871 -0.018539   \n",
       "unable         0.017235 -0.012525  0.001253  0.007570 -0.004258 -0.017138   \n",
       "sid            0.016562 -0.003736 -0.000896  0.009214 -0.014835 -0.010360   \n",
       "from           0.018936 -0.003140 -0.000025  0.009763 -0.010101 -0.000899   \n",
       "company        0.022053 -0.011421 -0.002956  0.013501  0.000838 -0.007968   \n",
       "email          0.005237 -0.003023 -0.003166 -0.002647  0.004500 -0.003666   \n",
       "access         0.019391 -0.013044  0.000392  0.009094 -0.005007 -0.014588   \n",
       "error          0.018510 -0.011513  0.004841  0.008876 -0.008329 -0.014204   \n",
       "need           0.016512 -0.009785 -0.001570  0.006434 -0.003211 -0.014408   \n",
       "account        0.014168 -0.007710 -0.003182  0.006493 -0.007083 -0.016213   \n",
       "ticket         0.016374 -0.006368  0.000449  0.010897  0.003256 -0.006576   \n",
       "get            0.016471 -0.011259  0.003328  0.007147 -0.005593 -0.014830   \n",
       "system         0.017967 -0.010521 -0.002064  0.008649 -0.006243 -0.018104   \n",
       "use            0.017096 -0.012217 -0.002918  0.007756 -0.002645 -0.018726   \n",
       "name           0.009794 -0.009436 -0.000632 -0.000644  0.002067 -0.007936   \n",
       "would          0.013654 -0.009362 -0.000645  0.004864 -0.002934 -0.012784   \n",
       "outlook        0.014417 -0.011012 -0.001266  0.004298  0.000126 -0.015036   \n",
       "update         0.016873 -0.007741  0.002856  0.008971 -0.000071 -0.009053   \n",
       "change         0.016422 -0.010971 -0.002540  0.007160 -0.003325 -0.017926   \n",
       "...                 ...       ...       ...       ...       ...       ...   \n",
       "international  0.020550 -0.010389 -0.004007  0.009657 -0.003386 -0.012774   \n",
       "affiliate      0.020029 -0.010073 -0.003021  0.009154 -0.003453 -0.011037   \n",
       "definitely     0.020101 -0.010258 -0.003149  0.009458 -0.004166 -0.011871   \n",
       "sc             0.019689 -0.010814 -0.002477  0.008048 -0.003187 -0.011111   \n",
       "suhrhtyju      0.019397 -0.010367 -0.002861  0.008490 -0.002985 -0.010655   \n",
       "migration      0.019542 -0.010533 -0.001686  0.008633 -0.004270 -0.011441   \n",
       "disturb        0.020162 -0.010060 -0.003754  0.009236 -0.004218 -0.011802   \n",
       "vmax           0.022275 -0.008996 -0.002589  0.012032 -0.006673 -0.006789   \n",
       "filesystem     0.018958 -0.009380 -0.005136  0.008082 -0.002402 -0.012646   \n",
       "mswineventlog  0.021245 -0.010740 -0.002460  0.010465 -0.004696 -0.011125   \n",
       "mmaster        0.020338 -0.009282 -0.002820  0.009146 -0.003869 -0.009588   \n",
       "infoblox       0.019539 -0.010586 -0.002551  0.008945 -0.004221 -0.011301   \n",
       "mss            0.020539 -0.011230 -0.001582  0.010166 -0.004308 -0.009890   \n",
       "deposit        0.020128 -0.009147 -0.002902  0.009169 -0.003338 -0.009627   \n",
       "andrdgrtew     0.020398 -0.010279 -0.003480  0.009562 -0.004348 -0.012639   \n",
       "typ            0.020230 -0.009895 -0.003438  0.009242 -0.004627 -0.011887   \n",
       "daghyunny      0.019462 -0.010734 -0.002595  0.009250 -0.003120 -0.012674   \n",
       "kds            0.020936 -0.010585 -0.003428  0.009705 -0.003871 -0.010355   \n",
       "santiago       0.019197 -0.011821 -0.003618  0.008542 -0.002831 -0.010334   \n",
       "zcnc           0.021315 -0.011212 -0.003729  0.011237 -0.003355 -0.011140   \n",
       "olibercsu      0.020056 -0.010146 -0.003551  0.008861 -0.002740 -0.010911   \n",
       "sbinuxja       0.018617 -0.010489 -0.003020  0.007504 -0.002865 -0.012097   \n",
       "vtbegcho       0.019356 -0.009696 -0.003856  0.008255 -0.002907 -0.011828   \n",
       "nicolmghyu     0.020394 -0.009613 -0.003257  0.009643 -0.004586 -0.011011   \n",
       "docx           0.020341 -0.010973 -0.003460  0.009793 -0.003680 -0.011399   \n",
       "division       0.018238 -0.009857 -0.003570  0.007439 -0.002073 -0.011107   \n",
       "rak            0.019813 -0.011919 -0.003733  0.008184 -0.002510 -0.011405   \n",
       "gncpezhx       0.018472 -0.009457 -0.002999  0.007840 -0.002352 -0.009661   \n",
       "hopqcvza       0.018908 -0.009674 -0.002358  0.008209 -0.003101 -0.009782   \n",
       "wilsfgtjl      0.019713 -0.011611 -0.002973  0.008286 -0.002339 -0.011975   \n",
       "\n",
       "                   6         7         8         9     ...      7990  \\\n",
       "              -0.010189  0.023540 -0.005165 -0.015204  ...  0.005670   \n",
       "not           -0.017409  0.028857  0.004644 -0.022141  ...  0.003205   \n",
       "password      -0.012629  0.023219 -0.003234 -0.020001  ...  0.003830   \n",
       "erp           -0.011709  0.025378 -0.001648 -0.015725  ...  0.006512   \n",
       "job           -0.007831  0.024045  0.006138  0.003692  ...  0.007884   \n",
       "tool          -0.012077  0.029238  0.002615 -0.017398  ...  0.002454   \n",
       "issue         -0.015921  0.028925  0.003370 -0.019710  ...  0.002696   \n",
       "scheduler     -0.008273  0.024455  0.006284  0.003347  ...  0.007967   \n",
       "work          -0.020185  0.024464  0.002677 -0.015774  ...  0.008121   \n",
       "fail          -0.007891  0.023955  0.006582  0.003911  ...  0.007836   \n",
       "reset         -0.015790  0.020776 -0.005854 -0.016528  ...  0.005776   \n",
       "user          -0.015259  0.025640 -0.001105 -0.020234  ...  0.003050   \n",
       "unable        -0.014600  0.029913  0.004873 -0.020944  ...  0.003098   \n",
       "sid           -0.007375  0.022581  0.000307 -0.004615  ...  0.008583   \n",
       "from          -0.007969  0.023694  0.006283  0.004200  ...  0.007889   \n",
       "company       -0.013027  0.027069  0.010982 -0.006813  ...  0.003245   \n",
       "email         -0.016385  0.018183 -0.006637 -0.015629  ... -0.003878   \n",
       "access        -0.013866  0.031368  0.006523 -0.017030  ...  0.003895   \n",
       "error         -0.014218  0.030546  0.006323 -0.018445  ...  0.002901   \n",
       "need          -0.016314  0.028688  0.001498 -0.018311  ...  0.003376   \n",
       "account       -0.011905  0.024839 -0.003174 -0.017793  ...  0.005081   \n",
       "ticket        -0.015891  0.019055  0.003056 -0.011574  ... -0.007187   \n",
       "get           -0.014845  0.029118  0.004967 -0.020500  ...  0.002560   \n",
       "system        -0.014375  0.028727  0.002116 -0.018497  ...  0.004333   \n",
       "use           -0.013626  0.027681  0.001213 -0.019966  ...  0.003636   \n",
       "name          -0.013731  0.024633 -0.005829 -0.018134  ...  0.002287   \n",
       "would         -0.014868  0.026937 -0.000491 -0.019852  ...  0.001730   \n",
       "outlook       -0.016774  0.027739  0.001835 -0.021031  ...  0.002660   \n",
       "update        -0.017043  0.024261  0.001825 -0.016654  ... -0.005461   \n",
       "change        -0.014605  0.027898  0.000680 -0.020076  ...  0.004101   \n",
       "...                 ...       ...       ...       ...  ...       ...   \n",
       "international -0.015521  0.030152  0.005888 -0.012135  ...  0.005556   \n",
       "affiliate     -0.015345  0.030287  0.005149 -0.011535  ...  0.005509   \n",
       "definitely    -0.014775  0.030889  0.005561 -0.011984  ...  0.005709   \n",
       "sc            -0.015121  0.030625  0.003817 -0.012373  ...  0.006439   \n",
       "suhrhtyju     -0.015406  0.030094  0.005180 -0.011776  ...  0.005315   \n",
       "migration     -0.015148  0.030061  0.005163 -0.013623  ...  0.004969   \n",
       "disturb       -0.015036  0.030706  0.005219 -0.011449  ...  0.005791   \n",
       "vmax          -0.010224  0.028994  0.009886 -0.001807  ...  0.008306   \n",
       "filesystem    -0.016362  0.029550  0.004271 -0.012697  ...  0.005356   \n",
       "mswineventlog -0.014235  0.031067  0.006830 -0.010139  ...  0.006252   \n",
       "mmaster       -0.015398  0.030068  0.005264 -0.010529  ...  0.004462   \n",
       "infoblox      -0.014745  0.030733  0.005194 -0.012009  ...  0.005474   \n",
       "mss           -0.014068  0.030668  0.007798 -0.010521  ...  0.004620   \n",
       "deposit       -0.015043  0.030055  0.005363 -0.010504  ...  0.004770   \n",
       "andrdgrtew    -0.015071  0.030623  0.004599 -0.011776  ...  0.006362   \n",
       "typ           -0.015031  0.030516  0.005091 -0.011409  ...  0.005920   \n",
       "daghyunny     -0.015353  0.030267  0.005741 -0.013590  ...  0.004589   \n",
       "kds           -0.014261  0.030628  0.006147 -0.009333  ...  0.006535   \n",
       "santiago      -0.014560  0.030893  0.004142 -0.011938  ...  0.006050   \n",
       "zcnc          -0.013811  0.031100  0.008102 -0.010370  ...  0.005451   \n",
       "olibercsu     -0.015338  0.030659  0.005239 -0.011762  ...  0.005489   \n",
       "sbinuxja      -0.015324  0.030324  0.003189 -0.013925  ...  0.004940   \n",
       "vtbegcho      -0.015654  0.030054  0.003993 -0.012428  ...  0.005498   \n",
       "nicolmghyu    -0.014837  0.030326  0.005613 -0.010562  ...  0.005858   \n",
       "docx          -0.014287  0.030950  0.006024 -0.011491  ...  0.006025   \n",
       "division      -0.015777  0.029891  0.003776 -0.013287  ...  0.004868   \n",
       "rak           -0.014717  0.030768  0.005325 -0.011301  ...  0.007197   \n",
       "gncpezhx      -0.015836  0.029661  0.004024 -0.012543  ...  0.004097   \n",
       "hopqcvza      -0.015146  0.029755  0.004839 -0.011519  ...  0.004516   \n",
       "wilsfgtjl     -0.015134  0.031199  0.004395 -0.013583  ...  0.005795   \n",
       "\n",
       "                   7991      7992      7993      7994      7995      7996  \\\n",
       "               0.011480  0.007583 -0.004013 -0.002705 -0.008234  0.002311   \n",
       "not           -0.006076  0.019945 -0.009934  0.000857 -0.004490  0.003324   \n",
       "password       0.003747  0.013527 -0.004264  0.000180 -0.006965 -0.002277   \n",
       "erp           -0.005691  0.020924 -0.010905  0.003903 -0.008280 -0.001999   \n",
       "job           -0.020107  0.026945 -0.015442  0.012187 -0.004883  0.006984   \n",
       "tool          -0.005662  0.016696 -0.015726  0.001742 -0.009760 -0.003365   \n",
       "issue         -0.007271  0.020767 -0.010270  0.002387 -0.004984  0.003727   \n",
       "scheduler     -0.020158  0.027166 -0.015019  0.012451 -0.004567  0.007170   \n",
       "work          -0.000335  0.021359  0.002803  0.006129  0.000255  0.006955   \n",
       "fail          -0.020266  0.027090 -0.015094  0.012286 -0.004800  0.007392   \n",
       "reset          0.003236  0.016491  0.002318  0.003050 -0.003590  0.001150   \n",
       "user          -0.002157  0.017194 -0.006323  0.001338 -0.005441  0.000503   \n",
       "unable        -0.004363  0.018385 -0.011083  0.001357 -0.006558  0.001521   \n",
       "sid           -0.014655  0.023549 -0.017295  0.007748 -0.009417 -0.002705   \n",
       "from          -0.020154  0.027152 -0.014737  0.012468 -0.004428  0.007782   \n",
       "company       -0.008627  0.019587 -0.002805  0.013461  0.000495  0.009138   \n",
       "email         -0.006584  0.016246  0.004085  0.002378  0.002070  0.013192   \n",
       "access        -0.006145  0.020746 -0.011324  0.003491 -0.006099  0.003640   \n",
       "error         -0.011517  0.020993 -0.015946  0.002325 -0.006493  0.001388   \n",
       "need          -0.007511  0.021968 -0.008019  0.003829 -0.004530  0.004735   \n",
       "account       -0.005003  0.019249 -0.007510  0.004277 -0.006890 -0.001592   \n",
       "ticket        -0.009438  0.007470  0.005212  0.011398  0.005465  0.007411   \n",
       "get           -0.008811  0.020733 -0.012591  0.002079 -0.005476  0.002474   \n",
       "system        -0.005148  0.019843 -0.010452  0.002794 -0.006832  0.000242   \n",
       "use            0.000324  0.016055 -0.007527  0.000989 -0.006981 -0.000416   \n",
       "name           0.001406  0.016684 -0.004450  0.000592 -0.006362  0.007605   \n",
       "would         -0.006198  0.020023 -0.007914  0.001526 -0.004704  0.003687   \n",
       "outlook       -0.002946  0.018957 -0.005500  0.001946 -0.003639  0.006164   \n",
       "update        -0.009624  0.011958 -0.002135  0.007923  0.001032  0.005167   \n",
       "change        -0.002243  0.018643 -0.007837  0.001971 -0.006320  0.000883   \n",
       "...                 ...       ...       ...       ...       ...       ...   \n",
       "international -0.009532  0.024770 -0.007147  0.008179 -0.002966  0.007908   \n",
       "affiliate     -0.010297  0.025503 -0.008172  0.008462 -0.003326  0.008501   \n",
       "definitely    -0.010162  0.025197 -0.008705  0.008010 -0.003667  0.007871   \n",
       "sc            -0.008605  0.024846 -0.008861  0.007646 -0.004658  0.007608   \n",
       "suhrhtyju     -0.009948  0.024766 -0.007175  0.008194 -0.003360  0.008224   \n",
       "migration     -0.010786  0.023702 -0.009168  0.007189 -0.003923  0.007978   \n",
       "disturb       -0.010420  0.025500 -0.007693  0.008083 -0.003711  0.008149   \n",
       "vmax          -0.013923  0.026976 -0.012123  0.011975 -0.004329  0.008465   \n",
       "filesystem    -0.009440  0.025665 -0.005624  0.008111 -0.002507  0.009021   \n",
       "mswineventlog -0.010958  0.025160 -0.009407  0.008585 -0.004182  0.007696   \n",
       "mmaster       -0.011527  0.024991 -0.007299  0.009184 -0.002943  0.009264   \n",
       "infoblox      -0.009837  0.024653 -0.008800  0.007571 -0.004206  0.007550   \n",
       "mss           -0.011299  0.024376 -0.008653  0.007944 -0.003371  0.008792   \n",
       "deposit       -0.012278  0.025105 -0.007839  0.009068 -0.002604  0.009153   \n",
       "andrdgrtew    -0.009107  0.025105 -0.008838  0.008032 -0.004735  0.006758   \n",
       "typ           -0.010705  0.025717 -0.008788  0.008360 -0.004053  0.007611   \n",
       "daghyunny     -0.009289  0.023568 -0.007914  0.007320 -0.003327  0.006976   \n",
       "kds           -0.010299  0.024883 -0.008731  0.008529 -0.004007  0.007930   \n",
       "santiago      -0.006652  0.023301 -0.007166  0.006940 -0.004745  0.008506   \n",
       "zcnc          -0.009367  0.024847 -0.007865  0.008373 -0.002931  0.008430   \n",
       "olibercsu     -0.009324  0.025048 -0.007350  0.007973 -0.003421  0.008842   \n",
       "sbinuxja      -0.007813  0.023630 -0.007933  0.006471 -0.004338  0.007450   \n",
       "vtbegcho      -0.009275  0.025413 -0.006879  0.008227 -0.003618  0.008881   \n",
       "nicolmghyu    -0.011467  0.026262 -0.008869  0.008706 -0.003642  0.008110   \n",
       "docx          -0.008803  0.024683 -0.008282  0.008066 -0.003944  0.008033   \n",
       "division      -0.008585  0.024396 -0.006548  0.007155 -0.003374  0.009211   \n",
       "rak           -0.007533  0.023544 -0.007995  0.007633 -0.004045  0.007437   \n",
       "gncpezhx      -0.009532  0.024174 -0.006341  0.007912 -0.003120  0.009717   \n",
       "hopqcvza      -0.010945  0.025148 -0.007487  0.008528 -0.002907  0.009464   \n",
       "wilsfgtjl     -0.006819  0.023270 -0.008254  0.006524 -0.004912  0.006871   \n",
       "\n",
       "                   7997      7998      7999  \n",
       "               0.016836  0.009785 -0.005525  \n",
       "not            0.010953  0.005870 -0.007720  \n",
       "password       0.010089  0.008984 -0.005761  \n",
       "erp            0.010555  0.008237 -0.007769  \n",
       "job            0.008468 -0.004844 -0.004291  \n",
       "tool           0.009679  0.008053 -0.014800  \n",
       "issue          0.012692  0.005989 -0.007672  \n",
       "scheduler      0.008625 -0.004975 -0.004171  \n",
       "work           0.006020 -0.002470  0.003522  \n",
       "fail           0.008437 -0.005383 -0.003879  \n",
       "reset          0.008118  0.003922  0.002060  \n",
       "user           0.011018  0.007513 -0.005952  \n",
       "unable         0.011271  0.007564 -0.009719  \n",
       "sid            0.008120  0.004481 -0.008671  \n",
       "from           0.008375 -0.005671 -0.003495  \n",
       "company        0.006778 -0.006149 -0.003729  \n",
       "email          0.015975  0.000158  0.006066  \n",
       "access         0.012476  0.005468 -0.008578  \n",
       "error          0.011786  0.006863 -0.011978  \n",
       "need           0.013188  0.004560 -0.006133  \n",
       "account        0.011719  0.009541 -0.007287  \n",
       "ticket         0.004888 -0.004847 -0.004815  \n",
       "get            0.012372  0.007192 -0.010358  \n",
       "system         0.010832  0.006915 -0.008272  \n",
       "use            0.010809  0.007778 -0.008226  \n",
       "name           0.016894  0.007439 -0.002436  \n",
       "would          0.014712  0.007066 -0.006245  \n",
       "outlook        0.012973  0.005116 -0.004655  \n",
       "update         0.008856  0.001038 -0.009446  \n",
       "change         0.011510  0.007377 -0.007768  \n",
       "...                 ...       ...       ...  \n",
       "international  0.012201 -0.000568 -0.004039  \n",
       "affiliate      0.012572 -0.000693 -0.004168  \n",
       "definitely     0.012606  0.000192 -0.004944  \n",
       "sc             0.013744  0.001155 -0.004915  \n",
       "suhrhtyju      0.013361  0.000042 -0.004052  \n",
       "migration      0.012458  0.000463 -0.005319  \n",
       "disturb        0.012714 -0.000317 -0.003436  \n",
       "vmax           0.010030 -0.004562 -0.004084  \n",
       "filesystem     0.012847 -0.001125 -0.001862  \n",
       "mswineventlog  0.012213 -0.000538 -0.005312  \n",
       "mmaster        0.012664 -0.001594 -0.003426  \n",
       "infoblox       0.013553  0.000467 -0.004428  \n",
       "mss            0.012729 -0.000508 -0.004897  \n",
       "deposit        0.012720 -0.001280 -0.004074  \n",
       "andrdgrtew     0.012636  0.000659 -0.004895  \n",
       "typ            0.012743 -0.000160 -0.004345  \n",
       "daghyunny      0.012750  0.000944 -0.005529  \n",
       "kds            0.013047 -0.001023 -0.004470  \n",
       "santiago       0.014371  0.001321 -0.004217  \n",
       "zcnc           0.011958 -0.001213 -0.003874  \n",
       "olibercsu      0.013110 -0.000825 -0.003299  \n",
       "sbinuxja       0.013838  0.002105 -0.004529  \n",
       "vtbegcho       0.013025 -0.000141 -0.002860  \n",
       "nicolmghyu     0.012424 -0.000795 -0.004198  \n",
       "docx           0.012882  0.000263 -0.004353  \n",
       "division       0.013783  0.000388 -0.002873  \n",
       "rak            0.014107  0.000635 -0.005061  \n",
       "gncpezhx       0.013555 -0.000371 -0.003053  \n",
       "hopqcvza       0.013140 -0.000643 -0.003173  \n",
       "wilsfgtjl      0.013609  0.001866 -0.005197  \n",
       "\n",
       "[3135 rows x 8000 columns]"
      ]
     },
     "execution_count": 274,
     "metadata": {},
     "output_type": "execute_result"
    }
   ],
   "source": [
    "word_vectors"
   ]
  },
  {
   "cell_type": "code",
   "execution_count": 275,
   "metadata": {},
   "outputs": [],
   "source": [
    "from sklearn.manifold import TSNE\n",
    "tsne_input = word_vectors"
   ]
  },
  {
   "cell_type": "code",
   "execution_count": 276,
   "metadata": {},
   "outputs": [],
   "source": [
    "tsne = TSNE()\n",
    "tsne_vectors = tsne.fit_transform(tsne_input.values)"
   ]
  },
  {
   "cell_type": "code",
   "execution_count": 277,
   "metadata": {},
   "outputs": [
    {
     "data": {
      "text/plain": [
       "array([[-77.30749  ,  -3.0828352],\n",
       "       [-73.649376 , -17.936193 ],\n",
       "       [-78.73836  , -23.170765 ],\n",
       "       ...,\n",
       "       [-41.374584 ,  26.841705 ],\n",
       "       [ -0.6887137,  13.049257 ],\n",
       "       [-61.09315  ,  -1.040639 ]], dtype=float32)"
      ]
     },
     "execution_count": 277,
     "metadata": {},
     "output_type": "execute_result"
    }
   ],
   "source": [
    "tsne_vectors"
   ]
  },
  {
   "cell_type": "code",
   "execution_count": 278,
   "metadata": {},
   "outputs": [],
   "source": [
    "tsne_vectors1 = pd.DataFrame(tsne_vectors,\n",
    "                            index=pd.Index(tsne_input.index),\n",
    "                            columns=['x_coord', 'y_coord'])\n",
    "tsne_vectors1['word'] = tsne_vectors1.index"
   ]
  },
  {
   "cell_type": "code",
   "execution_count": 279,
   "metadata": {},
   "outputs": [
    {
     "data": {
      "text/html": [
       "\n",
       "    <div class=\"bk-root\">\n",
       "        <a href=\"https://bokeh.pydata.org\" target=\"_blank\" class=\"bk-logo bk-logo-small bk-logo-notebook\"></a>\n",
       "        <span id=\"1001\">Loading BokehJS ...</span>\n",
       "    </div>"
      ]
     },
     "metadata": {},
     "output_type": "display_data"
    },
    {
     "data": {
      "application/javascript": [
       "\n",
       "(function(root) {\n",
       "  function now() {\n",
       "    return new Date();\n",
       "  }\n",
       "\n",
       "  var force = true;\n",
       "\n",
       "  if (typeof (root._bokeh_onload_callbacks) === \"undefined\" || force === true) {\n",
       "    root._bokeh_onload_callbacks = [];\n",
       "    root._bokeh_is_loading = undefined;\n",
       "  }\n",
       "\n",
       "  var JS_MIME_TYPE = 'application/javascript';\n",
       "  var HTML_MIME_TYPE = 'text/html';\n",
       "  var EXEC_MIME_TYPE = 'application/vnd.bokehjs_exec.v0+json';\n",
       "  var CLASS_NAME = 'output_bokeh rendered_html';\n",
       "\n",
       "  /**\n",
       "   * Render data to the DOM node\n",
       "   */\n",
       "  function render(props, node) {\n",
       "    var script = document.createElement(\"script\");\n",
       "    node.appendChild(script);\n",
       "  }\n",
       "\n",
       "  /**\n",
       "   * Handle when an output is cleared or removed\n",
       "   */\n",
       "  function handleClearOutput(event, handle) {\n",
       "    var cell = handle.cell;\n",
       "\n",
       "    var id = cell.output_area._bokeh_element_id;\n",
       "    var server_id = cell.output_area._bokeh_server_id;\n",
       "    // Clean up Bokeh references\n",
       "    if (id != null && id in Bokeh.index) {\n",
       "      Bokeh.index[id].model.document.clear();\n",
       "      delete Bokeh.index[id];\n",
       "    }\n",
       "\n",
       "    if (server_id !== undefined) {\n",
       "      // Clean up Bokeh references\n",
       "      var cmd = \"from bokeh.io.state import curstate; print(curstate().uuid_to_server['\" + server_id + \"'].get_sessions()[0].document.roots[0]._id)\";\n",
       "      cell.notebook.kernel.execute(cmd, {\n",
       "        iopub: {\n",
       "          output: function(msg) {\n",
       "            var id = msg.content.text.trim();\n",
       "            if (id in Bokeh.index) {\n",
       "              Bokeh.index[id].model.document.clear();\n",
       "              delete Bokeh.index[id];\n",
       "            }\n",
       "          }\n",
       "        }\n",
       "      });\n",
       "      // Destroy server and session\n",
       "      var cmd = \"import bokeh.io.notebook as ion; ion.destroy_server('\" + server_id + \"')\";\n",
       "      cell.notebook.kernel.execute(cmd);\n",
       "    }\n",
       "  }\n",
       "\n",
       "  /**\n",
       "   * Handle when a new output is added\n",
       "   */\n",
       "  function handleAddOutput(event, handle) {\n",
       "    var output_area = handle.output_area;\n",
       "    var output = handle.output;\n",
       "\n",
       "    // limit handleAddOutput to display_data with EXEC_MIME_TYPE content only\n",
       "    if ((output.output_type != \"display_data\") || (!output.data.hasOwnProperty(EXEC_MIME_TYPE))) {\n",
       "      return\n",
       "    }\n",
       "\n",
       "    var toinsert = output_area.element.find(\".\" + CLASS_NAME.split(' ')[0]);\n",
       "\n",
       "    if (output.metadata[EXEC_MIME_TYPE][\"id\"] !== undefined) {\n",
       "      toinsert[toinsert.length - 1].firstChild.textContent = output.data[JS_MIME_TYPE];\n",
       "      // store reference to embed id on output_area\n",
       "      output_area._bokeh_element_id = output.metadata[EXEC_MIME_TYPE][\"id\"];\n",
       "    }\n",
       "    if (output.metadata[EXEC_MIME_TYPE][\"server_id\"] !== undefined) {\n",
       "      var bk_div = document.createElement(\"div\");\n",
       "      bk_div.innerHTML = output.data[HTML_MIME_TYPE];\n",
       "      var script_attrs = bk_div.children[0].attributes;\n",
       "      for (var i = 0; i < script_attrs.length; i++) {\n",
       "        toinsert[toinsert.length - 1].firstChild.setAttribute(script_attrs[i].name, script_attrs[i].value);\n",
       "      }\n",
       "      // store reference to server id on output_area\n",
       "      output_area._bokeh_server_id = output.metadata[EXEC_MIME_TYPE][\"server_id\"];\n",
       "    }\n",
       "  }\n",
       "\n",
       "  function register_renderer(events, OutputArea) {\n",
       "\n",
       "    function append_mime(data, metadata, element) {\n",
       "      // create a DOM node to render to\n",
       "      var toinsert = this.create_output_subarea(\n",
       "        metadata,\n",
       "        CLASS_NAME,\n",
       "        EXEC_MIME_TYPE\n",
       "      );\n",
       "      this.keyboard_manager.register_events(toinsert);\n",
       "      // Render to node\n",
       "      var props = {data: data, metadata: metadata[EXEC_MIME_TYPE]};\n",
       "      render(props, toinsert[toinsert.length - 1]);\n",
       "      element.append(toinsert);\n",
       "      return toinsert\n",
       "    }\n",
       "\n",
       "    /* Handle when an output is cleared or removed */\n",
       "    events.on('clear_output.CodeCell', handleClearOutput);\n",
       "    events.on('delete.Cell', handleClearOutput);\n",
       "\n",
       "    /* Handle when a new output is added */\n",
       "    events.on('output_added.OutputArea', handleAddOutput);\n",
       "\n",
       "    /**\n",
       "     * Register the mime type and append_mime function with output_area\n",
       "     */\n",
       "    OutputArea.prototype.register_mime_type(EXEC_MIME_TYPE, append_mime, {\n",
       "      /* Is output safe? */\n",
       "      safe: true,\n",
       "      /* Index of renderer in `output_area.display_order` */\n",
       "      index: 0\n",
       "    });\n",
       "  }\n",
       "\n",
       "  // register the mime type if in Jupyter Notebook environment and previously unregistered\n",
       "  if (root.Jupyter !== undefined) {\n",
       "    var events = require('base/js/events');\n",
       "    var OutputArea = require('notebook/js/outputarea').OutputArea;\n",
       "\n",
       "    if (OutputArea.prototype.mime_types().indexOf(EXEC_MIME_TYPE) == -1) {\n",
       "      register_renderer(events, OutputArea);\n",
       "    }\n",
       "  }\n",
       "\n",
       "  \n",
       "  if (typeof (root._bokeh_timeout) === \"undefined\" || force === true) {\n",
       "    root._bokeh_timeout = Date.now() + 5000;\n",
       "    root._bokeh_failed_load = false;\n",
       "  }\n",
       "\n",
       "  var NB_LOAD_WARNING = {'data': {'text/html':\n",
       "     \"<div style='background-color: #fdd'>\\n\"+\n",
       "     \"<p>\\n\"+\n",
       "     \"BokehJS does not appear to have successfully loaded. If loading BokehJS from CDN, this \\n\"+\n",
       "     \"may be due to a slow or bad network connection. Possible fixes:\\n\"+\n",
       "     \"</p>\\n\"+\n",
       "     \"<ul>\\n\"+\n",
       "     \"<li>re-rerun `output_notebook()` to attempt to load from CDN again, or</li>\\n\"+\n",
       "     \"<li>use INLINE resources instead, as so:</li>\\n\"+\n",
       "     \"</ul>\\n\"+\n",
       "     \"<code>\\n\"+\n",
       "     \"from bokeh.resources import INLINE\\n\"+\n",
       "     \"output_notebook(resources=INLINE)\\n\"+\n",
       "     \"</code>\\n\"+\n",
       "     \"</div>\"}};\n",
       "\n",
       "  function display_loaded() {\n",
       "    var el = document.getElementById(\"1001\");\n",
       "    if (el != null) {\n",
       "      el.textContent = \"BokehJS is loading...\";\n",
       "    }\n",
       "    if (root.Bokeh !== undefined) {\n",
       "      if (el != null) {\n",
       "        el.textContent = \"BokehJS \" + root.Bokeh.version + \" successfully loaded.\";\n",
       "      }\n",
       "    } else if (Date.now() < root._bokeh_timeout) {\n",
       "      setTimeout(display_loaded, 100)\n",
       "    }\n",
       "  }\n",
       "\n",
       "\n",
       "  function run_callbacks() {\n",
       "    try {\n",
       "      root._bokeh_onload_callbacks.forEach(function(callback) { callback() });\n",
       "    }\n",
       "    finally {\n",
       "      delete root._bokeh_onload_callbacks\n",
       "    }\n",
       "    console.info(\"Bokeh: all callbacks have finished\");\n",
       "  }\n",
       "\n",
       "  function load_libs(js_urls, callback) {\n",
       "    root._bokeh_onload_callbacks.push(callback);\n",
       "    if (root._bokeh_is_loading > 0) {\n",
       "      console.log(\"Bokeh: BokehJS is being loaded, scheduling callback at\", now());\n",
       "      return null;\n",
       "    }\n",
       "    if (js_urls == null || js_urls.length === 0) {\n",
       "      run_callbacks();\n",
       "      return null;\n",
       "    }\n",
       "    console.log(\"Bokeh: BokehJS not loaded, scheduling load and callback at\", now());\n",
       "    root._bokeh_is_loading = js_urls.length;\n",
       "    for (var i = 0; i < js_urls.length; i++) {\n",
       "      var url = js_urls[i];\n",
       "      var s = document.createElement('script');\n",
       "      s.src = url;\n",
       "      s.async = false;\n",
       "      s.onreadystatechange = s.onload = function() {\n",
       "        root._bokeh_is_loading--;\n",
       "        if (root._bokeh_is_loading === 0) {\n",
       "          console.log(\"Bokeh: all BokehJS libraries loaded\");\n",
       "          run_callbacks()\n",
       "        }\n",
       "      };\n",
       "      s.onerror = function() {\n",
       "        console.warn(\"failed to load library \" + url);\n",
       "      };\n",
       "      console.log(\"Bokeh: injecting script tag for BokehJS library: \", url);\n",
       "      document.getElementsByTagName(\"head\")[0].appendChild(s);\n",
       "    }\n",
       "  };var element = document.getElementById(\"1001\");\n",
       "  if (element == null) {\n",
       "    console.log(\"Bokeh: ERROR: autoload.js configured with elementid '1001' but no matching script tag was found. \")\n",
       "    return false;\n",
       "  }\n",
       "\n",
       "  var js_urls = [\"https://cdn.pydata.org/bokeh/release/bokeh-1.0.4.min.js\", \"https://cdn.pydata.org/bokeh/release/bokeh-widgets-1.0.4.min.js\", \"https://cdn.pydata.org/bokeh/release/bokeh-tables-1.0.4.min.js\", \"https://cdn.pydata.org/bokeh/release/bokeh-gl-1.0.4.min.js\"];\n",
       "\n",
       "  var inline_js = [\n",
       "    function(Bokeh) {\n",
       "      Bokeh.set_log_level(\"info\");\n",
       "    },\n",
       "    \n",
       "    function(Bokeh) {\n",
       "      \n",
       "    },\n",
       "    function(Bokeh) {\n",
       "      console.log(\"Bokeh: injecting CSS: https://cdn.pydata.org/bokeh/release/bokeh-1.0.4.min.css\");\n",
       "      Bokeh.embed.inject_css(\"https://cdn.pydata.org/bokeh/release/bokeh-1.0.4.min.css\");\n",
       "      console.log(\"Bokeh: injecting CSS: https://cdn.pydata.org/bokeh/release/bokeh-widgets-1.0.4.min.css\");\n",
       "      Bokeh.embed.inject_css(\"https://cdn.pydata.org/bokeh/release/bokeh-widgets-1.0.4.min.css\");\n",
       "      console.log(\"Bokeh: injecting CSS: https://cdn.pydata.org/bokeh/release/bokeh-tables-1.0.4.min.css\");\n",
       "      Bokeh.embed.inject_css(\"https://cdn.pydata.org/bokeh/release/bokeh-tables-1.0.4.min.css\");\n",
       "    }\n",
       "  ];\n",
       "\n",
       "  function run_inline_js() {\n",
       "    \n",
       "    if ((root.Bokeh !== undefined) || (force === true)) {\n",
       "      for (var i = 0; i < inline_js.length; i++) {\n",
       "        inline_js[i].call(root, root.Bokeh);\n",
       "      }if (force === true) {\n",
       "        display_loaded();\n",
       "      }} else if (Date.now() < root._bokeh_timeout) {\n",
       "      setTimeout(run_inline_js, 100);\n",
       "    } else if (!root._bokeh_failed_load) {\n",
       "      console.log(\"Bokeh: BokehJS failed to load within specified timeout.\");\n",
       "      root._bokeh_failed_load = true;\n",
       "    } else if (force !== true) {\n",
       "      var cell = $(document.getElementById(\"1001\")).parents('.cell').data().cell;\n",
       "      cell.output_area.append_execute_result(NB_LOAD_WARNING)\n",
       "    }\n",
       "\n",
       "  }\n",
       "\n",
       "  if (root._bokeh_is_loading === 0) {\n",
       "    console.log(\"Bokeh: BokehJS loaded, going straight to plotting\");\n",
       "    run_inline_js();\n",
       "  } else {\n",
       "    load_libs(js_urls, function() {\n",
       "      console.log(\"Bokeh: BokehJS plotting callback run at\", now());\n",
       "      run_inline_js();\n",
       "    });\n",
       "  }\n",
       "}(window));"
      ],
      "application/vnd.bokehjs_load.v0+json": "\n(function(root) {\n  function now() {\n    return new Date();\n  }\n\n  var force = true;\n\n  if (typeof (root._bokeh_onload_callbacks) === \"undefined\" || force === true) {\n    root._bokeh_onload_callbacks = [];\n    root._bokeh_is_loading = undefined;\n  }\n\n  \n\n  \n  if (typeof (root._bokeh_timeout) === \"undefined\" || force === true) {\n    root._bokeh_timeout = Date.now() + 5000;\n    root._bokeh_failed_load = false;\n  }\n\n  var NB_LOAD_WARNING = {'data': {'text/html':\n     \"<div style='background-color: #fdd'>\\n\"+\n     \"<p>\\n\"+\n     \"BokehJS does not appear to have successfully loaded. If loading BokehJS from CDN, this \\n\"+\n     \"may be due to a slow or bad network connection. Possible fixes:\\n\"+\n     \"</p>\\n\"+\n     \"<ul>\\n\"+\n     \"<li>re-rerun `output_notebook()` to attempt to load from CDN again, or</li>\\n\"+\n     \"<li>use INLINE resources instead, as so:</li>\\n\"+\n     \"</ul>\\n\"+\n     \"<code>\\n\"+\n     \"from bokeh.resources import INLINE\\n\"+\n     \"output_notebook(resources=INLINE)\\n\"+\n     \"</code>\\n\"+\n     \"</div>\"}};\n\n  function display_loaded() {\n    var el = document.getElementById(\"1001\");\n    if (el != null) {\n      el.textContent = \"BokehJS is loading...\";\n    }\n    if (root.Bokeh !== undefined) {\n      if (el != null) {\n        el.textContent = \"BokehJS \" + root.Bokeh.version + \" successfully loaded.\";\n      }\n    } else if (Date.now() < root._bokeh_timeout) {\n      setTimeout(display_loaded, 100)\n    }\n  }\n\n\n  function run_callbacks() {\n    try {\n      root._bokeh_onload_callbacks.forEach(function(callback) { callback() });\n    }\n    finally {\n      delete root._bokeh_onload_callbacks\n    }\n    console.info(\"Bokeh: all callbacks have finished\");\n  }\n\n  function load_libs(js_urls, callback) {\n    root._bokeh_onload_callbacks.push(callback);\n    if (root._bokeh_is_loading > 0) {\n      console.log(\"Bokeh: BokehJS is being loaded, scheduling callback at\", now());\n      return null;\n    }\n    if (js_urls == null || js_urls.length === 0) {\n      run_callbacks();\n      return null;\n    }\n    console.log(\"Bokeh: BokehJS not loaded, scheduling load and callback at\", now());\n    root._bokeh_is_loading = js_urls.length;\n    for (var i = 0; i < js_urls.length; i++) {\n      var url = js_urls[i];\n      var s = document.createElement('script');\n      s.src = url;\n      s.async = false;\n      s.onreadystatechange = s.onload = function() {\n        root._bokeh_is_loading--;\n        if (root._bokeh_is_loading === 0) {\n          console.log(\"Bokeh: all BokehJS libraries loaded\");\n          run_callbacks()\n        }\n      };\n      s.onerror = function() {\n        console.warn(\"failed to load library \" + url);\n      };\n      console.log(\"Bokeh: injecting script tag for BokehJS library: \", url);\n      document.getElementsByTagName(\"head\")[0].appendChild(s);\n    }\n  };var element = document.getElementById(\"1001\");\n  if (element == null) {\n    console.log(\"Bokeh: ERROR: autoload.js configured with elementid '1001' but no matching script tag was found. \")\n    return false;\n  }\n\n  var js_urls = [\"https://cdn.pydata.org/bokeh/release/bokeh-1.0.4.min.js\", \"https://cdn.pydata.org/bokeh/release/bokeh-widgets-1.0.4.min.js\", \"https://cdn.pydata.org/bokeh/release/bokeh-tables-1.0.4.min.js\", \"https://cdn.pydata.org/bokeh/release/bokeh-gl-1.0.4.min.js\"];\n\n  var inline_js = [\n    function(Bokeh) {\n      Bokeh.set_log_level(\"info\");\n    },\n    \n    function(Bokeh) {\n      \n    },\n    function(Bokeh) {\n      console.log(\"Bokeh: injecting CSS: https://cdn.pydata.org/bokeh/release/bokeh-1.0.4.min.css\");\n      Bokeh.embed.inject_css(\"https://cdn.pydata.org/bokeh/release/bokeh-1.0.4.min.css\");\n      console.log(\"Bokeh: injecting CSS: https://cdn.pydata.org/bokeh/release/bokeh-widgets-1.0.4.min.css\");\n      Bokeh.embed.inject_css(\"https://cdn.pydata.org/bokeh/release/bokeh-widgets-1.0.4.min.css\");\n      console.log(\"Bokeh: injecting CSS: https://cdn.pydata.org/bokeh/release/bokeh-tables-1.0.4.min.css\");\n      Bokeh.embed.inject_css(\"https://cdn.pydata.org/bokeh/release/bokeh-tables-1.0.4.min.css\");\n    }\n  ];\n\n  function run_inline_js() {\n    \n    if ((root.Bokeh !== undefined) || (force === true)) {\n      for (var i = 0; i < inline_js.length; i++) {\n        inline_js[i].call(root, root.Bokeh);\n      }if (force === true) {\n        display_loaded();\n      }} else if (Date.now() < root._bokeh_timeout) {\n      setTimeout(run_inline_js, 100);\n    } else if (!root._bokeh_failed_load) {\n      console.log(\"Bokeh: BokehJS failed to load within specified timeout.\");\n      root._bokeh_failed_load = true;\n    } else if (force !== true) {\n      var cell = $(document.getElementById(\"1001\")).parents('.cell').data().cell;\n      cell.output_area.append_execute_result(NB_LOAD_WARNING)\n    }\n\n  }\n\n  if (root._bokeh_is_loading === 0) {\n    console.log(\"Bokeh: BokehJS loaded, going straight to plotting\");\n    run_inline_js();\n  } else {\n    load_libs(js_urls, function() {\n      console.log(\"Bokeh: BokehJS plotting callback run at\", now());\n      run_inline_js();\n    });\n  }\n}(window));"
     },
     "metadata": {},
     "output_type": "display_data"
    }
   ],
   "source": [
    "from bokeh.plotting import figure, show, output_notebook\n",
    "from bokeh.models import HoverTool, ColumnDataSource, value\n",
    "\n",
    "output_notebook()"
   ]
  },
  {
   "cell_type": "code",
   "execution_count": 280,
   "metadata": {},
   "outputs": [
    {
     "data": {
      "text/html": [
       "\n",
       "\n",
       "\n",
       "\n",
       "\n",
       "\n",
       "  <div class=\"bk-root\" id=\"8c27b8b0-c8d1-4e99-9379-b9ffa757ef44\" data-root-id=\"1004\"></div>\n"
      ]
     },
     "metadata": {},
     "output_type": "display_data"
    },
    {
     "data": {
      "application/javascript": [
       "(function(root) {\n",
       "  function embed_document(root) {\n",
       "    \n",
       "  var docs_json = {\"91c39957-dbbf-4de6-a23c-ffe1dae323d3\":{\"roots\":{\"references\":[{\"attributes\":{\"below\":[{\"id\":\"1014\",\"type\":\"LinearAxis\"}],\"left\":[{\"id\":\"1019\",\"type\":\"LinearAxis\"}],\"outline_line_color\":{\"value\":null},\"plot_height\":800,\"plot_width\":800,\"renderers\":[{\"id\":\"1014\",\"type\":\"LinearAxis\"},{\"id\":\"1018\",\"type\":\"Grid\"},{\"id\":\"1019\",\"type\":\"LinearAxis\"},{\"id\":\"1023\",\"type\":\"Grid\"},{\"id\":\"1031\",\"type\":\"BoxAnnotation\"},{\"id\":\"1034\",\"type\":\"BoxAnnotation\"},{\"id\":\"1045\",\"type\":\"GlyphRenderer\"}],\"title\":{\"id\":\"1003\",\"type\":\"Title\"},\"toolbar\":{\"id\":\"1029\",\"type\":\"Toolbar\"},\"x_range\":{\"id\":\"1006\",\"type\":\"DataRange1d\"},\"x_scale\":{\"id\":\"1010\",\"type\":\"LinearScale\"},\"y_range\":{\"id\":\"1008\",\"type\":\"DataRange1d\"},\"y_scale\":{\"id\":\"1012\",\"type\":\"LinearScale\"}},\"id\":\"1004\",\"subtype\":\"Figure\",\"type\":\"Plot\"},{\"attributes\":{},\"id\":\"1055\",\"type\":\"Selection\"},{\"attributes\":{},\"id\":\"1020\",\"type\":\"BasicTicker\"},{\"attributes\":{\"dimension\":1,\"grid_line_color\":{\"value\":null},\"plot\":{\"id\":\"1004\",\"subtype\":\"Figure\",\"type\":\"Plot\"},\"ticker\":{\"id\":\"1020\",\"type\":\"BasicTicker\"}},\"id\":\"1023\",\"type\":\"Grid\"},{\"attributes\":{\"callback\":null,\"data\":{\"index\":[\"\",\"not\",\"password\",\"erp\",\"job\",\"tool\",\"issue\",\"scheduler\",\"work\",\"fail\",\"reset\",\"user\",\"unable\",\"sid\",\"from\",\"company\",\"email\",\"access\",\"error\",\"need\",\"account\",\"ticket\",\"get\",\"system\",\"use\",\"name\",\"would\",\"outlook\",\"update\",\"change\",\"login\",\"message\",\"check\",\"start\",\"problem\",\"try\",\"hostname\",\"send\",\"phone\",\"lock\",\"connect\",\"contact\",\"team\",\"open\",\"new\",\"cid\",\"network\",\"log\",\"call\",\"time\",\"customer\",\"number\",\"request\",\"since\",\"attach\",\"server\",\"summary\",\"report\",\"create\",\"manager\",\"vpn\",\"pm\",\"order\",\"show\",\"usa\",\"microsoft\",\"pc\",\"site\",\"engineering\",\"print\",\"management\",\"type\",\"good\",\"skype\",\"mailto\",\"e\",\"computer\",\"file\",\"resolve\",\"internet\",\"crm\",\"printer\",\"subject\",\"unlock\",\"could\",\"et\",\"follow\",\"vendor\",\"language\",\"detail\",\"power\",\"screen\",\"na\",\"dear\",\"add\",\"plant\",\"x\",\"global\",\"also\",\"sale\",\"device\",\"find\",\"verify\",\"mail\",\"browser\",\"com\",\"go\",\"active\",\"remote\",\"explorer\",\"telephone\",\"platform\",\"service\",\"information\",\"application\",\"connection\",\"available\",\"run\",\"enter\",\"collaboration\",\"provide\",\"software\",\"backup\",\"production\",\"best\",\"one\",\"notify\",\"office\",\"laptop\",\"employee\",\"schedule\",\"windows\",\"outage\",\"know\",\"hr\",\"additional\",\"address\",\"maintenance\",\"gsc\",\"at\",\"telecom\",\"specify\",\"confirm\",\"back\",\"link\",\"top\",\"please\",\"complete\",\"circuit\",\"c\",\"image\",\"dial\",\"equipment\",\"let\",\"provider\",\"germany\",\"business\",\"the\",\"cert\",\"view\",\"abended\",\"advise\",\"block\",\"can\",\"maint\",\"verizon\",\"diagnostic\",\"window\",\"nwfodmhc\",\"exurcwkm\",\"note\",\"eu\",\"f\",\"require\",\"datum\",\"set\",\"b\",\"make\",\"location\",\"look\",\"folder\",\"drive\",\"support\",\"uacyltoe\",\"event\",\"delivery\",\"process\",\"like\",\"day\",\"inc\",\"no\",\"fix\",\"still\",\"possible\",\"document\",\"client\",\"install\",\"cc\",\"list\",\"status\",\"kindly\",\"code\",\"today\",\"may\",\"urgent\",\"portal\",\"come\",\"ad\",\"hxgaycze\",\"want\",\"\\u00f1\",\"take\",\"delete\",\"click\",\"give\",\"high\",\"per\",\"load\",\"attachment\",\"due\",\"i\",\"page\",\"incident\",\"mobile\",\"inplant\",\"via\",\"august\",\"material\",\"september\",\"correct\",\"assign\",\"group\",\"ask\",\"agent\",\"display\",\"mm\",\"item\",\"center\",\"screenshot\",\"say\",\"last\",\"app\",\"alert\",\"full\",\"inwarehouse\",\"ap\",\"miss\",\"driver\",\"october\",\"transaction\",\"question\",\"thank\",\"machine\",\"field\",\"sign\",\"g\",\"security\",\"caller\",\"appear\",\"setup\",\"approve\",\"ms\",\"pls\",\"happen\",\"ip\",\"label\",\"space\",\"download\",\"help\",\"old\",\"notification\",\"telephony\",\"monitor\",\"slow\",\"option\",\"many\",\"source\",\"instal\",\"week\",\"date\",\"be\",\"submit\",\"product\",\"select\",\"meeting\",\"teamviewer\",\"keep\",\"interface\",\"restart\",\"save\",\"jpg\",\"version\",\"two\",\"sw\",\"action\",\"host\",\"logon\",\"excel\",\"blank\",\"on\",\"assist\",\"india\",\"automatically\",\"longer\",\"priority\",\"dell\",\"query\",\"multiple\",\"wrong\",\"post\",\"seem\",\"model\",\"sincerely\",\"ess\",\"generate\",\"share\",\"aerp\",\"return\",\"respond\",\"port\",\"png\",\"result\",\"internal\",\"review\",\"passwords\",\"vip\",\"warehouse\",\"friendly\",\"kind\",\"local\",\"fine\",\"win\",\"disk\",\"indicate\",\"apac\",\"attempt\",\"this\",\"even\",\"close\",\"already\",\"copy\",\"remove\",\"another\",\"expense\",\"right\",\"supply\",\"engineer\",\"volume\",\"move\",\"form\",\"example\",\"mii\",\"default\",\"data\",\"end\",\"hard\",\"allow\",\"k\",\"scan\",\"wifi\",\"correctly\",\"u\",\"stop\",\"search\",\"external\",\"fw\",\"ethic\",\"next\",\"yesterday\",\"website\",\"switch\",\"setting\",\"enable\",\"refer\",\"monday\",\"impact\",\"friday\",\"iphone\",\"hana\",\"installation\",\"every\",\"currently\",\"solve\",\"exist\",\"ship\",\"expire\",\"consume\",\"sync\",\"several\",\"person\",\"well\",\"hrp\",\"distributor\",\"defective\",\"line\",\"response\",\"total\",\"out\",\"net\",\"without\",\"dsw\",\"r\",\"programdnty\",\"include\",\"etc\",\"home\",\"n\",\"distribution\",\"sure\",\"failure\",\"either\",\"reason\",\"activation\",\"exchange\",\"someone\",\"online\",\"desk\",\"launch\",\"month\",\"transfer\",\"function\",\"purchase\",\"reference\",\"hour\",\"ie\",\"hub\",\"cause\",\"admin\",\"interaction\",\"write\",\"drawing\",\"destination\",\"finance\",\"first\",\"turn\",\"web\",\"audio\",\"reach\",\"relate\",\"in\",\"greeting\",\"prompt\",\"handle\",\"occurrence\",\"dn\",\"release\",\"payroll\",\"plm\",\"investigate\",\"w\",\"training\",\"desktop\",\"sep\",\"primary\",\"operation\",\"medium\",\"procedure\",\"stock\",\"description\",\"tuesday\",\"quote\",\"upgrade\",\"pl\",\"occur\",\"prod\",\"area\",\"approval\",\"face\",\"read\",\"th\",\"content\",\"temporarily\",\"administrator\",\"gso\",\"immediately\",\"rtr\",\"join\",\"department\",\"condition\",\"database\",\"boot\",\"p\",\"however\",\"sender\",\"certificate\",\"case\",\"welcome\",\"concern\",\"reboot\",\"traffic\",\"value\",\"restore\",\"future\",\"people\",\"count\",\"po\",\"regard\",\"username\",\"authorize\",\"directory\",\"recipient\",\"chain\",\"supervisor\",\"importance\",\"determine\",\"replace\",\"daily\",\"unlocked\",\"pdf\",\"mention\",\"\\u00ef\",\"cost\",\"project\",\"south\",\"control\",\"warning\",\"purpose\",\"sr\",\"nothing\",\"incorrect\",\"sto\",\"personal\",\"different\",\"configure\",\"deny\",\"current\",\"continue\",\"activity\",\"wednesday\",\"delegate\",\"free\",\"tcp\",\"wireless\",\"cold\",\"netweaver\",\"director\",\"within\",\"output\",\"bobj\",\"locate\",\"exe\",\"processing\",\"ws\",\"technical\",\"gb\",\"ewew\",\"button\",\"needful\",\"reporting\",\"thursday\",\"affect\",\"record\",\"accept\",\"price\",\"minute\",\"plan\",\"describe\",\"tab\",\"always\",\"colleague\",\"permission\",\"analysis\",\"contain\",\"to\",\"extend\",\"shot\",\"perform\",\"something\",\"bex\",\"must\",\"mr\",\"recently\",\"state\",\"directly\",\"re\",\"tell\",\"partner\",\"box\",\"soon\",\"escalate\",\"floor\",\"co\",\"gmbh\",\"correspond\",\"pick\",\"hp\",\"way\",\"mistake\",\"detect\",\"ex\",\"discount\",\"room\",\"credential\",\"mit\",\"h\",\"explicit\",\"calendar\",\"lose\",\"step\",\"bkwin\",\"pp\",\"workflow\",\"leave\",\"valid\",\"with\",\"domain\",\"rule\",\"escalation\",\"original\",\"following\",\"disclosure\",\"alternate\",\"point\",\"past\",\"ic\",\"services\",\"mailbox\",\"sms\",\"dmvpn\",\"put\",\"repeat\",\"amerirtca\",\"inform\",\"reinstall\",\"communication\",\"organization\",\"notice\",\"pop\",\"sample\",\"differently\",\"part\",\"entry\",\"java\",\"base\",\"applicable\",\"strictly\",\"prohibit\",\"org\",\"netch\",\"conversation\",\"effective\",\"guest\",\"long\",\"mpls\",\"repair\",\"instead\",\"info\",\"configuration\",\"think\",\"tax\",\"batch\",\"dc\",\"rakthyesh\",\"threshold\",\"session\",\"anymore\",\"disconnect\",\"law\",\"disclaimer\",\"place\",\"dev\",\"command\",\"shortly\",\"balance\",\"v\",\"shop\",\"ok\",\"lean\",\"drop\",\"german\",\"route\",\"gr\",\"critical\",\"non\",\"sound\",\"basis\",\"experience\",\"manage\",\"pull\",\"shipment\",\"profile\",\"assignment\",\"visitor\",\"for\",\"size\",\"shoot\",\"properly\",\"confidential\",\"cvss\",\"asa\",\"handling\",\"lan\",\"freeze\",\"cancel\",\"lot\",\"www\",\"lockout\",\"assistance\",\"manually\",\"blue\",\"url\",\"bw\",\"packet\",\"http\",\"j\",\"operator\",\"hear\",\"expect\",\"average\",\"aug\",\"soc\",\"upload\",\"etime\",\"attendance\",\"have\",\"forget\",\"bkbackup\",\"license\",\"member\",\"refresh\",\"side\",\"lead\",\"word\",\"activate\",\"alerting\",\"a\",\"early\",\"path\",\"card\",\"replacement\",\"task\",\"performance\",\"key\",\"ping\",\"least\",\"hotf\",\"recreate\",\"src\",\"dst\",\"urgently\",\"ensure\",\"method\",\"object\",\"de\",\"trouble\",\"travel\",\"text\",\"confirmation\",\"hq\",\"saturday\",\"warm\",\"input\",\"bk\",\"mb\",\"nsu\",\"latitude\",\"unique\",\"intend\",\"amar\",\"directionality\",\"protocol\",\"scwx\",\"sherlock\",\"sle\",\"inspector\",\"duplication\",\"master\",\"identify\",\"billing\",\"cell\",\"dynamics\",\"resource\",\"anything\",\"necessary\",\"station\",\"reply\",\"bad\",\"and\",\"vlan\",\"overview\",\"tomorrow\",\"msd\",\"crash\",\"yet\",\"scanner\",\"general\",\"hxgayczeing\",\"edit\",\"none\",\"pr\",\"userid\",\"freundlichen\",\"spam\",\"dat\",\"protection\",\"spread\",\"empty\",\"tiyhum\",\"kuyiomar\",\"classification\",\"utc\",\"vid\",\"reroute\",\"outside\",\"single\",\"null\",\"qa\",\"node\",\"clear\",\"outbound\",\"mikhghytr\",\"behalf\",\"quality\",\"fy\",\"amount\",\"rth\",\"consider\",\"authorization\",\"ce\",\"firewall\",\"tablet\",\"format\",\"z\",\"pay\",\"wy\",\"comment\",\"mode\",\"est\",\"tag\",\"tracker\",\"validate\",\"moment\",\"daypay\",\"dp\",\"register\",\"dashbankrd\",\"light\",\"video\",\"snp\",\"heu\",\"regen\",\"sensor\",\"ramdntythanjesh\",\"l\",\"score\",\"malware\",\"worm\",\"ago\",\"match\",\"related\",\"activesync\",\"controller\",\"target\",\"year\",\"environment\",\"synchronize\",\"though\",\"receipt\",\"thing\",\"down\",\"bit\",\"ltd\",\"termination\",\"solution\",\"quick\",\"icon\",\"conference\",\"incoming\",\"proto\",\"infection\",\"disable\",\"when\",\"second\",\"companysecure\",\"matheywter\",\"hang\",\"arrange\",\"paper\",\"everything\",\"do\",\"senior\",\"azure\",\"mfg\",\"nee\",\"os\",\"wu\",\"mouse\",\"owner\",\"sorry\",\"terminate\",\"book\",\"secondary\",\"direct\",\"rad\",\"payment\",\"addressee\",\"cover\",\"battery\",\"true\",\"ontology\",\"flash\",\"speaker\",\"st\",\"stack\",\"apo\",\"observe\",\"shipping\",\"afternoon\",\"course\",\"ae\",\"connectivity\",\"requester\",\"appropriate\",\"detailed\",\"important\",\"instruction\",\"q\",\"filesys\",\"fill\",\"synchronization\",\"charge\",\"sa\",\"nd\",\"inside\",\"csr\",\"raise\",\"various\",\"symantec\",\"earlier\",\"infopath\",\"solely\",\"archive\",\"renew\",\"antivirus\",\"asset\",\"df\",\"arc\",\"rpc\",\"isensor\",\"malicious\",\"around\",\"appreciate\",\"standard\",\"till\",\"table\",\"oct\",\"cycle\",\"quarantine\",\"pricing\",\"onto\",\"fi\",\"credit\",\"period\",\"us\",\"router\",\"unit\",\"plug\",\"offline\",\"previous\",\"deu\",\"quantity\",\"successfully\",\"cable\",\"correlation\",\"picture\",\"virus\",\"european\",\"pad\",\"geolocation\",\"deliver\",\"sys\",\"gigabitethernet\",\"printing\",\"viewer\",\"requirement\",\"noise\",\"aw\",\"advance\",\"bill\",\"break\",\"agreement\",\"purchasing\",\"filter\",\"catalog\",\"hcm\",\"authentic\",\"intune\",\"automatic\",\"receive\",\"opening\",\"md\",\"shut\",\"inbox\",\"abort\",\"mac\",\"financial\",\"whenever\",\"\\ufb02en\",\"instance\",\"analyst\",\"bar\",\"legitimate\",\"min\",\"facility\",\"lhqsm\",\"israel\",\"flag\",\"ttl\",\"tos\",\"ascii\",\"hex\",\"signature\",\"recall\",\"hello\",\"usb\",\"utilization\",\"tel\",\"vacation\",\"map\",\"clock\",\"unavailable\",\"technology\",\"pa\",\"sartlgeo\",\"carrier\",\"eng\",\"fc\",\"unmonitored\",\"never\",\"again\",\"db\",\"wait\",\"much\",\"extra\",\"bottom\",\"conduct\",\"up\",\"execute\",\"rqfhiong\",\"public\",\"framdntyework\",\"whether\",\"deployment\",\"lauacyltoe\",\"sport\",\"itype\",\"dport\",\"icode\",\"iplen\",\"dgmlen\",\"seq\",\"ack\",\"tcplen\",\"pcap\",\"duration\",\"destine\",\"player\",\"markhtyete\",\"channel\",\"regional\",\"sql\",\"creation\",\"apply\",\"present\",\"flowchart\",\"word\\u00f6etc\",\"asia\",\"lhqksbdx\",\"workstation\",\"inquiry\",\"citrix\",\"suggest\",\"english\",\"press\",\"pssword\",\"gl\",\"statistic\",\"russia\",\"unauthorized\",\"choose\",\"pgi\",\"thx\",\"believe\",\"become\",\"across\",\"warn\",\"mp\",\"hoti\",\"emea\",\"discuss\",\"determined\",\"understand\",\"frequent\",\"figure\",\"role\",\"dock\",\"level\",\"hardware\",\"build\",\"cache\",\"therefore\",\"propagate\",\"oracle\",\"pwd\",\"stay\",\"vitalyst\",\"keybankrd\",\"extract\",\"fastethernet\",\"disabled\",\"section\",\"pe\",\"msg\",\"delay\",\"talk\",\"play\",\"assistant\",\"same\",\"fyi\",\"ecc\",\"after\",\"enterprise\",\"unfortunately\",\"sunday\",\"award\",\"core\",\"stick\",\"working\",\"barcode\",\"define\",\"bank\",\"owa\",\"zkwfqagb\",\"conversion\",\"sales\",\"stefyty\",\"adobe\",\"twice\",\"qty\",\"replicate\",\"party\",\"ee\",\"trojan\",\"couple\",\"self\",\"store\",\"gui\",\"revert\",\"variable\",\"pos\",\"authentication\",\"cpu\",\"loud\",\"export\",\"inbound\",\"monitoring\",\"trust\",\"wi\",\"ind\",\"tc\",\"relevant\",\"europe\",\"dwfiykeo\",\"argtxmvcumar\",\"of\",\"all\",\"opportunity\",\"qlhmawgi\",\"final\",\"responsible\",\"north\",\"hope\",\"pw\",\"engine\",\"really\",\"big\",\"ds\",\"duplicate\",\"normal\",\"red\",\"insert\",\"policy\",\"doc\",\"feedback\",\"visible\",\"frequently\",\"dac\",\"alicona\",\"er\",\"wg\",\"zebra\",\"sometimes\",\"okay\",\"three\",\"va\",\"tooltion\",\"main\",\"child\",\"july\",\"sf\",\"eventid\",\"compromise\",\"misconfiguration\",\"helpdesk\",\"bring\",\"benefit\",\"sp\",\"addition\",\"rectify\",\"order\\u00f6etc\",\"programdntys\",\"dns\",\"cookie\",\"reminder\",\"calculate\",\"corporate\",\"meet\",\"chg\",\"sgwipoxn\",\"pte\",\"personally\",\"complaint\",\"length\",\"queuing\",\"mbyte\",\"cl\",\"usually\",\"t\",\"template\",\"consultant\",\"import\",\"distribute\",\"exit\",\"cmp\",\"modify\",\"recognize\",\"limit\",\"ph\",\"op\",\"later\",\"extension\",\"fb\",\"eb\",\"ed\",\"third\",\"patching\",\"indicator\",\"paramdntyeter\",\"relay\",\"lease\",\"foreseeconndirection\",\"outgoing\",\"foreseeinternalip\",\"inspectoreventid\",\"ileatdatacenter\",\"foreseemaliciouscomment\",\"sherlockruleid\",\"att\",\"weaver\",\"securework\",\"chat\",\"zscr\",\"dly\",\"chn\",\"finally\",\"separate\",\"fa\",\"resolution\",\"module\",\"private\",\"rma\",\"reactivate\",\"hallo\",\"ts\",\"feature\",\"industrial\",\"weekly\",\"shift\",\"powder\",\"although\",\"suspect\",\"cut\",\"ooo\",\"encounter\",\"hot\",\"inventory\",\"background\",\"special\",\"piece\",\"monthly\",\"audit\",\"infrastructure\",\"emp\",\"kis\",\"contract\",\"visit\",\"pollaurid\",\"ac\",\"worker\",\"personnel\",\"o\",\"capture\",\"memory\",\"hold\",\"draw\",\"kls\",\"html\",\"android\",\"opportstorage\",\"now\",\"passive\",\"uri\",\"dhcpd\",\"dhcpack\",\"eth\",\"irreceivedtime\",\"unblock\",\"outbreak\",\"acl\",\"functionality\",\"sinkhole\",\"likely\",\"vulnerability\",\"autoresolve\",\"live\",\"static\",\"queue\",\"manufacturing\",\"intermittent\",\"en\",\"root\",\"prtgghj\",\"acce\",\"designate\",\"accounting\",\"aware\",\"hi\",\"see\",\"begin\",\"davidthd\",\"compliance\",\"maintain\",\"limited\",\"especially\",\"administration\",\"associate\",\"requisition\",\"toolmail\",\"retrieve\",\"edt\",\"normally\",\"awyl\",\"availability\",\"else\",\"toolkuznetsk\",\"region\",\"planner\",\"rgds\",\"hardpoint\",\"major\",\"poland\",\"addin\",\"registration\",\"country\",\"title\",\"bb\",\"far\",\"previously\",\"factory\",\"fan\",\"eemw\",\"staff\",\"manual\",\"category\",\"idea\",\"difficult\",\"zz\",\"road\",\"usd\",\"component\",\"weekend\",\"unknown\",\"immediate\",\"wgq\",\"pu\",\"unless\",\"recent\",\"remain\",\"shatryung\",\"amerirtcas\",\"possibility\",\"ability\",\"dthyan\",\"matheywtyuews\",\"loading\",\"rep\",\"slo\",\"hence\",\"real\",\"proceed\",\"kirtyle\",\"specification\",\"ff\",\"difference\",\"successful\",\"kirty\",\"convert\",\"srchostname\",\"inspectorruleid\",\"agentid\",\"ctainstanceid\",\"logtimestamp\",\"reject\",\"suspicious\",\"mapping\",\"ca\",\"damage\",\"dynamic\",\"bwhrattr\",\"ring\",\"thru\",\"configair\",\"probably\",\"invoke\",\"util\",\"iterator\",\"assume\",\"great\",\"dissemination\",\"recover\",\"notebook\",\"grind\",\"white\",\"acct\",\"maybe\",\"australia\",\"throw\",\"persist\",\"zip\",\"hand\",\"broadband\",\"safe\",\"forecast\",\"statement\",\"delegation\",\"erpgui\",\"ec\",\"docking\",\"datacenter\",\"nvyjtmca\",\"startup\",\"position\",\"wly\",\"dr\",\"bio\",\"vl\",\"trigger\",\"rate\",\"measure\",\"disconnection\",\"complain\",\"remotely\",\"impossible\",\"completely\",\"sit\",\"br\",\"knowledge\",\"manufacture\",\"adapter\",\"accordingly\",\"m\",\"establish\",\"here\",\"tracking\",\"custom\",\"s\",\"suddenly\",\"seat\",\"alarm\",\"particular\",\"judthtihty\",\"zhuyhts\",\"threat\",\"hall\",\"vogelfontein\",\"africa\",\"everyone\",\"gesch\",\"ftsf\",\"hrer\",\"nr\",\"secure\",\"ext\",\"answer\",\"large\",\"human\",\"resources\",\"fax\",\"tech\",\"prior\",\"runtime\",\"there\",\"belong\",\"exact\",\"currency\",\"ribbon\",\"auto\",\"utilize\",\"privilege\",\"completion\",\"mill\",\"eventtypeid\",\"ontologyid\",\"dstport\",\"srcport\",\"eventtypepriority\",\"koga\",\"sell\",\"connc\",\"permit\",\"gmt\",\"rebuild\",\"nt\",\"specific\",\"package\",\"bc\",\"inactive\",\"rfc\",\"wkly\",\"ef\",\"kiosk\",\"sv\",\"finish\",\"robhyertyj\",\"confidentiality\",\"mean\",\"pbx\",\"push\",\"dept\",\"ag\",\"administrative\",\"reassign\",\"permanently\",\"prtqx\",\"involve\",\"professional\",\"ready\",\"rd\",\"selection\",\"doubt\",\"deletion\",\"recommend\",\"mobility\",\"loss\",\"populate\",\"programdntyme\",\"only\",\"speed\",\"similar\",\"library\",\"slowly\",\"certain\",\"design\",\"quickly\",\"laserjet\",\"building\",\"fd\",\"locallist\",\"advice\",\"af\",\"companyguest\",\"temp\",\"often\",\"webpage\",\"von\",\"scanning\",\"bd\",\"ceo\",\"everybody\",\"bankrd\",\"neither\",\"huge\",\"fe\",\"low\",\"signal\",\"effect\",\"alwaysupservice\",\"near\",\"mine\",\"kick\",\"or\",\"und\",\"adjust\",\"hydstheud\",\"mddwwyleh\",\"night\",\"header\",\"highlight\",\"awyw\",\"headset\",\"grant\",\"accord\",\"keheu\",\"speak\",\"dd\",\"laser\",\"worklist\",\"actual\",\"away\",\"suppose\",\"along\",\"revenue\",\"sort\",\"greet\",\"marftgytin\",\"column\",\"regular\",\"dierppear\",\"little\",\"ios\",\"logic\",\"insufficient\",\"sheet\",\"operate\",\"serve\",\"kurtyar\",\"round\",\"useid\",\"robot\",\"kg\",\"ab\",\"switzerland\",\"double\",\"reverse\",\"practice\",\"ctoc\",\"attacker\",\"iso\",\"gte\",\"singapore\",\"evaluationmodels\",\"ngm\",\"employment\",\"payslip\",\"dierppeare\",\"uk\",\"stamp\",\"rollfgyuej\",\"slip\",\"specifically\",\"continuously\",\"that\",\"privileged\",\"copying\",\"despite\",\"below\",\"virtual\",\"upon\",\"sept\",\"ndigung\",\"sponsor\",\"reflect\",\"small\",\"entire\",\"catalogue\",\"wk\",\"stand\",\"success\",\"sso\",\"beshryu\",\"guard\",\"ignore\",\"misplace\",\"head\",\"respect\",\"flow\",\"hpqc\",\"analytic\",\"gesendet\",\"betreff\",\"prevent\",\"touch\",\"dba\",\"samsung\",\"lib\",\"salary\",\"powerpoint\",\"zero\",\"sd\",\"disconnected\",\"hardcopy\",\"constantly\",\"depend\",\"cif\",\"analyzer\",\"short\",\"term\",\"invalid\",\"johthryugftyson\",\"quotation\",\"aa\",\"tr\",\"drucker\",\"empw\",\"validity\",\"xlsx\",\"pass\",\"uninstalle\",\"storage\",\"plus\",\"initial\",\"cb\",\"eh\",\"improvement\",\"registergerirtcht\",\"than\",\"rfwlsoej\",\"yvtjzkaw\",\"track\",\"temperature\",\"nx\",\"forward\",\"cad\",\"def\",\"possibly\",\"chk\",\"ref\",\"rest\",\"reconfigure\",\"uplink\",\"enclose\",\"sev\",\"proper\",\"browse\",\"ramdnty\",\"anti\",\"intercompany\",\"pradtheyp\",\"attribute\",\"loop\",\"marfhtyio\",\"finished\",\"johthryu\",\"chance\",\"epmsystem\",\"incorrectly\",\"less\",\"counter\",\"engg\",\"synche\",\"chrome\",\"transport\",\"hit\",\"busy\",\"spreadsheet\",\"permanent\",\"potential\",\"ssl\",\"phishe\",\"avoid\",\"zhengpe\",\"da\",\"feed\",\"demand\",\"invoice\",\"index\",\"china\",\"zone\",\"reading\",\"except\",\"endpoint\",\"mscrm\",\"gru\\ufb02\",\"anubis\",\"probable\",\"infected\",\"nginx\",\"thu\",\"ng\",\"situation\",\"kathght\",\"shfhyw\",\"te\",\"mozilla\",\"lhqsid\",\"kb\",\"skv\",\"initiate\",\"how\",\"michghytuael\",\"what\",\"infect\",\"divestiture\",\"netbio\",\"blaster\",\"msblast\",\"lovsan\",\"welchia\",\"nachi\",\"reatle\",\"rerun\",\"encryption\",\"hw\",\"enquiry\",\"amssm\",\"rather\",\"enough\",\"participate\",\"seek\",\"consignment\",\"pi\",\"vice\",\"kd\",\"fwd\",\"indirect\",\"development\",\"wafglhdrhjop\",\"abap\",\"probleme\",\"font\",\"conf\",\"intranet\",\"reopen\",\"ticketing\",\"mbps\",\"president\",\"beyond\",\"rqxw\",\"accidentally\",\"gigaset\",\"terminal\",\"mass\",\"steel\",\"msc\",\"half\",\"vmsliazh\",\"ltksxmyv\",\"logo\",\"deactivate\",\"range\",\"himghtmelreich\",\"approver\",\"usas\",\"byte\",\"operational\",\"yellow\",\"menu\",\"mexico\",\"nc\",\"cv\",\"plugin\",\"interrupt\",\"pende\",\"\\u00f6\",\"sequence\",\"bma\",\"ps\",\"technician\",\"serial\",\"profit\",\"faulty\",\"apprentice\",\"logistics\",\"cf\",\"specialist\",\"xerox\",\"trial\",\"ever\",\"npc\",\"eagcldaten\",\"grade\",\"imei\",\"an\",\"kpm\",\"sao\",\"ist\",\"united\",\"maximum\",\"joiner\",\"difficulty\",\"unsuccessful\",\"cisco\",\"defect\",\"reader\",\"lunch\",\"centre\",\"punch\",\"posting\",\"carry\",\"ora\",\"bulk\",\"dir\",\"as\",\"dan\",\"vh\",\"supplier\",\"siemens\",\"ewewx\",\"pose\",\"miro\",\"automate\",\"nxd\",\"eagw\",\"absolutely\",\"designer\",\"into\",\"sm\",\"feel\",\"june\",\"newly\",\"reimbursement\",\"partial\",\"correction\",\"anyway\",\"cd\",\"bf\",\"mgr\",\"history\",\"participant\",\"force\",\"tape\",\"research\",\"sabrthy\",\"swap\",\"tess\",\"d\",\"vfx\",\"panel\",\"markhty\",\"ba\",\"snapshot\",\"nicrhty\",\"erirtc\",\"snip\",\"usaed\",\"ea\",\"saver\",\"universal\",\"actually\",\"authority\",\"google\",\"smtp\",\"cvd\",\"together\",\"while\",\"fault\",\"prt\",\"movement\",\"nop\",\"dce\",\"certify\",\"easy\",\"thomklmas\",\"cec\",\"attend\",\"tologin\",\"victim\",\"execution\",\"srinfhyath\",\"dv\",\"attack\",\"shutdown\",\"ansi\",\"reimage\",\"usage\",\"ru\",\"relationship\",\"oneteam\",\"common\",\"jul\",\"misconfigure\",\"zdsxmcwu\",\"abende\",\"karaffa\",\"calculation\",\"srv\",\"accessible\",\"trace\",\"scratch\",\"scrap\",\"hxgayczeed\",\"dispatch\",\"acknowledgement\",\"parent\",\"inspection\",\"prospect\",\"await\",\"behavior\",\"sfb\",\"everytime\",\"publish\",\"otc\",\"sn\",\"dialog\",\"ftp\",\"lmsl\",\"updation\",\"optiplex\",\"memo\",\"mam\",\"by\",\"through\",\"temporary\",\"meter\",\"ewel\",\"auditor\",\"purchasingupstreamsso\",\"samaccountname\",\"xjhpznds\",\"odbc\",\"aidl\",\"hd\",\"repeatedly\",\"erro\",\"otherwise\",\"uwe\",\"workplace\",\"rrc\",\"trail\",\"shopfloor\",\"balancing\",\"encrypt\",\"pre\",\"central\",\"logistic\",\"indexing\",\"morning\",\"expedite\",\"pcs\",\"calculator\",\"dv\\u02c6zlettel\",\"rmt\",\"synch\",\"corrupt\",\"tooling\",\"almost\",\"thus\",\"variant\",\"letter\",\"bitte\",\"sie\",\"air\",\"hu\",\"physical\",\"zsd\",\"circle\",\"greatly\",\"color\",\"csd\",\"ha\",\"precision\",\"construct\",\"turkey\",\"invoicing\",\"evhw\",\"pro\",\"exception\",\"hash\",\"ui\",\"capacity\",\"severity\",\"sk\",\"liable\",\"bay\",\"remember\",\"rr\",\"launcher\",\"bob\",\"combination\",\"su\",\"earthwork\",\"ground\",\"duty\",\"fu\",\"ecs\",\"late\",\"sridthshar\",\"herytur\",\"pradyhtueep\",\"yyufs\",\"fmxcnwpu\",\"tcwrdqboinition\",\"timeout\",\"regardless\",\"sim\",\"briefly\",\"deal\",\"gtehdnyu\",\"trurthyuft\",\"visio\",\"defekt\",\"tier\",\"totally\",\"voucher\",\"validation\",\"blink\",\"connected\",\"allocate\",\"proxy\",\"coat\",\"stuck\",\"presentation\",\"agree\",\"karghyuen\",\"sec\",\"processor\",\"snap\",\"pcl\",\"shall\",\"exclude\",\"inter\",\"why\",\"fca\",\"clarification\",\"gt\",\"dealer\",\"definition\",\"responsibility\",\"compatibility\",\"appointment\",\"timecard\",\"shrugott\",\"tyhuellis\",\"characteristic\",\"kingdom\",\"communicate\",\"incomplete\",\"serious\",\"life\",\"inconvenience\",\"invite\",\"ppt\",\"world\",\"ahead\",\"script\",\"extraction\",\"unauthorised\",\"canada\",\"explain\",\"pack\",\"ipc\",\"commit\",\"former\",\"eastern\",\"nicht\",\"hrb\",\"alive\",\"foreseeexternalip\",\"vendorpriority\",\"isp\",\"furnace\",\"lacw\",\"familiar\",\"direction\",\"compensation\",\"gergryth\",\"cpic\",\"structure\",\"awareness\",\"accompany\",\"exempt\",\"shopping\",\"peer\",\"deploy\",\"gdhyrt\",\"muggftyali\",\"xt\",\"pds\",\"bin\",\"clean\",\"lisbon\",\"anbtr\",\"xf\",\"bluetooth\",\"trade\",\"sl\",\"sproc\",\"compatible\",\"ehs\",\"primarily\",\"germanytially\",\"compromised\",\"individual\",\"isensplant\",\"discover\",\"vulnerable\",\"effectively\",\"choice\",\"exploit\",\"exploitation\",\"constraint\",\"bom\",\"whole\",\"grugermany\",\"deeghyupak\",\"efdl\",\"sab\",\"news\",\"dot\",\"av\",\"quite\",\"screensaver\",\"historically\",\"epmap\",\"mapper\",\"locator\",\"datagramdnty\",\"smb\",\"ebhsm\",\"callie\",\"pollaurido\",\"tor\",\"thdjzolwronization\",\"palo\",\"patch\",\"integrity\",\"icmp\",\"srcassetofinterest\",\"xed\",\"scm\",\"mx\",\"bda\",\"gain\",\"expert\",\"cs\",\"outbox\",\"acrobat\",\"rom\",\"shi\",\"educate\",\"acc\",\"guide\",\"insurance\",\"receiver\",\"troubleshooting\",\"jan\",\"babiluntr\",\"eagl\",\"layer\",\"flicker\",\"cnc\",\"shortcut\",\"invitation\",\"am\",\"land\",\"soft\",\"freezing\",\"vsp\",\"alakrisyuhnyrtn\",\"collegue\",\"too\",\"consulting\",\"above\",\"poncacity\",\"cyber\",\"fr\",\"ii\",\"lowercase\",\"november\",\"topic\",\"jump\",\"bug\",\"spot\",\"transportation\",\"approximately\",\"csqe\",\"infonet\",\"perhaps\",\"mi\",\"vb\",\"anyone\",\"toold\",\"corp\",\"wzs\",\"fast\",\"portion\",\"vat\",\"documentation\",\"suite\",\"del\",\"implementation\",\"class\",\"roboworker\",\"city\",\"rmb\",\"console\",\"cantabria\",\"stat\",\"weight\",\"nice\",\"lagp\",\"networking\",\"used\",\"coast\",\"train\",\"cpp\",\"programdntym\",\"legal\",\"wild\",\"gentleman\",\"restriction\",\"projector\",\"commstorage\",\"prepare\",\"representative\",\"sha\",\"jet\",\"row\",\"backorder\",\"tim\",\"qs\",\"cursor\",\"manipulate\",\"partially\",\"max\",\"apple\",\"troubleshoot\",\"servers\",\"dabhruji\",\"receiving\",\"brand\",\"freundlichem\",\"planning\",\"loaner\",\"offer\",\"transmission\",\"analyze\",\"mtb\",\"adaptor\",\"elengineere\",\"un\",\"lrrsm\",\"generirtc\",\"popup\",\"obtain\",\"awb\",\"authorisation\",\"verification\",\"rj\",\"intermittently\",\"workgroup\",\"nov\",\"random\",\"petrghada\",\"trainer\",\"nathyresh\",\"oa\",\"rs\",\"bakyhr\",\"huhuyghe\",\"christgry\",\"knock\",\"regularly\",\"bhayhtrathramdnty\",\"mamilujli\",\"asst\",\"markhtye\",\"numerirtcal\",\"pur\",\"suhtnhdyio\",\"extent\",\"parkeyhrt\",\"jeffrghryey\",\"erkheim\",\"construction\",\"ir\",\"keyhtyvin\",\"toriaytun\",\"reduce\",\"front\",\"mismatch\",\"vvamrtryot\",\"reg\",\"flap\",\"npr\",\"ron\",\"more\",\"rzucjgvp\",\"ioqjgmah\",\"jdamieul\",\"fandyhgg\",\"vf\",\"character\",\"keyboard\",\"resale\",\"man\",\"wonder\",\"hrs\",\"hxgayczee\",\"reconciliation\",\"hotel\",\"toolcal\",\"mess\",\"correspondence\",\"checking\",\"printout\",\"indication\",\"favorite\",\"il\",\"buyer\",\"nyifqpmv\",\"kfirxjag\",\"copier\",\"failagain\",\"territory\",\"sufficient\",\"hello\\u00f6\",\"facilities\",\"prtqv\",\"tone\",\"workbook\",\"detection\",\"cust\",\"finding\",\"taiwan\",\"oss\",\"vv\",\"survey\",\"wrench\",\"earliest\",\"jb\",\"delta\",\"qiantang\",\"xin\",\"shanghai\",\"postal\",\"drill\",\"settle\",\"risk\",\"manjgtiry\",\"con\",\"cloud\",\"hsh\",\"aqihfoly\",\"xsrkthvf\",\"bls\",\"embed\",\"productivity\",\"bcd\",\"tom\",\"executable\",\"downloader\",\"xe\",\"lhql\",\"refererproxycorrelationurl\",\"vendoreventid\",\"tcpflag\",\"inlineaction\",\"globalproxycorrelationurl\",\"vendorversion\",\"element\",\"massive\",\"claim\",\"settlement\",\"edi\",\"liuytre\",\"udp\",\"noris\",\"watch\",\"segment\",\"realize\",\"suggestion\",\"able\",\"se\",\"environmental\",\"caution\",\"sole\",\"destrtgoy\",\"cart\",\"revise\",\"effort\",\"undeliverable\",\"txt\",\"selector\",\"lu\",\"ft\",\"val\",\"crosscomp\",\"posrt\",\"showing\",\"proposal\",\"smxoklny\",\"hbecskgl\",\"shathyra\",\"authorized\",\"produce\",\"coating\",\"csscdrill\",\"au\",\"cde\",\"cont\",\"ent\",\"xsso\",\"encoding\",\"foreign\",\"concerned\",\"campaign\",\"slowness\",\"hnynhsth\",\"jsuyhwssad\",\"xjhpznd\",\"rod\",\"es\",\"cn\",\"php\",\"scenario\",\"wlan\",\"workshop\",\"onsite\",\"dscsag\",\"zigioachstyac\",\"attachement\",\"indonesia\",\"pvd\",\"jashyht\",\"apul\",\"ita\",\"milano\",\"examine\",\"translate\",\"assigning\",\"easily\",\"certainly\",\"additionally\",\"dmz\",\"cve\",\"grid\",\"leverage\",\"urlencoded\",\"editor\",\"fact\",\"king\",\"rn\",\"apparently\",\"digital\",\"estorage\",\"productly\",\"imts\",\"respective\",\"orange\",\"erpstartsrv\",\"meantime\",\"zcor\",\"tip\",\"malaysia\",\"productive\",\"bokrgadu\",\"euobrlcn\",\"ctu\",\"intern\",\"paycheck\",\"pptx\",\"koenigsee\",\"dsccache\",\"flags\",\"syn\",\"macro\",\"iid\",\"ar\",\"vs\",\"wh\",\"lhqwx\",\"kt\",\"anonymize\",\"holiday\",\"fall\",\"assurance\",\"folk\",\"wanrtyg\",\"cutview\",\"franhtyu\",\"eight\",\"article\",\"echo\",\"tooldcvcgenratn\",\"filename\",\"uidgt\",\"flat\",\"versions\",\"reputation\",\"intrusion\",\"prevention\",\"eraser\",\"revocation\",\"sonar\",\"dsthostname\",\"xwbesorf\",\"dhcp\",\"guess\",\"care\",\"initiative\",\"abc\",\"al\",\"campus\",\"tm\",\"api\",\"bapi\",\"expiry\",\"roll\",\"waste\",\"mms\",\"apart\",\"pozna\",\"enhance\",\"wtqdyoin\",\"house\",\"prs\",\"both\",\"misplaced\",\"commercial\",\"ipbl\",\"beshryuliste\",\"uploading\",\"very\",\"wherein\",\"entrie\",\"beamer\",\"ware\",\"sandplant\",\"preserve\",\"ownership\",\"overall\",\"fully\",\"acceptance\",\"vksfrhdx\",\"njhaqket\",\"hint\",\"ksem\",\"globalengservice\",\"ia\",\"ransomware\",\"badge\",\"beginning\",\"before\",\"explore\",\"daylight\",\"saving\",\"crack\",\"hz\",\"mount\",\"ost\",\"automation\",\"develop\",\"music\",\"bwdpmbkp\",\"interruption\",\"ctc\",\"refuse\",\"commodity\",\"ethics\",\"emsw\",\"applications\",\"shared\",\"merdivan\",\"sinc\\u00ebre\",\"salutation\",\"eps\",\"kentip\",\"zheqafyo\",\"bqirpxag\",\"fence\",\"april\",\"modem\",\"sub\",\"guy\",\"off\",\"pasword\",\"iten\",\"qc\",\"cubicle\",\"corpbusinessdev\",\"whose\",\"capability\",\"leiter\",\"money\",\"configurator\",\"ibm\",\"pwr\",\"hmc\",\"mecftgobusa\",\"kenci\",\"iak\",\"wire\",\"attached\",\"scheduling\",\"stage\",\"interns\",\"west\",\"polycom\",\"fert\",\"holemake\",\"mex\",\"gray\",\"ear\",\"fp\",\"lady\",\"pin\",\"pweaver\",\"string\",\"glovia\",\"reinstate\",\"submittal\",\"bernardo\",\"campo\",\"edksm\",\"pray\",\"ups\",\"aplication\",\"court\",\"harald\",\"nnlein\",\"rar\",\"den\",\"hop\",\"intelligence\",\"msoffice\",\"formatheywte\",\"aspx\",\"nda\",\"exceed\",\"configured\",\"giuliasana\",\"byhdderni\",\"mat\",\"infostand\",\"quota\",\"lync\",\"graphic\",\"express\",\"ver\",\"bld\",\"psf\",\"zaf\",\"hire\",\"blocker\",\"archived\",\"tomashtgd\",\"mchectg\",\"itclukpe\",\"aimcfeko\",\"attention\",\"exec\",\"vc\",\"phishing\",\"fjaqbgnld\",\"yukdzwxs\",\"ramdntyassthywamy\",\"produktion\",\"pethrywr\",\"alt\",\"maryhtutina\",\"bauuyternfeyt\",\"gayhtjula\",\"mu\",\"danyhuie\",\"deyhtwet\",\"randomly\",\"property\",\"counsel\",\"migo\",\"zkwfqagbs\",\"closing\",\"mgmt\",\"lalthy\",\"vivthyek\",\"byuihand\",\"hotline\",\"li\",\"std\",\"vga\",\"solid\",\"bwhrertran\",\"psfshytd\",\"numerous\",\"doug\",\"systems\",\"afe\",\"black\",\"prtqi\",\"malfunction\",\"gokcerthy\",\"lt\",\"eva\",\"azm\",\"edksw\",\"javascript\",\"safety\",\"dialing\",\"unchecked\",\"photo\",\"iom\",\"chassis\",\"dob\",\"thrgxqsuojr\",\"tracert\",\"vsphere\",\"eagcutview\",\"virakv\",\"reachable\",\"dsc\",\"unreachable\",\"hierarchy\",\"pathuick\",\"march\",\"geoyhurg\",\"chriuimjiann\",\"compare\",\"bi\",\"charm\",\"wrongly\",\"vtykrubi\",\"whsipqno\",\"shesyhur\",\"wise\",\"managing\",\"sls\",\"left\",\"pulverleitstand\",\"abend\",\"config\",\"hrt\",\"st\\u02c6hr\",\"wothyehre\",\"oh\",\"pressure\",\"understanding\",\"symbol\",\"stream\",\"schlumhdyhter\",\"will\",\"closed\",\"apps\",\"ebus\",\"sind\",\"bunch\",\"fellow\",\"cash\",\"xhaomnjl\",\"ctusaqpr\",\"spool\",\"clearly\",\"anybody\",\"executive\",\"accordance\",\"spend\",\"scorecard\",\"erathyur\",\"smartphone\",\"vmware\",\"der\",\"aus\",\"originally\",\"ethical\",\"sipppr\",\"these\",\"estimate\",\"wish\",\"qwsjptlo\",\"krisyuhnyrt\",\"strange\",\"massage\",\"poor\",\"oprbatch\",\"consign\",\"tommyth\",\"duyhurmont\",\"eject\",\"grey\",\"excellence\",\"mwst\",\"qualify\",\"dardabthyr\",\"sun\",\"fengxian\",\"district\",\"chen\",\"qiao\",\"liu\",\"companycenter\",\"ot\",\"clhqsm\",\"alrthyu\",\"toolonic\",\"kvp\",\"panghyiraj\",\"shthuihog\",\"beschichtungsleitstand\",\"handheld\",\"gj\",\"operating\",\"knethyen\",\"grechduy\",\"mae\",\"smhdyhti\",\"haunm\",\"raw\",\"schtrtgoyht\",\"basic\",\"ssen\",\"inconsistent\",\"street\",\"bare\",\"xref\",\"foreseedstipgeo\",\"nld\",\"srcmacaddress\",\"bucket\",\"woman\",\"bridgex\",\"atp\",\"safrgyynjit\",\"disconnecting\",\"dg\",\"zno\",\"christgrytoph\",\"ti\",\"miiadmin\",\"weird\",\"sense\",\"accout\",\"nightly\",\"defender\",\"village\",\"required\",\"aes\",\"references\",\"yb\",\"vw\",\"cm\",\"planet\",\"earth\",\"les\",\"olympus\",\"sebfghkasthian\",\"tempuser\",\"layout\",\"recieve\",\"ghkkytu\",\"tempo\",\"rarily\",\"tml\",\"cook\",\"doma\",\"gzip\",\"abb\",\"banking\",\"oe\",\"closet\",\"usx\",\"chandruhdty\",\"xp\",\"ytd\",\"adjustment\",\"programdntya\",\"docad\",\"ebusiness\",\"msie\",\"xb\",\"invest\",\"organisation\",\"nobody\",\"estate\",\"sethdyr\",\"hdtyr\",\"opposite\",\"fiber\",\"restoration\",\"excise\",\"pthsqroz\",\"moedyanvess\",\"doe\",\"charger\",\"shed\",\"reconnect\",\"coworker\",\"dallas\",\"rm\",\"branch\",\"sinkholes\",\"false\",\"enforcement\",\"mitigation\",\"curious\",\"hierarchical\",\"naming\",\"entity\",\"locating\",\"authoritative\",\"subdomain\",\"hole\",\"routable\",\"logs\",\"somewhat\",\"benign\",\"ramdntyification\",\"leakage\",\"unlikely\",\"identifiable\",\"reputational\",\"beshryulist\",\"impede\",\"fea\",\"four\",\"simple\",\"smart\",\"corresponding\",\"toner\",\"mic\",\"infotype\",\"gthydanp\",\"lack\",\"injection\",\"running\",\"relatively\",\"cms\",\"zw\",\"lid\",\"dt\",\"but\",\"raghyvhdra\",\"najuty\",\"aborting\",\"zload\",\"nieghjyukea\",\"italy\",\"gf\",\"behind\",\"mti\",\"vbda\",\"stanfghyley\",\"guhtyke\",\"fmp\",\"tonight\",\"mandatory\",\"ghjkzalez\",\"abstechprogramdntym\",\"february\",\"earbud\",\"rabhtui\",\"zedlet\",\"january\",\"wear\",\"homburg\",\"junior\",\"contractor\",\"unlocking\",\"lhbsm\",\"leader\",\"emporarily\",\"serv\",\"over\",\"contribute\",\"oc\",\"implement\",\"eligibility\",\"nter\",\"gecko\",\"modific\",\"bur\",\"gap\",\"hebrew\",\"lmxl\",\"simfghon\",\"apologize\",\"aghynil\",\"formatheywting\",\"grinding\",\"dump\",\"khrtyujuine\",\"adoption\",\"cube\",\"presence\",\"vpns\",\"registry\",\"dnc\",\"danghtnuell\",\"rdp\",\"homepage\",\"lbdw\",\"matghyuthdw\",\"vk\",\"jc\",\"edml\",\"radiant\",\"phr\",\"uperform\",\"treat\",\"mercedes\",\"benz\",\"caas\",\"pogredrty\",\"reconnaissance\",\"discovery\",\"hartbearbeitung\",\"cord\",\"globalview\",\"tru\",\"projekte\",\"jusfrttin\",\"gtehdnyuerrf\",\"debgrtybie\",\"savgrtyuille\",\"svc\",\"msfc\",\"domestic\",\"international\",\"affiliate\",\"definitely\",\"sc\",\"suhrhtyju\",\"migration\",\"disturb\",\"vmax\",\"filesystem\",\"mswineventlog\",\"mmaster\",\"infoblox\",\"mss\",\"deposit\",\"andrdgrtew\",\"typ\",\"daghyunny\",\"kds\",\"santiago\",\"zcnc\",\"olibercsu\",\"sbinuxja\",\"vtbegcho\",\"nicolmghyu\",\"docx\",\"division\",\"rak\",\"gncpezhx\",\"hopqcvza\",\"wilsfgtjl\"],\"word\":[\"\",\"not\",\"password\",\"erp\",\"job\",\"tool\",\"issue\",\"scheduler\",\"work\",\"fail\",\"reset\",\"user\",\"unable\",\"sid\",\"from\",\"company\",\"email\",\"access\",\"error\",\"need\",\"account\",\"ticket\",\"get\",\"system\",\"use\",\"name\",\"would\",\"outlook\",\"update\",\"change\",\"login\",\"message\",\"check\",\"start\",\"problem\",\"try\",\"hostname\",\"send\",\"phone\",\"lock\",\"connect\",\"contact\",\"team\",\"open\",\"new\",\"cid\",\"network\",\"log\",\"call\",\"time\",\"customer\",\"number\",\"request\",\"since\",\"attach\",\"server\",\"summary\",\"report\",\"create\",\"manager\",\"vpn\",\"pm\",\"order\",\"show\",\"usa\",\"microsoft\",\"pc\",\"site\",\"engineering\",\"print\",\"management\",\"type\",\"good\",\"skype\",\"mailto\",\"e\",\"computer\",\"file\",\"resolve\",\"internet\",\"crm\",\"printer\",\"subject\",\"unlock\",\"could\",\"et\",\"follow\",\"vendor\",\"language\",\"detail\",\"power\",\"screen\",\"na\",\"dear\",\"add\",\"plant\",\"x\",\"global\",\"also\",\"sale\",\"device\",\"find\",\"verify\",\"mail\",\"browser\",\"com\",\"go\",\"active\",\"remote\",\"explorer\",\"telephone\",\"platform\",\"service\",\"information\",\"application\",\"connection\",\"available\",\"run\",\"enter\",\"collaboration\",\"provide\",\"software\",\"backup\",\"production\",\"best\",\"one\",\"notify\",\"office\",\"laptop\",\"employee\",\"schedule\",\"windows\",\"outage\",\"know\",\"hr\",\"additional\",\"address\",\"maintenance\",\"gsc\",\"at\",\"telecom\",\"specify\",\"confirm\",\"back\",\"link\",\"top\",\"please\",\"complete\",\"circuit\",\"c\",\"image\",\"dial\",\"equipment\",\"let\",\"provider\",\"germany\",\"business\",\"the\",\"cert\",\"view\",\"abended\",\"advise\",\"block\",\"can\",\"maint\",\"verizon\",\"diagnostic\",\"window\",\"nwfodmhc\",\"exurcwkm\",\"note\",\"eu\",\"f\",\"require\",\"datum\",\"set\",\"b\",\"make\",\"location\",\"look\",\"folder\",\"drive\",\"support\",\"uacyltoe\",\"event\",\"delivery\",\"process\",\"like\",\"day\",\"inc\",\"no\",\"fix\",\"still\",\"possible\",\"document\",\"client\",\"install\",\"cc\",\"list\",\"status\",\"kindly\",\"code\",\"today\",\"may\",\"urgent\",\"portal\",\"come\",\"ad\",\"hxgaycze\",\"want\",\"\\u00f1\",\"take\",\"delete\",\"click\",\"give\",\"high\",\"per\",\"load\",\"attachment\",\"due\",\"i\",\"page\",\"incident\",\"mobile\",\"inplant\",\"via\",\"august\",\"material\",\"september\",\"correct\",\"assign\",\"group\",\"ask\",\"agent\",\"display\",\"mm\",\"item\",\"center\",\"screenshot\",\"say\",\"last\",\"app\",\"alert\",\"full\",\"inwarehouse\",\"ap\",\"miss\",\"driver\",\"october\",\"transaction\",\"question\",\"thank\",\"machine\",\"field\",\"sign\",\"g\",\"security\",\"caller\",\"appear\",\"setup\",\"approve\",\"ms\",\"pls\",\"happen\",\"ip\",\"label\",\"space\",\"download\",\"help\",\"old\",\"notification\",\"telephony\",\"monitor\",\"slow\",\"option\",\"many\",\"source\",\"instal\",\"week\",\"date\",\"be\",\"submit\",\"product\",\"select\",\"meeting\",\"teamviewer\",\"keep\",\"interface\",\"restart\",\"save\",\"jpg\",\"version\",\"two\",\"sw\",\"action\",\"host\",\"logon\",\"excel\",\"blank\",\"on\",\"assist\",\"india\",\"automatically\",\"longer\",\"priority\",\"dell\",\"query\",\"multiple\",\"wrong\",\"post\",\"seem\",\"model\",\"sincerely\",\"ess\",\"generate\",\"share\",\"aerp\",\"return\",\"respond\",\"port\",\"png\",\"result\",\"internal\",\"review\",\"passwords\",\"vip\",\"warehouse\",\"friendly\",\"kind\",\"local\",\"fine\",\"win\",\"disk\",\"indicate\",\"apac\",\"attempt\",\"this\",\"even\",\"close\",\"already\",\"copy\",\"remove\",\"another\",\"expense\",\"right\",\"supply\",\"engineer\",\"volume\",\"move\",\"form\",\"example\",\"mii\",\"default\",\"data\",\"end\",\"hard\",\"allow\",\"k\",\"scan\",\"wifi\",\"correctly\",\"u\",\"stop\",\"search\",\"external\",\"fw\",\"ethic\",\"next\",\"yesterday\",\"website\",\"switch\",\"setting\",\"enable\",\"refer\",\"monday\",\"impact\",\"friday\",\"iphone\",\"hana\",\"installation\",\"every\",\"currently\",\"solve\",\"exist\",\"ship\",\"expire\",\"consume\",\"sync\",\"several\",\"person\",\"well\",\"hrp\",\"distributor\",\"defective\",\"line\",\"response\",\"total\",\"out\",\"net\",\"without\",\"dsw\",\"r\",\"programdnty\",\"include\",\"etc\",\"home\",\"n\",\"distribution\",\"sure\",\"failure\",\"either\",\"reason\",\"activation\",\"exchange\",\"someone\",\"online\",\"desk\",\"launch\",\"month\",\"transfer\",\"function\",\"purchase\",\"reference\",\"hour\",\"ie\",\"hub\",\"cause\",\"admin\",\"interaction\",\"write\",\"drawing\",\"destination\",\"finance\",\"first\",\"turn\",\"web\",\"audio\",\"reach\",\"relate\",\"in\",\"greeting\",\"prompt\",\"handle\",\"occurrence\",\"dn\",\"release\",\"payroll\",\"plm\",\"investigate\",\"w\",\"training\",\"desktop\",\"sep\",\"primary\",\"operation\",\"medium\",\"procedure\",\"stock\",\"description\",\"tuesday\",\"quote\",\"upgrade\",\"pl\",\"occur\",\"prod\",\"area\",\"approval\",\"face\",\"read\",\"th\",\"content\",\"temporarily\",\"administrator\",\"gso\",\"immediately\",\"rtr\",\"join\",\"department\",\"condition\",\"database\",\"boot\",\"p\",\"however\",\"sender\",\"certificate\",\"case\",\"welcome\",\"concern\",\"reboot\",\"traffic\",\"value\",\"restore\",\"future\",\"people\",\"count\",\"po\",\"regard\",\"username\",\"authorize\",\"directory\",\"recipient\",\"chain\",\"supervisor\",\"importance\",\"determine\",\"replace\",\"daily\",\"unlocked\",\"pdf\",\"mention\",\"\\u00ef\",\"cost\",\"project\",\"south\",\"control\",\"warning\",\"purpose\",\"sr\",\"nothing\",\"incorrect\",\"sto\",\"personal\",\"different\",\"configure\",\"deny\",\"current\",\"continue\",\"activity\",\"wednesday\",\"delegate\",\"free\",\"tcp\",\"wireless\",\"cold\",\"netweaver\",\"director\",\"within\",\"output\",\"bobj\",\"locate\",\"exe\",\"processing\",\"ws\",\"technical\",\"gb\",\"ewew\",\"button\",\"needful\",\"reporting\",\"thursday\",\"affect\",\"record\",\"accept\",\"price\",\"minute\",\"plan\",\"describe\",\"tab\",\"always\",\"colleague\",\"permission\",\"analysis\",\"contain\",\"to\",\"extend\",\"shot\",\"perform\",\"something\",\"bex\",\"must\",\"mr\",\"recently\",\"state\",\"directly\",\"re\",\"tell\",\"partner\",\"box\",\"soon\",\"escalate\",\"floor\",\"co\",\"gmbh\",\"correspond\",\"pick\",\"hp\",\"way\",\"mistake\",\"detect\",\"ex\",\"discount\",\"room\",\"credential\",\"mit\",\"h\",\"explicit\",\"calendar\",\"lose\",\"step\",\"bkwin\",\"pp\",\"workflow\",\"leave\",\"valid\",\"with\",\"domain\",\"rule\",\"escalation\",\"original\",\"following\",\"disclosure\",\"alternate\",\"point\",\"past\",\"ic\",\"services\",\"mailbox\",\"sms\",\"dmvpn\",\"put\",\"repeat\",\"amerirtca\",\"inform\",\"reinstall\",\"communication\",\"organization\",\"notice\",\"pop\",\"sample\",\"differently\",\"part\",\"entry\",\"java\",\"base\",\"applicable\",\"strictly\",\"prohibit\",\"org\",\"netch\",\"conversation\",\"effective\",\"guest\",\"long\",\"mpls\",\"repair\",\"instead\",\"info\",\"configuration\",\"think\",\"tax\",\"batch\",\"dc\",\"rakthyesh\",\"threshold\",\"session\",\"anymore\",\"disconnect\",\"law\",\"disclaimer\",\"place\",\"dev\",\"command\",\"shortly\",\"balance\",\"v\",\"shop\",\"ok\",\"lean\",\"drop\",\"german\",\"route\",\"gr\",\"critical\",\"non\",\"sound\",\"basis\",\"experience\",\"manage\",\"pull\",\"shipment\",\"profile\",\"assignment\",\"visitor\",\"for\",\"size\",\"shoot\",\"properly\",\"confidential\",\"cvss\",\"asa\",\"handling\",\"lan\",\"freeze\",\"cancel\",\"lot\",\"www\",\"lockout\",\"assistance\",\"manually\",\"blue\",\"url\",\"bw\",\"packet\",\"http\",\"j\",\"operator\",\"hear\",\"expect\",\"average\",\"aug\",\"soc\",\"upload\",\"etime\",\"attendance\",\"have\",\"forget\",\"bkbackup\",\"license\",\"member\",\"refresh\",\"side\",\"lead\",\"word\",\"activate\",\"alerting\",\"a\",\"early\",\"path\",\"card\",\"replacement\",\"task\",\"performance\",\"key\",\"ping\",\"least\",\"hotf\",\"recreate\",\"src\",\"dst\",\"urgently\",\"ensure\",\"method\",\"object\",\"de\",\"trouble\",\"travel\",\"text\",\"confirmation\",\"hq\",\"saturday\",\"warm\",\"input\",\"bk\",\"mb\",\"nsu\",\"latitude\",\"unique\",\"intend\",\"amar\",\"directionality\",\"protocol\",\"scwx\",\"sherlock\",\"sle\",\"inspector\",\"duplication\",\"master\",\"identify\",\"billing\",\"cell\",\"dynamics\",\"resource\",\"anything\",\"necessary\",\"station\",\"reply\",\"bad\",\"and\",\"vlan\",\"overview\",\"tomorrow\",\"msd\",\"crash\",\"yet\",\"scanner\",\"general\",\"hxgayczeing\",\"edit\",\"none\",\"pr\",\"userid\",\"freundlichen\",\"spam\",\"dat\",\"protection\",\"spread\",\"empty\",\"tiyhum\",\"kuyiomar\",\"classification\",\"utc\",\"vid\",\"reroute\",\"outside\",\"single\",\"null\",\"qa\",\"node\",\"clear\",\"outbound\",\"mikhghytr\",\"behalf\",\"quality\",\"fy\",\"amount\",\"rth\",\"consider\",\"authorization\",\"ce\",\"firewall\",\"tablet\",\"format\",\"z\",\"pay\",\"wy\",\"comment\",\"mode\",\"est\",\"tag\",\"tracker\",\"validate\",\"moment\",\"daypay\",\"dp\",\"register\",\"dashbankrd\",\"light\",\"video\",\"snp\",\"heu\",\"regen\",\"sensor\",\"ramdntythanjesh\",\"l\",\"score\",\"malware\",\"worm\",\"ago\",\"match\",\"related\",\"activesync\",\"controller\",\"target\",\"year\",\"environment\",\"synchronize\",\"though\",\"receipt\",\"thing\",\"down\",\"bit\",\"ltd\",\"termination\",\"solution\",\"quick\",\"icon\",\"conference\",\"incoming\",\"proto\",\"infection\",\"disable\",\"when\",\"second\",\"companysecure\",\"matheywter\",\"hang\",\"arrange\",\"paper\",\"everything\",\"do\",\"senior\",\"azure\",\"mfg\",\"nee\",\"os\",\"wu\",\"mouse\",\"owner\",\"sorry\",\"terminate\",\"book\",\"secondary\",\"direct\",\"rad\",\"payment\",\"addressee\",\"cover\",\"battery\",\"true\",\"ontology\",\"flash\",\"speaker\",\"st\",\"stack\",\"apo\",\"observe\",\"shipping\",\"afternoon\",\"course\",\"ae\",\"connectivity\",\"requester\",\"appropriate\",\"detailed\",\"important\",\"instruction\",\"q\",\"filesys\",\"fill\",\"synchronization\",\"charge\",\"sa\",\"nd\",\"inside\",\"csr\",\"raise\",\"various\",\"symantec\",\"earlier\",\"infopath\",\"solely\",\"archive\",\"renew\",\"antivirus\",\"asset\",\"df\",\"arc\",\"rpc\",\"isensor\",\"malicious\",\"around\",\"appreciate\",\"standard\",\"till\",\"table\",\"oct\",\"cycle\",\"quarantine\",\"pricing\",\"onto\",\"fi\",\"credit\",\"period\",\"us\",\"router\",\"unit\",\"plug\",\"offline\",\"previous\",\"deu\",\"quantity\",\"successfully\",\"cable\",\"correlation\",\"picture\",\"virus\",\"european\",\"pad\",\"geolocation\",\"deliver\",\"sys\",\"gigabitethernet\",\"printing\",\"viewer\",\"requirement\",\"noise\",\"aw\",\"advance\",\"bill\",\"break\",\"agreement\",\"purchasing\",\"filter\",\"catalog\",\"hcm\",\"authentic\",\"intune\",\"automatic\",\"receive\",\"opening\",\"md\",\"shut\",\"inbox\",\"abort\",\"mac\",\"financial\",\"whenever\",\"\\ufb02en\",\"instance\",\"analyst\",\"bar\",\"legitimate\",\"min\",\"facility\",\"lhqsm\",\"israel\",\"flag\",\"ttl\",\"tos\",\"ascii\",\"hex\",\"signature\",\"recall\",\"hello\",\"usb\",\"utilization\",\"tel\",\"vacation\",\"map\",\"clock\",\"unavailable\",\"technology\",\"pa\",\"sartlgeo\",\"carrier\",\"eng\",\"fc\",\"unmonitored\",\"never\",\"again\",\"db\",\"wait\",\"much\",\"extra\",\"bottom\",\"conduct\",\"up\",\"execute\",\"rqfhiong\",\"public\",\"framdntyework\",\"whether\",\"deployment\",\"lauacyltoe\",\"sport\",\"itype\",\"dport\",\"icode\",\"iplen\",\"dgmlen\",\"seq\",\"ack\",\"tcplen\",\"pcap\",\"duration\",\"destine\",\"player\",\"markhtyete\",\"channel\",\"regional\",\"sql\",\"creation\",\"apply\",\"present\",\"flowchart\",\"word\\u00f6etc\",\"asia\",\"lhqksbdx\",\"workstation\",\"inquiry\",\"citrix\",\"suggest\",\"english\",\"press\",\"pssword\",\"gl\",\"statistic\",\"russia\",\"unauthorized\",\"choose\",\"pgi\",\"thx\",\"believe\",\"become\",\"across\",\"warn\",\"mp\",\"hoti\",\"emea\",\"discuss\",\"determined\",\"understand\",\"frequent\",\"figure\",\"role\",\"dock\",\"level\",\"hardware\",\"build\",\"cache\",\"therefore\",\"propagate\",\"oracle\",\"pwd\",\"stay\",\"vitalyst\",\"keybankrd\",\"extract\",\"fastethernet\",\"disabled\",\"section\",\"pe\",\"msg\",\"delay\",\"talk\",\"play\",\"assistant\",\"same\",\"fyi\",\"ecc\",\"after\",\"enterprise\",\"unfortunately\",\"sunday\",\"award\",\"core\",\"stick\",\"working\",\"barcode\",\"define\",\"bank\",\"owa\",\"zkwfqagb\",\"conversion\",\"sales\",\"stefyty\",\"adobe\",\"twice\",\"qty\",\"replicate\",\"party\",\"ee\",\"trojan\",\"couple\",\"self\",\"store\",\"gui\",\"revert\",\"variable\",\"pos\",\"authentication\",\"cpu\",\"loud\",\"export\",\"inbound\",\"monitoring\",\"trust\",\"wi\",\"ind\",\"tc\",\"relevant\",\"europe\",\"dwfiykeo\",\"argtxmvcumar\",\"of\",\"all\",\"opportunity\",\"qlhmawgi\",\"final\",\"responsible\",\"north\",\"hope\",\"pw\",\"engine\",\"really\",\"big\",\"ds\",\"duplicate\",\"normal\",\"red\",\"insert\",\"policy\",\"doc\",\"feedback\",\"visible\",\"frequently\",\"dac\",\"alicona\",\"er\",\"wg\",\"zebra\",\"sometimes\",\"okay\",\"three\",\"va\",\"tooltion\",\"main\",\"child\",\"july\",\"sf\",\"eventid\",\"compromise\",\"misconfiguration\",\"helpdesk\",\"bring\",\"benefit\",\"sp\",\"addition\",\"rectify\",\"order\\u00f6etc\",\"programdntys\",\"dns\",\"cookie\",\"reminder\",\"calculate\",\"corporate\",\"meet\",\"chg\",\"sgwipoxn\",\"pte\",\"personally\",\"complaint\",\"length\",\"queuing\",\"mbyte\",\"cl\",\"usually\",\"t\",\"template\",\"consultant\",\"import\",\"distribute\",\"exit\",\"cmp\",\"modify\",\"recognize\",\"limit\",\"ph\",\"op\",\"later\",\"extension\",\"fb\",\"eb\",\"ed\",\"third\",\"patching\",\"indicator\",\"paramdntyeter\",\"relay\",\"lease\",\"foreseeconndirection\",\"outgoing\",\"foreseeinternalip\",\"inspectoreventid\",\"ileatdatacenter\",\"foreseemaliciouscomment\",\"sherlockruleid\",\"att\",\"weaver\",\"securework\",\"chat\",\"zscr\",\"dly\",\"chn\",\"finally\",\"separate\",\"fa\",\"resolution\",\"module\",\"private\",\"rma\",\"reactivate\",\"hallo\",\"ts\",\"feature\",\"industrial\",\"weekly\",\"shift\",\"powder\",\"although\",\"suspect\",\"cut\",\"ooo\",\"encounter\",\"hot\",\"inventory\",\"background\",\"special\",\"piece\",\"monthly\",\"audit\",\"infrastructure\",\"emp\",\"kis\",\"contract\",\"visit\",\"pollaurid\",\"ac\",\"worker\",\"personnel\",\"o\",\"capture\",\"memory\",\"hold\",\"draw\",\"kls\",\"html\",\"android\",\"opportstorage\",\"now\",\"passive\",\"uri\",\"dhcpd\",\"dhcpack\",\"eth\",\"irreceivedtime\",\"unblock\",\"outbreak\",\"acl\",\"functionality\",\"sinkhole\",\"likely\",\"vulnerability\",\"autoresolve\",\"live\",\"static\",\"queue\",\"manufacturing\",\"intermittent\",\"en\",\"root\",\"prtgghj\",\"acce\",\"designate\",\"accounting\",\"aware\",\"hi\",\"see\",\"begin\",\"davidthd\",\"compliance\",\"maintain\",\"limited\",\"especially\",\"administration\",\"associate\",\"requisition\",\"toolmail\",\"retrieve\",\"edt\",\"normally\",\"awyl\",\"availability\",\"else\",\"toolkuznetsk\",\"region\",\"planner\",\"rgds\",\"hardpoint\",\"major\",\"poland\",\"addin\",\"registration\",\"country\",\"title\",\"bb\",\"far\",\"previously\",\"factory\",\"fan\",\"eemw\",\"staff\",\"manual\",\"category\",\"idea\",\"difficult\",\"zz\",\"road\",\"usd\",\"component\",\"weekend\",\"unknown\",\"immediate\",\"wgq\",\"pu\",\"unless\",\"recent\",\"remain\",\"shatryung\",\"amerirtcas\",\"possibility\",\"ability\",\"dthyan\",\"matheywtyuews\",\"loading\",\"rep\",\"slo\",\"hence\",\"real\",\"proceed\",\"kirtyle\",\"specification\",\"ff\",\"difference\",\"successful\",\"kirty\",\"convert\",\"srchostname\",\"inspectorruleid\",\"agentid\",\"ctainstanceid\",\"logtimestamp\",\"reject\",\"suspicious\",\"mapping\",\"ca\",\"damage\",\"dynamic\",\"bwhrattr\",\"ring\",\"thru\",\"configair\",\"probably\",\"invoke\",\"util\",\"iterator\",\"assume\",\"great\",\"dissemination\",\"recover\",\"notebook\",\"grind\",\"white\",\"acct\",\"maybe\",\"australia\",\"throw\",\"persist\",\"zip\",\"hand\",\"broadband\",\"safe\",\"forecast\",\"statement\",\"delegation\",\"erpgui\",\"ec\",\"docking\",\"datacenter\",\"nvyjtmca\",\"startup\",\"position\",\"wly\",\"dr\",\"bio\",\"vl\",\"trigger\",\"rate\",\"measure\",\"disconnection\",\"complain\",\"remotely\",\"impossible\",\"completely\",\"sit\",\"br\",\"knowledge\",\"manufacture\",\"adapter\",\"accordingly\",\"m\",\"establish\",\"here\",\"tracking\",\"custom\",\"s\",\"suddenly\",\"seat\",\"alarm\",\"particular\",\"judthtihty\",\"zhuyhts\",\"threat\",\"hall\",\"vogelfontein\",\"africa\",\"everyone\",\"gesch\",\"ftsf\",\"hrer\",\"nr\",\"secure\",\"ext\",\"answer\",\"large\",\"human\",\"resources\",\"fax\",\"tech\",\"prior\",\"runtime\",\"there\",\"belong\",\"exact\",\"currency\",\"ribbon\",\"auto\",\"utilize\",\"privilege\",\"completion\",\"mill\",\"eventtypeid\",\"ontologyid\",\"dstport\",\"srcport\",\"eventtypepriority\",\"koga\",\"sell\",\"connc\",\"permit\",\"gmt\",\"rebuild\",\"nt\",\"specific\",\"package\",\"bc\",\"inactive\",\"rfc\",\"wkly\",\"ef\",\"kiosk\",\"sv\",\"finish\",\"robhyertyj\",\"confidentiality\",\"mean\",\"pbx\",\"push\",\"dept\",\"ag\",\"administrative\",\"reassign\",\"permanently\",\"prtqx\",\"involve\",\"professional\",\"ready\",\"rd\",\"selection\",\"doubt\",\"deletion\",\"recommend\",\"mobility\",\"loss\",\"populate\",\"programdntyme\",\"only\",\"speed\",\"similar\",\"library\",\"slowly\",\"certain\",\"design\",\"quickly\",\"laserjet\",\"building\",\"fd\",\"locallist\",\"advice\",\"af\",\"companyguest\",\"temp\",\"often\",\"webpage\",\"von\",\"scanning\",\"bd\",\"ceo\",\"everybody\",\"bankrd\",\"neither\",\"huge\",\"fe\",\"low\",\"signal\",\"effect\",\"alwaysupservice\",\"near\",\"mine\",\"kick\",\"or\",\"und\",\"adjust\",\"hydstheud\",\"mddwwyleh\",\"night\",\"header\",\"highlight\",\"awyw\",\"headset\",\"grant\",\"accord\",\"keheu\",\"speak\",\"dd\",\"laser\",\"worklist\",\"actual\",\"away\",\"suppose\",\"along\",\"revenue\",\"sort\",\"greet\",\"marftgytin\",\"column\",\"regular\",\"dierppear\",\"little\",\"ios\",\"logic\",\"insufficient\",\"sheet\",\"operate\",\"serve\",\"kurtyar\",\"round\",\"useid\",\"robot\",\"kg\",\"ab\",\"switzerland\",\"double\",\"reverse\",\"practice\",\"ctoc\",\"attacker\",\"iso\",\"gte\",\"singapore\",\"evaluationmodels\",\"ngm\",\"employment\",\"payslip\",\"dierppeare\",\"uk\",\"stamp\",\"rollfgyuej\",\"slip\",\"specifically\",\"continuously\",\"that\",\"privileged\",\"copying\",\"despite\",\"below\",\"virtual\",\"upon\",\"sept\",\"ndigung\",\"sponsor\",\"reflect\",\"small\",\"entire\",\"catalogue\",\"wk\",\"stand\",\"success\",\"sso\",\"beshryu\",\"guard\",\"ignore\",\"misplace\",\"head\",\"respect\",\"flow\",\"hpqc\",\"analytic\",\"gesendet\",\"betreff\",\"prevent\",\"touch\",\"dba\",\"samsung\",\"lib\",\"salary\",\"powerpoint\",\"zero\",\"sd\",\"disconnected\",\"hardcopy\",\"constantly\",\"depend\",\"cif\",\"analyzer\",\"short\",\"term\",\"invalid\",\"johthryugftyson\",\"quotation\",\"aa\",\"tr\",\"drucker\",\"empw\",\"validity\",\"xlsx\",\"pass\",\"uninstalle\",\"storage\",\"plus\",\"initial\",\"cb\",\"eh\",\"improvement\",\"registergerirtcht\",\"than\",\"rfwlsoej\",\"yvtjzkaw\",\"track\",\"temperature\",\"nx\",\"forward\",\"cad\",\"def\",\"possibly\",\"chk\",\"ref\",\"rest\",\"reconfigure\",\"uplink\",\"enclose\",\"sev\",\"proper\",\"browse\",\"ramdnty\",\"anti\",\"intercompany\",\"pradtheyp\",\"attribute\",\"loop\",\"marfhtyio\",\"finished\",\"johthryu\",\"chance\",\"epmsystem\",\"incorrectly\",\"less\",\"counter\",\"engg\",\"synche\",\"chrome\",\"transport\",\"hit\",\"busy\",\"spreadsheet\",\"permanent\",\"potential\",\"ssl\",\"phishe\",\"avoid\",\"zhengpe\",\"da\",\"feed\",\"demand\",\"invoice\",\"index\",\"china\",\"zone\",\"reading\",\"except\",\"endpoint\",\"mscrm\",\"gru\\ufb02\",\"anubis\",\"probable\",\"infected\",\"nginx\",\"thu\",\"ng\",\"situation\",\"kathght\",\"shfhyw\",\"te\",\"mozilla\",\"lhqsid\",\"kb\",\"skv\",\"initiate\",\"how\",\"michghytuael\",\"what\",\"infect\",\"divestiture\",\"netbio\",\"blaster\",\"msblast\",\"lovsan\",\"welchia\",\"nachi\",\"reatle\",\"rerun\",\"encryption\",\"hw\",\"enquiry\",\"amssm\",\"rather\",\"enough\",\"participate\",\"seek\",\"consignment\",\"pi\",\"vice\",\"kd\",\"fwd\",\"indirect\",\"development\",\"wafglhdrhjop\",\"abap\",\"probleme\",\"font\",\"conf\",\"intranet\",\"reopen\",\"ticketing\",\"mbps\",\"president\",\"beyond\",\"rqxw\",\"accidentally\",\"gigaset\",\"terminal\",\"mass\",\"steel\",\"msc\",\"half\",\"vmsliazh\",\"ltksxmyv\",\"logo\",\"deactivate\",\"range\",\"himghtmelreich\",\"approver\",\"usas\",\"byte\",\"operational\",\"yellow\",\"menu\",\"mexico\",\"nc\",\"cv\",\"plugin\",\"interrupt\",\"pende\",\"\\u00f6\",\"sequence\",\"bma\",\"ps\",\"technician\",\"serial\",\"profit\",\"faulty\",\"apprentice\",\"logistics\",\"cf\",\"specialist\",\"xerox\",\"trial\",\"ever\",\"npc\",\"eagcldaten\",\"grade\",\"imei\",\"an\",\"kpm\",\"sao\",\"ist\",\"united\",\"maximum\",\"joiner\",\"difficulty\",\"unsuccessful\",\"cisco\",\"defect\",\"reader\",\"lunch\",\"centre\",\"punch\",\"posting\",\"carry\",\"ora\",\"bulk\",\"dir\",\"as\",\"dan\",\"vh\",\"supplier\",\"siemens\",\"ewewx\",\"pose\",\"miro\",\"automate\",\"nxd\",\"eagw\",\"absolutely\",\"designer\",\"into\",\"sm\",\"feel\",\"june\",\"newly\",\"reimbursement\",\"partial\",\"correction\",\"anyway\",\"cd\",\"bf\",\"mgr\",\"history\",\"participant\",\"force\",\"tape\",\"research\",\"sabrthy\",\"swap\",\"tess\",\"d\",\"vfx\",\"panel\",\"markhty\",\"ba\",\"snapshot\",\"nicrhty\",\"erirtc\",\"snip\",\"usaed\",\"ea\",\"saver\",\"universal\",\"actually\",\"authority\",\"google\",\"smtp\",\"cvd\",\"together\",\"while\",\"fault\",\"prt\",\"movement\",\"nop\",\"dce\",\"certify\",\"easy\",\"thomklmas\",\"cec\",\"attend\",\"tologin\",\"victim\",\"execution\",\"srinfhyath\",\"dv\",\"attack\",\"shutdown\",\"ansi\",\"reimage\",\"usage\",\"ru\",\"relationship\",\"oneteam\",\"common\",\"jul\",\"misconfigure\",\"zdsxmcwu\",\"abende\",\"karaffa\",\"calculation\",\"srv\",\"accessible\",\"trace\",\"scratch\",\"scrap\",\"hxgayczeed\",\"dispatch\",\"acknowledgement\",\"parent\",\"inspection\",\"prospect\",\"await\",\"behavior\",\"sfb\",\"everytime\",\"publish\",\"otc\",\"sn\",\"dialog\",\"ftp\",\"lmsl\",\"updation\",\"optiplex\",\"memo\",\"mam\",\"by\",\"through\",\"temporary\",\"meter\",\"ewel\",\"auditor\",\"purchasingupstreamsso\",\"samaccountname\",\"xjhpznds\",\"odbc\",\"aidl\",\"hd\",\"repeatedly\",\"erro\",\"otherwise\",\"uwe\",\"workplace\",\"rrc\",\"trail\",\"shopfloor\",\"balancing\",\"encrypt\",\"pre\",\"central\",\"logistic\",\"indexing\",\"morning\",\"expedite\",\"pcs\",\"calculator\",\"dv\\u02c6zlettel\",\"rmt\",\"synch\",\"corrupt\",\"tooling\",\"almost\",\"thus\",\"variant\",\"letter\",\"bitte\",\"sie\",\"air\",\"hu\",\"physical\",\"zsd\",\"circle\",\"greatly\",\"color\",\"csd\",\"ha\",\"precision\",\"construct\",\"turkey\",\"invoicing\",\"evhw\",\"pro\",\"exception\",\"hash\",\"ui\",\"capacity\",\"severity\",\"sk\",\"liable\",\"bay\",\"remember\",\"rr\",\"launcher\",\"bob\",\"combination\",\"su\",\"earthwork\",\"ground\",\"duty\",\"fu\",\"ecs\",\"late\",\"sridthshar\",\"herytur\",\"pradyhtueep\",\"yyufs\",\"fmxcnwpu\",\"tcwrdqboinition\",\"timeout\",\"regardless\",\"sim\",\"briefly\",\"deal\",\"gtehdnyu\",\"trurthyuft\",\"visio\",\"defekt\",\"tier\",\"totally\",\"voucher\",\"validation\",\"blink\",\"connected\",\"allocate\",\"proxy\",\"coat\",\"stuck\",\"presentation\",\"agree\",\"karghyuen\",\"sec\",\"processor\",\"snap\",\"pcl\",\"shall\",\"exclude\",\"inter\",\"why\",\"fca\",\"clarification\",\"gt\",\"dealer\",\"definition\",\"responsibility\",\"compatibility\",\"appointment\",\"timecard\",\"shrugott\",\"tyhuellis\",\"characteristic\",\"kingdom\",\"communicate\",\"incomplete\",\"serious\",\"life\",\"inconvenience\",\"invite\",\"ppt\",\"world\",\"ahead\",\"script\",\"extraction\",\"unauthorised\",\"canada\",\"explain\",\"pack\",\"ipc\",\"commit\",\"former\",\"eastern\",\"nicht\",\"hrb\",\"alive\",\"foreseeexternalip\",\"vendorpriority\",\"isp\",\"furnace\",\"lacw\",\"familiar\",\"direction\",\"compensation\",\"gergryth\",\"cpic\",\"structure\",\"awareness\",\"accompany\",\"exempt\",\"shopping\",\"peer\",\"deploy\",\"gdhyrt\",\"muggftyali\",\"xt\",\"pds\",\"bin\",\"clean\",\"lisbon\",\"anbtr\",\"xf\",\"bluetooth\",\"trade\",\"sl\",\"sproc\",\"compatible\",\"ehs\",\"primarily\",\"germanytially\",\"compromised\",\"individual\",\"isensplant\",\"discover\",\"vulnerable\",\"effectively\",\"choice\",\"exploit\",\"exploitation\",\"constraint\",\"bom\",\"whole\",\"grugermany\",\"deeghyupak\",\"efdl\",\"sab\",\"news\",\"dot\",\"av\",\"quite\",\"screensaver\",\"historically\",\"epmap\",\"mapper\",\"locator\",\"datagramdnty\",\"smb\",\"ebhsm\",\"callie\",\"pollaurido\",\"tor\",\"thdjzolwronization\",\"palo\",\"patch\",\"integrity\",\"icmp\",\"srcassetofinterest\",\"xed\",\"scm\",\"mx\",\"bda\",\"gain\",\"expert\",\"cs\",\"outbox\",\"acrobat\",\"rom\",\"shi\",\"educate\",\"acc\",\"guide\",\"insurance\",\"receiver\",\"troubleshooting\",\"jan\",\"babiluntr\",\"eagl\",\"layer\",\"flicker\",\"cnc\",\"shortcut\",\"invitation\",\"am\",\"land\",\"soft\",\"freezing\",\"vsp\",\"alakrisyuhnyrtn\",\"collegue\",\"too\",\"consulting\",\"above\",\"poncacity\",\"cyber\",\"fr\",\"ii\",\"lowercase\",\"november\",\"topic\",\"jump\",\"bug\",\"spot\",\"transportation\",\"approximately\",\"csqe\",\"infonet\",\"perhaps\",\"mi\",\"vb\",\"anyone\",\"toold\",\"corp\",\"wzs\",\"fast\",\"portion\",\"vat\",\"documentation\",\"suite\",\"del\",\"implementation\",\"class\",\"roboworker\",\"city\",\"rmb\",\"console\",\"cantabria\",\"stat\",\"weight\",\"nice\",\"lagp\",\"networking\",\"used\",\"coast\",\"train\",\"cpp\",\"programdntym\",\"legal\",\"wild\",\"gentleman\",\"restriction\",\"projector\",\"commstorage\",\"prepare\",\"representative\",\"sha\",\"jet\",\"row\",\"backorder\",\"tim\",\"qs\",\"cursor\",\"manipulate\",\"partially\",\"max\",\"apple\",\"troubleshoot\",\"servers\",\"dabhruji\",\"receiving\",\"brand\",\"freundlichem\",\"planning\",\"loaner\",\"offer\",\"transmission\",\"analyze\",\"mtb\",\"adaptor\",\"elengineere\",\"un\",\"lrrsm\",\"generirtc\",\"popup\",\"obtain\",\"awb\",\"authorisation\",\"verification\",\"rj\",\"intermittently\",\"workgroup\",\"nov\",\"random\",\"petrghada\",\"trainer\",\"nathyresh\",\"oa\",\"rs\",\"bakyhr\",\"huhuyghe\",\"christgry\",\"knock\",\"regularly\",\"bhayhtrathramdnty\",\"mamilujli\",\"asst\",\"markhtye\",\"numerirtcal\",\"pur\",\"suhtnhdyio\",\"extent\",\"parkeyhrt\",\"jeffrghryey\",\"erkheim\",\"construction\",\"ir\",\"keyhtyvin\",\"toriaytun\",\"reduce\",\"front\",\"mismatch\",\"vvamrtryot\",\"reg\",\"flap\",\"npr\",\"ron\",\"more\",\"rzucjgvp\",\"ioqjgmah\",\"jdamieul\",\"fandyhgg\",\"vf\",\"character\",\"keyboard\",\"resale\",\"man\",\"wonder\",\"hrs\",\"hxgayczee\",\"reconciliation\",\"hotel\",\"toolcal\",\"mess\",\"correspondence\",\"checking\",\"printout\",\"indication\",\"favorite\",\"il\",\"buyer\",\"nyifqpmv\",\"kfirxjag\",\"copier\",\"failagain\",\"territory\",\"sufficient\",\"hello\\u00f6\",\"facilities\",\"prtqv\",\"tone\",\"workbook\",\"detection\",\"cust\",\"finding\",\"taiwan\",\"oss\",\"vv\",\"survey\",\"wrench\",\"earliest\",\"jb\",\"delta\",\"qiantang\",\"xin\",\"shanghai\",\"postal\",\"drill\",\"settle\",\"risk\",\"manjgtiry\",\"con\",\"cloud\",\"hsh\",\"aqihfoly\",\"xsrkthvf\",\"bls\",\"embed\",\"productivity\",\"bcd\",\"tom\",\"executable\",\"downloader\",\"xe\",\"lhql\",\"refererproxycorrelationurl\",\"vendoreventid\",\"tcpflag\",\"inlineaction\",\"globalproxycorrelationurl\",\"vendorversion\",\"element\",\"massive\",\"claim\",\"settlement\",\"edi\",\"liuytre\",\"udp\",\"noris\",\"watch\",\"segment\",\"realize\",\"suggestion\",\"able\",\"se\",\"environmental\",\"caution\",\"sole\",\"destrtgoy\",\"cart\",\"revise\",\"effort\",\"undeliverable\",\"txt\",\"selector\",\"lu\",\"ft\",\"val\",\"crosscomp\",\"posrt\",\"showing\",\"proposal\",\"smxoklny\",\"hbecskgl\",\"shathyra\",\"authorized\",\"produce\",\"coating\",\"csscdrill\",\"au\",\"cde\",\"cont\",\"ent\",\"xsso\",\"encoding\",\"foreign\",\"concerned\",\"campaign\",\"slowness\",\"hnynhsth\",\"jsuyhwssad\",\"xjhpznd\",\"rod\",\"es\",\"cn\",\"php\",\"scenario\",\"wlan\",\"workshop\",\"onsite\",\"dscsag\",\"zigioachstyac\",\"attachement\",\"indonesia\",\"pvd\",\"jashyht\",\"apul\",\"ita\",\"milano\",\"examine\",\"translate\",\"assigning\",\"easily\",\"certainly\",\"additionally\",\"dmz\",\"cve\",\"grid\",\"leverage\",\"urlencoded\",\"editor\",\"fact\",\"king\",\"rn\",\"apparently\",\"digital\",\"estorage\",\"productly\",\"imts\",\"respective\",\"orange\",\"erpstartsrv\",\"meantime\",\"zcor\",\"tip\",\"malaysia\",\"productive\",\"bokrgadu\",\"euobrlcn\",\"ctu\",\"intern\",\"paycheck\",\"pptx\",\"koenigsee\",\"dsccache\",\"flags\",\"syn\",\"macro\",\"iid\",\"ar\",\"vs\",\"wh\",\"lhqwx\",\"kt\",\"anonymize\",\"holiday\",\"fall\",\"assurance\",\"folk\",\"wanrtyg\",\"cutview\",\"franhtyu\",\"eight\",\"article\",\"echo\",\"tooldcvcgenratn\",\"filename\",\"uidgt\",\"flat\",\"versions\",\"reputation\",\"intrusion\",\"prevention\",\"eraser\",\"revocation\",\"sonar\",\"dsthostname\",\"xwbesorf\",\"dhcp\",\"guess\",\"care\",\"initiative\",\"abc\",\"al\",\"campus\",\"tm\",\"api\",\"bapi\",\"expiry\",\"roll\",\"waste\",\"mms\",\"apart\",\"pozna\",\"enhance\",\"wtqdyoin\",\"house\",\"prs\",\"both\",\"misplaced\",\"commercial\",\"ipbl\",\"beshryuliste\",\"uploading\",\"very\",\"wherein\",\"entrie\",\"beamer\",\"ware\",\"sandplant\",\"preserve\",\"ownership\",\"overall\",\"fully\",\"acceptance\",\"vksfrhdx\",\"njhaqket\",\"hint\",\"ksem\",\"globalengservice\",\"ia\",\"ransomware\",\"badge\",\"beginning\",\"before\",\"explore\",\"daylight\",\"saving\",\"crack\",\"hz\",\"mount\",\"ost\",\"automation\",\"develop\",\"music\",\"bwdpmbkp\",\"interruption\",\"ctc\",\"refuse\",\"commodity\",\"ethics\",\"emsw\",\"applications\",\"shared\",\"merdivan\",\"sinc\\u00ebre\",\"salutation\",\"eps\",\"kentip\",\"zheqafyo\",\"bqirpxag\",\"fence\",\"april\",\"modem\",\"sub\",\"guy\",\"off\",\"pasword\",\"iten\",\"qc\",\"cubicle\",\"corpbusinessdev\",\"whose\",\"capability\",\"leiter\",\"money\",\"configurator\",\"ibm\",\"pwr\",\"hmc\",\"mecftgobusa\",\"kenci\",\"iak\",\"wire\",\"attached\",\"scheduling\",\"stage\",\"interns\",\"west\",\"polycom\",\"fert\",\"holemake\",\"mex\",\"gray\",\"ear\",\"fp\",\"lady\",\"pin\",\"pweaver\",\"string\",\"glovia\",\"reinstate\",\"submittal\",\"bernardo\",\"campo\",\"edksm\",\"pray\",\"ups\",\"aplication\",\"court\",\"harald\",\"nnlein\",\"rar\",\"den\",\"hop\",\"intelligence\",\"msoffice\",\"formatheywte\",\"aspx\",\"nda\",\"exceed\",\"configured\",\"giuliasana\",\"byhdderni\",\"mat\",\"infostand\",\"quota\",\"lync\",\"graphic\",\"express\",\"ver\",\"bld\",\"psf\",\"zaf\",\"hire\",\"blocker\",\"archived\",\"tomashtgd\",\"mchectg\",\"itclukpe\",\"aimcfeko\",\"attention\",\"exec\",\"vc\",\"phishing\",\"fjaqbgnld\",\"yukdzwxs\",\"ramdntyassthywamy\",\"produktion\",\"pethrywr\",\"alt\",\"maryhtutina\",\"bauuyternfeyt\",\"gayhtjula\",\"mu\",\"danyhuie\",\"deyhtwet\",\"randomly\",\"property\",\"counsel\",\"migo\",\"zkwfqagbs\",\"closing\",\"mgmt\",\"lalthy\",\"vivthyek\",\"byuihand\",\"hotline\",\"li\",\"std\",\"vga\",\"solid\",\"bwhrertran\",\"psfshytd\",\"numerous\",\"doug\",\"systems\",\"afe\",\"black\",\"prtqi\",\"malfunction\",\"gokcerthy\",\"lt\",\"eva\",\"azm\",\"edksw\",\"javascript\",\"safety\",\"dialing\",\"unchecked\",\"photo\",\"iom\",\"chassis\",\"dob\",\"thrgxqsuojr\",\"tracert\",\"vsphere\",\"eagcutview\",\"virakv\",\"reachable\",\"dsc\",\"unreachable\",\"hierarchy\",\"pathuick\",\"march\",\"geoyhurg\",\"chriuimjiann\",\"compare\",\"bi\",\"charm\",\"wrongly\",\"vtykrubi\",\"whsipqno\",\"shesyhur\",\"wise\",\"managing\",\"sls\",\"left\",\"pulverleitstand\",\"abend\",\"config\",\"hrt\",\"st\\u02c6hr\",\"wothyehre\",\"oh\",\"pressure\",\"understanding\",\"symbol\",\"stream\",\"schlumhdyhter\",\"will\",\"closed\",\"apps\",\"ebus\",\"sind\",\"bunch\",\"fellow\",\"cash\",\"xhaomnjl\",\"ctusaqpr\",\"spool\",\"clearly\",\"anybody\",\"executive\",\"accordance\",\"spend\",\"scorecard\",\"erathyur\",\"smartphone\",\"vmware\",\"der\",\"aus\",\"originally\",\"ethical\",\"sipppr\",\"these\",\"estimate\",\"wish\",\"qwsjptlo\",\"krisyuhnyrt\",\"strange\",\"massage\",\"poor\",\"oprbatch\",\"consign\",\"tommyth\",\"duyhurmont\",\"eject\",\"grey\",\"excellence\",\"mwst\",\"qualify\",\"dardabthyr\",\"sun\",\"fengxian\",\"district\",\"chen\",\"qiao\",\"liu\",\"companycenter\",\"ot\",\"clhqsm\",\"alrthyu\",\"toolonic\",\"kvp\",\"panghyiraj\",\"shthuihog\",\"beschichtungsleitstand\",\"handheld\",\"gj\",\"operating\",\"knethyen\",\"grechduy\",\"mae\",\"smhdyhti\",\"haunm\",\"raw\",\"schtrtgoyht\",\"basic\",\"ssen\",\"inconsistent\",\"street\",\"bare\",\"xref\",\"foreseedstipgeo\",\"nld\",\"srcmacaddress\",\"bucket\",\"woman\",\"bridgex\",\"atp\",\"safrgyynjit\",\"disconnecting\",\"dg\",\"zno\",\"christgrytoph\",\"ti\",\"miiadmin\",\"weird\",\"sense\",\"accout\",\"nightly\",\"defender\",\"village\",\"required\",\"aes\",\"references\",\"yb\",\"vw\",\"cm\",\"planet\",\"earth\",\"les\",\"olympus\",\"sebfghkasthian\",\"tempuser\",\"layout\",\"recieve\",\"ghkkytu\",\"tempo\",\"rarily\",\"tml\",\"cook\",\"doma\",\"gzip\",\"abb\",\"banking\",\"oe\",\"closet\",\"usx\",\"chandruhdty\",\"xp\",\"ytd\",\"adjustment\",\"programdntya\",\"docad\",\"ebusiness\",\"msie\",\"xb\",\"invest\",\"organisation\",\"nobody\",\"estate\",\"sethdyr\",\"hdtyr\",\"opposite\",\"fiber\",\"restoration\",\"excise\",\"pthsqroz\",\"moedyanvess\",\"doe\",\"charger\",\"shed\",\"reconnect\",\"coworker\",\"dallas\",\"rm\",\"branch\",\"sinkholes\",\"false\",\"enforcement\",\"mitigation\",\"curious\",\"hierarchical\",\"naming\",\"entity\",\"locating\",\"authoritative\",\"subdomain\",\"hole\",\"routable\",\"logs\",\"somewhat\",\"benign\",\"ramdntyification\",\"leakage\",\"unlikely\",\"identifiable\",\"reputational\",\"beshryulist\",\"impede\",\"fea\",\"four\",\"simple\",\"smart\",\"corresponding\",\"toner\",\"mic\",\"infotype\",\"gthydanp\",\"lack\",\"injection\",\"running\",\"relatively\",\"cms\",\"zw\",\"lid\",\"dt\",\"but\",\"raghyvhdra\",\"najuty\",\"aborting\",\"zload\",\"nieghjyukea\",\"italy\",\"gf\",\"behind\",\"mti\",\"vbda\",\"stanfghyley\",\"guhtyke\",\"fmp\",\"tonight\",\"mandatory\",\"ghjkzalez\",\"abstechprogramdntym\",\"february\",\"earbud\",\"rabhtui\",\"zedlet\",\"january\",\"wear\",\"homburg\",\"junior\",\"contractor\",\"unlocking\",\"lhbsm\",\"leader\",\"emporarily\",\"serv\",\"over\",\"contribute\",\"oc\",\"implement\",\"eligibility\",\"nter\",\"gecko\",\"modific\",\"bur\",\"gap\",\"hebrew\",\"lmxl\",\"simfghon\",\"apologize\",\"aghynil\",\"formatheywting\",\"grinding\",\"dump\",\"khrtyujuine\",\"adoption\",\"cube\",\"presence\",\"vpns\",\"registry\",\"dnc\",\"danghtnuell\",\"rdp\",\"homepage\",\"lbdw\",\"matghyuthdw\",\"vk\",\"jc\",\"edml\",\"radiant\",\"phr\",\"uperform\",\"treat\",\"mercedes\",\"benz\",\"caas\",\"pogredrty\",\"reconnaissance\",\"discovery\",\"hartbearbeitung\",\"cord\",\"globalview\",\"tru\",\"projekte\",\"jusfrttin\",\"gtehdnyuerrf\",\"debgrtybie\",\"savgrtyuille\",\"svc\",\"msfc\",\"domestic\",\"international\",\"affiliate\",\"definitely\",\"sc\",\"suhrhtyju\",\"migration\",\"disturb\",\"vmax\",\"filesystem\",\"mswineventlog\",\"mmaster\",\"infoblox\",\"mss\",\"deposit\",\"andrdgrtew\",\"typ\",\"daghyunny\",\"kds\",\"santiago\",\"zcnc\",\"olibercsu\",\"sbinuxja\",\"vtbegcho\",\"nicolmghyu\",\"docx\",\"division\",\"rak\",\"gncpezhx\",\"hopqcvza\",\"wilsfgtjl\"],\"x_coord\":{\"__ndarray__\":\"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\",\"dtype\":\"float32\",\"shape\":[3135]},\"y_coord\":{\"__ndarray__\":\"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\",\"dtype\":\"float32\",\"shape\":[3135]}},\"selected\":{\"id\":\"1055\",\"type\":\"Selection\"},\"selection_policy\":{\"id\":\"1054\",\"type\":\"UnionRenderers\"}},\"id\":\"1002\",\"type\":\"ColumnDataSource\"},{\"attributes\":{\"active_drag\":\"auto\",\"active_inspect\":\"auto\",\"active_multi\":null,\"active_scroll\":{\"id\":\"1025\",\"type\":\"WheelZoomTool\"},\"active_tap\":\"auto\",\"tools\":[{\"id\":\"1024\",\"type\":\"PanTool\"},{\"id\":\"1025\",\"type\":\"WheelZoomTool\"},{\"id\":\"1026\",\"type\":\"BoxZoomTool\"},{\"id\":\"1027\",\"type\":\"BoxSelectTool\"},{\"id\":\"1028\",\"type\":\"ResetTool\"},{\"id\":\"1039\",\"type\":\"HoverTool\"}]},\"id\":\"1029\",\"type\":\"Toolbar\"},{\"attributes\":{},\"id\":\"1024\",\"type\":\"PanTool\"},{\"attributes\":{\"fill_alpha\":{\"value\":0.1},\"fill_color\":{\"value\":\"blue\"},\"line_alpha\":{\"value\":0.2},\"line_color\":{\"value\":\"blue\"},\"size\":{\"units\":\"screen\",\"value\":10},\"x\":{\"field\":\"x_coord\"},\"y\":{\"field\":\"y_coord\"}},\"id\":\"1042\",\"type\":\"Circle\"},{\"attributes\":{},\"id\":\"1025\",\"type\":\"WheelZoomTool\"},{\"attributes\":{\"overlay\":{\"id\":\"1031\",\"type\":\"BoxAnnotation\"}},\"id\":\"1026\",\"type\":\"BoxZoomTool\"},{\"attributes\":{},\"id\":\"1054\",\"type\":\"UnionRenderers\"},{\"attributes\":{\"plot\":null,\"text\":\"t-SNE Word Embeddings\",\"text_font_size\":{\"value\":\"16pt\"}},\"id\":\"1003\",\"type\":\"Title\"},{\"attributes\":{\"callback\":null,\"overlay\":{\"id\":\"1034\",\"type\":\"BoxAnnotation\"}},\"id\":\"1027\",\"type\":\"BoxSelectTool\"},{\"attributes\":{\"callback\":null},\"id\":\"1006\",\"type\":\"DataRange1d\"},{\"attributes\":{},\"id\":\"1028\",\"type\":\"ResetTool\"},{\"attributes\":{\"callback\":null,\"tooltips\":\"@word\"},\"id\":\"1039\",\"type\":\"HoverTool\"},{\"attributes\":{\"bottom_units\":\"screen\",\"fill_alpha\":{\"value\":0.5},\"fill_color\":{\"value\":\"lightgrey\"},\"left_units\":\"screen\",\"level\":\"overlay\",\"line_alpha\":{\"value\":1.0},\"line_color\":{\"value\":\"black\"},\"line_dash\":[4,4],\"line_width\":{\"value\":2},\"plot\":null,\"render_mode\":\"css\",\"right_units\":\"screen\",\"top_units\":\"screen\"},\"id\":\"1031\",\"type\":\"BoxAnnotation\"},{\"attributes\":{\"callback\":null},\"id\":\"1008\",\"type\":\"DataRange1d\"},{\"attributes\":{\"bottom_units\":\"screen\",\"fill_alpha\":{\"value\":0.5},\"fill_color\":{\"value\":\"lightgrey\"},\"left_units\":\"screen\",\"level\":\"overlay\",\"line_alpha\":{\"value\":1.0},\"line_color\":{\"value\":\"black\"},\"line_dash\":[4,4],\"line_width\":{\"value\":2},\"plot\":null,\"render_mode\":\"css\",\"right_units\":\"screen\",\"top_units\":\"screen\"},\"id\":\"1034\",\"type\":\"BoxAnnotation\"},{\"attributes\":{},\"id\":\"1010\",\"type\":\"LinearScale\"},{\"attributes\":{\"fill_alpha\":{\"value\":0.1},\"fill_color\":{\"value\":\"#1f77b4\"},\"line_alpha\":{\"value\":0.1},\"line_color\":{\"value\":\"#1f77b4\"},\"size\":{\"units\":\"screen\",\"value\":10},\"x\":{\"field\":\"x_coord\"},\"y\":{\"field\":\"y_coord\"}},\"id\":\"1043\",\"type\":\"Circle\"},{\"attributes\":{},\"id\":\"1012\",\"type\":\"LinearScale\"},{\"attributes\":{\"fill_color\":{\"value\":\"#1f77b4\"},\"size\":{\"units\":\"screen\",\"value\":10},\"x\":{\"field\":\"x_coord\"},\"y\":{\"field\":\"y_coord\"}},\"id\":\"1044\",\"type\":\"Circle\"},{\"attributes\":{\"formatter\":{\"id\":\"1048\",\"type\":\"BasicTickFormatter\"},\"plot\":{\"id\":\"1004\",\"subtype\":\"Figure\",\"type\":\"Plot\"},\"ticker\":{\"id\":\"1015\",\"type\":\"BasicTicker\"},\"visible\":false},\"id\":\"1014\",\"type\":\"LinearAxis\"},{\"attributes\":{\"data_source\":{\"id\":\"1002\",\"type\":\"ColumnDataSource\"},\"glyph\":{\"id\":\"1042\",\"type\":\"Circle\"},\"hover_glyph\":{\"id\":\"1044\",\"type\":\"Circle\"},\"muted_glyph\":null,\"nonselection_glyph\":{\"id\":\"1043\",\"type\":\"Circle\"},\"selection_glyph\":null,\"view\":{\"id\":\"1046\",\"type\":\"CDSView\"}},\"id\":\"1045\",\"type\":\"GlyphRenderer\"},{\"attributes\":{},\"id\":\"1015\",\"type\":\"BasicTicker\"},{\"attributes\":{\"source\":{\"id\":\"1002\",\"type\":\"ColumnDataSource\"}},\"id\":\"1046\",\"type\":\"CDSView\"},{\"attributes\":{},\"id\":\"1048\",\"type\":\"BasicTickFormatter\"},{\"attributes\":{\"grid_line_color\":{\"value\":null},\"plot\":{\"id\":\"1004\",\"subtype\":\"Figure\",\"type\":\"Plot\"},\"ticker\":{\"id\":\"1015\",\"type\":\"BasicTicker\"}},\"id\":\"1018\",\"type\":\"Grid\"},{\"attributes\":{},\"id\":\"1050\",\"type\":\"BasicTickFormatter\"},{\"attributes\":{\"formatter\":{\"id\":\"1050\",\"type\":\"BasicTickFormatter\"},\"plot\":{\"id\":\"1004\",\"subtype\":\"Figure\",\"type\":\"Plot\"},\"ticker\":{\"id\":\"1020\",\"type\":\"BasicTicker\"},\"visible\":false},\"id\":\"1019\",\"type\":\"LinearAxis\"}],\"root_ids\":[\"1004\"]},\"title\":\"Bokeh Application\",\"version\":\"1.0.4\"}};\n",
       "  var render_items = [{\"docid\":\"91c39957-dbbf-4de6-a23c-ffe1dae323d3\",\"roots\":{\"1004\":\"8c27b8b0-c8d1-4e99-9379-b9ffa757ef44\"}}];\n",
       "  root.Bokeh.embed.embed_items_notebook(docs_json, render_items);\n",
       "\n",
       "  }\n",
       "  if (root.Bokeh !== undefined) {\n",
       "    embed_document(root);\n",
       "  } else {\n",
       "    var attempts = 0;\n",
       "    var timer = setInterval(function(root) {\n",
       "      if (root.Bokeh !== undefined) {\n",
       "        embed_document(root);\n",
       "        clearInterval(timer);\n",
       "      }\n",
       "      attempts++;\n",
       "      if (attempts > 100) {\n",
       "        console.log(\"Bokeh: ERROR: Unable to run BokehJS code because BokehJS library is missing\");\n",
       "        clearInterval(timer);\n",
       "      }\n",
       "    }, 10, root)\n",
       "  }\n",
       "})(window);"
      ],
      "application/vnd.bokehjs_exec.v0+json": ""
     },
     "metadata": {
      "application/vnd.bokehjs_exec.v0+json": {
       "id": "1004"
      }
     },
     "output_type": "display_data"
    }
   ],
   "source": [
    "# add our DataFrame as a ColumnDataSource for Bokeh\n",
    "plot_data = ColumnDataSource(tsne_vectors1)\n",
    "\n",
    "# create the plot and configure the\n",
    "# title, dimensions, and tools\n",
    "tsne_plot = figure(title='t-SNE Word Embeddings',\n",
    "                   plot_width = 800,\n",
    "                   plot_height = 800,\n",
    "                   tools= ('pan, wheel_zoom, box_zoom,'\n",
    "                           'box_select, reset'),\n",
    "                   active_scroll='wheel_zoom')\n",
    "tsne_plot.add_tools( HoverTool(tooltips = '@word') )\n",
    "# draw the words as circles on the plot\n",
    "tsne_plot.circle('x_coord', 'y_coord', source=plot_data,\n",
    "                 color='blue', line_alpha=0.2, fill_alpha=0.1,\n",
    "                 size=10, hover_line_color='black')\n",
    "\n",
    "# configure visual elements of the plot\n",
    "tsne_plot.title.text_font_size = value(u'16pt')\n",
    "tsne_plot.xaxis.visible = False\n",
    "tsne_plot.yaxis.visible = False\n",
    "tsne_plot.grid.grid_line_color = None\n",
    "tsne_plot.outline_line_color = None\n",
    "\n",
    "# engage!\n",
    "show(tsne_plot);"
   ]
  },
  {
   "cell_type": "markdown",
   "metadata": {},
   "source": [
    "# Modeling with Word2Vec"
   ]
  },
  {
   "cell_type": "code",
   "execution_count": 282,
   "metadata": {},
   "outputs": [],
   "source": [
    "# Load the Word2Vec model\n",
    "wmodel = Doc2Vec.load('word2vec.mdl')"
   ]
  },
  {
   "cell_type": "code",
   "execution_count": 283,
   "metadata": {},
   "outputs": [
    {
     "name": "stdout",
     "output_type": "stream",
     "text": [
      "Vocabulary Size: 3135 - Embedding Dim: 8000\n"
     ]
    }
   ],
   "source": [
    "w2v_weights = wmodel.wv.vectors\n",
    "vocab_size, embedding_size = w2v_weights.shape\n",
    "print(\"Vocabulary Size: {} - Embedding Dim: {}\".format(vocab_size, embedding_size))"
   ]
  },
  {
   "cell_type": "code",
   "execution_count": 286,
   "metadata": {},
   "outputs": [
    {
     "name": "stdout",
     "output_type": "stream",
     "text": [
      "WARNING:tensorflow:From C:\\ProgramData\\Anaconda3\\lib\\site-packages\\tensorflow\\python\\keras\\backend.py:3794: add_dispatch_support.<locals>.wrapper (from tensorflow.python.ops.array_ops) is deprecated and will be removed in a future version.\n",
      "Instructions for updating:\n",
      "Use tf.where in 2.0, which has the same broadcast rule as np.where\n",
      "Model: \"sequential_4\"\n",
      "_________________________________________________________________\n",
      "Layer (type)                 Output Shape              Param #   \n",
      "=================================================================\n",
      "embedding_4 (Embedding)      (None, 100, 8000)         25080000  \n",
      "_________________________________________________________________\n",
      "spatial_dropout1d_3 (Spatial (None, 100, 8000)         0         \n",
      "_________________________________________________________________\n",
      "bidirectional_4 (Bidirection (None, 100, 256)          8324096   \n",
      "_________________________________________________________________\n",
      "bidirectional_5 (Bidirection (None, 128)               164352    \n",
      "_________________________________________________________________\n",
      "dropout_2 (Dropout)          (None, 128)               0         \n",
      "_________________________________________________________________\n",
      "dense_2 (Dense)              (None, 36)                4644      \n",
      "=================================================================\n",
      "Total params: 33,573,092\n",
      "Trainable params: 8,493,092\n",
      "Non-trainable params: 25,080,000\n",
      "_________________________________________________________________\n",
      "None\n"
     ]
    }
   ],
   "source": [
    "# CREATE the MODEL\n",
    "\n",
    "# Samples of categories with less than this number of samples will be ignored\n",
    "DROP_THRESHOLD = 10000\n",
    "model_wv = Sequential()\n",
    "model_wv.add(Embedding(input_dim=vocab_size, \n",
    "                        output_dim=embedding_size, \n",
    "                        weights=[w2v_weights], \n",
    "                        input_length=maxlen, \n",
    "                        mask_zero=True,\n",
    "                        trainable=False))\n",
    "model_wv.add(SpatialDropout1D(0.2))\n",
    "model_wv.add(Bidirectional(LSTM(128, return_sequences=True)))\n",
    "model_wv.add(Bidirectional(LSTM(64)))\n",
    "model_wv.add(Dropout(0.25))\n",
    "#model.add(Dense(units=2, activation='sigmoid')) # found softmax to work better\n",
    "model_wv.add(Dense(units=36, activation='softmax'))\n",
    "model_wv.compile(loss = 'categorical_crossentropy', optimizer='adam',metrics = ['accuracy'])\n",
    "print(model_wv.summary())"
   ]
  },
  {
   "cell_type": "code",
   "execution_count": 287,
   "metadata": {},
   "outputs": [
    {
     "name": "stdout",
     "output_type": "stream",
     "text": [
      "Train on 5440 samples, validate on 1360 samples\n",
      "Epoch 1/20\n",
      "5440/5440 [==============================] - 279s 51ms/step - loss: 2.1443 - accuracy: 0.5267 - val_loss: 2.0033 - val_accuracy: 0.5404\n",
      "Epoch 2/20\n",
      "5440/5440 [==============================] - 342s 63ms/step - loss: 1.9164 - accuracy: 0.5443 - val_loss: 1.8850 - val_accuracy: 0.5346\n",
      "Epoch 3/20\n",
      "5440/5440 [==============================] - 343s 63ms/step - loss: 1.8500 - accuracy: 0.5441 - val_loss: 1.8526 - val_accuracy: 0.5522\n",
      "Epoch 4/20\n",
      "5440/5440 [==============================] - 343s 63ms/step - loss: 1.7951 - accuracy: 0.5517 - val_loss: 1.7559 - val_accuracy: 0.5551\n",
      "Epoch 5/20\n",
      "5440/5440 [==============================] - 343s 63ms/step - loss: 1.7430 - accuracy: 0.5570 - val_loss: 1.7333 - val_accuracy: 0.5515\n",
      "Epoch 6/20\n",
      "5440/5440 [==============================] - 344s 63ms/step - loss: 1.7144 - accuracy: 0.5608 - val_loss: 1.6965 - val_accuracy: 0.5640\n",
      "Epoch 7/20\n",
      "5440/5440 [==============================] - 344s 63ms/step - loss: 1.6759 - accuracy: 0.5654 - val_loss: 1.6671 - val_accuracy: 0.5676\n",
      "Epoch 8/20\n",
      "5440/5440 [==============================] - 344s 63ms/step - loss: 1.6577 - accuracy: 0.5706 - val_loss: 1.6635 - val_accuracy: 0.5728\n",
      "Epoch 9/20\n",
      "5440/5440 [==============================] - 344s 63ms/step - loss: 1.6265 - accuracy: 0.5704 - val_loss: 1.6427 - val_accuracy: 0.5684\n",
      "Epoch 10/20\n",
      "5440/5440 [==============================] - 345s 63ms/step - loss: 1.6016 - accuracy: 0.5778 - val_loss: 1.6792 - val_accuracy: 0.5750\n",
      "Epoch 11/20\n",
      "3400/5440 [=================>............] - ETA: 1:53 - loss: 1.5775 - accuracy: 0.5806"
     ]
    },
    {
     "ename": "KeyboardInterrupt",
     "evalue": "",
     "output_type": "error",
     "traceback": [
      "\u001b[1;31m---------------------------------------------------------------------------\u001b[0m",
      "\u001b[1;31mKeyboardInterrupt\u001b[0m                         Traceback (most recent call last)",
      "\u001b[1;32m<ipython-input-287-4aa8b238a7e6>\u001b[0m in \u001b[0;36m<module>\u001b[1;34m\u001b[0m\n\u001b[0;32m      1\u001b[0m \u001b[0mbatch_size\u001b[0m \u001b[1;33m=\u001b[0m \u001b[1;36m100\u001b[0m\u001b[1;33m\u001b[0m\u001b[1;33m\u001b[0m\u001b[0m\n\u001b[0;32m      2\u001b[0m \u001b[0mepochs\u001b[0m \u001b[1;33m=\u001b[0m \u001b[1;36m20\u001b[0m\u001b[1;33m\u001b[0m\u001b[1;33m\u001b[0m\u001b[0m\n\u001b[1;32m----> 3\u001b[1;33m \u001b[0mhistory\u001b[0m \u001b[1;33m=\u001b[0m \u001b[0mmodel_wv\u001b[0m\u001b[1;33m.\u001b[0m\u001b[0mfit\u001b[0m\u001b[1;33m(\u001b[0m\u001b[0mX_train\u001b[0m\u001b[1;33m,\u001b[0m \u001b[0my_train\u001b[0m\u001b[1;33m,\u001b[0m \u001b[0mepochs\u001b[0m\u001b[1;33m=\u001b[0m\u001b[0mepochs\u001b[0m\u001b[1;33m,\u001b[0m \u001b[0mbatch_size\u001b[0m\u001b[1;33m=\u001b[0m\u001b[0mbatch_size\u001b[0m\u001b[1;33m,\u001b[0m \u001b[0mverbose\u001b[0m\u001b[1;33m=\u001b[0m\u001b[1;36m1\u001b[0m\u001b[1;33m,\u001b[0m \u001b[0mvalidation_split\u001b[0m\u001b[1;33m=\u001b[0m\u001b[1;36m0.2\u001b[0m\u001b[1;33m)\u001b[0m\u001b[1;33m\u001b[0m\u001b[1;33m\u001b[0m\u001b[0m\n\u001b[0m",
      "\u001b[1;32mC:\\ProgramData\\Anaconda3\\lib\\site-packages\\keras\\engine\\training.py\u001b[0m in \u001b[0;36mfit\u001b[1;34m(self, x, y, batch_size, epochs, verbose, callbacks, validation_split, validation_data, shuffle, class_weight, sample_weight, initial_epoch, steps_per_epoch, validation_steps, validation_freq, max_queue_size, workers, use_multiprocessing, **kwargs)\u001b[0m\n\u001b[0;32m   1237\u001b[0m                                         \u001b[0msteps_per_epoch\u001b[0m\u001b[1;33m=\u001b[0m\u001b[0msteps_per_epoch\u001b[0m\u001b[1;33m,\u001b[0m\u001b[1;33m\u001b[0m\u001b[1;33m\u001b[0m\u001b[0m\n\u001b[0;32m   1238\u001b[0m                                         \u001b[0mvalidation_steps\u001b[0m\u001b[1;33m=\u001b[0m\u001b[0mvalidation_steps\u001b[0m\u001b[1;33m,\u001b[0m\u001b[1;33m\u001b[0m\u001b[1;33m\u001b[0m\u001b[0m\n\u001b[1;32m-> 1239\u001b[1;33m                                         validation_freq=validation_freq)\n\u001b[0m\u001b[0;32m   1240\u001b[0m \u001b[1;33m\u001b[0m\u001b[0m\n\u001b[0;32m   1241\u001b[0m     def evaluate(self,\n",
      "\u001b[1;32mC:\\ProgramData\\Anaconda3\\lib\\site-packages\\keras\\engine\\training_arrays.py\u001b[0m in \u001b[0;36mfit_loop\u001b[1;34m(model, fit_function, fit_inputs, out_labels, batch_size, epochs, verbose, callbacks, val_function, val_inputs, shuffle, initial_epoch, steps_per_epoch, validation_steps, validation_freq)\u001b[0m\n\u001b[0;32m    194\u001b[0m                     \u001b[0mins_batch\u001b[0m\u001b[1;33m[\u001b[0m\u001b[0mi\u001b[0m\u001b[1;33m]\u001b[0m \u001b[1;33m=\u001b[0m \u001b[0mins_batch\u001b[0m\u001b[1;33m[\u001b[0m\u001b[0mi\u001b[0m\u001b[1;33m]\u001b[0m\u001b[1;33m.\u001b[0m\u001b[0mtoarray\u001b[0m\u001b[1;33m(\u001b[0m\u001b[1;33m)\u001b[0m\u001b[1;33m\u001b[0m\u001b[1;33m\u001b[0m\u001b[0m\n\u001b[0;32m    195\u001b[0m \u001b[1;33m\u001b[0m\u001b[0m\n\u001b[1;32m--> 196\u001b[1;33m                 \u001b[0mouts\u001b[0m \u001b[1;33m=\u001b[0m \u001b[0mfit_function\u001b[0m\u001b[1;33m(\u001b[0m\u001b[0mins_batch\u001b[0m\u001b[1;33m)\u001b[0m\u001b[1;33m\u001b[0m\u001b[1;33m\u001b[0m\u001b[0m\n\u001b[0m\u001b[0;32m    197\u001b[0m                 \u001b[0mouts\u001b[0m \u001b[1;33m=\u001b[0m \u001b[0mto_list\u001b[0m\u001b[1;33m(\u001b[0m\u001b[0mouts\u001b[0m\u001b[1;33m)\u001b[0m\u001b[1;33m\u001b[0m\u001b[1;33m\u001b[0m\u001b[0m\n\u001b[0;32m    198\u001b[0m                 \u001b[1;32mfor\u001b[0m \u001b[0ml\u001b[0m\u001b[1;33m,\u001b[0m \u001b[0mo\u001b[0m \u001b[1;32min\u001b[0m \u001b[0mzip\u001b[0m\u001b[1;33m(\u001b[0m\u001b[0mout_labels\u001b[0m\u001b[1;33m,\u001b[0m \u001b[0mouts\u001b[0m\u001b[1;33m)\u001b[0m\u001b[1;33m:\u001b[0m\u001b[1;33m\u001b[0m\u001b[1;33m\u001b[0m\u001b[0m\n",
      "\u001b[1;32mC:\\ProgramData\\Anaconda3\\lib\\site-packages\\tensorflow\\python\\keras\\backend.py\u001b[0m in \u001b[0;36m__call__\u001b[1;34m(self, inputs)\u001b[0m\n\u001b[0;32m   3290\u001b[0m \u001b[1;33m\u001b[0m\u001b[0m\n\u001b[0;32m   3291\u001b[0m     fetched = self._callable_fn(*array_vals,\n\u001b[1;32m-> 3292\u001b[1;33m                                 run_metadata=self.run_metadata)\n\u001b[0m\u001b[0;32m   3293\u001b[0m     \u001b[0mself\u001b[0m\u001b[1;33m.\u001b[0m\u001b[0m_call_fetch_callbacks\u001b[0m\u001b[1;33m(\u001b[0m\u001b[0mfetched\u001b[0m\u001b[1;33m[\u001b[0m\u001b[1;33m-\u001b[0m\u001b[0mlen\u001b[0m\u001b[1;33m(\u001b[0m\u001b[0mself\u001b[0m\u001b[1;33m.\u001b[0m\u001b[0m_fetches\u001b[0m\u001b[1;33m)\u001b[0m\u001b[1;33m:\u001b[0m\u001b[1;33m]\u001b[0m\u001b[1;33m)\u001b[0m\u001b[1;33m\u001b[0m\u001b[1;33m\u001b[0m\u001b[0m\n\u001b[0;32m   3294\u001b[0m     output_structure = nest.pack_sequence_as(\n",
      "\u001b[1;32mC:\\ProgramData\\Anaconda3\\lib\\site-packages\\tensorflow\\python\\client\\session.py\u001b[0m in \u001b[0;36m__call__\u001b[1;34m(self, *args, **kwargs)\u001b[0m\n\u001b[0;32m   1456\u001b[0m         ret = tf_session.TF_SessionRunCallable(self._session._session,\n\u001b[0;32m   1457\u001b[0m                                                \u001b[0mself\u001b[0m\u001b[1;33m.\u001b[0m\u001b[0m_handle\u001b[0m\u001b[1;33m,\u001b[0m \u001b[0margs\u001b[0m\u001b[1;33m,\u001b[0m\u001b[1;33m\u001b[0m\u001b[1;33m\u001b[0m\u001b[0m\n\u001b[1;32m-> 1458\u001b[1;33m                                                run_metadata_ptr)\n\u001b[0m\u001b[0;32m   1459\u001b[0m         \u001b[1;32mif\u001b[0m \u001b[0mrun_metadata\u001b[0m\u001b[1;33m:\u001b[0m\u001b[1;33m\u001b[0m\u001b[1;33m\u001b[0m\u001b[0m\n\u001b[0;32m   1460\u001b[0m           \u001b[0mproto_data\u001b[0m \u001b[1;33m=\u001b[0m \u001b[0mtf_session\u001b[0m\u001b[1;33m.\u001b[0m\u001b[0mTF_GetBuffer\u001b[0m\u001b[1;33m(\u001b[0m\u001b[0mrun_metadata_ptr\u001b[0m\u001b[1;33m)\u001b[0m\u001b[1;33m\u001b[0m\u001b[1;33m\u001b[0m\u001b[0m\n",
      "\u001b[1;31mKeyboardInterrupt\u001b[0m: "
     ]
    }
   ],
   "source": [
    "batch_size = 100\n",
    "epochs = 20\n",
    "history = model_wv.fit(X_train, y_train, epochs=epochs, batch_size=batch_size, verbose=1, validation_split=0.2)"
   ]
  },
  {
   "cell_type": "code",
   "execution_count": null,
   "metadata": {},
   "outputs": [],
   "source": []
  }
 ],
 "metadata": {
  "kernelspec": {
   "display_name": "Python 3 (ipykernel)",
   "language": "python",
   "name": "python3"
  },
  "language_info": {
   "codemirror_mode": {
    "name": "ipython",
    "version": 3
   },
   "file_extension": ".py",
   "mimetype": "text/x-python",
   "name": "python",
   "nbconvert_exporter": "python",
   "pygments_lexer": "ipython3",
   "version": "3.8.13"
  }
 },
 "nbformat": 4,
 "nbformat_minor": 2
}
