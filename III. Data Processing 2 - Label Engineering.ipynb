{
 "cells": [
  {
   "cell_type": "code",
   "execution_count": 1,
   "id": "1e0f86b0",
   "metadata": {},
   "outputs": [],
   "source": [
    "from gensim.models import Word2Vec\n",
    "import pandas as pd\n",
    "import numpy as np\n",
    "import os\n",
    "import scipy\n",
    "import random\n",
    "import matplotlib.pyplot as plt\n",
    "import seaborn as sns"
   ]
  },
  {
   "cell_type": "code",
   "execution_count": 2,
   "id": "3a856af5",
   "metadata": {},
   "outputs": [],
   "source": [
    "np.random.seed(33)\n",
    "random.seed(33)"
   ]
  },
  {
   "cell_type": "markdown",
   "id": "686bb8cc",
   "metadata": {},
   "source": [
    "### Set up paths"
   ]
  },
  {
   "cell_type": "code",
   "execution_count": 3,
   "id": "9aa631e8",
   "metadata": {},
   "outputs": [],
   "source": [
    "data='DATA'\n",
    "raw_data_folder='RAW_DATA'\n",
    "processed_data_folder='PROCESSED_DATA'\n",
    "word2vec_folder='word2vec'\n",
    "tfid_folder='tfid'\n",
    "final_dict='grp0_dict'"
   ]
  },
  {
   "cell_type": "code",
   "execution_count": 4,
   "id": "8e975374",
   "metadata": {},
   "outputs": [],
   "source": [
    "if data not in os.listdir(os.getcwd()):\n",
    "    os.makedirs(os.path.join(data))\n",
    "DATA_PATH=os.path.join(data)\n",
    "if raw_data_folder not in os.listdir(os.path.join(DATA_PATH)):\n",
    "    os.makedirs(os.path.join(DATA_PATH,raw_data_folder))\n",
    "RAW_DATA_PATH=os.path.join(DATA_PATH,raw_data_folder)\n",
    "if processed_data_folder not in os.listdir(os.path.join(DATA_PATH)):\n",
    "    os.makedirs(os.path.join(DATA_PATH,processed_data_folder))\n",
    "PROCESSED_DATA_PATH=os.path.join(DATA_PATH,processed_data_folder)\n",
    "\n",
    "if word2vec_folder not in os.listdir(PROCESSED_DATA_PATH):\n",
    "    os.makedirs(os.path.join(PROCESSED_DATA_PATH,word2vec_folder))\n",
    "WORD_2_VEC_PATH=os.path.join(PROCESSED_DATA_PATH,word2vec_folder)\n",
    "if tfid_folder not in os.listdir(PROCESSED_DATA_PATH):\n",
    "    os.makedirs(os.path.join(PROCESSED_DATA_PATH,tfid_folder))\n",
    "TFID_PATH=os.path.join(PROCESSED_DATA_PATH,word2vec_folder)\n",
    "if final_dict not in os.listdir(PROCESSED_DATA_PATH):\n",
    "    os.makedirs(os.path.join(PROCESSED_DATA_PATH,final_dict))\n",
    "GRP0_DICT_PATH=os.path.join(PROCESSED_DATA_PATH,final_dict)"
   ]
  },
  {
   "cell_type": "markdown",
   "id": "fb0abc7a",
   "metadata": {},
   "source": [
    "### High level EDA and processing"
   ]
  },
  {
   "cell_type": "code",
   "execution_count": 5,
   "id": "eb93a74c",
   "metadata": {},
   "outputs": [],
   "source": [
    "df=pd.read_csv(os.path.join(RAW_DATA_PATH,'Input Data Translated.csv'), encoding = 'latin-1')"
   ]
  },
  {
   "cell_type": "code",
   "execution_count": 22,
   "id": "c0f3bbeb",
   "metadata": {},
   "outputs": [],
   "source": [
    "df['final_description']=pd.read_csv(os.path.join(RAW_DATA_PATH,'Features.csv'), encoding = 'latin-1')['Clean Description']"
   ]
  },
  {
   "cell_type": "code",
   "execution_count": 23,
   "id": "57086c4a",
   "metadata": {},
   "outputs": [
    {
     "data": {
      "text/html": [
       "<div>\n",
       "<style scoped>\n",
       "    .dataframe tbody tr th:only-of-type {\n",
       "        vertical-align: middle;\n",
       "    }\n",
       "\n",
       "    .dataframe tbody tr th {\n",
       "        vertical-align: top;\n",
       "    }\n",
       "\n",
       "    .dataframe thead th {\n",
       "        text-align: right;\n",
       "    }\n",
       "</style>\n",
       "<table border=\"1\" class=\"dataframe\">\n",
       "  <thead>\n",
       "    <tr style=\"text-align: right;\">\n",
       "      <th></th>\n",
       "      <th>Short description</th>\n",
       "      <th>Description</th>\n",
       "      <th>Caller</th>\n",
       "      <th>Assignment group</th>\n",
       "      <th>Lang_Short_Description</th>\n",
       "      <th>Lang_Description</th>\n",
       "      <th>final description</th>\n",
       "      <th>Grp_change_1</th>\n",
       "      <th>final_description</th>\n",
       "    </tr>\n",
       "  </thead>\n",
       "  <tbody>\n",
       "    <tr>\n",
       "      <th>0</th>\n",
       "      <td>login issue</td>\n",
       "      <td>-verified user details.(employee# &amp; manager na...</td>\n",
       "      <td>spxjnwir pjlcoqds</td>\n",
       "      <td>GRP_0</td>\n",
       "      <td>en</td>\n",
       "      <td>en</td>\n",
       "      <td>login issue verify user detail employee manage...</td>\n",
       "      <td></td>\n",
       "      <td>login issue verify user detail employee manage...</td>\n",
       "    </tr>\n",
       "    <tr>\n",
       "      <th>1</th>\n",
       "      <td>outlook</td>\n",
       "      <td>\\n\\nreceived from: hmjdrvpb.komuaywn@gmail.com...</td>\n",
       "      <td>hmjdrvpb komuaywn</td>\n",
       "      <td>GRP_0</td>\n",
       "      <td>en</td>\n",
       "      <td>en</td>\n",
       "      <td>outlook team meeting skype etc not appear cale...</td>\n",
       "      <td></td>\n",
       "      <td>outlook team meeting skype etc not appear cale...</td>\n",
       "    </tr>\n",
       "    <tr>\n",
       "      <th>2</th>\n",
       "      <td>cant log in to vpn</td>\n",
       "      <td>\\n\\nreceived from: eylqgodm.ybqkwiam@gmail.com...</td>\n",
       "      <td>eylqgodm ybqkwiam</td>\n",
       "      <td>GRP_0</td>\n",
       "      <td>en</td>\n",
       "      <td>en</td>\n",
       "      <td>can not log vpn I not good</td>\n",
       "      <td></td>\n",
       "      <td>can not log vpn I not good</td>\n",
       "    </tr>\n",
       "    <tr>\n",
       "      <th>3</th>\n",
       "      <td>unable to access hr_tool page</td>\n",
       "      <td>unable to access hr_tool page</td>\n",
       "      <td>xbkucsvz gcpydteq</td>\n",
       "      <td>GRP_0</td>\n",
       "      <td>en</td>\n",
       "      <td>en</td>\n",
       "      <td>unable access hr tool page</td>\n",
       "      <td></td>\n",
       "      <td>unable access hr tool page</td>\n",
       "    </tr>\n",
       "    <tr>\n",
       "      <th>4</th>\n",
       "      <td>skype error</td>\n",
       "      <td>skype error</td>\n",
       "      <td>owlgqjme qhcozdfx</td>\n",
       "      <td>GRP_0</td>\n",
       "      <td>en</td>\n",
       "      <td>en</td>\n",
       "      <td>skype error</td>\n",
       "      <td></td>\n",
       "      <td>skype error</td>\n",
       "    </tr>\n",
       "  </tbody>\n",
       "</table>\n",
       "</div>"
      ],
      "text/plain": [
       "               Short description  \\\n",
       "0                    login issue   \n",
       "1                        outlook   \n",
       "2             cant log in to vpn   \n",
       "3  unable to access hr_tool page   \n",
       "4                    skype error   \n",
       "\n",
       "                                         Description             Caller  \\\n",
       "0  -verified user details.(employee# & manager na...  spxjnwir pjlcoqds   \n",
       "1  \\n\\nreceived from: hmjdrvpb.komuaywn@gmail.com...  hmjdrvpb komuaywn   \n",
       "2  \\n\\nreceived from: eylqgodm.ybqkwiam@gmail.com...  eylqgodm ybqkwiam   \n",
       "3                      unable to access hr_tool page  xbkucsvz gcpydteq   \n",
       "4                                        skype error  owlgqjme qhcozdfx   \n",
       "\n",
       "  Assignment group Lang_Short_Description Lang_Description  \\\n",
       "0            GRP_0                     en               en   \n",
       "1            GRP_0                     en               en   \n",
       "2            GRP_0                     en               en   \n",
       "3            GRP_0                     en               en   \n",
       "4            GRP_0                     en               en   \n",
       "\n",
       "                                   final description Grp_change_1  \\\n",
       "0  login issue verify user detail employee manage...                \n",
       "1  outlook team meeting skype etc not appear cale...                \n",
       "2                         can not log vpn I not good                \n",
       "3                         unable access hr tool page                \n",
       "4                                        skype error                \n",
       "\n",
       "                                   final_description  \n",
       "0  login issue verify user detail employee manage...  \n",
       "1  outlook team meeting skype etc not appear cale...  \n",
       "2                         can not log vpn I not good  \n",
       "3                         unable access hr tool page  \n",
       "4                                        skype error  "
      ]
     },
     "execution_count": 23,
     "metadata": {},
     "output_type": "execute_result"
    }
   ],
   "source": [
    "df.head()"
   ]
  },
  {
   "cell_type": "code",
   "execution_count": 24,
   "id": "5f58161b",
   "metadata": {},
   "outputs": [
    {
     "name": "stdout",
     "output_type": "stream",
     "text": [
      "Group\tCount\tPercentage\n",
      "GRP_0 \t 3976 \t 46.78 %\n",
      "GRP_1 \t 31 \t 0.36 %\n",
      "GRP_10 \t 140 \t 1.65 %\n",
      "GRP_11 \t 30 \t 0.35 %\n",
      "GRP_12 \t 257 \t 3.02 %\n",
      "GRP_13 \t 145 \t 1.71 %\n",
      "GRP_14 \t 118 \t 1.39 %\n",
      "GRP_15 \t 39 \t 0.46 %\n",
      "GRP_16 \t 85 \t 1.0 %\n",
      "GRP_17 \t 81 \t 0.95 %\n",
      "GRP_18 \t 88 \t 1.04 %\n",
      "GRP_19 \t 215 \t 2.53 %\n",
      "GRP_2 \t 241 \t 2.84 %\n",
      "GRP_20 \t 36 \t 0.42 %\n",
      "GRP_21 \t 29 \t 0.34 %\n",
      "GRP_22 \t 31 \t 0.36 %\n",
      "GRP_23 \t 25 \t 0.29 %\n",
      "GRP_24 \t 289 \t 3.4 %\n",
      "GRP_25 \t 116 \t 1.36 %\n",
      "GRP_26 \t 56 \t 0.66 %\n",
      "GRP_27 \t 18 \t 0.21 %\n",
      "GRP_28 \t 44 \t 0.52 %\n",
      "GRP_29 \t 97 \t 1.14 %\n",
      "GRP_3 \t 200 \t 2.35 %\n",
      "GRP_30 \t 39 \t 0.46 %\n",
      "GRP_31 \t 69 \t 0.81 %\n",
      "GRP_32 \t 4 \t 0.05 %\n",
      "GRP_33 \t 107 \t 1.26 %\n",
      "GRP_34 \t 62 \t 0.73 %\n",
      "GRP_35 \t 1 \t 0.01 %\n",
      "GRP_36 \t 15 \t 0.18 %\n",
      "GRP_37 \t 16 \t 0.19 %\n",
      "GRP_38 \t 3 \t 0.04 %\n",
      "GRP_39 \t 19 \t 0.22 %\n",
      "GRP_4 \t 100 \t 1.18 %\n",
      "GRP_40 \t 45 \t 0.53 %\n",
      "GRP_41 \t 40 \t 0.47 %\n",
      "GRP_42 \t 37 \t 0.44 %\n",
      "GRP_43 \t 5 \t 0.06 %\n",
      "GRP_44 \t 15 \t 0.18 %\n",
      "GRP_45 \t 35 \t 0.41 %\n",
      "GRP_46 \t 6 \t 0.07 %\n",
      "GRP_47 \t 27 \t 0.32 %\n",
      "GRP_48 \t 25 \t 0.29 %\n",
      "GRP_49 \t 6 \t 0.07 %\n",
      "GRP_5 \t 129 \t 1.52 %\n",
      "GRP_50 \t 14 \t 0.16 %\n",
      "GRP_51 \t 8 \t 0.09 %\n",
      "GRP_52 \t 9 \t 0.11 %\n",
      "GRP_53 \t 11 \t 0.13 %\n",
      "GRP_54 \t 2 \t 0.02 %\n",
      "GRP_55 \t 8 \t 0.09 %\n",
      "GRP_56 \t 3 \t 0.04 %\n",
      "GRP_57 \t 2 \t 0.02 %\n",
      "GRP_58 \t 3 \t 0.04 %\n",
      "GRP_59 \t 6 \t 0.07 %\n",
      "GRP_6 \t 184 \t 2.16 %\n",
      "GRP_60 \t 20 \t 0.24 %\n",
      "GRP_61 \t 1 \t 0.01 %\n",
      "GRP_62 \t 25 \t 0.29 %\n",
      "GRP_63 \t 3 \t 0.04 %\n",
      "GRP_64 \t 1 \t 0.01 %\n",
      "GRP_65 \t 11 \t 0.13 %\n",
      "GRP_66 \t 4 \t 0.05 %\n",
      "GRP_67 \t 1 \t 0.01 %\n",
      "GRP_68 \t 3 \t 0.04 %\n",
      "GRP_69 \t 2 \t 0.02 %\n",
      "GRP_7 \t 68 \t 0.8 %\n",
      "GRP_70 \t 1 \t 0.01 %\n",
      "GRP_71 \t 2 \t 0.02 %\n",
      "GRP_72 \t 2 \t 0.02 %\n",
      "GRP_73 \t 1 \t 0.01 %\n",
      "GRP_8 \t 661 \t 7.78 %\n",
      "GRP_9 \t 252 \t 2.96 %\n"
     ]
    },
    {
     "data": {
      "image/png": "[encoded data removed]",
      "text/plain": [
       "<Figure size 640x480 with 1 Axes>"
      ]
     },
     "metadata": {},
     "output_type": "display_data"
    }
   ],
   "source": [
    "hist_grps=np.unique(df['Assignment group'],return_counts=True)\n",
    "print(f'Group\\tCount\\tPercentage')\n",
    "for x,y in zip(hist_grps[0],hist_grps[1]):\n",
    "    print(x,'\\t',y,'\\t',round(y*100/len(df['Assignment group']),2),'%')\n",
    "plt.hist(df['Assignment group']);"
   ]
  },
  {
   "cell_type": "markdown",
   "id": "59f6f503",
   "metadata": {},
   "source": [
    "<b> 46% of all tickets are classified as Gr0_0. This is a massively unbalanced dataset"
   ]
  },
  {
   "cell_type": "markdown",
   "id": "fce9f214",
   "metadata": {},
   "source": [
    "#### 1. Cleaning the data"
   ]
  },
  {
   "cell_type": "code",
   "execution_count": 25,
   "id": "26e06e58",
   "metadata": {},
   "outputs": [
    {
     "data": {
      "text/plain": [
       "0       spxjnwir pjlcoqds\n",
       "1       hmjdrvpb komuaywn\n",
       "2       eylqgodm ybqkwiam\n",
       "3       xbkucsvz gcpydteq\n",
       "4       owlgqjme qhcozdfx\n",
       "              ...        \n",
       "8495    avglmrts vhqmtiua\n",
       "8496    rbozivdq gmlhrtvp\n",
       "8497    oybwdsgx oxyhwrfz\n",
       "8498    ufawcgob aowhxjky\n",
       "8499    kqvbrspl jyzoklfx\n",
       "Name: Caller, Length: 8500, dtype: object"
      ]
     },
     "execution_count": 25,
     "metadata": {},
     "output_type": "execute_result"
    }
   ],
   "source": [
    "df['Caller']"
   ]
  },
  {
   "cell_type": "code",
   "execution_count": 27,
   "id": "a743c6d3",
   "metadata": {},
   "outputs": [],
   "source": [
    "df['final_description']=df['final_description'].str.replace('\\n',\" \")"
   ]
  },
  {
   "cell_type": "code",
   "execution_count": 28,
   "id": "ac8bfe27",
   "metadata": {},
   "outputs": [],
   "source": [
    "df ['Grp_change_1']=''"
   ]
  },
  {
   "cell_type": "code",
   "execution_count": 29,
   "id": "2cdf30eb",
   "metadata": {},
   "outputs": [],
   "source": [
    "df_grp0=df[df['Assignment group']=='GRP_0'].copy()"
   ]
  },
  {
   "cell_type": "code",
   "execution_count": 30,
   "id": "b9578bdb",
   "metadata": {},
   "outputs": [
    {
     "data": {
      "text/plain": [
       "(3976, 9)"
      ]
     },
     "execution_count": 30,
     "metadata": {},
     "output_type": "execute_result"
    }
   ],
   "source": [
    "df_grp0.shape"
   ]
  },
  {
   "cell_type": "code",
   "execution_count": 31,
   "id": "35fca83b",
   "metadata": {},
   "outputs": [
    {
     "data": {
      "text/html": [
       "<div>\n",
       "<style scoped>\n",
       "    .dataframe tbody tr th:only-of-type {\n",
       "        vertical-align: middle;\n",
       "    }\n",
       "\n",
       "    .dataframe tbody tr th {\n",
       "        vertical-align: top;\n",
       "    }\n",
       "\n",
       "    .dataframe thead th {\n",
       "        text-align: right;\n",
       "    }\n",
       "</style>\n",
       "<table border=\"1\" class=\"dataframe\">\n",
       "  <thead>\n",
       "    <tr style=\"text-align: right;\">\n",
       "      <th></th>\n",
       "      <th>Short description</th>\n",
       "      <th>Description</th>\n",
       "      <th>Caller</th>\n",
       "      <th>Assignment group</th>\n",
       "      <th>Lang_Short_Description</th>\n",
       "      <th>Lang_Description</th>\n",
       "      <th>final description</th>\n",
       "      <th>Grp_change_1</th>\n",
       "      <th>final_description</th>\n",
       "    </tr>\n",
       "  </thead>\n",
       "  <tbody>\n",
       "    <tr>\n",
       "      <th>0</th>\n",
       "      <td>login issue</td>\n",
       "      <td>-verified user details.(employee# &amp; manager na...</td>\n",
       "      <td>spxjnwir pjlcoqds</td>\n",
       "      <td>GRP_0</td>\n",
       "      <td>en</td>\n",
       "      <td>en</td>\n",
       "      <td>login issue verify user detail employee manage...</td>\n",
       "      <td></td>\n",
       "      <td>login issue verify user detail employee manage...</td>\n",
       "    </tr>\n",
       "    <tr>\n",
       "      <th>1</th>\n",
       "      <td>outlook</td>\n",
       "      <td>\\n\\nreceived from: hmjdrvpb.komuaywn@gmail.com...</td>\n",
       "      <td>hmjdrvpb komuaywn</td>\n",
       "      <td>GRP_0</td>\n",
       "      <td>en</td>\n",
       "      <td>en</td>\n",
       "      <td>outlook team meeting skype etc not appear cale...</td>\n",
       "      <td></td>\n",
       "      <td>outlook team meeting skype etc not appear cale...</td>\n",
       "    </tr>\n",
       "    <tr>\n",
       "      <th>2</th>\n",
       "      <td>cant log in to vpn</td>\n",
       "      <td>\\n\\nreceived from: eylqgodm.ybqkwiam@gmail.com...</td>\n",
       "      <td>eylqgodm ybqkwiam</td>\n",
       "      <td>GRP_0</td>\n",
       "      <td>en</td>\n",
       "      <td>en</td>\n",
       "      <td>can not log vpn I not good</td>\n",
       "      <td></td>\n",
       "      <td>can not log vpn I not good</td>\n",
       "    </tr>\n",
       "    <tr>\n",
       "      <th>3</th>\n",
       "      <td>unable to access hr_tool page</td>\n",
       "      <td>unable to access hr_tool page</td>\n",
       "      <td>xbkucsvz gcpydteq</td>\n",
       "      <td>GRP_0</td>\n",
       "      <td>en</td>\n",
       "      <td>en</td>\n",
       "      <td>unable access hr tool page</td>\n",
       "      <td></td>\n",
       "      <td>unable access hr tool page</td>\n",
       "    </tr>\n",
       "    <tr>\n",
       "      <th>4</th>\n",
       "      <td>skype error</td>\n",
       "      <td>skype error</td>\n",
       "      <td>owlgqjme qhcozdfx</td>\n",
       "      <td>GRP_0</td>\n",
       "      <td>en</td>\n",
       "      <td>en</td>\n",
       "      <td>skype error</td>\n",
       "      <td></td>\n",
       "      <td>skype error</td>\n",
       "    </tr>\n",
       "  </tbody>\n",
       "</table>\n",
       "</div>"
      ],
      "text/plain": [
       "               Short description  \\\n",
       "0                    login issue   \n",
       "1                        outlook   \n",
       "2             cant log in to vpn   \n",
       "3  unable to access hr_tool page   \n",
       "4                    skype error   \n",
       "\n",
       "                                         Description             Caller  \\\n",
       "0  -verified user details.(employee# & manager na...  spxjnwir pjlcoqds   \n",
       "1  \\n\\nreceived from: hmjdrvpb.komuaywn@gmail.com...  hmjdrvpb komuaywn   \n",
       "2  \\n\\nreceived from: eylqgodm.ybqkwiam@gmail.com...  eylqgodm ybqkwiam   \n",
       "3                      unable to access hr_tool page  xbkucsvz gcpydteq   \n",
       "4                                        skype error  owlgqjme qhcozdfx   \n",
       "\n",
       "  Assignment group Lang_Short_Description Lang_Description  \\\n",
       "0            GRP_0                     en               en   \n",
       "1            GRP_0                     en               en   \n",
       "2            GRP_0                     en               en   \n",
       "3            GRP_0                     en               en   \n",
       "4            GRP_0                     en               en   \n",
       "\n",
       "                                   final description Grp_change_1  \\\n",
       "0  login issue verify user detail employee manage...                \n",
       "1  outlook team meeting skype etc not appear cale...                \n",
       "2                         can not log vpn I not good                \n",
       "3                         unable access hr tool page                \n",
       "4                                        skype error                \n",
       "\n",
       "                                   final_description  \n",
       "0  login issue verify user detail employee manage...  \n",
       "1  outlook team meeting skype etc not appear cale...  \n",
       "2                         can not log vpn I not good  \n",
       "3                         unable access hr tool page  \n",
       "4                                        skype error  "
      ]
     },
     "execution_count": 31,
     "metadata": {},
     "output_type": "execute_result"
    }
   ],
   "source": [
    "df_grp0.head()"
   ]
  },
  {
   "cell_type": "code",
   "execution_count": 32,
   "id": "9cd1c277",
   "metadata": {},
   "outputs": [
    {
     "data": {
      "text/plain": [
       "0    login issue verify user detail employee manage...\n",
       "1    outlook team meeting skype etc not appear cale...\n",
       "2                           can not log vpn I not good\n",
       "3                           unable access hr tool page\n",
       "4                                          skype error\n",
       "Name: final_description, dtype: object"
      ]
     },
     "execution_count": 32,
     "metadata": {},
     "output_type": "execute_result"
    }
   ],
   "source": [
    "df_grp0['final_description'].head()"
   ]
  },
  {
   "cell_type": "markdown",
   "id": "5e0b15eb",
   "metadata": {},
   "source": [
    "### Clustering"
   ]
  },
  {
   "cell_type": "code",
   "execution_count": 33,
   "id": "61d54fa9",
   "metadata": {},
   "outputs": [],
   "source": [
    "from sklearn.cluster import KMeans\n",
    "from sklearn.metrics import silhouette_score"
   ]
  },
  {
   "cell_type": "code",
   "execution_count": 34,
   "id": "311e5e54",
   "metadata": {},
   "outputs": [],
   "source": [
    "def clusters(X,iters):\n",
    "    sse=[]\n",
    "    models=[]\n",
    "    scores=[]\n",
    "    for i in iters:\n",
    "        kmeans=KMeans(n_clusters=i)\n",
    "        clusters=kmeans.fit(X)\n",
    "        sse.append(kmeans.inertia_)\n",
    "        scores.append(silhouette_score(X, kmeans.labels_))\n",
    "    return sse, scores"
   ]
  },
  {
   "cell_type": "markdown",
   "id": "846e83c8",
   "metadata": {},
   "source": [
    "### K Means using Word2Vec"
   ]
  },
  {
   "cell_type": "markdown",
   "id": "1d18cd35",
   "metadata": {},
   "source": [
    "#### 1. Create Word2Vec model"
   ]
  },
  {
   "cell_type": "code",
   "execution_count": 38,
   "id": "68d6e736",
   "metadata": {},
   "outputs": [
    {
     "name": "stdout",
     "output_type": "stream",
     "text": [
      "(3976,)\n",
      "unable log engineering tool skype\n",
      "['unable', 'log', 'engineering', 'tool', 'skype']\n"
     ]
    }
   ],
   "source": [
    "sents=df_grp0['final_description']\n",
    "print(sents.shape)\n",
    "sent_tokents=[s.split() for s in sents]\n",
    "print(sents[5])\n",
    "print(sent_tokents[5])"
   ]
  },
  {
   "cell_type": "code",
   "execution_count": 39,
   "id": "bfc44c5b",
   "metadata": {},
   "outputs": [],
   "source": [
    "model = Word2Vec(sentences = sent_tokents,vector_size=8000, window=3, min_count=1, workers=4)\n",
    "model.save(os.path.join(WORD_2_VEC_PATH,'word2vec_model'))"
   ]
  },
  {
   "cell_type": "code",
   "execution_count": 40,
   "id": "7533cb59",
   "metadata": {},
   "outputs": [],
   "source": [
    "word_vectors = model.wv"
   ]
  },
  {
   "cell_type": "code",
   "execution_count": 42,
   "id": "ff452a9c",
   "metadata": {},
   "outputs": [],
   "source": [
    "word_vectors.save(os.path.join(WORD_2_VEC_PATH,'word2vec.wordvectors'))"
   ]
  },
  {
   "cell_type": "code",
   "execution_count": 43,
   "id": "eeee2b35",
   "metadata": {},
   "outputs": [],
   "source": [
    "from gensim.models import KeyedVectors\n",
    "word_vecs_reload = KeyedVectors.load(os.path.join(WORD_2_VEC_PATH,'word2vec.wordvectors'), mmap='r')"
   ]
  },
  {
   "cell_type": "code",
   "execution_count": 44,
   "id": "4c1a0ead",
   "metadata": {},
   "outputs": [
    {
     "name": "stdout",
     "output_type": "stream",
     "text": [
      "0.99987257\n",
      "0.99997616\n"
     ]
    }
   ],
   "source": [
    "print(word_vecs_reload.similarity('access', 'login')) #checking to see if the model is loaded correctly\n",
    "print(word_vecs_reload.similarity('access', 'skype'))"
   ]
  },
  {
   "cell_type": "markdown",
   "id": "c1ab601b",
   "metadata": {},
   "source": [
    "#### 2. Creating a single vector for each sentence"
   ]
  },
  {
   "cell_type": "markdown",
   "id": "85197a52",
   "metadata": {},
   "source": [
    "We have now created a 8000-d vector per <b>word</b>. But for K-means clustering, we need to create a 8000-d vector per <b>sentence</b>. <br>\n",
    "We calculate the average vector per sentence using the paper 'A simply but tough-to-beat baseline for sentence embeddings' (Arora ,et al.) (https://openreview.net/pdf?id=SyK00v5xx)"
   ]
  },
  {
   "cell_type": "markdown",
   "id": "9e23ea68",
   "metadata": {},
   "source": [
    "Find the probability of occurance of each word in the text"
   ]
  },
  {
   "cell_type": "code",
   "execution_count": 45,
   "id": "aa0f3689",
   "metadata": {},
   "outputs": [
    {
     "data": {
      "text/plain": [
       "42576"
      ]
     },
     "execution_count": 45,
     "metadata": {},
     "output_type": "execute_result"
    }
   ],
   "source": [
    "from collections import defaultdict\n",
    "dict_word_count=defaultdict(int)\n",
    "for sentence in sents:\n",
    "    for word in sentence.split():\n",
    "        dict_word_count[word]+=1\n",
    "total_word_count=sum(dict_word_count.values())\n",
    "total_word_count"
   ]
  },
  {
   "cell_type": "code",
   "execution_count": 46,
   "id": "6aa74c13",
   "metadata": {},
   "outputs": [],
   "source": [
    "dict_word_prob={}\n",
    "for k,v in dict_word_count.items():\n",
    "    dict_word_prob[k]=v/total_word_count"
   ]
  },
  {
   "cell_type": "code",
   "execution_count": 47,
   "id": "94700c47",
   "metadata": {},
   "outputs": [],
   "source": [
    "with open(os.path.join(WORD_2_VEC_PATH,'dict_wordcount'),'w')as f:\n",
    "    f.write(str(dict_word_count))\n",
    "f.close()\n",
    "with open(os.path.join(WORD_2_VEC_PATH,'dict_wordprob'),'w')as f:\n",
    "    f.write(str(dict_word_prob))\n",
    "f.close()"
   ]
  },
  {
   "cell_type": "markdown",
   "id": "c8c8c42d",
   "metadata": {},
   "source": [
    "#### 3. Converting sentence vectors into average word vectors"
   ]
  },
  {
   "cell_type": "code",
   "execution_count": 48,
   "id": "707bbbf3",
   "metadata": {},
   "outputs": [],
   "source": [
    "def get_average_vector_sent(sent,dict_sent={},a=0.0001):\n",
    "    av_vect=[]\n",
    "    sum_word_count=0\n",
    "    for word in sent.split():\n",
    "        if word not in word_vecs_reload:\n",
    "            print('word not in word_vecs_reload.keys')\n",
    "        if word not in dict_word_prob.keys():\n",
    "            print('word not in dict_word_prob.keys')\n",
    "        vec=word_vecs_reload[word]*(a/(a+dict_word_prob[word]))\n",
    "        av_vect.append(vec)\n",
    "    mean=np.mean(av_vect, axis=0)\n",
    "    dict_sent[sent]=mean\n",
    "    return mean"
   ]
  },
  {
   "cell_type": "code",
   "execution_count": 49,
   "id": "f9a59021",
   "metadata": {},
   "outputs": [],
   "source": [
    "def get_df_vectors(sents):\n",
    "    dict_sent={}\n",
    "    means=[]\n",
    "    for sent in sents:\n",
    "        mean=get_average_vector_sent(sent,dict_sent)\n",
    "        means.append(mean)\n",
    "    return np.array(means).squeeze()\n",
    "                    "
   ]
  },
  {
   "cell_type": "code",
   "execution_count": 50,
   "id": "f2a4f698",
   "metadata": {},
   "outputs": [],
   "source": [
    "def get_final_vectors(sent):\n",
    "    pre_array=get_df_vectors(sent).T\n",
    "    svd_u=scipy.linalg.svd(pre_array)[0]\n",
    "    u2=svd_u.dot(svd_u.T).dot(pre_array)\n",
    "    return pre_array-u2\n",
    "    "
   ]
  },
  {
   "cell_type": "code",
   "execution_count": 51,
   "id": "b99f200a",
   "metadata": {},
   "outputs": [],
   "source": [
    "vectors_word2vec=get_final_vectors(sents).T"
   ]
  },
  {
   "cell_type": "code",
   "execution_count": 52,
   "id": "da77929c",
   "metadata": {},
   "outputs": [],
   "source": [
    "np.save(os.path.join(WORD_2_VEC_PATH,'final_transformed_vectors'),vectors_word2vec)"
   ]
  },
  {
   "cell_type": "markdown",
   "id": "8d801183",
   "metadata": {},
   "source": [
    "#### 4. Creating clusters"
   ]
  },
  {
   "cell_type": "code",
   "execution_count": 78,
   "id": "f65b0692",
   "metadata": {},
   "outputs": [],
   "source": [
    "iters=[i+3 for i in range(30)]"
   ]
  },
  {
   "cell_type": "code",
   "execution_count": null,
   "id": "4c92847c",
   "metadata": {},
   "outputs": [],
   "source": [
    "sse_w2v, scores_w2v=clusters(vectors_word2vec,iters)"
   ]
  },
  {
   "cell_type": "code",
   "execution_count": null,
   "id": "c783b497",
   "metadata": {},
   "outputs": [],
   "source": [
    "with open(os.path.join(WORD_2_VEC_PATH,'w2v_sse'),'w') as f:\n",
    "    f.write(str(sse_w2v))\n",
    "f.close()\n",
    "with open(os.path.join(WORD_2_VEC_PATH,'w2v_scores'),'w') as f:\n",
    "    f.write(str(scores_w2v))\n",
    "f.close()"
   ]
  },
  {
   "cell_type": "code",
   "execution_count": null,
   "id": "171f6f4b",
   "metadata": {},
   "outputs": [],
   "source": [
    "plt.figure(figsize=(16, 6))\n",
    "plt.plot(iters, sse_w2v, '-o')\n",
    "plt.xlabel(r'Number of clusters *k*')\n",
    "plt.ylabel('Sum of squared distance')\n",
    "plt.show();\n"
   ]
  },
  {
   "cell_type": "code",
   "execution_count": null,
   "id": "fcb8bdb7",
   "metadata": {},
   "outputs": [],
   "source": [
    "plt.figure(figsize=(15, 6))\n",
    "plt.plot(iters, scores_w2v, '-o')\n",
    "plt.xlabel(r'Number of clusters *k*')\n",
    "plt.ylabel('Silhouette_score')\n",
    "plt.show();"
   ]
  },
  {
   "cell_type": "markdown",
   "id": "746726c7",
   "metadata": {},
   "source": [
    "### Using TFIDF to create vectors"
   ]
  },
  {
   "cell_type": "code",
   "execution_count": null,
   "id": "f2eb736b",
   "metadata": {},
   "outputs": [],
   "source": [
    "from sklearn.feature_extraction.text import TfidfVectorizer"
   ]
  },
  {
   "cell_type": "code",
   "execution_count": null,
   "id": "2c4e9c25",
   "metadata": {},
   "outputs": [],
   "source": [
    "sents_TFIDF=df_grp0['final_description']"
   ]
  },
  {
   "cell_type": "markdown",
   "id": "0049e365",
   "metadata": {},
   "source": [
    "#### 1. Creating TFID vectors"
   ]
  },
  {
   "cell_type": "code",
   "execution_count": null,
   "id": "7027520c",
   "metadata": {},
   "outputs": [],
   "source": [
    "vectorizer_tfid=TfidfVectorizer()"
   ]
  },
  {
   "cell_type": "code",
   "execution_count": null,
   "id": "9c1c3440",
   "metadata": {},
   "outputs": [],
   "source": [
    "vectors_tfid=vectorizer_tfid.fit_transform(sents_TFIDF)"
   ]
  },
  {
   "cell_type": "markdown",
   "id": "aefb0ee5",
   "metadata": {},
   "source": [
    "#### 2.Creating clusters"
   ]
  },
  {
   "cell_type": "code",
   "execution_count": null,
   "id": "a2456fdc",
   "metadata": {},
   "outputs": [],
   "source": [
    "iters=[i+3 for i in range(30)]"
   ]
  },
  {
   "cell_type": "code",
   "execution_count": null,
   "id": "1db6835d",
   "metadata": {},
   "outputs": [],
   "source": [
    "sse_tfid, scores_tfid=clusters(vectors_tfid,iters)"
   ]
  },
  {
   "cell_type": "code",
   "execution_count": null,
   "id": "4d83678e",
   "metadata": {},
   "outputs": [],
   "source": [
    "with open(os.path.join(TFID_PATH,'tfid_sse'),'w') as f:\n",
    "    f.write(str(sse_tfid))\n",
    "f.close()\n",
    "with open(os.path.join(TFID_PATH,'tfid_scores'),'w') as f:\n",
    "    f.write(str(scores_tfid))\n",
    "f.close()"
   ]
  },
  {
   "cell_type": "code",
   "execution_count": null,
   "id": "7e05a292",
   "metadata": {},
   "outputs": [],
   "source": [
    "plt.figure(figsize=(16, 6))\n",
    "plt.plot(iters, sse_tfid, '-o')\n",
    "plt.xlabel(r'Number of clusters *k*')\n",
    "plt.ylabel('Sum of squared distance')\n",
    "plt.show();"
   ]
  },
  {
   "cell_type": "code",
   "execution_count": null,
   "id": "3247561d",
   "metadata": {},
   "outputs": [],
   "source": [
    "plt.figure(figsize=(15, 6))\n",
    "plt.plot(iters, scores_tfid, '-o')\n",
    "plt.xlabel(r'Number of clusters *k*')\n",
    "plt.ylabel('Silhouette_score')\n",
    "plt.show();"
   ]
  },
  {
   "cell_type": "markdown",
   "id": "3a798e42",
   "metadata": {},
   "source": [
    "### Analysis of Word2Vec"
   ]
  },
  {
   "cell_type": "markdown",
   "id": "64332f80",
   "metadata": {},
   "source": [
    "Word2Vec clearly shows a much higher Silhouette score than TFID with far lower SSE score (order of 1e-12). Hence, we will go ahead with Word2Vec<br><br>\n",
    "There are two n_cluster values from we need to select the final n_cluster value:\n",
    "1. Where the silhouette score is highest\n",
    "2. Where the elbow of the SSE plot is linear"
   ]
  },
  {
   "cell_type": "code",
   "execution_count": 76,
   "id": "bd8497af",
   "metadata": {},
   "outputs": [
    {
     "data": {
      "text/plain": [
       "[0.36864874,\n",
       " 0.33273524,\n",
       " 0.31862426,\n",
       " 0.3093793,\n",
       " 0.30172515,\n",
       " 0.3005889,\n",
       " 0.30789772,\n",
       " 0.30378044,\n",
       " 0.27243873,\n",
       " 0.274649,\n",
       " 0.28132707,\n",
       " 0.2968003,\n",
       " 0.2767741,\n",
       " 0.27304065,\n",
       " 0.29095447,\n",
       " 0.26581076,\n",
       " 0.27101567,\n",
       " 0.2668587,\n",
       " 0.2700394,\n",
       " 0.27207306,\n",
       " 0.27209392,\n",
       " 0.26425898,\n",
       " 0.27069676,\n",
       " 0.26719478,\n",
       " 0.2637628,\n",
       " 0.27414167,\n",
       " 0.25874338,\n",
       " 0.25430903,\n",
       " 0.25602213,\n",
       " 0.2533105]"
      ]
     },
     "execution_count": 76,
     "metadata": {},
     "output_type": "execute_result"
    }
   ],
   "source": [
    "scores_w2v"
   ]
  },
  {
   "cell_type": "code",
   "execution_count": 75,
   "id": "5b5b47f5",
   "metadata": {},
   "outputs": [
    {
     "name": "stdout",
     "output_type": "stream",
     "text": [
      "Highest silhouette score:\t0\n"
     ]
    }
   ],
   "source": [
    "print(f'Highest silhouette score:\\t{scores_w2v.index(max(scores_w2v))} is at cluster_size()')"
   ]
  },
  {
   "cell_type": "code",
   "execution_count": 70,
   "id": "0c7dcc41",
   "metadata": {},
   "outputs": [
    {
     "data": {
      "image/png": "[encoded data removed]",
      "text/plain": [
       "<Figure size 640x480 with 1 Axes>"
      ]
     },
     "metadata": {},
     "output_type": "display_data"
    }
   ],
   "source": [
    "kmeans=KMeans(n_clusters=5)\n",
    "clusters_k5=kmeans.fit(vectors_word2vec)\n",
    "plt.hist(clusters_k5.labels_);"
   ]
  },
  {
   "cell_type": "code",
   "execution_count": 71,
   "id": "8afd0093",
   "metadata": {},
   "outputs": [],
   "source": [
    "unique_5=np.unique(clusters_k5.labels_,return_counts=True)\n",
    "vals_5=unique_5[1]/clusters_k5.labels_.shape[0]"
   ]
  },
  {
   "cell_type": "code",
   "execution_count": 72,
   "id": "68429676",
   "metadata": {},
   "outputs": [
    {
     "name": "stdout",
     "output_type": "stream",
     "text": [
      "0.2809356136820926\n",
      "0.08324949698189135\n"
     ]
    }
   ],
   "source": [
    "print(max(vals_5))\n",
    "print(min(vals_5))"
   ]
  },
  {
   "cell_type": "markdown",
   "id": "3507ea20",
   "metadata": {},
   "source": [
    "<b>73% of 46.7% (of the total dataset) is 34% of the total dataset that still is highly biased"
   ]
  },
  {
   "cell_type": "code",
   "execution_count": 71,
   "id": "400aee07",
   "metadata": {},
   "outputs": [
    {
     "name": "stdout",
     "output_type": "stream",
     "text": [
      "Linear slope at n_cluster=9\n"
     ]
    }
   ],
   "source": [
    "print('Linear slope at n_cluster=9')"
   ]
  },
  {
   "cell_type": "code",
   "execution_count": 73,
   "id": "529d0237",
   "metadata": {},
   "outputs": [
    {
     "data": {
      "image/png": "[encoded data removed]",
      "text/plain": [
       "<Figure size 640x480 with 1 Axes>"
      ]
     },
     "metadata": {},
     "output_type": "display_data"
    }
   ],
   "source": [
    "kmeans=KMeans(n_clusters=9)\n",
    "clusters_9=kmeans.fit(vectors_word2vec)\n",
    "plt.hist(clusters_9.labels_);"
   ]
  },
  {
   "cell_type": "code",
   "execution_count": 74,
   "id": "c546091a",
   "metadata": {},
   "outputs": [],
   "source": [
    "unique_9=np.unique(clusters_9.labels_,return_counts=True)\n",
    "vals_9=unique_9[1]/clusters_9.labels_.shape[0]"
   ]
  },
  {
   "cell_type": "code",
   "execution_count": 76,
   "id": "f107a9e7",
   "metadata": {},
   "outputs": [
    {
     "name": "stdout",
     "output_type": "stream",
     "text": [
      "0.301056338028169\n",
      "0.011569416498993963\n"
     ]
    }
   ],
   "source": [
    "print(max(vals_9))\n",
    "print(min(vals_9))"
   ]
  },
  {
   "cell_type": "code",
   "execution_count": 78,
   "id": "edce3af2",
   "metadata": {},
   "outputs": [
    {
     "data": {
      "text/plain": [
       "3976"
      ]
     },
     "execution_count": 78,
     "metadata": {},
     "output_type": "execute_result"
    }
   ],
   "source": [
    "len(clusters_9.labels_)"
   ]
  },
  {
   "cell_type": "markdown",
   "id": "ff4568d9",
   "metadata": {},
   "source": [
    "30% is the highest frequency within the data and is 14% of the total dataset(30% of 46.7% of the total dataset). We can use this."
   ]
  },
  {
   "cell_type": "markdown",
   "id": "7ec5ef0c",
   "metadata": {},
   "source": [
    "### Sub-categorize the grp-0 data"
   ]
  },
  {
   "cell_type": "code",
   "execution_count": 81,
   "id": "4b7dd3a4",
   "metadata": {},
   "outputs": [],
   "source": [
    "grp_0_cat_dict={}\n",
    "for k,v in zip(df_grp0['Final_description'],clusters_9.labels_):\n",
    "    if k in grp_0_cat_dict:\n",
    "        grp_0_cat_dict[k].append(int(v))\n",
    "    else:\n",
    "        grp_0_cat_dict[k]=[int(v)]"
   ]
  },
  {
   "cell_type": "code",
   "execution_count": 82,
   "id": "b4938c8e",
   "metadata": {},
   "outputs": [
    {
     "name": "stdout",
     "output_type": "stream",
     "text": [
      "47\n",
      "Are all duplicate values the same: True\n"
     ]
    }
   ],
   "source": [
    "c=0\n",
    "unique_flag=True\n",
    "for key, vals in grp_0_cat_dict.items():\n",
    "    if len(vals)>1:\n",
    "        if len(set(vals))>1:\n",
    "            unique_flag=False\n",
    "            grp_0_cat_dict_items[key]=[vals[0]]    \n",
    "    c+=len(vals)-1\n",
    "print(c)\n",
    "print('Are all duplicate values the same:', unique_flag)"
   ]
  },
  {
   "cell_type": "code",
   "execution_count": 83,
   "id": "39210554",
   "metadata": {},
   "outputs": [
    {
     "data": {
      "text/plain": [
       "3929"
      ]
     },
     "execution_count": 83,
     "metadata": {},
     "output_type": "execute_result"
    }
   ],
   "source": [
    "len(grp_0_cat_dict.keys())"
   ]
  },
  {
   "cell_type": "code",
   "execution_count": 84,
   "id": "9923eb16",
   "metadata": {},
   "outputs": [
    {
     "name": "stdout",
     "output_type": "stream",
     "text": [
      "All values are either present as a unique value or as a list of similar values for each key:\tTrue\n"
     ]
    }
   ],
   "source": [
    "print(f'All values are either present as a unique value or as a list of similar values for each key:\\t{len(grp_0_cat_dict.keys())+c==df_grp0.shape[0]}')"
   ]
  },
  {
   "cell_type": "markdown",
   "id": "20a3cd51",
   "metadata": {},
   "source": [
    "<b>Hence, there are 560 duplicate values / statements that are mapped out to the same key</b>"
   ]
  },
  {
   "cell_type": "code",
   "execution_count": 85,
   "id": "510f676a",
   "metadata": {},
   "outputs": [],
   "source": [
    "for key, vals in grp_0_cat_dict.items():\n",
    "    grp_0_cat_dict[key]=set(vals).pop() "
   ]
  },
  {
   "cell_type": "markdown",
   "id": "2142a2cd",
   "metadata": {},
   "source": [
    "#### Writing the dictionary to disk for future reference"
   ]
  },
  {
   "cell_type": "code",
   "execution_count": 86,
   "id": "d42e6d7e",
   "metadata": {},
   "outputs": [],
   "source": [
    "import json"
   ]
  },
  {
   "cell_type": "code",
   "execution_count": 87,
   "id": "c6e41623",
   "metadata": {},
   "outputs": [],
   "source": [
    "json_dump = json.dumps(grp_0_cat_dict)"
   ]
  },
  {
   "cell_type": "code",
   "execution_count": 102,
   "id": "a85b244c",
   "metadata": {},
   "outputs": [],
   "source": [
    "with open(os.path.join(GRP0_DICT_PATH,'grp0_dictionary.json'),\"w\") as f:\n",
    "    f.write(json_dump)\n",
    "f.close()"
   ]
  },
  {
   "cell_type": "code",
   "execution_count": 103,
   "id": "dadfaf30",
   "metadata": {},
   "outputs": [],
   "source": [
    "f.close()"
   ]
  },
  {
   "cell_type": "code",
   "execution_count": 104,
   "id": "a6d6beae",
   "metadata": {},
   "outputs": [
    {
     "name": "stdout",
     "output_type": "stream",
     "text": [
      "login issue -verified user details.(employee# & manager name) -checked the user name in ad and reset the password. -advised the user to login and check. -caller confirmed that he was able to login. -issue resolved. spxjnwir pjlcoqds\n"
     ]
    }
   ],
   "source": [
    "for k in grp_0_cat_dict.keys():\n",
    "    print(k)\n",
    "    break"
   ]
  },
  {
   "cell_type": "code",
   "execution_count": 105,
   "id": "84987caa",
   "metadata": {},
   "outputs": [],
   "source": [
    "with open(os.path.join(GRP0_DICT_PATH,'grp0_dictionary.json'),\"r\") as f:\n",
    "    grp_0_cat_dict=json.load(f)"
   ]
  },
  {
   "cell_type": "code",
   "execution_count": 106,
   "id": "f20f8d5f",
   "metadata": {},
   "outputs": [
    {
     "data": {
      "text/plain": [
       "(array(['Got it', 'Incorrect grp'], dtype='<U13'),\n",
       " array([3976, 3929], dtype=int64))"
      ]
     },
     "execution_count": 106,
     "metadata": {},
     "output_type": "execute_result"
    }
   ],
   "source": [
    "#Update new column Grp_change_1\n",
    "assess=[]\n",
    "indexes=[]\n",
    "for k,v in grp_0_cat_dict.items():\n",
    "    if k in df['Final_description'].values:\n",
    "        indices=df.index[df['Final_description'].values == k].tolist()\n",
    "        for i in indices:\n",
    "            if df.iloc[i]['Grp_change_1']=='GRP_0':\n",
    "                df.iloc[i]['Grp_change_1']=str(v)\n",
    "                assess.append('Got it')\n",
    "            indexes.append(i)\n",
    "        else:\n",
    "            assess.append('Incorrect grp')\n",
    "    else:\n",
    "        assess.append('Key not present')\n",
    "np.unique(assess,return_counts=True)      "
   ]
  },
  {
   "cell_type": "code",
   "execution_count": 107,
   "id": "534eb11e",
   "metadata": {},
   "outputs": [],
   "source": [
    "df.loc[df['Grp_change_1']=='','Grp_change_1']=df['Assignment group']"
   ]
  },
  {
   "cell_type": "code",
   "execution_count": 108,
   "id": "608a2203",
   "metadata": {},
   "outputs": [
    {
     "data": {
      "text/html": [
       "<div>\n",
       "<style scoped>\n",
       "    .dataframe tbody tr th:only-of-type {\n",
       "        vertical-align: middle;\n",
       "    }\n",
       "\n",
       "    .dataframe tbody tr th {\n",
       "        vertical-align: top;\n",
       "    }\n",
       "\n",
       "    .dataframe thead th {\n",
       "        text-align: right;\n",
       "    }\n",
       "</style>\n",
       "<table border=\"1\" class=\"dataframe\">\n",
       "  <thead>\n",
       "    <tr style=\"text-align: right;\">\n",
       "      <th></th>\n",
       "      <th>Short description</th>\n",
       "      <th>Description</th>\n",
       "      <th>Caller</th>\n",
       "      <th>Assignment group</th>\n",
       "      <th>Lang_Short_Description</th>\n",
       "      <th>Lang_Description</th>\n",
       "      <th>Final_description</th>\n",
       "      <th>Grp_change_1</th>\n",
       "    </tr>\n",
       "  </thead>\n",
       "  <tbody>\n",
       "  </tbody>\n",
       "</table>\n",
       "</div>"
      ],
      "text/plain": [
       "Empty DataFrame\n",
       "Columns: [Short description, Description, Caller, Assignment group, Lang_Short_Description, Lang_Description, Final_description, Grp_change_1]\n",
       "Index: []"
      ]
     },
     "execution_count": 108,
     "metadata": {},
     "output_type": "execute_result"
    }
   ],
   "source": [
    "df[df['Grp_change_1']=='']"
   ]
  },
  {
   "cell_type": "code",
   "execution_count": 94,
   "id": "6e80497b",
   "metadata": {},
   "outputs": [],
   "source": [
    "##We have got the list of indices where the Grp0 is present in the new group column. Now we just need to update the same with the values of the cluster"
   ]
  },
  {
   "cell_type": "code",
   "execution_count": 109,
   "id": "f06dc480",
   "metadata": {},
   "outputs": [],
   "source": [
    "df.to_csv(os.path.join(RAW_DATA_PATH,'Input data split.csv'))"
   ]
  },
  {
   "cell_type": "markdown",
   "id": "455fc631",
   "metadata": {},
   "source": [
    "### We have now got the new labels for the dataset and we can focus on re-building the DataLoader and Transformer model"
   ]
  },
  {
   "cell_type": "code",
   "execution_count": null,
   "id": "51a76fee",
   "metadata": {},
   "outputs": [],
   "source": []
  }
 ],
 "metadata": {
  "kernelspec": {
   "display_name": "Python 3 (ipykernel)",
   "language": "python",
   "name": "python3"
  },
  "language_info": {
   "codemirror_mode": {
    "name": "ipython",
    "version": 3
   },
   "file_extension": ".py",
   "mimetype": "text/x-python",
   "name": "python",
   "nbconvert_exporter": "python",
   "pygments_lexer": "ipython3",
   "version": "3.8.13"
  }
 },
 "nbformat": 4,
 "nbformat_minor": 5
}
